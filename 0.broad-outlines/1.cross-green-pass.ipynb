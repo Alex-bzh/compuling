{
 "cells": [
  {
   "cell_type": "markdown",
   "metadata": {
    "slideshow": {
     "slide_type": "slide"
    }
   },
   "source": [
    "# Franchir le col Vert"
   ]
  },
  {
   "cell_type": "markdown",
   "metadata": {
    "slideshow": {
     "slide_type": "slide"
    }
   },
   "source": [
    "## Objectif\n",
    "\n",
    "En randonnée dans le Vercors, vous avez pour objectif de franchir le col Vert (1776 m) qui, depuis votre point de départ de Villard-de-Lans, présente une dénivelée totale de 697 m annoncée par votre guide à 5,31 % de moyenne. Calculez la distance à parcourir !"
   ]
  },
  {
   "cell_type": "markdown",
   "metadata": {
    "slideshow": {
     "slide_type": "fragment"
    }
   },
   "source": [
    "![Franchir le col Vert](images/1-fig1.png)"
   ]
  },
  {
   "cell_type": "markdown",
   "metadata": {
    "slideshow": {
     "slide_type": "slide"
    }
   },
   "source": [
    "## Trigonométrie\n",
    "\n",
    "Problème de trigonométrie classique :\n",
    "- pente 5,31 % = 5,31 m de dénivelée tous les 100 m\n",
    "- calcul de la tangente de l’angle : $tan(α)={5,31 \\over 100}$\n",
    "- fonction inverse pour obtenir la valeur de l’angle (en radians) : $arctan(α)=0,053$\n",
    "- conversion en degrés décimaux : ${arctan(α) \\times 180 \\over π} = 3,039°$\n",
    "- soit : $cos(α) = {adjacent \\over hypoténuse}$ donc : $\\vec{AC'} = {100 \\over cos(α)} \\approx 100,14$\n",
    "- règle linéaire : $\\vec{AC} = \\vec{AC'} \\times {697 \\over 5,31} \\approx 13144,67$"
   ]
  },
  {
   "cell_type": "markdown",
   "metadata": {
    "slideshow": {
     "slide_type": "subslide"
    }
   },
   "source": [
    "![Schéma de la randonnée du point du vue de la trigonométrie](images/1-fig2.png)"
   ]
  },
  {
   "cell_type": "markdown",
   "metadata": {
    "slideshow": {
     "slide_type": "slide"
    }
   },
   "source": [
    "## Écriture du programme avec Python"
   ]
  },
  {
   "cell_type": "markdown",
   "metadata": {
    "slideshow": {
     "slide_type": "fragment"
    }
   },
   "source": [
    "Dans un premier temps, tout programme débute par un préambule :"
   ]
  },
  {
   "cell_type": "code",
   "execution_count": null,
   "metadata": {
    "slideshow": {
     "slide_type": "fragment"
    }
   },
   "outputs": [],
   "source": [
    "#!/usr/bin/env python\n",
    "#-*- coding: utf-8 -*-"
   ]
  },
  {
   "cell_type": "markdown",
   "metadata": {
    "slideshow": {
     "slide_type": "subslide"
    }
   },
   "source": [
    "Comme les fonctions trigonométriques ne sont pas disponibles dans le noyau de Python, mais dans une librairie connexe (*math*), il faut l’activer :"
   ]
  },
  {
   "cell_type": "code",
   "execution_count": null,
   "metadata": {
    "slideshow": {
     "slide_type": "fragment"
    }
   },
   "outputs": [],
   "source": [
    "#\n",
    "#   Modules importés\n",
    "#\n",
    "import math"
   ]
  },
  {
   "cell_type": "markdown",
   "metadata": {
    "slideshow": {
     "slide_type": "fragment"
    }
   },
   "source": [
    "Ensuite, dans la procédure principale, on enregistre les données du problème :"
   ]
  },
  {
   "cell_type": "code",
   "execution_count": null,
   "metadata": {
    "slideshow": {
     "slide_type": "fragment"
    }
   },
   "outputs": [],
   "source": [
    "#\n",
    "#   Procédure principale\n",
    "#\n",
    "if __name__ == \"__main__\":\n",
    "\n",
    "    alt = 697               # altitude\n",
    "    pente = 5.31            # dénivelée sur 100 m\n",
    "    alpha = pente / 100     # mesure de la tangente"
   ]
  },
  {
   "cell_type": "markdown",
   "metadata": {
    "slideshow": {
     "slide_type": "subslide"
    }
   },
   "source": [
    "On mesure ensuite l’arc tangente du nombre afin d’obtenir une mesure en radians. La fonction trigonométrique `atan(α)` est disponible dans le module *math* :"
   ]
  },
  {
   "cell_type": "code",
   "execution_count": null,
   "metadata": {
    "slideshow": {
     "slide_type": "fragment"
    }
   },
   "outputs": [],
   "source": [
    "arc = math.atan(alpha)      # fonction arctan"
   ]
  },
  {
   "cell_type": "markdown",
   "metadata": {
    "slideshow": {
     "slide_type": "fragment"
    }
   },
   "source": [
    "On peut désormais calculer l’hypoténuse grâce à la fonction `cosinus(α)` :"
   ]
  },
  {
   "cell_type": "code",
   "execution_count": null,
   "metadata": {
    "slideshow": {
     "slide_type": "fragment"
    }
   },
   "outputs": [],
   "source": [
    "hypo = 100 / math.cos(arc)  # fonction cosinus"
   ]
  },
  {
   "cell_type": "markdown",
   "metadata": {
    "slideshow": {
     "slide_type": "subslide"
    }
   },
   "source": [
    "Enfin, on calcule la distance totale :"
   ]
  },
  {
   "cell_type": "code",
   "execution_count": null,
   "metadata": {
    "slideshow": {
     "slide_type": "fragment"
    }
   },
   "outputs": [],
   "source": [
    "distance = hypo * (alt / pente)"
   ]
  },
  {
   "cell_type": "markdown",
   "metadata": {
    "slideshow": {
     "slide_type": "fragment"
    }
   },
   "source": [
    "Sans oublier de l’afficher :"
   ]
  },
  {
   "cell_type": "code",
   "execution_count": null,
   "metadata": {
    "slideshow": {
     "slide_type": "fragment"
    }
   },
   "outputs": [],
   "source": [
    "print(distance)"
   ]
  },
  {
   "cell_type": "markdown",
   "metadata": {
    "slideshow": {
     "slide_type": "slide"
    }
   },
   "source": [
    "## Résolution avec le théorème de Pythagore\n",
    "\n",
    "Le résultat aurait pu s’obtenir plus facilement par application du théorème de Pythagore (mais c’eût été moins drôle) :"
   ]
  },
  {
   "cell_type": "markdown",
   "metadata": {
    "slideshow": {
     "slide_type": "fragment"
    }
   },
   "source": [
    "> Dans un triangle rectangle, le carré de la longueur de l’hypoténuse est égal à la somme des carrés des longueurs des deux autres côtés."
   ]
  },
  {
   "cell_type": "markdown",
   "metadata": {
    "slideshow": {
     "slide_type": "subslide"
    }
   },
   "source": [
    "Autrement dit, si dans un triangle ABC rectangle en B, le vecteur BC mesure 697 m et que tous les 100 m le long du vecteur AB on s’élève de 5,31 m, alors $AB = {BC \\over 5.31} \\times 100$ soit :"
   ]
  },
  {
   "cell_type": "code",
   "execution_count": null,
   "metadata": {
    "slideshow": {
     "slide_type": "fragment"
    }
   },
   "outputs": [],
   "source": [
    "bc = 697\n",
    "pente = 5.31\n",
    "ab = (bc / pente) * 100\n",
    "print(ab)"
   ]
  },
  {
   "cell_type": "markdown",
   "metadata": {
    "slideshow": {
     "slide_type": "subslide"
    }
   },
   "source": [
    "D’après le théorème, on sait que $AC^2 = BC^2 + AB^2$ :"
   ]
  },
  {
   "cell_type": "code",
   "execution_count": null,
   "metadata": {
    "slideshow": {
     "slide_type": "fragment"
    }
   },
   "outputs": [],
   "source": [
    "ac_carre = (bc ** 2) + (ab ** 2)\n",
    "print(ac_carre)"
   ]
  },
  {
   "cell_type": "markdown",
   "metadata": {
    "slideshow": {
     "slide_type": "fragment"
    }
   },
   "source": [
    "Il ne reste plus qu’à déterminer la racine carrée du vecteur AC pour connaître la longueur de l’hypoténuse :"
   ]
  },
  {
   "cell_type": "code",
   "execution_count": null,
   "metadata": {
    "slideshow": {
     "slide_type": "fragment"
    }
   },
   "outputs": [],
   "source": [
    "ac = math.sqrt(ac_carre)\n",
    "print(ac)"
   ]
  },
  {
   "cell_type": "markdown",
   "metadata": {
    "slideshow": {
     "slide_type": "slide"
    }
   },
   "source": [
    "## Un programme fonctionnel\n",
    "\n",
    "Écrivons un programme plus pratique et mieux structuré. De quoi aura-t-on besoin ?\n",
    "1. importer le module `math` ;\n",
    "2. écrire une fonction pour calculer l’hypoténuse ;\n",
    "3. écrire une fonction `main()` reprise dans la procédure principale ;\n",
    "4. écrire la procédure principale."
   ]
  },
  {
   "cell_type": "markdown",
   "metadata": {
    "slideshow": {
     "slide_type": "subslide"
    }
   },
   "source": [
    "**Étape 1 :** importer le module `math`"
   ]
  },
  {
   "cell_type": "code",
   "execution_count": null,
   "metadata": {
    "slideshow": {
     "slide_type": "fragment"
    }
   },
   "outputs": [],
   "source": [
    "#!/usr/bin/env python\n",
    "#-*- coding: utf-8 -*-\n",
    "\n",
    "#\n",
    "#  Modules importés\n",
    "#\n",
    "import math"
   ]
  },
  {
   "cell_type": "markdown",
   "metadata": {
    "slideshow": {
     "slide_type": "subslide"
    }
   },
   "source": [
    "**Étape 2 :** écrire la fonction qui calcule l’hypoténuse"
   ]
  },
  {
   "cell_type": "code",
   "execution_count": null,
   "metadata": {
    "slideshow": {
     "slide_type": "fragment"
    }
   },
   "outputs": [],
   "source": [
    "def hypotenuse(x, y):\n",
    "    \"\"\"Calculates the hypotenuse thanks to\n",
    "    the Pythagorean theorem in a right triangle.\n",
    "    \n",
    "    Keyword arguments:\n",
    "    x -- first cathetus\n",
    "    y -- second cathetus\n",
    "    \"\"\"\n",
    "    square = (x ** 2) + (y ** 2)\n",
    "    hypotenuse = math.sqrt(square)\n",
    "\n",
    "    # Rounded to two digits from the decimal point\n",
    "    return round(hypotenuse, 2)"
   ]
  },
  {
   "cell_type": "markdown",
   "metadata": {
    "slideshow": {
     "slide_type": "subslide"
    }
   },
   "source": [
    "**Étape 3 :** écrire la fonction `main()`"
   ]
  },
  {
   "cell_type": "code",
   "execution_count": null,
   "metadata": {
    "slideshow": {
     "slide_type": "fragment"
    }
   },
   "outputs": [],
   "source": [
    "def main():\n",
    "    \n",
    "    # Writes the argument to standard output,\n",
    "    # then reads a line from input and returns it as a string.\n",
    "    x = input(\"Quelle est la mesure de la première cathète (en cm) ?\")\n",
    "    y = input(\"Quelle est la mesure de la seconde cathète (en cm) ?\")\n",
    "    \n",
    "    x, y = int(x), int(y)\n",
    "    \n",
    "    print(f\"La mesure de l’hypoténuse vaut {hypotenuse(x, y)} cm.\")"
   ]
  },
  {
   "cell_type": "markdown",
   "metadata": {
    "slideshow": {
     "slide_type": "subslide"
    }
   },
   "source": [
    "**Étape 4 :** écrire la procédure principale"
   ]
  },
  {
   "cell_type": "code",
   "execution_count": null,
   "metadata": {
    "slideshow": {
     "slide_type": "fragment"
    }
   },
   "outputs": [],
   "source": [
    "#\n",
    "#   Procédure principale\n",
    "#\n",
    "if __name__ == \"__main__\":\n",
    "\n",
    "    main()"
   ]
  },
  {
   "cell_type": "markdown",
   "metadata": {
    "slideshow": {
     "slide_type": "subslide"
    }
   },
   "source": [
    "Il reste un problème à régler : s’assurer que les entrées de l’utilisateur soient bien des chiffres !"
   ]
  },
  {
   "cell_type": "code",
   "execution_count": null,
   "metadata": {
    "slideshow": {
     "slide_type": "fragment"
    }
   },
   "outputs": [],
   "source": [
    "def main():\n",
    "    \n",
    "    # Writes the argument to standard output,\n",
    "    # then reads a line from input and returns it as a string.\n",
    "    while True:\n",
    "        try:\n",
    "            x = int(input(\"Quelle est la mesure de la première cathète (en cm) ?\"))\n",
    "            y = int(input(\"Quelle est la mesure de la seconde cathète (en cm) ?\"))\n",
    "        except ValueError:\n",
    "            print(\"Veuillez entrer un chiffre\")\n",
    "        else:\n",
    "            print(f\"La mesure de l’hypoténuse vaut {hypotenuse(x, y)} cm.\")\n",
    "            break"
   ]
  }
 ],
 "metadata": {
  "celltoolbar": "Diaporama",
  "kernelspec": {
   "display_name": "Python 3",
   "language": "python",
   "name": "python3"
  },
  "language_info": {
   "codemirror_mode": {
    "name": "ipython",
    "version": 3
   },
   "file_extension": ".py",
   "mimetype": "text/x-python",
   "name": "python",
   "nbconvert_exporter": "python",
   "pygments_lexer": "ipython3",
   "version": "3.8.0"
  }
 },
 "nbformat": 4,
 "nbformat_minor": 2
}
