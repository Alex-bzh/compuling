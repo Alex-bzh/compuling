{
 "cells": [
  {
   "cell_type": "markdown",
   "metadata": {},
   "source": [
    "# Construire un programme en Python"
   ]
  },
  {
   "cell_type": "markdown",
   "metadata": {},
   "source": [
    "Python est un langage informatique qui permet d’écrire des scripts en *.py* exécutables depuis une ligne de commande. Ils répondent à quelques exigences formelles que nous parcourons dans cette introduction."
   ]
  },
  {
   "cell_type": "markdown",
   "metadata": {
    "tags": []
   },
   "source": [
    "## Squelette d’un programme"
   ]
  },
  {
   "cell_type": "markdown",
   "metadata": {
    "slideshow": {
     "slide_type": "fragment"
    }
   },
   "source": [
    "Un programme classique en Python est constitué de quatre parties :\n",
    "\n",
    "- le préambule comprenant le *shebang* et l’encodage\n",
    "- la liste des modules à importer pour le bon fonctionnement du programme\n",
    "- la déclaration des fonctions utilisateur\n",
    "- la procédure principale"
   ]
  },
  {
   "cell_type": "code",
   "execution_count": null,
   "metadata": {
    "slideshow": {
     "slide_type": "subslide"
    }
   },
   "outputs": [],
   "source": [
    "#!/usr/bin/env python\n",
    "#-*- coding: utf-8 -*-\n",
    "\n",
    "#\n",
    "#   Modules to import\n",
    "#\n",
    "\n",
    "#\n",
    "#   User functions\n",
    "#\n",
    "\n",
    "#\n",
    "#   Main procedure\n",
    "#\n",
    "if __name__ == \"__main__\":\n",
    "\n",
    "    #\n",
    "    # Program\n",
    "    #\n",
    "\n",
    "    # example of a single instruction\n",
    "    print('Hello World')"
   ]
  },
  {
   "cell_type": "markdown",
   "metadata": {},
   "source": [
    "### Le préambule"
   ]
  },
  {
   "cell_type": "markdown",
   "metadata": {},
   "source": [
    "Constitué de deux lignes :\n",
    "\n",
    "- *shebang* (`#!` + chemin vers l’exécutable) précise au système qu’il n’est pas en présence d’un fichier binaire mais bien d’un script ;\n",
    "- déclaration de l’encodage."
   ]
  },
  {
   "cell_type": "code",
   "execution_count": null,
   "metadata": {
    "slideshow": {
     "slide_type": "fragment"
    }
   },
   "outputs": [],
   "source": [
    "#!/usr/bin/env python\n",
    "#-*- coding: utf-8 -*-"
   ]
  },
  {
   "cell_type": "markdown",
   "metadata": {},
   "source": [
    "### Les modules"
   ]
  },
  {
   "cell_type": "markdown",
   "metadata": {
    "slideshow": {
     "slide_type": "slide"
    }
   },
   "source": [
    "Le langage Python est livré avec des utilitaires de base pour répondre aux problèmes courants. Lorsque ceux-ci ne suffisent plus, il est possible d’étendre le langage en ajoutant des *librairies* (ou *modules*). Ces librairies sont de trois types différents :\n",
    "\n",
    "- soit elles sont incluses dans le langage mais non activées ;\n",
    "- soit elles sont définies par l’utilisateur ;\n",
    "- soit elles sont extérieures au langage et doivent être installées au préalable."
   ]
  },
  {
   "cell_type": "markdown",
   "metadata": {},
   "source": [
    "### Les fonctions utilisateur"
   ]
  },
  {
   "cell_type": "markdown",
   "metadata": {
    "slideshow": {
     "slide_type": "slide"
    }
   },
   "source": [
    "L’utilisateur programme souvent ses propres fonctions pour des besoins spécifiques ou par souci d’optimisation. Soit ces fonctions font partie d’une librairie à part (à inclure dans la section supérieure avec les modules), soit elles sont déclarées en tête du script, avant la procédure principale."
   ]
  },
  {
   "cell_type": "markdown",
   "metadata": {
    "slideshow": {
     "slide_type": "slide"
    }
   },
   "source": [
    "### La procédure principale"
   ]
  },
  {
   "cell_type": "markdown",
   "metadata": {},
   "source": [
    "Il s’agit du corps du programme. La procédure principale mobilise les ressources intégrées dans l’en-tête du script pour lancer des instructions et afficher un résultat. Notre programme de démonstration est simplement chargé d’afficher un message de bienvenue."
   ]
  },
  {
   "cell_type": "code",
   "execution_count": null,
   "metadata": {
    "slideshow": {
     "slide_type": "fragment"
    }
   },
   "outputs": [],
   "source": [
    "if __name__ == \"__main__\":\n",
    "\n",
    "    #\n",
    "    # Program\n",
    "    #\n",
    "\n",
    "    # a single instruction\n",
    "    print('Hello World')"
   ]
  },
  {
   "cell_type": "markdown",
   "metadata": {
    "slideshow": {
     "slide_type": "subslide"
    }
   },
   "source": [
    "Dès lors que le programme prend de l’ampleur, il devient intéressant de protéger son script d’effets de bord en encapsulant le code de la procédure principale dans une fonction."
   ]
  },
  {
   "cell_type": "code",
   "execution_count": null,
   "metadata": {
    "slideshow": {
     "slide_type": "fragment"
    }
   },
   "outputs": [],
   "source": [
    "# Procédure \"main\"\n",
    "def main():\n",
    "    \"\"\"Print a warm welcoming message.\"\"\"\n",
    "    print(\"Hello World!\")\n",
    "\n",
    "if __name__ == \"__main__\":\n",
    "\n",
    "    # Triggers the main() function\n",
    "    main()"
   ]
  },
  {
   "cell_type": "markdown",
   "metadata": {},
   "source": [
    "## Exemple de programme"
   ]
  },
  {
   "cell_type": "markdown",
   "metadata": {},
   "source": [
    "Le code qui suit est un exemple de script qui reprend les attendus de tout programme informatique écrit en Python :"
   ]
  },
  {
   "cell_type": "code",
   "execution_count": null,
   "metadata": {},
   "outputs": [],
   "source": [
    "# |code-fold: false\n",
    "#!/usr/bin/env python\n",
    "#-*- coding: utf-8 -*-\n",
    "\n",
    "\"\"\"\n",
    "    This script is a minimal example that uses the prerequisites\n",
    "    expected of any program written in Python.\n",
    "\"\"\"\n",
    "\n",
    "import math\n",
    "\n",
    "#\n",
    "#    User functions\n",
    "#\n",
    "\n",
    "def to_square_root(x):\n",
    "    \"\"\"Get the square root of a given number.\"\"\"\n",
    "\n",
    "    return math.sqrt(x)\n",
    "\n",
    "def main():\n",
    "    \n",
    "    nb = input(\"Saisissez un nombre :\\n\")\n",
    "    nb = int(nb)\n",
    "    \n",
    "    sq = to_square_root(nb)\n",
    "    \n",
    "    print(f\"La racine carrée de {nb} est {sq}\")\n",
    "\n",
    "    \n",
    "#\n",
    "#    Main procedure\n",
    "#\n",
    "if __name__ == \"__main__\":\n",
    "\n",
    "    # Exécution de la procédure \"main\"\n",
    "    main()"
   ]
  },
  {
   "cell_type": "markdown",
   "metadata": {},
   "source": [
    "## Exécuter un script Python"
   ]
  },
  {
   "cell_type": "markdown",
   "metadata": {},
   "source": [
    "Pour exécuter un script Python, il suffit d’appeler l’utilitaire `python` depuis une interface en ligne de commande (ILC) en lui indiquant le chemin pour l’atteindre :\n",
    "\n",
    "```bash\n",
    "$ python path/to/script.py\n",
    "```"
   ]
  }
 ],
 "metadata": {
  "celltoolbar": "Diaporama",
  "kernelspec": {
   "display_name": "Python 3 (ipykernel)",
   "language": "python",
   "name": "python3"
  },
  "language_info": {
   "codemirror_mode": {
    "name": "ipython",
    "version": 3
   },
   "file_extension": ".py",
   "mimetype": "text/x-python",
   "name": "python",
   "nbconvert_exporter": "python",
   "pygments_lexer": "ipython3",
   "version": "3.10.6"
  }
 },
 "nbformat": 4,
 "nbformat_minor": 4
}
