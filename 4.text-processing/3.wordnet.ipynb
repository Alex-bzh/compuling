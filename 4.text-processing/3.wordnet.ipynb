{
 "cells": [
  {
   "cell_type": "markdown",
   "metadata": {
    "slideshow": {
     "slide_type": "slide"
    }
   },
   "source": [
    "# WordNet"
   ]
  },
  {
   "cell_type": "markdown",
   "metadata": {
    "slideshow": {
     "slide_type": "fragment"
    }
   },
   "source": [
    "**WordNet :** base de données lexicales pour l’anglais.\n",
    "\n",
    "NLTK fournit une interface d’interrogation."
   ]
  },
  {
   "cell_type": "markdown",
   "metadata": {
    "slideshow": {
     "slide_type": "slide"
    }
   },
   "source": [
    "## Les Synsets de WordNet\n",
    "\n",
    "Liste de *Synsets* pour un terme donné.\n",
    "\n",
    "**Synsets** : ensembles de synonymes pour chaque acception.\n",
    "\n",
    "Souvent, un seul *Synset*."
   ]
  },
  {
   "cell_type": "code",
   "execution_count": null,
   "metadata": {
    "slideshow": {
     "slide_type": "-"
    }
   },
   "outputs": [],
   "source": [
    "import nltk\n",
    "from nltk.corpus import wordnet\n",
    "syn = wordnet.synsets('duck')\n",
    "print(syn)"
   ]
  },
  {
   "cell_type": "markdown",
   "metadata": {
    "slideshow": {
     "slide_type": "subslide"
    }
   },
   "source": [
    "Pour chaque *Synset* d’un terme, on peut obtenir :\n",
    "- sa définition\n",
    "- des exemples d’utilisation\n",
    "- son étiquette grammaticale (*n*, *a*, *r* ou *v*)\n",
    "- la liste de ses hyponymes et de ses hyperonymes\n",
    "- ses lemmes"
   ]
  },
  {
   "cell_type": "code",
   "execution_count": null,
   "metadata": {
    "slideshow": {
     "slide_type": "-"
    }
   },
   "outputs": [],
   "source": [
    "definition = syn[0].definition()\n",
    "examples = syn[4].examples()\n",
    "tag = syn[0].pos()\n",
    "hypernyms = syn[0].hypernyms()\n",
    "hyponyms = syn[0].hyponyms()\n",
    "lemmas = syn[7].lemmas()"
   ]
  },
  {
   "cell_type": "markdown",
   "metadata": {
    "slideshow": {
     "slide_type": "slide"
    }
   },
   "source": [
    "### Rechercher les synonymes\n",
    "\n",
    "Les lemmes d’un *Synset* se concevant comme des synonymes, l’une des finalités envisageables serait par exemple d’en obtenir la liste pour une certaine catégorie grammaticale :"
   ]
  },
  {
   "cell_type": "code",
   "execution_count": null,
   "metadata": {
    "slideshow": {
     "slide_type": "-"
    }
   },
   "outputs": [],
   "source": [
    "def get_synonyms(word, pos=None):\n",
    "    \"\"\"Lists all possible synonyms of a word, except the word itself.\n",
    "    \n",
    "    Keyword arguments:\n",
    "    word -- the word to look up\n",
    "    pos -- POS-tagging\n",
    "    \"\"\"\n",
    "    synonyms = set()\n",
    "    synsets = wordnet.synsets(word, pos=pos)\n",
    "    for synset in synsets:\n",
    "        [synonyms.add(lemma.name()) for lemma in synset.lemmas()]\n",
    "    synonyms.remove(word)\n",
    "    return synonyms\n",
    "\n",
    "synonyms = get_synonyms('duck', 'v')"
   ]
  },
  {
   "cell_type": "markdown",
   "metadata": {
    "slideshow": {
     "slide_type": "slide"
    }
   },
   "source": [
    "### Rechercher les antonymes\n",
    "\n",
    "À l’inverse, on peut aussi bien lister les antonymes d’un *Synset* particulier :"
   ]
  },
  {
   "cell_type": "code",
   "execution_count": null,
   "metadata": {},
   "outputs": [],
   "source": [
    "def get_antonyms(synset):\n",
    "    \"\"\"Lists the antonyms of all the possible synonyms of a\n",
    "    particular Synset.\n",
    "    \n",
    "    Keyword argument:\n",
    "    synset -- the given synset\n",
    "    \"\"\"\n",
    "    antonyms = set()\n",
    "    for lemma in synset.lemmas():\n",
    "        [antonyms.add(antonym.name()) for antonym in lemma.antonyms()]   \n",
    "    return antonyms\n",
    "\n",
    "kind = wordnet.synset('kind.a.01')\n",
    "antonyms = get_antonyms(kind)"
   ]
  }
 ],
 "metadata": {
  "celltoolbar": "Diaporama",
  "kernelspec": {
   "display_name": "Python 3",
   "language": "python",
   "name": "python3"
  },
  "language_info": {
   "codemirror_mode": {
    "name": "ipython",
    "version": 3
   },
   "file_extension": ".py",
   "mimetype": "text/x-python",
   "name": "python",
   "nbconvert_exporter": "python",
   "pygments_lexer": "ipython3",
   "version": "3.7.3"
  }
 },
 "nbformat": 4,
 "nbformat_minor": 4
}
