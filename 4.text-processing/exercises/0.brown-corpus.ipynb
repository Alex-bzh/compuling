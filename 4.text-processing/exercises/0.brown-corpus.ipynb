{
 "cells": [
  {
   "cell_type": "markdown",
   "metadata": {},
   "source": [
    "# Le Brown Corpus\n",
    "\n",
    "Le *Brown University Standard Corpus of Present-Day American English* est le premier grand corpus structuré et étiqueté de textes en anglais. Il a posé les bases pour l’étude scientifique de la fréquence et de la distribution des catégories de mots dans l’usage quotidien de la langue.\n",
    "\n",
    "Exemple de phrase étiquetée :\n",
    "\n",
    "```txt\n",
    "The/at Fulton/np-tl County/nn-tl Grand/jj-tl Jury/nn-tl said/vbd Friday/nr an/at investigation/nn of/in Atlanta's/np$ recent/jj primary/nn election/nn produced/vbd ``/`` no/at evidence/nn ''/'' that/cs any/dti irregularities/nns took/vbd place/nn ./.\n",
    "```\n",
    "\n",
    "Cet exercice vous amènera à manipuler les bases de NLTK en important un corpus catégorisé et étiqueté afin d’obtenir rapidement des statistiques.\n",
    "\n",
    "**Étape 1 :** importer le corpus."
   ]
  },
  {
   "cell_type": "code",
   "execution_count": null,
   "metadata": {},
   "outputs": [],
   "source": [
    "# Your code here"
   ]
  },
  {
   "cell_type": "markdown",
   "metadata": {},
   "source": [
    "Le corpus est désormais manipulable à travers la variable `brown` qui, pour la petite histoire, est une instance de la classe `CategorizedTaggedCorpusReader`.\n",
    "\n",
    "**Étape 2 :** afficher les catégories du corpus."
   ]
  },
  {
   "cell_type": "code",
   "execution_count": null,
   "metadata": {},
   "outputs": [],
   "source": [
    "# Your code here"
   ]
  },
  {
   "cell_type": "markdown",
   "metadata": {},
   "source": [
    "**Étape 3 :** sachant que la méthode `fileids()` accepte un paramètre `categories`, sauvegarder dans une variable `files` les identifiants des textes humoristiques du corpus, ainsi que ceux relatifs à la science fiction."
   ]
  },
  {
   "cell_type": "code",
   "execution_count": null,
   "metadata": {},
   "outputs": [],
   "source": [
    "# Your code here"
   ]
  },
  {
   "cell_type": "markdown",
   "metadata": {},
   "source": [
    "En plus des méthodes `raw()`, `words()`, `sents()`, la classe `CategorizedTaggedCorpusReader` ouvre accès aux méthodes `tagged_sents()` et `tagged_words()`.\n",
    "\n",
    "**Étape 4 :** pour chacun des fichiers retenus, afficher la liste des mots étiquetés."
   ]
  },
  {
   "cell_type": "code",
   "execution_count": null,
   "metadata": {},
   "outputs": [],
   "source": [
    "# Your code here"
   ]
  },
  {
   "cell_type": "markdown",
   "metadata": {},
   "source": [
    "Il existe une manière plus simple d’obtenir directement le résultat. Comme la méthode `tagged_words()` dispose d’un paramètre `categories`, on peut directement sauvegarder dans une variable `words` la liste des mots étiquetés appartenant aux catégories sélectionnées plus haut :"
   ]
  },
  {
   "cell_type": "code",
   "execution_count": null,
   "metadata": {},
   "outputs": [],
   "source": [
    "# Your code here"
   ]
  },
  {
   "cell_type": "markdown",
   "metadata": {},
   "source": [
    "**Étape 5 :** grâce à un paramètre `tagset` supplémentaire, réaffecter la variable `words` afin de fixer le jeu d’étiquettes sur `universal`."
   ]
  },
  {
   "cell_type": "code",
   "execution_count": null,
   "metadata": {},
   "outputs": [],
   "source": [
    "# Your code here"
   ]
  },
  {
   "cell_type": "markdown",
   "metadata": {},
   "source": [
    "Le jeu d’étiquettes universel en parties du discours est censée faciliter et normaliser la recherche scientifique en proposant douze étiquettes :\n",
    "\n",
    "|Étiquette|Catégorie|\n",
    "|-|-|\n",
    "|ADJ|adjective|\n",
    "|ADP|adposition|\n",
    "|ADV|adverb|\n",
    "|CONJ|conjunction|\n",
    "|DET|determiner, article|\n",
    "|NOUN|noun|\n",
    "|NUM|numeral|\n",
    "|PRT|particle|\n",
    "|PRON|pronoun|\n",
    "|VERB|verb|\n",
    "|.|punctuation marks|\n",
    "|X|other|\n",
    "\n",
    "**Crédits**\n",
    "\n",
    "Slav Petrov, Dipanjan Das, Ryan McDonald. – [\"A  Universal  Part-of-Speech  Tagset\"](http://www.petrovi.de/data/lrec.pdf) in *Proceedings of the Eighth International Conference on Language Resources and Evaluation* (LREC ’12). – Istanbul, Turquie, 21-27 mai 2012.\n",
    "\n",
    "**Étape 6 :** comptabiliser le nombre d’apparitions des étiquettes en utilisant la classe `Counter` du module `collections` de Python."
   ]
  },
  {
   "cell_type": "code",
   "execution_count": null,
   "metadata": {},
   "outputs": [],
   "source": [
    "# Your code here"
   ]
  },
  {
   "cell_type": "markdown",
   "metadata": {},
   "source": [
    "Grâce à la méthode `most_common()`, afficher les cinq étiquettes les plus utilisées de notre sous-corpus :"
   ]
  },
  {
   "cell_type": "code",
   "execution_count": null,
   "metadata": {},
   "outputs": [],
   "source": [
    "# Your code here"
   ]
  },
  {
   "cell_type": "markdown",
   "metadata": {},
   "source": [
    "NLTK propose une classe `FreqDist` dans le module `probability` qui permet en plus d’afficher rapidement un diagramme.\n",
    "\n",
    "**Étape 7 :** dans le module `probability` de NLTK, importer la classe `FreqDist`."
   ]
  },
  {
   "cell_type": "code",
   "execution_count": null,
   "metadata": {},
   "outputs": [],
   "source": [
    "# Your code here"
   ]
  },
  {
   "cell_type": "markdown",
   "metadata": {},
   "source": [
    "**Étape 8 :** créer une nouvelle instance de la classe `FreqDist` sur le modèle de l’étape précédente."
   ]
  },
  {
   "cell_type": "code",
   "execution_count": null,
   "metadata": {},
   "outputs": [],
   "source": [
    "# Your code here"
   ]
  },
  {
   "cell_type": "markdown",
   "metadata": {},
   "source": [
    "**Étape 9 :** grâce à la méthode `plot()`, afficher une distribution de la fréquence d’apparition des étiquettes du sous-corpus."
   ]
  },
  {
   "cell_type": "code",
   "execution_count": null,
   "metadata": {},
   "outputs": [],
   "source": [
    "# Your code here"
   ]
  }
 ],
 "metadata": {
  "kernelspec": {
   "display_name": "Python 3",
   "language": "python",
   "name": "python3"
  },
  "language_info": {
   "codemirror_mode": {
    "name": "ipython",
    "version": 3
   },
   "file_extension": ".py",
   "mimetype": "text/x-python",
   "name": "python",
   "nbconvert_exporter": "python",
   "pygments_lexer": "ipython3",
   "version": "3.8.0"
  }
 },
 "nbformat": 4,
 "nbformat_minor": 4
}
