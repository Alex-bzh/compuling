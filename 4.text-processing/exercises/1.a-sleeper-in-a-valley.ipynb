{
 "cells": [
  {
   "cell_type": "markdown",
   "metadata": {},
   "source": [
    "# Ne vous endormez pas !\n",
    "\n",
    "À partir du poème de Rimbaud *Le dormeur du Val*, vous produirez un programme capable de compter le nombre de mots d’un texte en français et de trier ses mots par le nombre de leurs occurrences."
   ]
  },
  {
   "cell_type": "code",
   "execution_count": null,
   "metadata": {},
   "outputs": [],
   "source": [
    "# Modules to import\n",
    "import nltk\n",
    "import unicodedata\n",
    "from nltk.tokenize import RegexpTokenizer\n",
    "from collections import Counter\n",
    "\n",
    "# Path to the poem\n",
    "path_to_text = '../data/dormeur-du-val.txt'"
   ]
  },
  {
   "cell_type": "markdown",
   "metadata": {},
   "source": [
    "## Tokenisation\n",
    "\n",
    "Concevez une fonction nommée `tk_words()`, adaptée pour le français, qui prenne en argument le chemin vers un fichier et renvoie une liste de mots en bas de casse."
   ]
  },
  {
   "cell_type": "code",
   "execution_count": null,
   "metadata": {},
   "outputs": [],
   "source": [
    "# Your code here"
   ]
  },
  {
   "cell_type": "code",
   "execution_count": null,
   "metadata": {},
   "outputs": [],
   "source": [
    "# Check the result\n",
    "nb_words = len(tk_words(path_to_text))\n",
    "if nb_words != 121:\n",
    "    print(f\"Vous avez trouvé {nb_words} mots. La bonne réponse était : 121 !\")\n",
    "else:\n",
    "    print(\"Résultat correct !\")"
   ]
  },
  {
   "cell_type": "markdown",
   "metadata": {},
   "source": [
    "## Un dictionnaire des occurrences\n",
    "\n",
    "Écrivez à présent une fonction `get_occurrences()` qui prenne en argument une liste de tokens et renvoie un objet de type `Counter` qui, pour chaque token, fournit le nombre de ses occurrences."
   ]
  },
  {
   "cell_type": "code",
   "execution_count": null,
   "metadata": {},
   "outputs": [],
   "source": [
    "# Your code here"
   ]
  },
  {
   "cell_type": "code",
   "execution_count": null,
   "metadata": {},
   "outputs": [],
   "source": [
    "# Check the result\n",
    "occurrences = get_occurrences(tk_words(path_to_text))\n",
    "\n",
    "if not isinstance(occurrences, Counter):\n",
    "    print(f\"Votre structure de données est de type {type(occurrences)} alors que l’on demandait un type `Counter`\")\n",
    "else:\n",
    "    print(\"Résultat correct !\")"
   ]
  },
  {
   "cell_type": "markdown",
   "metadata": {},
   "source": [
    "## Normaliser les tokens\n",
    "\n",
    "Préparez une fonction intitulée `normalize()` qui renvoie la version normalisée d’une chaîne de caractères."
   ]
  },
  {
   "cell_type": "code",
   "execution_count": null,
   "metadata": {},
   "outputs": [],
   "source": [
    "# Your code here"
   ]
  },
  {
   "cell_type": "code",
   "execution_count": null,
   "metadata": {},
   "outputs": [],
   "source": [
    "# Check the result\n",
    "normalized_token = normalize(\"étendu\")\n",
    "\n",
    "if normalized_token != \"etendu\":\n",
    "    print(f\"Votre fonction renvoie {normalized_token} au lieu de : etendu\")\n",
    "else:\n",
    "    print(normalize(\"Résultat correct !\"))"
   ]
  },
  {
   "cell_type": "markdown",
   "metadata": {},
   "source": [
    "## Trier les tokens par ordre alphabétique\n",
    "\n",
    "Définissez maintenant une fonction `sort_by_alpha()` qui prenne en entrée un dictionnaire et le renvoie trié par ordre alphabétique."
   ]
  },
  {
   "cell_type": "code",
   "execution_count": null,
   "metadata": {},
   "outputs": [],
   "source": [
    "# Your code here"
   ]
  },
  {
   "cell_type": "code",
   "execution_count": null,
   "metadata": {},
   "outputs": [],
   "source": [
    "# Check the result\n",
    "sorted_by_alpha = sort_by_alpha(occurrences)\n",
    "\n",
    "if sorted_by_alpha[25][0] != \"étendu\":\n",
    "    print(f\"Le mot 'étendu' se trouve à l’indice {sorted_by_alpha.index(('étendu', 1))} au lieu de l’indice 25.\")\n",
    "else:\n",
    "    print(\"Résultat correct !\")"
   ]
  },
  {
   "cell_type": "markdown",
   "metadata": {},
   "source": [
    "## Un dernier tri\n",
    "\n",
    "Dernière étape, écrivez une fonction `sort_by_occurrences()` qui trie les tokens par ordre décroissant de leur nombre d’occurrences."
   ]
  },
  {
   "cell_type": "code",
   "execution_count": null,
   "metadata": {},
   "outputs": [],
   "source": [
    "# Your code here"
   ]
  },
  {
   "cell_type": "code",
   "execution_count": null,
   "metadata": {},
   "outputs": [],
   "source": [
    "# Check the result\n",
    "sorted_by_occurrences = sort_by_occurrences(sorted_by_alpha)\n",
    "\n",
    "if sorted_by_occurrences[34][0] != \"étendu\":\n",
    "    print(f\"Le mot 'étendu' se trouve à l’indice {sorted_by_occurrences.index(('étendu', 1))} au lieu de l’indice 34.\")\n",
    "else:\n",
    "    print(\"Résultat correct !\")"
   ]
  },
  {
   "cell_type": "markdown",
   "metadata": {},
   "source": [
    "## Déclencher le programme\n",
    "\n",
    "Maintenant que vos fonctions sont correctement élaborées, définissez une fonction `main()` qui affiche les mots du poème avec le nombre de leurs occurrencespour et déclenchez-la !"
   ]
  },
  {
   "cell_type": "code",
   "execution_count": null,
   "metadata": {},
   "outputs": [],
   "source": [
    "# Your code here"
   ]
  },
  {
   "cell_type": "code",
   "execution_count": null,
   "metadata": {},
   "outputs": [],
   "source": [
    "# Check the result\n",
    "main(path_to_text)"
   ]
  }
 ],
 "metadata": {
  "kernelspec": {
   "display_name": "Python 3",
   "language": "python",
   "name": "python3"
  },
  "language_info": {
   "codemirror_mode": {
    "name": "ipython",
    "version": 3
   },
   "file_extension": ".py",
   "mimetype": "text/x-python",
   "name": "python",
   "nbconvert_exporter": "python",
   "pygments_lexer": "ipython3",
   "version": "3.8.0"
  }
 },
 "nbformat": 4,
 "nbformat_minor": 4
}
