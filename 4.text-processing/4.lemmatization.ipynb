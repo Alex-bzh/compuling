{
 "cells": [
  {
   "cell_type": "markdown",
   "metadata": {
    "slideshow": {
     "slide_type": "slide"
    }
   },
   "source": [
    "# Lemmatisation"
   ]
  },
  {
   "cell_type": "markdown",
   "metadata": {
    "slideshow": {
     "slide_type": "slide"
    }
   },
   "source": [
    "## Définition\n",
    "\n",
    "Un lemme, en linguistique, est la forme canonique d’un mot. Sous le terme de lemmatisation, on désigne l’opération consistant à obtenir le lemme d’une occurrence, qu’elle soit fléchie ou non, afin, souvent, de produire un lexique."
   ]
  },
  {
   "cell_type": "markdown",
   "metadata": {
    "slideshow": {
     "slide_type": "fragment"
    }
   },
   "source": [
    "En traitement automatique d’un texte, la lemmatisation intervient après la segmentation en mots. C’est une phase importante qui demande d’être sensibilisé aux questions de désambiguïsation."
   ]
  },
  {
   "cell_type": "markdown",
   "metadata": {
    "slideshow": {
     "slide_type": "subslide"
    }
   },
   "source": [
    "En dehors de tout contexte, le mot *dérive* en français pourrait en effet être aussi bien une forme fléchie du verbe *dériver* (1) qu’une occurrence du substantif féminin (2) :\n",
    "1. *Sans pilote, le bateau dérive.*\n",
    "2. *La dérive du navire est capricieuse.*"
   ]
  },
  {
   "cell_type": "markdown",
   "metadata": {
    "slideshow": {
     "slide_type": "fragment"
    }
   },
   "source": [
    "En anglais, le mot *duck* quant à lui peut entre autres se référer à un animal (3) ou à une action d’évitement (4) :\n",
    "3. *The ducks are gathering near the bank.*\n",
    "4. *He had to duck the question.*"
   ]
  }
 ],
 "metadata": {
  "celltoolbar": "Diaporama",
  "kernelspec": {
   "display_name": "Python 3",
   "language": "python",
   "name": "python3"
  },
  "language_info": {
   "codemirror_mode": {
    "name": "ipython",
    "version": 3
   },
   "file_extension": ".py",
   "mimetype": "text/x-python",
   "name": "python",
   "nbconvert_exporter": "python",
   "pygments_lexer": "ipython3",
   "version": "3.7.3"
  }
 },
 "nbformat": 4,
 "nbformat_minor": 4
}
