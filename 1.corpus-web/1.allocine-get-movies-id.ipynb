{
 "cells": [
  {
   "cell_type": "markdown",
   "metadata": {
    "slideshow": {
     "slide_type": "slide"
    }
   },
   "source": [
    "# Récupérer les identifiants de films sur *Allociné*"
   ]
  },
  {
   "cell_type": "markdown",
   "metadata": {
    "slideshow": {
     "slide_type": "slide"
    }
   },
   "source": [
    "## Lire une page Web"
   ]
  },
  {
   "cell_type": "markdown",
   "metadata": {
    "slideshow": {
     "slide_type": "fragment"
    }
   },
   "source": [
    "Page Web = document structuré\n",
    "- marqueurs autour de segments\n",
    "- hiérarchie des informations\n",
    "- représention arborescente"
   ]
  },
  {
   "cell_type": "markdown",
   "metadata": {
    "slideshow": {
     "slide_type": "subslide"
    }
   },
   "source": [
    "Films de SF 2010-2019 les mieux notés sur Allociné :  \n",
    "http://www.allocine.fr/films/notes/genre-13021/decennie-2010/"
   ]
  },
  {
   "cell_type": "code",
   "execution_count": null,
   "metadata": {
    "slideshow": {
     "slide_type": "fragment"
    }
   },
   "outputs": [],
   "source": [
    "#!/usr/bin/env python\n",
    "#-*- coding: utf-8 -*-\n",
    "\n",
    "# Module urllib\n",
    "import urllib.request\n",
    "\n",
    "# Configuration de la requête HTTP\n",
    "url = 'http://www.allocine.fr/films/notes/genre-13021/decennie-2010/'\n",
    "headers = { 'User-agent' : 'HTML extractor (Alexandre Roulois)' }\n",
    "request = urllib.request.Request(url, headers=headers)\n",
    "\n",
    "# Extraire le code HTML\n",
    "with urllib.request.urlopen(request) as fichier:\n",
    "    html = fichier.read().decode('utf-8')"
   ]
  },
  {
   "cell_type": "markdown",
   "metadata": {
    "slideshow": {
     "slide_type": "slide"
    }
   },
   "source": [
    "## Analyse syntaxique"
   ]
  },
  {
   "cell_type": "markdown",
   "metadata": {
    "slideshow": {
     "slide_type": "fragment"
    }
   },
   "source": [
    "Quel est le type, au sens de type de données, de la variable `html` ?"
   ]
  },
  {
   "cell_type": "code",
   "execution_count": null,
   "metadata": {
    "slideshow": {
     "slide_type": "fragment"
    }
   },
   "outputs": [],
   "source": [
    "# <class 'str'>\n",
    "print(type(html))"
   ]
  },
  {
   "cell_type": "markdown",
   "metadata": {
    "slideshow": {
     "slide_type": "fragment"
    }
   },
   "source": [
    "**Question :** comment interpréter du texte brut comme texte structuré ?"
   ]
  },
  {
   "cell_type": "markdown",
   "metadata": {
    "slideshow": {
     "slide_type": "subslide"
    }
   },
   "source": [
    "Importer module *BeautifulSoup* :\n",
    "- analyses syntaxiques HTML et XML\n",
    "- modélisation arborescente du fichier\n",
    "- méthodes pour parcourir, rechercher et modifier un arbre"
   ]
  },
  {
   "cell_type": "markdown",
   "metadata": {
    "slideshow": {
     "slide_type": "fragment"
    }
   },
   "source": [
    "Importer le module :"
   ]
  },
  {
   "cell_type": "code",
   "execution_count": null,
   "metadata": {
    "slideshow": {
     "slide_type": "fragment"
    }
   },
   "outputs": [],
   "source": [
    "# Importer BeautifulSoup v4\n",
    "from bs4 import BeautifulSoup"
   ]
  },
  {
   "cell_type": "markdown",
   "metadata": {
    "slideshow": {
     "slide_type": "subslide"
    }
   },
   "source": [
    "Lancer l’analse syntaxique :"
   ]
  },
  {
   "cell_type": "code",
   "execution_count": null,
   "metadata": {
    "slideshow": {
     "slide_type": "fragment"
    }
   },
   "outputs": [],
   "source": [
    "soup = BeautifulSoup(html, 'html.parser')"
   ]
  },
  {
   "cell_type": "markdown",
   "metadata": {
    "slideshow": {
     "slide_type": "fragment"
    }
   },
   "source": [
    "Rechercher tous les films dans le document :\n",
    "- méthode `select()` avec comme entrée un sélecteur CSS\n",
    "- sélecteur `.meta-title-link` trop gourmand\n",
    "- contrainte supplémentaire comme enfant de `.mdl`"
   ]
  },
  {
   "cell_type": "code",
   "execution_count": null,
   "metadata": {
    "slideshow": {
     "slide_type": "fragment"
    }
   },
   "outputs": [],
   "source": [
    "movies = soup.select('.mdl .meta-title-link')"
   ]
  },
  {
   "cell_type": "markdown",
   "metadata": {
    "slideshow": {
     "slide_type": "subslide"
    }
   },
   "source": [
    "Pour chaque film, récupérer le lien hypertexte :"
   ]
  },
  {
   "cell_type": "code",
   "execution_count": null,
   "metadata": {
    "slideshow": {
     "slide_type": "fragment"
    }
   },
   "outputs": [],
   "source": [
    "# Pour chaque film…\n",
    "for movie in movies:\n",
    "    # … récupérer le contenu de l'attribut href\n",
    "    href = movie.get('href')"
   ]
  },
  {
   "cell_type": "markdown",
   "metadata": {
    "slideshow": {
     "slide_type": "fragment"
    }
   },
   "source": [
    "Et l’insérer dans une liste propre :"
   ]
  },
  {
   "cell_type": "code",
   "execution_count": null,
   "metadata": {
    "slideshow": {
     "slide_type": "fragment"
    }
   },
   "outputs": [],
   "source": [
    "# Liste de tous les liens\n",
    "hrefs = []\n",
    "\n",
    "# Insérer le contenu de \"href\" dans la liste\n",
    "for movie in movies:\n",
    "    hrefs.append(movie.get('href'))"
   ]
  },
  {
   "cell_type": "markdown",
   "metadata": {
    "slideshow": {
     "slide_type": "slide"
    }
   },
   "source": [
    "## Écrire dans un fichier"
   ]
  },
  {
   "cell_type": "markdown",
   "metadata": {
    "slideshow": {
     "slide_type": "fragment"
    }
   },
   "source": [
    "**Objectif :** enregistrer les liens dans un fichier à plat"
   ]
  },
  {
   "cell_type": "markdown",
   "metadata": {
    "slideshow": {
     "slide_type": "fragment"
    }
   },
   "source": [
    "**Besoins :**\n",
    "- créer nouveau fichier avec droits en écriture\n",
    "- insérer chaque lien dans le fichier\n",
    "- un lien par ligne"
   ]
  },
  {
   "cell_type": "markdown",
   "metadata": {
    "slideshow": {
     "slide_type": "subslide"
    }
   },
   "source": [
    "**1e étape :** ouvrir un nouveau fichier en écriture"
   ]
  },
  {
   "cell_type": "code",
   "execution_count": null,
   "metadata": {
    "slideshow": {
     "slide_type": "fragment"
    }
   },
   "outputs": [],
   "source": [
    "with open('liste_liens.txt', 'w') as file:\n",
    "    # Liste des instructions\n",
    "    pass"
   ]
  },
  {
   "cell_type": "markdown",
   "metadata": {
    "slideshow": {
     "slide_type": "fragment"
    }
   },
   "source": [
    "**2e étape :** pour chaque lien, lancer une instruction d’écriture dans le fichier"
   ]
  },
  {
   "cell_type": "code",
   "execution_count": null,
   "metadata": {
    "slideshow": {
     "slide_type": "fragment"
    }
   },
   "outputs": [],
   "source": [
    "with open('liste_liens.txt', 'w') as file:\n",
    "    for href in hrefs:\n",
    "        file.write(href)"
   ]
  },
  {
   "cell_type": "markdown",
   "metadata": {
    "slideshow": {
     "slide_type": "fragment"
    }
   },
   "source": [
    "**3e étape:** ajouter un retour à la ligne à chaque fois"
   ]
  },
  {
   "cell_type": "code",
   "execution_count": null,
   "metadata": {},
   "outputs": [],
   "source": [
    "with open('liste_liens.txt', 'w') as file:\n",
    "    for href in hrefs:\n",
    "        file.write(href)\n",
    "        file.write('\\n')"
   ]
  },
  {
   "cell_type": "markdown",
   "metadata": {
    "slideshow": {
     "slide_type": "slide"
    }
   },
   "source": [
    "## Optimiser"
   ]
  },
  {
   "cell_type": "markdown",
   "metadata": {
    "slideshow": {
     "slide_type": "fragment"
    }
   },
   "source": [
    "Modulariser le code grâce à une fonction utilisateur :"
   ]
  },
  {
   "cell_type": "code",
   "execution_count": null,
   "metadata": {
    "slideshow": {
     "slide_type": "fragment"
    }
   },
   "outputs": [],
   "source": [
    "def get_HTML_from_URL(url, charset='utf-8'):\n",
    "    \"\"\"Extracts the HTML code from a single URL.\n",
    "    \n",
    "    Keyword arguments:\n",
    "    url -- the url to scrap\n",
    "    charset -- the charset used to decode caracters (default utf-8)\n",
    "    \"\"\"\n",
    "    headers = { 'User-agent' : 'HTML extractor (Alexandre Roulois)' }\n",
    "    request = urllib.request.Request(url, headers=headers)\n",
    "    with urllib.request.urlopen(request) as fichier:\n",
    "        html = fichier.read().decode(charset)\n",
    "    return html"
   ]
  },
  {
   "cell_type": "markdown",
   "metadata": {
    "slideshow": {
     "slide_type": "subslide"
    }
   },
   "source": [
    "Placer la fonction et ses dépendances (`urllib.request`) dans un fichier `tools.py`, à importer comme un module dans le script :"
   ]
  },
  {
   "cell_type": "code",
   "execution_count": null,
   "metadata": {},
   "outputs": [],
   "source": [
    "# Importer le module en tête du fichier\n",
    "import tools"
   ]
  },
  {
   "cell_type": "markdown",
   "metadata": {
    "slideshow": {
     "slide_type": "fragment"
    }
   },
   "source": [
    "Appeler ensuite la fonction au lieu de tout le code explicite :"
   ]
  },
  {
   "cell_type": "code",
   "execution_count": null,
   "metadata": {},
   "outputs": [],
   "source": [
    "# Récupérer code HTML\n",
    "html = tools.get_HTML_from_URL(url)"
   ]
  }
 ],
 "metadata": {
  "celltoolbar": "Diaporama",
  "kernelspec": {
   "display_name": "Python 3",
   "language": "python",
   "name": "python3"
  },
  "language_info": {
   "codemirror_mode": {
    "name": "ipython",
    "version": 3
   },
   "file_extension": ".py",
   "mimetype": "text/x-python",
   "name": "python",
   "nbconvert_exporter": "python",
   "pygments_lexer": "ipython3",
   "version": "3.7.3"
  }
 },
 "nbformat": 4,
 "nbformat_minor": 2
}
