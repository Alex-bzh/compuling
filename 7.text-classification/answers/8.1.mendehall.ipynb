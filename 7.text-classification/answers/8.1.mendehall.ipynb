{
 "cells": [
  {
   "cell_type": "markdown",
   "id": "4d834c09-7ad8-436f-b1e6-ae15c000bc80",
   "metadata": {},
   "source": [
    "# Comparaison entre courbes de Mendenhall"
   ]
  },
  {
   "cell_type": "markdown",
   "id": "6e5f8584-6255-4d73-8e12-795a169453f2",
   "metadata": {},
   "source": [
    "Les courbes caractéristiques de composition de Mendenhall sont censées représenter la signature stylistique d’un auteur grâce à une méthode quantitative de telle manière qu’il serait possible d’identifier formellement un texte anonyme. L’idée repose sur un présupposé assez difficile à admettre : le style d’un auteur ne doit varier ni dans le temps ni dans l’espace (les différentes parties d’une même œuvre sont censées adopter la même courbe).\n",
    "\n",
    "L’algorithme mis en jeu par Mendehall, rudimentaire pour notre époque, mobilisait des ressources colossales en 1887, lorsqu’il fallait comptabiliser à la main la fréquence d’apparition des mots dans un texte en fonction du nombre de leurs caractères.\n",
    "\n",
    "Rien de tout cela ici. Au cours de cet exercice, vous mettrez en application un test statistique afin d’établir ou de rejeter une identité entre deux ensembles de fréquences."
   ]
  },
  {
   "cell_type": "markdown",
   "id": "7bdd5b2b-b36b-4a84-b21d-9c93eed8fd93",
   "metadata": {},
   "source": [
    "## Mise en place de la tâche"
   ]
  },
  {
   "cell_type": "markdown",
   "id": "fff7d8e6-48fb-49d5-8222-8449724eb57c",
   "metadata": {},
   "source": [
    "Le code ci-dessous importe deux listes de distribution de fréquences des mots dans deux textes de Bram Stoker : *Dracula* (1897) et *The Mystery of the Sea* (1902). Chaque texte a été au préalable divisé en tranches de 5000 mots."
   ]
  },
  {
   "cell_type": "code",
   "execution_count": null,
   "id": "fdaf87b9-3843-4182-b10d-8181ecc52a09",
   "metadata": {},
   "outputs": [],
   "source": [
    "import pickle\n",
    "\n",
    "with open('../data/mendenhall.pickle', 'rb') as f:\n",
    "    stoker = pickle.load(f)\n",
    "\n",
    "dracula = stoker['dracula']\n",
    "mystery = stoker['mystery_of_the_sea']"
   ]
  },
  {
   "cell_type": "markdown",
   "id": "94859841-ab34-4391-b4f8-2bfa3dfe9373",
   "metadata": {},
   "source": [
    "Vérifions la théorie de Mendenhall :"
   ]
  },
  {
   "cell_type": "code",
   "execution_count": null,
   "id": "c4c9fd06-99af-42d4-8499-95f1e25e963a",
   "metadata": {},
   "outputs": [],
   "source": [
    "# a random slice of each text\n",
    "import matplotlib.pyplot as plt\n",
    "import seaborn as sns\n",
    "from random import choice\n",
    "\n",
    "dracula_slice = choice(range(len(dracula)))\n",
    "mystery_slice = choice(range(len(mystery)))\n",
    "\n",
    "dracula_freq = dracula[dracula_slice]\n",
    "mystery_freq = mystery[mystery_slice]\n",
    "\n",
    "figure, ax = plt.subplots(figsize=(12,5))\n",
    "\n",
    "figure.suptitle(\"Characteristic curves of composition in two novels by Bram Stoker\")\n",
    "\n",
    "ax.set(\n",
    "    title=\"n = 5000 words\",\n",
    "    xlabel=\"Word length\",\n",
    "    ylabel=\"Frequency\"\n",
    ")\n",
    "\n",
    "dracula_conditions = [ condition for condition, w in dracula_freq ]\n",
    "dracula_counts = [ sum(w.values()) for condition, w in dracula_freq ]\n",
    "\n",
    "mystery_conditions = [ condition for condition, w in mystery_freq ]\n",
    "mystery_counts = [ sum(w.values()) for condition, w in mystery_freq ]\n",
    "\n",
    "sns.lineplot(x=dracula_conditions, y=dracula_counts, ax=ax)\n",
    "sns.lineplot(x=mystery_conditions, y=mystery_counts, ax=ax)\n",
    "\n",
    "plt.legend([\"Dracula\", \"The Mystery of the Sea\"])\n",
    "\n",
    "sns.despine()\n",
    "plt.show()"
   ]
  }
 ],
 "metadata": {
  "kernelspec": {
   "display_name": "Python 3 (ipykernel)",
   "language": "python",
   "name": "python3"
  },
  "language_info": {
   "codemirror_mode": {
    "name": "ipython",
    "version": 3
   },
   "file_extension": ".py",
   "mimetype": "text/x-python",
   "name": "python",
   "nbconvert_exporter": "python",
   "pygments_lexer": "ipython3",
   "version": "3.10.6"
  }
 },
 "nbformat": 4,
 "nbformat_minor": 5
}
