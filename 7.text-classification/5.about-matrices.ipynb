{
 "cells": [
  {
   "cell_type": "markdown",
   "id": "0196c620-1916-43de-83aa-b5bdeb8a92df",
   "metadata": {},
   "source": [
    "# Quelques notions sur les matrices"
   ]
  },
  {
   "cell_type": "markdown",
   "id": "22f9e65c-e83b-4b49-920f-a7604ad0cad7",
   "metadata": {},
   "source": [
    "Pour aborder les algorithmes de réduction de la dimensionnalité, il est nécessaire de faire le point sur un objet mathématique que l’on va manipuler abondamment et sur les outils mis à disposition par l’algèbre linéaire : les matrices.\n",
    "\n",
    "Avant de commencer, chargeons la librairie *Numpy* :"
   ]
  },
  {
   "cell_type": "code",
   "execution_count": null,
   "id": "2c4c072f-5ae0-43cf-957b-8915ac394190",
   "metadata": {},
   "outputs": [],
   "source": [
    "import numpy as np"
   ]
  },
  {
   "cell_type": "markdown",
   "id": "4d35cfcf-914b-4d60-ad7b-02d9cf0e80f9",
   "metadata": {},
   "source": [
    "## Définition"
   ]
  },
  {
   "cell_type": "markdown",
   "id": "f539c1ce-793c-4956-8a69-79bf84acfc45",
   "metadata": {},
   "source": [
    "Une matrice se conçoit comme un tableau de *m* lignes et *n* colonnes servant à enregistrer des valeurs. Elle se note $A^{n \\times m}$. Une matrice $A$ de dimension $(3, 2)$ se représente par exemple ainsi :\n",
    "\n",
    "$$\n",
    "A = \\begin{bmatrix}\n",
    "    2 & 0.667 \\\\\n",
    "    -1.432 & 1.81 \\\\\n",
    "    0.1 & -2.908\n",
    "\\end{bmatrix}\n",
    "$$\n",
    "\n",
    "La méthode `.array()` de *Numpy* prend en entrée une liste de listes pour constituer une matrice :"
   ]
  },
  {
   "cell_type": "code",
   "execution_count": null,
   "id": "4e7f2d5a-1f89-43eb-bec8-ee9cd1a3b997",
   "metadata": {},
   "outputs": [],
   "source": [
    "A = np.array([\n",
    "    [2, 0.667],\n",
    "    [-1.432, 1.81],\n",
    "    [0.1, -2.908]\n",
    "])"
   ]
  },
  {
   "cell_type": "markdown",
   "id": "0479186f-2f68-471c-94a4-f4d9f8303da9",
   "metadata": {},
   "source": [
    "Ses dimensions ressortent grâce à l’attribut `.shape` :"
   ]
  },
  {
   "cell_type": "code",
   "execution_count": null,
   "id": "e137b14c-fd52-4ddf-b09b-b2e6fa9ea531",
   "metadata": {},
   "outputs": [],
   "source": [
    "A.shape"
   ]
  },
  {
   "cell_type": "markdown",
   "id": "c9cc05b4-9508-4693-811f-1d8bfbeb65bc",
   "metadata": {},
   "source": [
    "## Opérations arithmétiques"
   ]
  },
  {
   "cell_type": "markdown",
   "id": "a7a3e497-0aac-41f4-bd60-32eb773cc6c2",
   "metadata": {},
   "source": [
    "Les matrices supportent les opérations arithmétiques élémentaires dans la mesure où elles s’appliquent sur des matrices de même type."
   ]
  },
  {
   "cell_type": "markdown",
   "id": "61cdda8e-da1c-425f-b4b6-0c36c4bd34ba",
   "metadata": {},
   "source": [
    "### Addition"
   ]
  },
  {
   "cell_type": "markdown",
   "id": "52d5d140-d477-422e-aa91-72f3a2fdb46e",
   "metadata": {},
   "source": [
    "Prenons deux matrices de dimensions $(2, 3)$ :\n",
    "\n",
    "$$\n",
    "A = \\begin{bmatrix}\n",
    "    1 & -2 & 3 \\\\\n",
    "    -1 & 2 & 1 \\\\\n",
    "\\end{bmatrix}\n",
    "\\hspace{2em}\n",
    "B = \\begin{bmatrix}\n",
    "    -1 & 2 & -2 \\\\\n",
    "    0 & -2 & 1\n",
    "\\end{bmatrix}\n",
    "$$\n",
    "\n",
    "L’opération revient à additionner un nombre avec celui situé à la même coordonnée dans l’autre matrice :\n",
    "\n",
    "$$\n",
    "\\begin{align}\n",
    "    A + B &= \\begin{bmatrix}\n",
    "        1 + (-1) & -2 + 2 & 3 + (-2) \\\\\n",
    "        -1 + 0 & 2 + (-2) & 1 + 1\n",
    "    \\end{bmatrix}\\\\\n",
    "    &= \\begin{bmatrix}\n",
    "        0 & 0 & 1 \\\\\n",
    "        -1 & 0 & 2\n",
    "    \\end{bmatrix}\n",
    "\\end{align}\n",
    "$$\n",
    "\n",
    "Vérifions avec Python :"
   ]
  },
  {
   "cell_type": "code",
   "execution_count": null,
   "id": "6a235abb-a1f3-4dd7-8604-f83cd357be8c",
   "metadata": {},
   "outputs": [],
   "source": [
    "A = np.array([\n",
    "    [1, -2, 3],\n",
    "    [-1, 2, 1]\n",
    "])\n",
    "B = np.array([\n",
    "    [-1, 2, -2],\n",
    "    [0, -2, 1]\n",
    "])\n",
    "\n",
    "A + B"
   ]
  },
  {
   "cell_type": "markdown",
   "id": "c26eb58b-f0d1-4ed7-b7d1-98f5a9fc0764",
   "metadata": {},
   "source": [
    "### Soustraction"
   ]
  },
  {
   "cell_type": "markdown",
   "id": "88573f15-c017-412e-aedd-8cb4d29adae9",
   "metadata": {},
   "source": [
    "Le principe est identique pour la soustraction :\n",
    "\n",
    "$$\n",
    "\\begin{align}\n",
    "    A - B &= \\begin{bmatrix}\n",
    "        1 - (-1) & -2 - 2 & 3 - (-2) \\\\\n",
    "        -1 - 0 & 2 - (-2) & 1 - 1\n",
    "    \\end{bmatrix}\\\\\n",
    "    &= \\begin{bmatrix}\n",
    "        2 & -4 & 5 \\\\\n",
    "        -1 & 4 & 0\n",
    "    \\end{bmatrix}\n",
    "\\end{align}\n",
    "$$\n",
    "\n",
    "Vérifions avec Python :"
   ]
  },
  {
   "cell_type": "code",
   "execution_count": null,
   "id": "cb099ad0-4607-4b3b-a9cb-dc9b6a362e1a",
   "metadata": {},
   "outputs": [],
   "source": [
    "A - B"
   ]
  },
  {
   "cell_type": "markdown",
   "id": "76fc48b2-a43b-4ccd-b043-11a5ed8cf29e",
   "metadata": {},
   "source": [
    "### Multiplication"
   ]
  },
  {
   "cell_type": "markdown",
   "id": "d4ee2af8-a01d-4596-a0ca-5c951d2c8ee0",
   "metadata": {},
   "source": [
    "Le produit scalaire de deux matrices est une matrice de même dimension :\n",
    "\n",
    "$$\n",
    "\\begin{align}\n",
    "    A * B &= \\begin{bmatrix}\n",
    "        1 \\times (-1) & -2 \\times 2 & 3 \\times (-2) \\\\\n",
    "        -1 \\times 0 & 2 \\times (-2) & 1 \\times 1\n",
    "    \\end{bmatrix}\\\\\n",
    "    &= \\begin{bmatrix}\n",
    "        -1 & -4 & -6 \\\\\n",
    "        0 & -4 & 1\n",
    "    \\end{bmatrix}\n",
    "\\end{align}\n",
    "$$\n",
    "\n",
    "Vérifions avec Python :"
   ]
  },
  {
   "cell_type": "code",
   "execution_count": null,
   "id": "dd57a32f-8f24-46a5-a67c-d340869fed07",
   "metadata": {},
   "outputs": [],
   "source": [
    "A * B"
   ]
  },
  {
   "cell_type": "markdown",
   "id": "e0bcd158-ee3f-4b00-a1df-674e54ecb78f",
   "metadata": {},
   "source": [
    "### Division"
   ]
  },
  {
   "cell_type": "markdown",
   "id": "e607d1e8-1ac4-407f-84d3-b77c4607ae6a",
   "metadata": {},
   "source": [
    "La division suit le même principe :\n",
    "\n",
    "$$\n",
    "\\begin{align}\n",
    "    A \\div B &= \\begin{bmatrix}\n",
    "        1 \\div (-1) & -2 \\div 2 & 3 \\div (-2) \\\\\n",
    "        -1 \\div 0 & 2 \\div (-2) & 1 \\div 1\n",
    "    \\end{bmatrix}\\\\\n",
    "    &= \\begin{bmatrix}\n",
    "        -1 & -1 & -1.5 \\\\\n",
    "        -\\infty & -1 & 1\n",
    "    \\end{bmatrix}\n",
    "\\end{align}\n",
    "$$"
   ]
  },
  {
   "cell_type": "code",
   "execution_count": null,
   "id": "c275a690-19c0-4e63-b122-f11a00687384",
   "metadata": {},
   "outputs": [],
   "source": [
    "A / B"
   ]
  },
  {
   "cell_type": "markdown",
   "id": "ce25fbe9-bed8-4070-8934-163565761002",
   "metadata": {},
   "source": [
    "## Le produit matriciel"
   ]
  },
  {
   "cell_type": "markdown",
   "id": "c55f564b-d3f7-47c0-9a4c-cc67e910db1d",
   "metadata": {},
   "source": [
    "Lorsque l’on multiplie deux matrices, on cherche le plus souvent à obtenir le produit matriciel plutôt qu’un produit scalaire. Cette opération ne peut toutefois se réaliser qu’avec des matrices compatibles.\n",
    "\n",
    "Pour une matrice de dimension $(n, m)$ on aura besoin d’une matrice $(m, p)$ où le nombre de colonnes de la première sera égal au nombre de lignes de la seconde :\n",
    "\n",
    "$$\n",
    "A = \\begin{bmatrix}\n",
    "    1 & -2 & 3 \\\\\n",
    "    -1 & 2 & 1\n",
    "\\end{bmatrix}\n",
    "\\hspace{2em}\n",
    "B = \\begin{bmatrix}\n",
    "    -1 & 2 \\\\\n",
    "    0 & -2 \\\\\n",
    "    4 & -1\n",
    "\\end{bmatrix}\n",
    "$$\n",
    "\n",
    "L’opération consiste à multiplier la première ligne de la matrice $A$ par la première colonne de la matrice $B$, puis la deuxième ligne de $A$ par la deuxième colonne de $B$ :\n",
    "\n",
    "$$\n",
    "\\begin{align}\n",
    "    A \\cdot B &= \\begin{bmatrix}\n",
    "        (1 \\times -1) + (-2 \\times 0) + (3 \\times 4) & (1 \\times 2) + (-2 \\times -2) + (3 \\times -1) \\\\\n",
    "        (-1 \\times -1) + (2 \\times 0) + (1 \\times 4) & (-1 \\times 2) + (2 \\times -2) + (1 \\times -1)\n",
    "    \\end{bmatrix} \\\\\n",
    "    &= \\begin{bmatrix}\n",
    "        -1 + 0 + 12 & 2 + 4 - 3\\\\\n",
    "        1 + 0 + 4 & -2 - 4 - 1\n",
    "    \\end{bmatrix} \\\\\n",
    "    &= \\begin{bmatrix}\n",
    "    11 & 3 \\\\\n",
    "    5 & -7\n",
    "    \\end{bmatrix}\n",
    "\\end{align}\n",
    "$$\n",
    "\n",
    "La méthode de la librairie *Numpy* à invoquer est `.dot()` :"
   ]
  },
  {
   "cell_type": "code",
   "execution_count": null,
   "id": "eeee650a-6ad2-415f-a372-97b46e92165c",
   "metadata": {},
   "outputs": [],
   "source": [
    "A = np.array([\n",
    "    [1, -2, 3],\n",
    "    [-1, 2, 1]\n",
    "])\n",
    "B = np.array([\n",
    "    [-1, 2],\n",
    "    [0, -2],\n",
    "    [4, -1],\n",
    "])\n",
    "\n",
    "A.dot(B)"
   ]
  },
  {
   "cell_type": "markdown",
   "id": "a9119bcc-df90-46eb-99c7-1d38ed26250a",
   "metadata": {},
   "source": [
    "Il est à noter que l’opération inverse consistant à obtenir le produit de scalaire de $B$ par $A$ ne donnerait pas le même résultat :"
   ]
  },
  {
   "cell_type": "code",
   "execution_count": null,
   "id": "44b6875d-6a12-4051-8285-714388ab4cf2",
   "metadata": {},
   "outputs": [],
   "source": [
    "B.dot(A)"
   ]
  }
 ],
 "metadata": {
  "kernelspec": {
   "display_name": "Python 3 (ipykernel)",
   "language": "python",
   "name": "python3"
  },
  "language_info": {
   "codemirror_mode": {
    "name": "ipython",
    "version": 3
   },
   "file_extension": ".py",
   "mimetype": "text/x-python",
   "name": "python",
   "nbconvert_exporter": "python",
   "pygments_lexer": "ipython3",
   "version": "3.10.6"
  }
 },
 "nbformat": 4,
 "nbformat_minor": 5
}
