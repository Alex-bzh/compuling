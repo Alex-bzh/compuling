{
 "cells": [
  {
   "cell_type": "markdown",
   "id": "d4740f8d-3724-4464-bcbf-dac758b52501",
   "metadata": {},
   "source": [
    "# Réduction de la dimensionnalité"
   ]
  },
  {
   "cell_type": "markdown",
   "id": "cdf780ea-4ff2-41ee-9adc-a870a927076e",
   "metadata": {},
   "source": [
    "Dans le calepin précédent qui traitait de la vectorisation de mots, nous avons pris l’exemple d’un mot représenté par une centaine de composantes après entraînement d’un modèle CBOW (*Continuous Bag of words*) sur le roman *Salammbô*. Du point de vue mathématique, il avait pris la forme d’un vecteur d’une centaine d’attributs :\n",
    "\n",
    "$$\n",
    "\\vec{\\text{cité}} = \\begin{pmatrix}\n",
    "    0.0245   \\\\\n",
    "    0.0172   \\\\\n",
    "    \\text{…} \\\\\n",
    "    0.0072\n",
    "\\end{pmatrix}\n",
    "$$\n",
    "\n",
    "Si l’on voulait représenter cet objet différemment, sous forme tabulaire par exemple, on aboutirait sans doute à un tableau du genre :\n",
    "\n",
    "|Mot|D1|D2|…|D100|\n",
    "|-|-|-|-|-|\n",
    "|Cité|0.0245|0.0172|…|0.0072|\n",
    "\n",
    "Et si maintenant nous souhaitions le projeter dans un plan en deux dimensions, comment faire ? L’esprit humain n’est pas habitué à se représenter des figures géométriques au-delà de trois dimensions – à part peut-être pour l’octachore, un 4-cube, popularisé sous la dénomination de tesseract, aussi est-il souvent nécessaire d’adopter une stratégie pour réduire leur dimensionnalité. En changeant de perspective, un cube peut se réduire à un carré, un carré à une ligne, une ligne à un point."
   ]
  },
  {
   "cell_type": "markdown",
   "id": "d8437c00-d2a0-4199-9b17-ed141bf5c01a",
   "metadata": {},
   "source": [
    "## Le fléau de la dimension"
   ]
  },
  {
   "cell_type": "markdown",
   "id": "1eda38b7-7b77-439b-9b6b-a7b6c4f08af6",
   "metadata": {},
   "source": [
    "## Méthodes de réduction"
   ]
  },
  {
   "cell_type": "markdown",
   "id": "90ff9ff0-2a1d-4782-9f39-30880cc8d0a9",
   "metadata": {},
   "source": [
    "### Analyse en composantes principales"
   ]
  },
  {
   "cell_type": "code",
   "execution_count": null,
   "id": "693224aa-bf9b-4ee8-9ccb-11edd6e25de5",
   "metadata": {},
   "outputs": [],
   "source": []
  }
 ],
 "metadata": {
  "kernelspec": {
   "display_name": "Python 3 (ipykernel)",
   "language": "python",
   "name": "python3"
  },
  "language_info": {
   "codemirror_mode": {
    "name": "ipython",
    "version": 3
   },
   "file_extension": ".py",
   "mimetype": "text/x-python",
   "name": "python",
   "nbconvert_exporter": "python",
   "pygments_lexer": "ipython3",
   "version": "3.10.6"
  }
 },
 "nbformat": 4,
 "nbformat_minor": 5
}
