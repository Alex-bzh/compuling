{
 "cells": [
  {
   "cell_type": "markdown",
   "id": "ac67fe56-e2ca-40cf-a906-26f24e0750ae",
   "metadata": {},
   "source": [
    "# L’analyse en composantes principales (ACP)"
   ]
  },
  {
   "cell_type": "markdown",
   "id": "e0af09f9-3c4f-499b-a96b-b4e295fdc45c",
   "metadata": {},
   "source": [
    "Le principe derrière l’ACP (ou PCA en anglais pour *principal component analysis*) serait de résumer l’information contenue dans une base de données grâce à des variables synthétiques appelées **composantes principales**. Grâce à des méthodes statistiques, les variables retenues pour l’analyse sont combinées entre elles afin de mettre en évidence des traits qui rassemblent le maximum de la variance des données.\n",
    "\n",
    "Nous parlons bien d’un maximum sans garantir l’intégralité. Toute compression implique inévitablement une perte de l’information, mais elle se fait au profit d’un gain de performance et d’acquisition des données.\n",
    "\n",
    "Si les outils informatiques permettent d’obtenir rapidement une ACP, il est important d’en comprendre les étapes afin, peut-être, d’améliorer les paramètres de l’algorithme. Nous allons dans un premier temps effectuer l’analyse à la main avant de mobiliser des outils informatiques.\n",
    "\n",
    "Commençons par charger les librairies nécessaires :"
   ]
  },
  {
   "cell_type": "code",
   "execution_count": null,
   "id": "d272f4eb-c848-462c-94c3-102d0618558b",
   "metadata": {},
   "outputs": [],
   "source": [
    "import pandas as pd"
   ]
  },
  {
   "cell_type": "markdown",
   "id": "b169137f-f87d-4cbd-a252-9fa7fa8743dd",
   "metadata": {},
   "source": [
    "## Une ACP sur l’indicateur du vivre mieux"
   ]
  },
  {
   "cell_type": "markdown",
   "id": "2f0fecfe-f9cb-4955-b04c-e27558bb0be0",
   "metadata": {},
   "source": [
    "### Présentation de l’enquête"
   ]
  },
  {
   "cell_type": "markdown",
   "id": "55ea554d-d689-43f3-a2f0-7f740309fe94",
   "metadata": {},
   "source": [
    "Chargeons une enquête, limitée aux données concernant les femmes des pays de l’OCDE et augmentée de la Russie et de l’Afrique du Sud, sur l’indicateur du vivre de mieux et affichons les premières lignes afin de prendre connaissance des informations enregistrées :"
   ]
  },
  {
   "cell_type": "code",
   "execution_count": null,
   "id": "5345116b-46da-40fd-a25f-ef9360ba3f55",
   "metadata": {},
   "outputs": [],
   "source": [
    "df = pd.read_csv(\"./data/better-life-index-women-2021.csv\", delimiter=\",\")\n",
    "\n",
    "df.head()"
   ]
  },
  {
   "cell_type": "markdown",
   "id": "9444c76c-3731-4588-a9f8-53795c22f397",
   "metadata": {},
   "source": [
    "L’enquête comporte un certain nombre de variables numériques expliquées ci-dessous :\n",
    "\n",
    "|Variable|Signification|\n",
    "|:-:|-|\n",
    "|*code du pays*|Pays|\n",
    "|*country*|Pays|\n",
    "|*PS_FSAFEN*|Se sentir en sécurité quand on marche seul la nuit|\n",
    "|*JE_EMPL*|Taux d’emploi|\n",
    "|*JE_LTUR*|Taux de chômage de longue durée|\n",
    "|*SC_SNTWS*|Qualité du réseau social|\n",
    "|*ES_EDUA*|Niveau d’instruction|\n",
    "|*ES_STCS*|Compétences des élèves|\n",
    "|*ES_EDUEX*|Années de scolarité|\n",
    "|*EQ_WATER*|Qualité de l’eau|\n",
    "|*HS_LEB*|Espérance de vie|\n",
    "|*HS_SFRH*|Auto-évaluation de l’état de santé|\n",
    "|*SW_LIFS*|Satisfaction à l’égard de la vie|\n",
    "|*PS_REPH*|Taux d’homicides|\n",
    "|*WL_EWLH*|Horaires de travail lourds|"
   ]
  },
  {
   "cell_type": "markdown",
   "id": "f0a50f04-eeae-4d9a-ba4a-7ab0a747c530",
   "metadata": {},
   "source": [
    "### Centrer et réduire les données"
   ]
  },
  {
   "cell_type": "markdown",
   "id": "1cba0fb8-1e94-4c08-84b4-b13817f5694c",
   "metadata": {},
   "source": [
    "On le remarque aisément, toutes les variables ne sont pas codées sur la même échelle : parfois nous avons des pourcentages, d’autres un nombre d’années, ou encore une évaluation de 0 à 10. Afin de limiter l’influence d’une variable sur l’autre, le premier réflexe est de centrer les valeurs autour de la moyenne voire de les réduire. Pour centrer une variable, il suffit d’appliquer la formule $x = X - \\mu$ et, pour la réduire, il faut ensuite la diviser par l’écart-type :\n",
    "\n",
    "$$\n",
    "x = \\frac{X - \\mu}{\\sigma}\n",
    "$$\n",
    "\n",
    "Le principal avantage d’une variable centrée est qu’elle dispose d’une espérance nulle (la moyenne de ses observations sera proche de zéro). Si elle est en plus réduite, elle deviendra indépendante de l’unité et son écart-type comme sa variance égaleront 1.\n",
    "\n",
    "Préparons une copie des données numériques en éliminant les deux observations qui comportent des valeurs vides (Slovénie et Afrique du Sud) et centrons la première variable :"
   ]
  },
  {
   "cell_type": "code",
   "execution_count": null,
   "id": "27905e9a-0caf-400f-9e1a-a56814bb12b3",
   "metadata": {},
   "outputs": [],
   "source": [
    "# select only numerical columns\n",
    "features = df.columns\n",
    "features = features.drop([\"code\", \"country\"])\n",
    "\n",
    "# drop rows with NA values\n",
    "data = df.copy().dropna()\n",
    "\n",
    "# centering first feature\n",
    "data.PS_FSAFEN = data.PS_FSAFEN - data.PS_FSAFEN.mean()"
   ]
  },
  {
   "cell_type": "markdown",
   "id": "18d7753d-cecf-462f-b93b-d03d7e9f1701",
   "metadata": {},
   "source": [
    "La moyenne de la variable `PS_FSAFEN` devrait maintenant avoisiner 0 :"
   ]
  },
  {
   "cell_type": "code",
   "execution_count": null,
   "id": "c5349684-1fab-496d-8800-d06a4180b65a",
   "metadata": {},
   "outputs": [],
   "source": [
    "data.PS_FSAFEN.mean().round(2)"
   ]
  },
  {
   "cell_type": "markdown",
   "id": "3d9c393d-e20b-42e2-8a20-2c3d8dff49b2",
   "metadata": {},
   "source": [
    "Si ensuite nous la réduisons, son écart-type est fixé autour de 1 :"
   ]
  },
  {
   "cell_type": "code",
   "execution_count": null,
   "id": "30e0e9b1-0ef0-474f-bfe2-4dc8109f65ad",
   "metadata": {},
   "outputs": [],
   "source": [
    "# scaling first feature\n",
    "data.PS_FSAFEN = data.PS_FSAFEN / data.PS_FSAFEN.std()\n",
    "\n",
    "data.PS_FSAFEN.std().round(2)"
   ]
  },
  {
   "cell_type": "markdown",
   "id": "1956ecf4-b935-476e-bccb-631344087214",
   "metadata": {},
   "source": [
    "Il reste à appliquer le même traitement à toutes les colonnes :"
   ]
  },
  {
   "cell_type": "code",
   "execution_count": null,
   "id": "42c73d1a-e85f-4ba7-8dd4-b21545198b5f",
   "metadata": {},
   "outputs": [],
   "source": [
    "# centering and scaling each numerical feature\n",
    "for feature in data[features]:\n",
    "    data[feature] = data[feature].transform(lambda x: (x - x.mean()) / x.std())"
   ]
  },
  {
   "cell_type": "markdown",
   "id": "ab1537c7-38a4-4ce8-81aa-ae21c614498f",
   "metadata": {},
   "source": [
    "Un coup d’œil rapide à nos données nous prouve que la transformation a bien été appliquée :"
   ]
  },
  {
   "cell_type": "code",
   "execution_count": null,
   "id": "6e0f0328-1a25-4932-b020-446ba29627a0",
   "metadata": {},
   "outputs": [],
   "source": [
    "data[features].describe().round(2)"
   ]
  }
 ],
 "metadata": {
  "kernelspec": {
   "display_name": "Python 3 (ipykernel)",
   "language": "python",
   "name": "python3"
  },
  "language_info": {
   "codemirror_mode": {
    "name": "ipython",
    "version": 3
   },
   "file_extension": ".py",
   "mimetype": "text/x-python",
   "name": "python",
   "nbconvert_exporter": "python",
   "pygments_lexer": "ipython3",
   "version": "3.10.6"
  }
 },
 "nbformat": 4,
 "nbformat_minor": 5
}
