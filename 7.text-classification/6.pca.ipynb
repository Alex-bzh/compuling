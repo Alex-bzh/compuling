{
 "cells": [
  {
   "cell_type": "markdown",
   "id": "ac67fe56-e2ca-40cf-a906-26f24e0750ae",
   "metadata": {},
   "source": [
    "# L’analyse en composantes principales (ACP)"
   ]
  },
  {
   "cell_type": "markdown",
   "id": "e0af09f9-3c4f-499b-a96b-b4e295fdc45c",
   "metadata": {},
   "source": [
    "Le principe derrière l’ACP (ou PCA en anglais pour *principal component analysis*) serait de résumer l’information contenue dans une base de données grâce à des variables synthétiques appelées **composantes principales**. Grâce à des méthodes statistiques, les variables retenues pour l’analyse sont combinées entre elles afin de mettre en évidence des traits qui rassemblent le maximum de la variance des données.\n",
    "\n",
    "Nous parlons bien d’un maximum sans garantir l’intégralité. Toute compression implique inévitablement une perte de l’information, mais elle se fait au profit d’un gain de performance et d’acquisition des données.\n",
    "\n",
    "Si les outils informatiques permettent d’obtenir rapidement une ACP, il est important d’en comprendre les étapes afin, peut-être, d’améliorer les paramètres de l’algorithme. Nous allons dans un premier temps effectuer l’analyse à la main avant de mobiliser des outils informatiques.\n",
    "\n",
    "Commençons par charger les librairies nécessaires :"
   ]
  },
  {
   "cell_type": "code",
   "execution_count": null,
   "id": "d272f4eb-c848-462c-94c3-102d0618558b",
   "metadata": {},
   "outputs": [],
   "source": [
    "import pandas as pd"
   ]
  },
  {
   "cell_type": "markdown",
   "id": "b169137f-f87d-4cbd-a252-9fa7fa8743dd",
   "metadata": {},
   "source": [
    "## Une ACP sur l’indicateur du vivre mieux"
   ]
  },
  {
   "cell_type": "markdown",
   "id": "2f0fecfe-f9cb-4955-b04c-e27558bb0be0",
   "metadata": {},
   "source": [
    "### Présentation de l’enquête"
   ]
  },
  {
   "cell_type": "markdown",
   "id": "55ea554d-d689-43f3-a2f0-7f740309fe94",
   "metadata": {},
   "source": [
    "Chargeons une enquête, limitée aux données concernant les femmes des pays de l’OCDE et augmentée de la Russie et de l’Afrique du Sud, sur l’indicateur du vivre de mieux et affichons les premières lignes afin de prendre connaissance des informations enregistrées :"
   ]
  },
  {
   "cell_type": "code",
   "execution_count": null,
   "id": "5345116b-46da-40fd-a25f-ef9360ba3f55",
   "metadata": {},
   "outputs": [],
   "source": [
    "df = pd.read_csv(\"./data/better-life-index-women-2021.csv\", delimiter=\",\")\n",
    "\n",
    "df.head()"
   ]
  },
  {
   "cell_type": "markdown",
   "id": "9444c76c-3731-4588-a9f8-53795c22f397",
   "metadata": {},
   "source": [
    "L’enquête comporte un certain nombre de variables numériques expliquées ci-dessous :\n",
    "\n",
    "|Variable|Signification|\n",
    "|:-:|-|\n",
    "|*code du pays*|Pays|\n",
    "|*country*|Pays|\n",
    "|*PS_FSAFEN*|Se sentir en sécurité quand on marche seul la nuit|\n",
    "|*JE_EMPL*|Taux d’emploi|\n",
    "|*JE_LTUR*|Taux de chômage de longue durée|\n",
    "|*SC_SNTWS*|Qualité du réseau social|\n",
    "|*ES_EDUA*|Niveau d’instruction|\n",
    "|*ES_STCS*|Compétences des élèves|\n",
    "|*ES_EDUEX*|Années de scolarité|\n",
    "|*EQ_WATER*|Qualité de l’eau|\n",
    "|*HS_LEB*|Espérance de vie|\n",
    "|*HS_SFRH*|Auto-évaluation de l’état de santé|\n",
    "|*SW_LIFS*|Satisfaction à l’égard de la vie|\n",
    "|*PS_REPH*|Taux d’homicides|\n",
    "|*WL_EWLH*|Horaires de travail lourds|"
   ]
  },
  {
   "cell_type": "markdown",
   "id": "f0a50f04-eeae-4d9a-ba4a-7ab0a747c530",
   "metadata": {},
   "source": [
    "### Centrer et réduire les données"
   ]
  },
  {
   "cell_type": "markdown",
   "id": "1cba0fb8-1e94-4c08-84b4-b13817f5694c",
   "metadata": {},
   "source": [
    "On le remarque aisément, toutes les variables ne sont pas codées sur la même échelle : parfois nous avons des pourcentages, d’autres un nombre d’années, ou encore une évaluation de 0 à 10. Afin de limiter l’influence d’une variable sur l’autre, le premier réflexe est de centrer les valeurs autour de la moyenne voire de les réduire. Pour centrer une variable, il suffit d’appliquer la formule $x = X - \\mu$ et, pour la réduire, il faut ensuite la diviser par l’écart-type :\n",
    "\n",
    "$$\n",
    "x = \\frac{X - \\mu}{\\sigma}\n",
    "$$\n",
    "\n",
    "Le principal avantage d’une variable centrée est qu’elle dispose d’une espérance nulle (la moyenne de ses observations sera proche de zéro). Si elle est en plus réduite, elle deviendra indépendante de l’unité et son écart-type comme sa variance égaleront 1.\n",
    "\n",
    "Préparons une copie des données numériques en éliminant les deux observations qui comportent des valeurs vides (Slovénie et Afrique du Sud) et centrons la première variable :"
   ]
  },
  {
   "cell_type": "code",
   "execution_count": null,
   "id": "27905e9a-0caf-400f-9e1a-a56814bb12b3",
   "metadata": {},
   "outputs": [],
   "source": [
    "# select only numerical columns\n",
    "features = df.columns\n",
    "features = features.drop([\"code\", \"country\"])\n",
    "\n",
    "# drop rows with NA values\n",
    "data = df.copy().dropna()\n",
    "\n",
    "# centering first feature\n",
    "data.PS_FSAFEN = data.PS_FSAFEN - data.PS_FSAFEN.mean()"
   ]
  },
  {
   "cell_type": "markdown",
   "id": "18d7753d-cecf-462f-b93b-d03d7e9f1701",
   "metadata": {},
   "source": [
    "La moyenne de la variable `PS_FSAFEN` devrait maintenant avoisiner 0 :"
   ]
  },
  {
   "cell_type": "code",
   "execution_count": null,
   "id": "c5349684-1fab-496d-8800-d06a4180b65a",
   "metadata": {},
   "outputs": [],
   "source": [
    "data.PS_FSAFEN.mean().round(2)"
   ]
  },
  {
   "cell_type": "markdown",
   "id": "3d9c393d-e20b-42e2-8a20-2c3d8dff49b2",
   "metadata": {},
   "source": [
    "Si ensuite nous la réduisons, son écart-type est fixé autour de 1 :"
   ]
  },
  {
   "cell_type": "code",
   "execution_count": null,
   "id": "30e0e9b1-0ef0-474f-bfe2-4dc8109f65ad",
   "metadata": {},
   "outputs": [],
   "source": [
    "# scaling first feature\n",
    "data.PS_FSAFEN = data.PS_FSAFEN / data.PS_FSAFEN.std()\n",
    "\n",
    "data.PS_FSAFEN.std().round(2)"
   ]
  },
  {
   "cell_type": "markdown",
   "id": "1956ecf4-b935-476e-bccb-631344087214",
   "metadata": {},
   "source": [
    "Il reste à appliquer le même traitement à toutes les colonnes :"
   ]
  },
  {
   "cell_type": "code",
   "execution_count": null,
   "id": "42c73d1a-e85f-4ba7-8dd4-b21545198b5f",
   "metadata": {},
   "outputs": [],
   "source": [
    "# centering and scaling each numerical feature\n",
    "for feature in data[features]:\n",
    "    data[feature] = data[feature].transform(lambda x: (x - x.mean()) / x.std())"
   ]
  },
  {
   "cell_type": "markdown",
   "id": "ab1537c7-38a4-4ce8-81aa-ae21c614498f",
   "metadata": {},
   "source": [
    "Un coup d’œil rapide à nos données nous prouve que la transformation a bien été appliquée :"
   ]
  },
  {
   "cell_type": "code",
   "execution_count": null,
   "id": "6e0f0328-1a25-4932-b020-446ba29627a0",
   "metadata": {},
   "outputs": [],
   "source": [
    "data[features].describe().round(2)"
   ]
  },
  {
   "cell_type": "markdown",
   "id": "e174e4c8-fecf-410f-87d3-e2d50e4c8e12",
   "metadata": {},
   "source": [
    "### Préservation de la variance"
   ]
  },
  {
   "cell_type": "markdown",
   "id": "e42125d1-83cc-4d68-8498-77097fb432e2",
   "metadata": {},
   "source": [
    "Nous avons insisté à plusieurs reprises sur ce point : toute compression implique une perte d’information qu’il convient de minimiser en préservant la variance du jeu de données.\n",
    "\n",
    "La variance peut se comprendre comme l’éloignement des valeurs d’une variable aléatoire par rapport à la moyenne. En langage mathématique, elle exprime la moyenne des carrés des écarts à la moyenne et s’obtient par la formule suivante :\n",
    "\n",
    "$$\n",
    "\\sigma^2 = \\frac{\\sum(x_i - \\bar{x})^2}{n - 1}\n",
    "$$\n",
    "\n",
    "Dans la formule, $\\sigma^2$ est le carré de l’écart-type, aussi la racine carrée de la variance est-elle l’écart-type. Si nous nous attachons à la première variable, sa variance vaut ainsi :"
   ]
  },
  {
   "cell_type": "code",
   "execution_count": null,
   "id": "a9f82978-39cf-4c15-ba64-fc9c55d913e9",
   "metadata": {},
   "outputs": [],
   "source": [
    "sum((data.PS_FSAFEN - data.PS_FSAFEN.mean()) ** 2) / (len(data) - 1)"
   ]
  },
  {
   "cell_type": "markdown",
   "id": "5c8e88a2-e652-4ca0-a0f5-8dfe0425f494",
   "metadata": {},
   "source": [
    "Selon la définition, nous nous attendions à ce que la variance d’une variable centrée-réduite soit de 1. Si la variance de toutes les variables dans notre jeu de données sont égales à 1, qu’en est-il de leur covariance ?\n",
    "\n",
    "La covariance entre deux variables mesure le produit de leurs écarts par rapport à leur moyenne respective. Elle se calcule par la relation suivante :\n",
    "\n",
    "$$\n",
    "\\text{Cov}_{x,y} = \\frac{\\sum{(x_i - \\bar x)(y_i - \\bar y)}}{n - 1}\n",
    "$$\n",
    "\n",
    "Pour la covariance des deux premières variables de notre enquête, nous aurions :"
   ]
  },
  {
   "cell_type": "code",
   "execution_count": null,
   "id": "0139c184-2d6f-452f-876c-0b3c065e724f",
   "metadata": {},
   "outputs": [],
   "source": [
    "sum((data.PS_FSAFEN - data.PS_FSAFEN.mean()) * (data.JE_EMPL - data.JE_EMPL.mean())) / (len(data) - 1)"
   ]
  },
  {
   "cell_type": "markdown",
   "id": "af0693f3-3bc9-4695-b034-0764db0ab1c4",
   "metadata": {},
   "source": [
    "Nous pouvons ainsi dresser le tableau suivant :\n",
    "\n",
    "|Variable|PS_FSAFEN|JE_EMPL|\n",
    "|:-|:-:|:-:\n",
    "|PS_FSAFEN|1|0.6466|\n",
    "|JE_EMPL|0.6466|1|\n",
    "\n",
    "Et produire la matrice carrée correspondante ci-dessous, réputée diagonale et symétrique :\n",
    "\n",
    "$$\n",
    "\\text{Cov}(\\vec{X}_{j_1, j_2}) = \\begin{bmatrix}\n",
    "    1 & 0.6466 \\\\\n",
    "    0.6466 & 1\n",
    "\\end{bmatrix}\n",
    "$$\n",
    "\n",
    "Si nous rajoutons la variable *JE_LTUR*, nous obtenons :\n",
    "\n",
    "$$\n",
    "\\text{Cov}(\\vec{X}_{j_1, j_2, j_3}) = \\begin{bmatrix}\n",
    "    1 & 0.6466 & -0.1181 \\\\\n",
    "    0.6466 & 1 & -0.2278 \\\\\n",
    "    -0.1181 & -0.2278 & 1\n",
    "\\end{bmatrix}\n",
    "$$"
   ]
  },
  {
   "cell_type": "code",
   "execution_count": null,
   "id": "57a7934a-36ce-4dd8-a94b-2643e1cb94ab",
   "metadata": {},
   "outputs": [],
   "source": [
    "sum((data.JE_EMPL - data.JE_EMPL.mean()) * (data.JE_LTUR - data.JE_LTUR.mean())) / (len(data) - 1)"
   ]
  },
  {
   "cell_type": "markdown",
   "id": "f48825f8-8e1f-429d-bee5-fe70663ae0e5",
   "metadata": {},
   "source": [
    "### Décomposition en valeurs propres et vecteurs propres"
   ]
  },
  {
   "cell_type": "markdown",
   "id": "a2cda6e4-cd51-4478-9a5f-b30b8b2dce3f",
   "metadata": {},
   "source": [
    "Peu importe le nombre de variables de notre jeu de données, avec la matrice de covariance nous aurons toujours une matrice carrée qu’il sera possible de décomposer en valeurs propres (*eigenvalues*) et vecteurs propres (*eigenvectors*)."
   ]
  }
 ],
 "metadata": {
  "kernelspec": {
   "display_name": "Python 3 (ipykernel)",
   "language": "python",
   "name": "python3"
  },
  "language_info": {
   "codemirror_mode": {
    "name": "ipython",
    "version": 3
   },
   "file_extension": ".py",
   "mimetype": "text/x-python",
   "name": "python",
   "nbconvert_exporter": "python",
   "pygments_lexer": "ipython3",
   "version": "3.10.6"
  }
 },
 "nbformat": 4,
 "nbformat_minor": 5
}
