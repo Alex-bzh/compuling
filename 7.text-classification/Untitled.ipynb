{
 "cells": [
  {
   "cell_type": "code",
   "execution_count": 133,
   "id": "3285721f-d703-4201-aa3c-a295f26e09a4",
   "metadata": {},
   "outputs": [],
   "source": [
    "import pandas as pd\n",
    "import numpy as np\n",
    "import matplotlib.pyplot as plt\n",
    "import seaborn as sns"
   ]
  },
  {
   "cell_type": "code",
   "execution_count": 207,
   "id": "7cb43279-14b9-4e6a-bb60-75ed64cfc556",
   "metadata": {},
   "outputs": [],
   "source": [
    "df = pd.read_csv(\"./data/titanic.csv\", delimiter=\",\")"
   ]
  },
  {
   "cell_type": "code",
   "execution_count": 208,
   "id": "20e7da1e-ca9f-4262-abb1-ec5970e4c125",
   "metadata": {},
   "outputs": [],
   "source": [
    "contingency = pd.crosstab(index=df['Pclass'], columns=df['Survived'])"
   ]
  },
  {
   "cell_type": "code",
   "execution_count": 209,
   "id": "738cd3a0-00ef-42e7-95d2-19f2a1296840",
   "metadata": {},
   "outputs": [
    {
     "data": {
      "text/html": [
       "<div>\n",
       "<style scoped>\n",
       "    .dataframe tbody tr th:only-of-type {\n",
       "        vertical-align: middle;\n",
       "    }\n",
       "\n",
       "    .dataframe tbody tr th {\n",
       "        vertical-align: top;\n",
       "    }\n",
       "\n",
       "    .dataframe thead th {\n",
       "        text-align: right;\n",
       "    }\n",
       "</style>\n",
       "<table border=\"1\" class=\"dataframe\">\n",
       "  <thead>\n",
       "    <tr style=\"text-align: right;\">\n",
       "      <th>Survived</th>\n",
       "      <th>0</th>\n",
       "      <th>1</th>\n",
       "      <th>All</th>\n",
       "    </tr>\n",
       "    <tr>\n",
       "      <th>Pclass</th>\n",
       "      <th></th>\n",
       "      <th></th>\n",
       "      <th></th>\n",
       "    </tr>\n",
       "  </thead>\n",
       "  <tbody>\n",
       "    <tr>\n",
       "      <th>1</th>\n",
       "      <td>80</td>\n",
       "      <td>136</td>\n",
       "      <td>216</td>\n",
       "    </tr>\n",
       "    <tr>\n",
       "      <th>2</th>\n",
       "      <td>97</td>\n",
       "      <td>87</td>\n",
       "      <td>184</td>\n",
       "    </tr>\n",
       "    <tr>\n",
       "      <th>3</th>\n",
       "      <td>372</td>\n",
       "      <td>119</td>\n",
       "      <td>491</td>\n",
       "    </tr>\n",
       "    <tr>\n",
       "      <th>All</th>\n",
       "      <td>549</td>\n",
       "      <td>342</td>\n",
       "      <td>891</td>\n",
       "    </tr>\n",
       "  </tbody>\n",
       "</table>\n",
       "</div>"
      ],
      "text/plain": [
       "Survived    0    1  All\n",
       "Pclass                 \n",
       "1          80  136  216\n",
       "2          97   87  184\n",
       "3         372  119  491\n",
       "All       549  342  891"
      ]
     },
     "execution_count": 209,
     "metadata": {},
     "output_type": "execute_result"
    }
   ],
   "source": [
    "pd.crosstab(index=df['Pclass'], columns=df['Survived'], margins=True)"
   ]
  },
  {
   "cell_type": "code",
   "execution_count": 213,
   "id": "998853a7-767c-4be0-a695-073fb4f17d50",
   "metadata": {},
   "outputs": [],
   "source": [
    "from scipy.stats import chi2_contingency"
   ]
  },
  {
   "cell_type": "code",
   "execution_count": 138,
   "id": "120f6a3f-e64c-4fce-8f8c-09818402138d",
   "metadata": {},
   "outputs": [],
   "source": [
    "chi2, pvalue, degrees, expected = chi2_contingency(contingency)"
   ]
  },
  {
   "cell_type": "code",
   "execution_count": 139,
   "id": "f5fba83b-96f2-48ef-8fc3-323e37fca06d",
   "metadata": {},
   "outputs": [
    {
     "data": {
      "text/plain": [
       "(102.88898875696056, 2, 4.549251711298793e-23)"
      ]
     },
     "execution_count": 139,
     "metadata": {},
     "output_type": "execute_result"
    }
   ],
   "source": [
    "chi2, degrees, pvalue"
   ]
  },
  {
   "cell_type": "code",
   "execution_count": 210,
   "id": "4531fe8b-5da3-45a2-b6c1-f8d436557453",
   "metadata": {},
   "outputs": [],
   "source": [
    "N = contingency.sum()\n",
    "Ni = contingency.sum(axis=1)\n",
    "Nj = contingency.sum(axis=0)"
   ]
  },
  {
   "cell_type": "code",
   "execution_count": 211,
   "id": "d92433b6-9dfc-4799-9b41-e95481540d24",
   "metadata": {},
   "outputs": [],
   "source": [
    "Fij = (Ni.values.reshape(contingency.shape[0], 1) * Nj.values) / N.values.sum()"
   ]
  },
  {
   "cell_type": "code",
   "execution_count": 212,
   "id": "a2c43293-f06b-4f4d-b41f-750c5ae83cfd",
   "metadata": {},
   "outputs": [
    {
     "data": {
      "text/plain": [
       "array([[133.09090909,  82.90909091],\n",
       "       [113.37373737,  70.62626263],\n",
       "       [302.53535354, 188.46464646]])"
      ]
     },
     "execution_count": 212,
     "metadata": {},
     "output_type": "execute_result"
    }
   ],
   "source": [
    "Fij"
   ]
  },
  {
   "cell_type": "code",
   "execution_count": 169,
   "id": "c4bdcff6-797f-44a9-9bcc-0c58fe169fd8",
   "metadata": {},
   "outputs": [],
   "source": [
    "chi2 = (contingency.values - Fij) ** 2 / Fij"
   ]
  },
  {
   "cell_type": "code",
   "execution_count": 170,
   "id": "c71d5a6b-2c81-44df-9ea2-6f3d0a250a3c",
   "metadata": {},
   "outputs": [
    {
     "data": {
      "text/plain": [
       "102.88898875696056"
      ]
     },
     "execution_count": 170,
     "metadata": {},
     "output_type": "execute_result"
    }
   ],
   "source": [
    "chi2.sum()"
   ]
  },
  {
   "cell_type": "code",
   "execution_count": 145,
   "id": "37554b52-085d-47aa-bd19-b736d31bee15",
   "metadata": {},
   "outputs": [],
   "source": [
    "dof = (len(Ni) - 1) * (len(Nj) - 1)"
   ]
  },
  {
   "cell_type": "code",
   "execution_count": 146,
   "id": "c724672c-1944-4a3f-8f1a-b8279cda26f0",
   "metadata": {},
   "outputs": [
    {
     "data": {
      "text/plain": [
       "2"
      ]
     },
     "execution_count": 146,
     "metadata": {},
     "output_type": "execute_result"
    }
   ],
   "source": [
    "dof"
   ]
  },
  {
   "cell_type": "code",
   "execution_count": 94,
   "id": "10bc5f7d-07e7-44ff-ac17-e9c0f596a893",
   "metadata": {},
   "outputs": [
    {
     "data": {
      "text/plain": [
       "False"
      ]
     },
     "execution_count": 94,
     "metadata": {},
     "output_type": "execute_result"
    }
   ],
   "source": [
    "chi2.sum() < 6"
   ]
  },
  {
   "cell_type": "code",
   "execution_count": 52,
   "id": "9b23bbef-86f4-46f9-b793-cfc100564de7",
   "metadata": {},
   "outputs": [],
   "source": [
    "corpus = [\n",
    "    \"Le petit chat boit du lait.\",\n",
    "    \"Le petit chien boit de l’eau.\",\n",
    "    \"La vache boit de l’eau mais ne boit pas de lait.\"\n",
    "]"
   ]
  },
  {
   "cell_type": "code",
   "execution_count": 53,
   "id": "e7c37891-2057-4ac1-98aa-87b6c4cef1d0",
   "metadata": {},
   "outputs": [
    {
     "data": {
      "text/plain": [
       "['Le petit chat boit du lait.',\n",
       " 'Le petit chien boit de l’eau.',\n",
       " 'La vache boit de l’eau mais ne boit pas de lait.']"
      ]
     },
     "execution_count": 53,
     "metadata": {},
     "output_type": "execute_result"
    }
   ],
   "source": [
    "corpus"
   ]
  },
  {
   "cell_type": "code",
   "execution_count": 54,
   "id": "f74ac24a-0f3f-4c22-9da8-b6c2ba37db1e",
   "metadata": {},
   "outputs": [],
   "source": [
    "from sklearn.feature_extraction.text import CountVectorizer\n",
    "\n",
    "vectorizer = CountVectorizer()\n",
    "X = vectorizer.fit_transform(corpus)"
   ]
  },
  {
   "cell_type": "code",
   "execution_count": 56,
   "id": "b205ef61-fdf4-49c8-a195-3ba97c42a3ab",
   "metadata": {},
   "outputs": [
    {
     "data": {
      "text/plain": [
       "array(['boit', 'chat', 'chien', 'de', 'du', 'eau', 'la', 'lait', 'le',\n",
       "       'mais', 'ne', 'pas', 'petit', 'vache'], dtype=object)"
      ]
     },
     "execution_count": 56,
     "metadata": {},
     "output_type": "execute_result"
    }
   ],
   "source": [
    "vectorizer.get_feature_names_out()"
   ]
  },
  {
   "cell_type": "code",
   "execution_count": 66,
   "id": "49b5eb83-c15d-4047-b922-60afcc77db7f",
   "metadata": {},
   "outputs": [],
   "source": [
    "occurrences = X.sum(axis=0) # occ matrix"
   ]
  },
  {
   "cell_type": "code",
   "execution_count": 195,
   "id": "24589f1a-9168-40ee-bab5-c4e66ca96e64",
   "metadata": {},
   "outputs": [
    {
     "data": {
      "text/html": [
       "<div>\n",
       "<style scoped>\n",
       "    .dataframe tbody tr th:only-of-type {\n",
       "        vertical-align: middle;\n",
       "    }\n",
       "\n",
       "    .dataframe tbody tr th {\n",
       "        vertical-align: top;\n",
       "    }\n",
       "\n",
       "    .dataframe thead th {\n",
       "        text-align: right;\n",
       "    }\n",
       "</style>\n",
       "<table border=\"1\" class=\"dataframe\">\n",
       "  <thead>\n",
       "    <tr style=\"text-align: right;\">\n",
       "      <th></th>\n",
       "      <th>boit</th>\n",
       "      <th>chat</th>\n",
       "      <th>chien</th>\n",
       "      <th>de</th>\n",
       "      <th>du</th>\n",
       "      <th>eau</th>\n",
       "      <th>la</th>\n",
       "      <th>lait</th>\n",
       "      <th>le</th>\n",
       "      <th>mais</th>\n",
       "      <th>ne</th>\n",
       "      <th>pas</th>\n",
       "      <th>petit</th>\n",
       "      <th>vache</th>\n",
       "    </tr>\n",
       "  </thead>\n",
       "  <tbody>\n",
       "    <tr>\n",
       "      <th>Alex</th>\n",
       "      <td>4</td>\n",
       "      <td>1</td>\n",
       "      <td>1</td>\n",
       "      <td>3</td>\n",
       "      <td>1</td>\n",
       "      <td>2</td>\n",
       "      <td>1</td>\n",
       "      <td>2</td>\n",
       "      <td>2</td>\n",
       "      <td>1</td>\n",
       "      <td>1</td>\n",
       "      <td>1</td>\n",
       "      <td>2</td>\n",
       "      <td>1</td>\n",
       "    </tr>\n",
       "  </tbody>\n",
       "</table>\n",
       "</div>"
      ],
      "text/plain": [
       "      boit  chat  chien  de  du  eau  la  lait  le  mais  ne  pas  petit  \\\n",
       "Alex     4     1      1   3   1    2   1     2   2     1   1    1      2   \n",
       "\n",
       "      vache  \n",
       "Alex      1  "
      ]
     },
     "metadata": {},
     "output_type": "display_data"
    }
   ],
   "source": [
    "import pandas as pd\n",
    "\n",
    "df = pd.DataFrame(\n",
    "    data=occurrences,\n",
    "    columns=vectorizer.get_feature_names_out(),\n",
    "    index=[\"Alex\"]\n",
    ")\n",
    "\n",
    "display(df)"
   ]
  },
  {
   "cell_type": "code",
   "execution_count": 196,
   "id": "1cc7c9af-4af5-4106-a719-ff9ff2c60daa",
   "metadata": {},
   "outputs": [],
   "source": [
    "Z = pd.DataFrame(\n",
    "    data=[[2, 0, 1, 2]],\n",
    "    columns=[\"oiseau\", \"chat\", \"boit\", \"eau\"],\n",
    "    index=[\"Unk\"]\n",
    ")"
   ]
  },
  {
   "cell_type": "code",
   "execution_count": 197,
   "id": "b951c7e6-8db3-4e3d-9d55-0b7341e1f0df",
   "metadata": {},
   "outputs": [],
   "source": [
    "z = pd.concat([Z, df]).fillna(0)"
   ]
  },
  {
   "cell_type": "code",
   "execution_count": 200,
   "id": "6cdded2a-b908-42d5-bc1e-c9082ef86bf8",
   "metadata": {},
   "outputs": [],
   "source": [
    "z = z.T"
   ]
  },
  {
   "cell_type": "code",
   "execution_count": 201,
   "id": "6e95d912-c0b6-484f-bb78-430c177dcc8a",
   "metadata": {},
   "outputs": [
    {
     "data": {
      "text/plain": [
       "Unk      5.0\n",
       "Alex    23.0\n",
       "dtype: float64"
      ]
     },
     "execution_count": 201,
     "metadata": {},
     "output_type": "execute_result"
    }
   ],
   "source": [
    "z.sum()"
   ]
  },
  {
   "cell_type": "code",
   "execution_count": 202,
   "id": "633c2ae4-1cce-420c-9394-de10e5fde966",
   "metadata": {},
   "outputs": [],
   "source": [
    "N = z.sum()\n",
    "Ni = z.sum(axis=1)\n",
    "Nj = z.sum(axis=0)"
   ]
  },
  {
   "cell_type": "code",
   "execution_count": 203,
   "id": "7081c475-5794-4e83-a2f8-a76b4accde79",
   "metadata": {},
   "outputs": [],
   "source": [
    "Fij = (Ni.values.reshape(z.shape[0], 1) * Nj.values) / N.values.sum()"
   ]
  },
  {
   "cell_type": "code",
   "execution_count": 204,
   "id": "da460c3a-3da0-4550-9d41-22f3219546bc",
   "metadata": {},
   "outputs": [
    {
     "data": {
      "text/plain": [
       "array([[0.35714286, 1.64285714],\n",
       "       [0.17857143, 0.82142857],\n",
       "       [0.89285714, 4.10714286],\n",
       "       [0.71428571, 3.28571429],\n",
       "       [0.17857143, 0.82142857],\n",
       "       [0.53571429, 2.46428571],\n",
       "       [0.17857143, 0.82142857],\n",
       "       [0.17857143, 0.82142857],\n",
       "       [0.35714286, 1.64285714],\n",
       "       [0.35714286, 1.64285714],\n",
       "       [0.17857143, 0.82142857],\n",
       "       [0.17857143, 0.82142857],\n",
       "       [0.17857143, 0.82142857],\n",
       "       [0.35714286, 1.64285714],\n",
       "       [0.17857143, 0.82142857]])"
      ]
     },
     "execution_count": 204,
     "metadata": {},
     "output_type": "execute_result"
    }
   ],
   "source": [
    "Fij"
   ]
  },
  {
   "cell_type": "code",
   "execution_count": 205,
   "id": "01c29752-ddd7-4f3b-9a06-05c660cf0015",
   "metadata": {},
   "outputs": [],
   "source": [
    "chi2 = (z.fillna(0).values - Fij) ** 2 / Fij"
   ]
  },
  {
   "cell_type": "code",
   "execution_count": 206,
   "id": "c1f063b7-5244-4fa0-860e-3d222b26f657",
   "metadata": {},
   "outputs": [
    {
     "data": {
      "text/plain": [
       "15.728695652173911"
      ]
     },
     "execution_count": 206,
     "metadata": {},
     "output_type": "execute_result"
    }
   ],
   "source": [
    "chi2.sum()"
   ]
  },
  {
   "cell_type": "code",
   "execution_count": 214,
   "id": "1d623573-96e3-44c9-b9a4-3c10ffe75545",
   "metadata": {},
   "outputs": [],
   "source": [
    "chi2, pvalue, degrees, expected = chi2_contingency(z)"
   ]
  },
  {
   "cell_type": "code",
   "execution_count": 215,
   "id": "87988c70-a1bd-493b-9ccc-186824b4987f",
   "metadata": {},
   "outputs": [
    {
     "data": {
      "text/plain": [
       "15.728695652173911"
      ]
     },
     "execution_count": 215,
     "metadata": {},
     "output_type": "execute_result"
    }
   ],
   "source": [
    "chi2"
   ]
  },
  {
   "cell_type": "code",
   "execution_count": 74,
   "id": "7e80c178-5eaa-4bbd-93de-4d8d479615ad",
   "metadata": {},
   "outputs": [],
   "source": [
    "from collections import Counter\n",
    "analyze = vectorizer.build_analyzer()"
   ]
  },
  {
   "cell_type": "code",
   "execution_count": 108,
   "id": "abef6609-f91d-4649-bfbf-d176e1dc7cf5",
   "metadata": {},
   "outputs": [
    {
     "data": {
      "text/plain": [
       "Counter({'le': 2,\n",
       "         'petit': 2,\n",
       "         'chat': 1,\n",
       "         'boit': 4,\n",
       "         'du': 1,\n",
       "         'lait': 2,\n",
       "         'chien': 1,\n",
       "         'de': 3,\n",
       "         'eau': 2,\n",
       "         'la': 1,\n",
       "         'vache': 1,\n",
       "         'mais': 1,\n",
       "         'ne': 1,\n",
       "         'pas': 1})"
      ]
     },
     "execution_count": 108,
     "metadata": {},
     "output_type": "execute_result"
    }
   ],
   "source": [
    "result = Counter()\n",
    "for text in corpus:\n",
    "    result += Counter(analyze(text))\n",
    "\n",
    "result"
   ]
  },
  {
   "cell_type": "code",
   "execution_count": 80,
   "id": "41f5fa0a-c1e2-4fa1-92cc-e5dadcaae4c0",
   "metadata": {},
   "outputs": [],
   "source": [
    "combined = result + Counter(analyze(\"L’oiseau mange la fourmi.\"))"
   ]
  },
  {
   "cell_type": "code",
   "execution_count": 81,
   "id": "625deb3e-1319-426d-b5f9-2993becfa6d6",
   "metadata": {},
   "outputs": [],
   "source": [
    "portion = (len(result) / len(combined))"
   ]
  },
  {
   "cell_type": "code",
   "execution_count": 105,
   "id": "092b5c80-464a-4b05-bebf-37a22871b39b",
   "metadata": {},
   "outputs": [],
   "source": [
    "khicarre = 0\n",
    "for mot, occs in combined.items():\n",
    "    auteur_occs = result[mot]\n",
    "    contestes_occs = combined[mot]\n",
    "    \n",
    "    auteur_occs_attendues = occs * portion\n",
    "    contestes_occs_attendues = occs * (1 - portion)\n",
    "\n",
    "    khicarre += (auteur_occs - auteur_occs_attendues) ** 2 / auteur_occs_attendues\n",
    "    khicarre += (contestes_occs - contestes_occs_attendues) ** 2 / contestes_occs_attendues"
   ]
  },
  {
   "cell_type": "code",
   "execution_count": 107,
   "id": "6735aa4c-e8ec-4a0c-b4ee-e32705ad4fea",
   "metadata": {},
   "outputs": [
    {
     "data": {
      "text/plain": [
       "(107.32142857142856, 0.8235294117647058)"
      ]
     },
     "execution_count": 107,
     "metadata": {},
     "output_type": "execute_result"
    }
   ],
   "source": [
    "khicarre, portion"
   ]
  },
  {
   "cell_type": "code",
   "execution_count": null,
   "id": "a6232bdb-8a08-49e6-9121-9b1499a6d2be",
   "metadata": {},
   "outputs": [],
   "source": []
  }
 ],
 "metadata": {
  "kernelspec": {
   "display_name": "Python 3 (ipykernel)",
   "language": "python",
   "name": "python3"
  },
  "language_info": {
   "codemirror_mode": {
    "name": "ipython",
    "version": 3
   },
   "file_extension": ".py",
   "mimetype": "text/x-python",
   "name": "python",
   "nbconvert_exporter": "python",
   "pygments_lexer": "ipython3",
   "version": "3.10.6"
  }
 },
 "nbformat": 4,
 "nbformat_minor": 5
}
