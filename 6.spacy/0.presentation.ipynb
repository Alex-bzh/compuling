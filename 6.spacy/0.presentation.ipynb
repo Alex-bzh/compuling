{
 "cells": [
  {
   "cell_type": "markdown",
   "id": "efe81d3e-99d0-4309-9b32-e7b1958e0e9f",
   "metadata": {},
   "source": [
    "# *spaCy* : une bibliothèque pour le traitement du langage naturel"
   ]
  },
  {
   "cell_type": "markdown",
   "id": "2b84a2dd-83d3-4e02-8675-df3d39475198",
   "metadata": {},
   "source": [
    "Considérée comme une alternative moderne à la bibliothèque NTLK (*Natural Language ToolKit*), *spaCy* intègre de très nombreux outils état de l’art pour l’analyse de données textuelles, mobilisables simplement, au prix d’une perte des possibilités de personnalisation.\n",
    "\n",
    "Une fois installée, la bibliothèque se charge avec l’espace de noms `spacy` :"
   ]
  },
  {
   "cell_type": "code",
   "execution_count": null,
   "id": "150b3f11-a545-41ab-807d-024c86fbe286",
   "metadata": {
    "tags": []
   },
   "outputs": [],
   "source": [
    "import spacy"
   ]
  },
  {
   "cell_type": "markdown",
   "id": "11bb5e5f-ecb5-4505-97e5-aea80092c925",
   "metadata": {},
   "source": [
    "## Comparaison pour la segmentation d’un texte français en mots"
   ]
  },
  {
   "cell_type": "markdown",
   "id": "b6121250-b1cc-4c5e-a425-432cd4266777",
   "metadata": {},
   "source": [
    "Soit la phrase suivante :"
   ]
  },
  {
   "cell_type": "code",
   "execution_count": null,
   "id": "9d77edb6-ed97-4399-bdec-20ea90e2cd7d",
   "metadata": {
    "tags": []
   },
   "outputs": [],
   "source": [
    "sent = \"Elvire, m’as-tu fait un rapport bien sincère ?\""
   ]
  },
  {
   "cell_type": "markdown",
   "id": "e125ec37-5e88-4b96-88d3-b2e55d328bcf",
   "metadata": {},
   "source": [
    "En permettant de paramétrer un outil pour la segmentation en mots basée sur les expressions rationnelles, NLTK offre beaucoup de souplesse et n’effectue aucune hypothèse quant à la langue du texte :"
   ]
  },
  {
   "cell_type": "code",
   "execution_count": null,
   "id": "ca5e0838-6ccb-4193-a721-588b04812cca",
   "metadata": {
    "tags": []
   },
   "outputs": [],
   "source": [
    "import nltk\n",
    "from nltk.tokenize import RegexpTokenizer\n",
    "\n",
    "# a custom tokenizer\n",
    "tokenizer = RegexpTokenizer(r\"\\w+\")\n",
    "\n",
    "# tokenization\n",
    "tokens = tokenizer.tokenize(sent)\n",
    "\n",
    "# iterate over tokens\n",
    "for token in tokens:\n",
    "    print(token, end=\" \")"
   ]
  },
  {
   "cell_type": "markdown",
   "id": "83a9bf39-9912-4474-ae9f-5d3ceb0996e0",
   "metadata": {},
   "source": [
    "Avec *spaCy*, il est nécessaire de charger un outil polyvalent, entraîné pour le français :"
   ]
  },
  {
   "cell_type": "code",
   "execution_count": null,
   "id": "25391dc8-a54b-4a79-b297-5e9b530af46c",
   "metadata": {
    "tags": []
   },
   "outputs": [],
   "source": [
    "import spacy\n",
    "\n",
    "# create a blank object customized for French\n",
    "nlp = spacy.blank(\"fr\")\n",
    "\n",
    "# process the document\n",
    "doc = nlp(sent)\n",
    "\n",
    "# iterate over tokens\n",
    "for token in doc:\n",
    "    if not token.is_punct:\n",
    "        print(token.text, end=\" \")"
   ]
  },
  {
   "cell_type": "markdown",
   "id": "9ae59765-e5f4-4040-9b19-7fad705c33f0",
   "metadata": {},
   "source": [
    "## Charger un pipeline pré-entraîné"
   ]
  },
  {
   "cell_type": "markdown",
   "id": "7498acdf-2ce2-498f-b0b3-37ae052fe922",
   "metadata": {},
   "source": [
    "L’un des avantages indéniables de *spaCy* réside dans la possibilité de charger des pipelines pré-entraînés sur de larges corpus étiquetés pour effectuer des prédictions en contexte. Un pipeline peut se concevoir comme un modèle de langue configuré à l’aide de plusieurs transformateurs (tokenisation, lemmatisation, vectorisation…). Pour le français, il en existe quatre :\n",
    "\n",
    "- *fr_core_news_sm* : données textuelles issues de la presse avec un vocabulaire, une analyse syntaxique et la reconnaissance des entités nommées (15 MB) ;\n",
    "- *fr_core_news_md* : + vectorisation (20 000 vecteurs uniques de 300 dimensions) (43 MB) ;\n",
    "- *fr_core_news_lg* : vectorisation plus complète (500 000 vecteurs uniques) (545 MB) ;\n",
    "- *fr_dep_news_trf* : transformateur basé sur camemBERT.\n",
    "\n",
    "La méthode `.load()` charge le pipeline demandé :"
   ]
  },
  {
   "cell_type": "code",
   "execution_count": null,
   "id": "312c31bf-b5a9-4254-8111-0fc9f9f22819",
   "metadata": {
    "tags": []
   },
   "outputs": [],
   "source": [
    "nlp = spacy.load(\"fr_core_news_sm\")"
   ]
  },
  {
   "cell_type": "markdown",
   "id": "5bae7469-ecf3-4704-a417-9d8ecb18143e",
   "metadata": {},
   "source": [
    "![Pipeline](./images/pipeline.svg)\n",
    "\n",
    "Pour appliquer l’ensemble des transformateurs à un texte, il suffit d’utiliser la fonction `nlp()` :"
   ]
  },
  {
   "cell_type": "code",
   "execution_count": null,
   "id": "4e089ccc-cc51-452a-b770-d9c86be22fb9",
   "metadata": {
    "tags": []
   },
   "outputs": [],
   "source": [
    "text = \"\"\"C'était à Mégara, faubourg de Carthage, dans les jardins d'Hamilcar.\n",
    "Les soldats qu'il avait commandés en Sicile se donnaient un grand festin pour célébrer le jour anniversaire de la bataille d'Eryx, et comme le maître était absent et qu'ils se trouvaient nombreux, ils mangeaient et ils buvaient en pleine liberté.\n",
    "Les capitaines, portant des cothurnes de bronze, s'étaient placés dans le chemin du milieu, sous un voile de pourpre à franges d'or, qui s'étendait depuis le mur des écuries jusqu'à la première terrasse du palais ; le commun des soldats était répandu sous les arbres, où l'on distinguait quantité de bâtiments à toit plat, pressoirs, celliers, magasins, boulangeries et arsenaux, avec une cour pour les éléphants, des fosses pour les bêtes féroces, une prison pour les esclaves.\n",
    "\"\"\"\n",
    "doc = nlp(text)"
   ]
  },
  {
   "cell_type": "markdown",
   "id": "977712d8-a778-42b2-af92-b573175758f4",
   "metadata": {},
   "source": [
    "L’objet `doc` embarque désormais des structures, accessibles depuis des attributs (p. ex. `.sents` pour les phrases), en fonction des transformateurs utilisés."
   ]
  },
  {
   "cell_type": "markdown",
   "id": "78e91fe8-a89f-46f4-a2c4-2613909e36f1",
   "metadata": {},
   "source": [
    "## Les propriétés de l’objet `doc`"
   ]
  },
  {
   "cell_type": "markdown",
   "id": "46ca1275-df2c-491e-9036-7b49ec32b14a",
   "metadata": {},
   "source": [
    "En règle générale, les propriétés suivies d’un tiret bas (*_*) renvoient une chaîne de caractères ; pour les autres, un entier qui vaut comme identifiant.\n",
    "\n",
    "Comme les données textuelles sont analysées par un pipeline pré-entraîné, les propriétés affectées aux *tokens* sont issues de prédictions qui peuvent par définition se révéler inexactes. Le résultat de l’évaluation des modèles pour chaque tâche est consultable sur [le site officiel](https://spacy.io/models/). Pour un projet spécifique, gardons en tête qu’il est toujours possible d’ajouter des données annotées au pipeline afin d’améliorer son efficacité."
   ]
  },
  {
   "cell_type": "markdown",
   "id": "8400c651-ea81-427f-9d1d-ce13a4833aa3",
   "metadata": {},
   "source": [
    "### Segmentation en tokens"
   ]
  },
  {
   "cell_type": "markdown",
   "id": "0a20a6b6-7f59-453a-b126-e8139cf66f56",
   "metadata": {},
   "source": [
    "Par défaut, l’objet obtenu est un assemblage de *tokens* avec différents attributs dont `.text` pour leur représentation en chaîne de caractères :"
   ]
  },
  {
   "cell_type": "code",
   "execution_count": null,
   "id": "77619435-5edd-4434-b546-d050689a91ed",
   "metadata": {
    "tags": []
   },
   "outputs": [],
   "source": [
    "for token in doc:\n",
    "    print(token.text, end=\" \")"
   ]
  },
  {
   "cell_type": "markdown",
   "id": "3a173f52-255e-4a85-a74b-38f6495241fe",
   "metadata": {},
   "source": [
    "### Segmentation en phrases"
   ]
  },
  {
   "cell_type": "markdown",
   "id": "b81a4693-1a87-4abc-b0f8-037e79e4e9f6",
   "metadata": {},
   "source": [
    "Les phrases sont accessibles via l’attribut `.sents` qui héberge un générateur :"
   ]
  },
  {
   "cell_type": "code",
   "execution_count": null,
   "id": "74dfff81-f35c-49b7-b990-b4870192228a",
   "metadata": {
    "tags": []
   },
   "outputs": [],
   "source": [
    "for sent in doc.sents:\n",
    "    print(sent)\n",
    "\n",
    "first_sent = list(doc.sents)[0]"
   ]
  },
  {
   "cell_type": "markdown",
   "id": "eece9587-38aa-4ccc-bdd2-7e09d474d264",
   "metadata": {},
   "source": [
    "### Lemmatisation"
   ]
  },
  {
   "cell_type": "markdown",
   "id": "cdace9a4-55f5-4c33-84ad-fa220cce3ace",
   "metadata": {},
   "source": [
    "Pour accéder aux lemmes, utiliser la propriété `.lemma_` :"
   ]
  },
  {
   "cell_type": "code",
   "execution_count": null,
   "id": "3b2887af-8ac7-4873-b56d-94d2b1192112",
   "metadata": {
    "tags": []
   },
   "outputs": [],
   "source": [
    "for token in first_sent:\n",
    "    print(token.text, token.lemma_)"
   ]
  },
  {
   "cell_type": "markdown",
   "id": "8de9f404-ce68-4505-bb89-5b41a5d568b9",
   "metadata": {},
   "source": [
    "### Analyse morphologique"
   ]
  },
  {
   "cell_type": "markdown",
   "id": "09a1da46-7c40-4541-82ae-afcd42e35940",
   "metadata": {},
   "source": [
    "L’attribut `.pos_` permet d’accéder aux étiquettes en parties du discours du jeu *universal part-of-speech tagset*. Pour une analyse morphologique complète (genre, nombre, mode…), l’attribut `.morph` stocke une chaîne de caractètres formatée :"
   ]
  },
  {
   "cell_type": "code",
   "execution_count": null,
   "id": "c1ee6d60-f103-44df-803d-6d79c2cb2b32",
   "metadata": {
    "tags": []
   },
   "outputs": [],
   "source": [
    "for token in first_sent:\n",
    "    print(token.text, token.pos_, token.morph)"
   ]
  },
  {
   "cell_type": "markdown",
   "id": "2604fdc9-b582-45f1-a9bc-716846c6304b",
   "metadata": {},
   "source": [
    "### Analyse en dépendances"
   ]
  },
  {
   "cell_type": "markdown",
   "id": "a5ec78df-2279-43d8-aab7-9df1d800066a",
   "metadata": {},
   "source": [
    "Les modèles peuvent également prédire les relations entre les *tokens* d’une phrase. L’attribut `.dep_` donne accès à sa fonction grammaticale quand l’attribut `.head` révèle le sujet auquel il est rattaché :"
   ]
  },
  {
   "cell_type": "code",
   "execution_count": null,
   "id": "40741c13-4ac5-4f37-bd8f-e751a3f792d4",
   "metadata": {
    "tags": []
   },
   "outputs": [],
   "source": [
    "for token in first_sent:\n",
    "    print(token.text, token.dep_, token.head.text)"
   ]
  },
  {
   "cell_type": "markdown",
   "id": "fe1b407f-057d-410c-86a7-3d3e1f2f8517",
   "metadata": {},
   "source": [
    "Un module *displacy* permet en plus d’afficher l’arbre des dépendances :"
   ]
  },
  {
   "cell_type": "code",
   "execution_count": null,
   "id": "d7daa7fb-c87c-4650-8fe8-bda9053fc9c2",
   "metadata": {
    "tags": []
   },
   "outputs": [],
   "source": [
    "from spacy import displacy\n",
    "\n",
    "displacy.render(first_sent, style=\"dep\", options={ \"distance\": 100 })"
   ]
  },
  {
   "cell_type": "markdown",
   "id": "dc206441-dc53-461f-a9d1-e3375e06b270",
   "metadata": {},
   "source": [
    "### Reconnaître les entités nommées"
   ]
  },
  {
   "cell_type": "markdown",
   "id": "2519c408-267a-4b08-a446-204b1dac5da3",
   "metadata": {},
   "source": [
    "La capacité de *spaCy* à repérer des entités nommées (personnes, organisations, événements…) est l’une de ses très grandes forces. Elles sont enregistrées dans une propriété `.ents` qui renvoie un tuple de toutes les entités prédites. Pour chacune d’elles, il est possible d’afficher son contenu et son étiquette :"
   ]
  },
  {
   "cell_type": "code",
   "execution_count": null,
   "id": "9589b5c4-8dd9-48b3-89e5-4b214e8d989d",
   "metadata": {
    "tags": []
   },
   "outputs": [],
   "source": [
    "for ent in doc.ents:\n",
    "    print(ent.text, ent.label_)"
   ]
  },
  {
   "cell_type": "markdown",
   "id": "2c3eeb64-192f-4a1a-8f70-764d943468a1",
   "metadata": {},
   "source": [
    "Le module *displacy* se révèle ici également très efficace pour surligner les entités nommées dans un texte :"
   ]
  },
  {
   "cell_type": "code",
   "execution_count": null,
   "id": "3fb6f26d-bed9-43b4-b9dd-8e9314405cac",
   "metadata": {
    "tags": []
   },
   "outputs": [],
   "source": [
    "displacy.render(first_sent, style=\"ent\")"
   ]
  },
  {
   "cell_type": "markdown",
   "id": "ff0d01fa-b1c2-4579-ac6d-4d30d0989ccf",
   "metadata": {},
   "source": [
    "### Autres attributs lexicaux"
   ]
  },
  {
   "cell_type": "markdown",
   "id": "21b7f4ee-f4d6-4842-b4e5-045ed7b2d86d",
   "metadata": {},
   "source": [
    "Aux côtés de l’attribut lexical `.text`, on trouve d’autres propriétés utiles :\n",
    "\n",
    "- `.i` : renvoie l’indice du *token*.\n",
    "- `.is_alpha` : le *token* est-il constitué de caractères alphabétiques ?\n",
    "- `.is_punct` : le *token* est-il un signe de ponctuation ?\n",
    "- `.like_num` : le *token* ressemble-t-il à un nombre ?"
   ]
  },
  {
   "cell_type": "code",
   "execution_count": null,
   "id": "34bc9d53-c812-4df9-924d-d4e22e14597f",
   "metadata": {
    "tags": []
   },
   "outputs": [],
   "source": [
    "for token in first_sent:\n",
    "    if not token.like_num and not token.is_punct:\n",
    "        print(token.text)"
   ]
  },
  {
   "cell_type": "markdown",
   "id": "362c6da0-c8ec-4e6e-b3a0-b451b0e5e0c7",
   "metadata": {},
   "source": [
    "## Expliquer les abréviations"
   ]
  },
  {
   "cell_type": "markdown",
   "id": "3ec50225-6cc2-48ac-8dd3-608a8fbf41b7",
   "metadata": {},
   "source": [
    "Les résultats fournis par les pipelines de *spaCy* le sont sous forme d’abréviations. Pour connaître leur forme étendue, une méthode `.explain()` est attachée directement à l’espace de noms :"
   ]
  },
  {
   "cell_type": "code",
   "execution_count": null,
   "id": "45540900-0297-480b-be25-aacad3a4b844",
   "metadata": {
    "tags": []
   },
   "outputs": [],
   "source": [
    "spacy.explain(\"MISC\")"
   ]
  }
 ],
 "metadata": {
  "kernelspec": {
   "display_name": "Python 3 (ipykernel)",
   "language": "python",
   "name": "python3"
  },
  "language_info": {
   "codemirror_mode": {
    "name": "ipython",
    "version": 3
   },
   "file_extension": ".py",
   "mimetype": "text/x-python",
   "name": "python",
   "nbconvert_exporter": "python",
   "pygments_lexer": "ipython3",
   "version": "3.10.9"
  }
 },
 "nbformat": 4,
 "nbformat_minor": 5
}
