{
 "cells": [
  {
   "cell_type": "markdown",
   "id": "efe81d3e-99d0-4309-9b32-e7b1958e0e9f",
   "metadata": {},
   "source": [
    "# *spaCy* : une bibliothèque pour le traitement du langage naturel"
   ]
  },
  {
   "cell_type": "markdown",
   "id": "2b84a2dd-83d3-4e02-8675-df3d39475198",
   "metadata": {},
   "source": [
    "Considérée comme une alternative moderne à la bibliothèque NTLK (*Natural Language ToolKit*), *spaCy* intègre de très nombreux outils état de l’art pour l’analyse de données textuelles, mobilisables simplement, au prix d’une perte des possibilités de personnalisation.\n",
    "\n",
    "Une fois installée, la bibliothèque se charge avec l’espace de noms `spacy` :"
   ]
  },
  {
   "cell_type": "code",
   "execution_count": null,
   "id": "150b3f11-a545-41ab-807d-024c86fbe286",
   "metadata": {},
   "outputs": [],
   "source": [
    "import spacy"
   ]
  },
  {
   "cell_type": "markdown",
   "id": "11bb5e5f-ecb5-4505-97e5-aea80092c925",
   "metadata": {},
   "source": [
    "## Comparaison pour la segmentation d’un texte français en mots"
   ]
  },
  {
   "cell_type": "markdown",
   "id": "b6121250-b1cc-4c5e-a425-432cd4266777",
   "metadata": {},
   "source": [
    "Soit la phrase suivante :"
   ]
  },
  {
   "cell_type": "code",
   "execution_count": 1,
   "id": "9d77edb6-ed97-4399-bdec-20ea90e2cd7d",
   "metadata": {},
   "outputs": [],
   "source": [
    "sent = \"Elvire, m’as-tu fait un rapport bien sincère ?\""
   ]
  },
  {
   "cell_type": "markdown",
   "id": "e125ec37-5e88-4b96-88d3-b2e55d328bcf",
   "metadata": {},
   "source": [
    "En permettant de paramétrer un outil pour la segmentation en mots basée sur les expressions rationnelles, NLTK offre beaucoup de souplesse et n’effectue aucune hypothèse quant à la langue du texte :"
   ]
  },
  {
   "cell_type": "code",
   "execution_count": 2,
   "id": "ca5e0838-6ccb-4193-a721-588b04812cca",
   "metadata": {},
   "outputs": [
    {
     "name": "stdout",
     "output_type": "stream",
     "text": [
      "Elvire m as tu fait un rapport bien sincère "
     ]
    }
   ],
   "source": [
    "import nltk\n",
    "from nltk.tokenize import RegexpTokenizer\n",
    "\n",
    "# a custom tokenizer\n",
    "tokenizer = RegexpTokenizer(r\"\\w+\")\n",
    "\n",
    "# tokenization\n",
    "tokens = tokenizer.tokenize(sent)\n",
    "\n",
    "# iterate over tokens\n",
    "for token in tokens:\n",
    "    print(token, end=\" \")"
   ]
  },
  {
   "cell_type": "markdown",
   "id": "83a9bf39-9912-4474-ae9f-5d3ceb0996e0",
   "metadata": {},
   "source": [
    "Avec *spaCy*, il est nécessaire de charger un outil polyvalent, entraîné pour le français :"
   ]
  },
  {
   "cell_type": "code",
   "execution_count": 3,
   "id": "25391dc8-a54b-4a79-b297-5e9b530af46c",
   "metadata": {},
   "outputs": [
    {
     "name": "stdout",
     "output_type": "stream",
     "text": [
      "Elvire m’ as tu fait un rapport bien sincère "
     ]
    }
   ],
   "source": [
    "import spacy\n",
    "\n",
    "# create a blank object customized for French\n",
    "nlp = spacy.blank(\"fr\")\n",
    "\n",
    "# process the document\n",
    "doc = nlp(sent)\n",
    "\n",
    "# iterate over tokens\n",
    "for token in doc:\n",
    "    if not token.is_punct:\n",
    "        print(token.text, end=\" \")"
   ]
  },
  {
   "cell_type": "markdown",
   "id": "9ae59765-e5f4-4040-9b19-7fad705c33f0",
   "metadata": {},
   "source": [
    "## Charger un pipeline pré-entraîné"
   ]
  },
  {
   "cell_type": "markdown",
   "id": "7498acdf-2ce2-498f-b0b3-37ae052fe922",
   "metadata": {},
   "source": [
    "L’un des avantages indéniables de *spaCy* réside dans la possibilité de charger des pipelines pré-entraînés sur de larges corpus étiquetés pour effectuer des prédictions en contexte. Un pipeline peut se concevoir comme un modèle de langue configuré à l’aide de plusieurs transformateurs (tokenisation, lemmatisation, vectorisation…). Pour le français, il en existe quatre :\n",
    "\n",
    "- *fr_core_news_sm* : données textuelles issues de la presse avec un vocabulaire, une analyse syntaxique et la reconnaissance des entités nommées (15 MB) ;\n",
    "- *fr_core_news_md* : + vectorisation (20 000 vecteurs uniques de 300 dimensions) (43 MB) ;\n",
    "- *fr_core_news_lg* : vectorisation plus complète (500 000 vecteurs uniques) (545 MB) ;\n",
    "- *fr_dep_news_trf* : transformateur basé sur camemBERT.\n",
    "\n",
    "La méthode `.load()` charge le pipeline demandé :"
   ]
  },
  {
   "cell_type": "code",
   "execution_count": 15,
   "id": "312c31bf-b5a9-4254-8111-0fc9f9f22819",
   "metadata": {
    "tags": []
   },
   "outputs": [],
   "source": [
    "nlp = spacy.load(\"fr_core_news_sm\")"
   ]
  },
  {
   "cell_type": "markdown",
   "id": "5bae7469-ecf3-4704-a417-9d8ecb18143e",
   "metadata": {},
   "source": [
    "Pour appliquer l’ensemble des transformateurs à un texte, il suffit d’utiliser la fonction `nlp()` :"
   ]
  },
  {
   "cell_type": "code",
   "execution_count": 74,
   "id": "4e089ccc-cc51-452a-b770-d9c86be22fb9",
   "metadata": {
    "tags": []
   },
   "outputs": [],
   "source": [
    "text = \"\"\"C'était à Mégara, faubourg de Carthage, dans les jardins d'Hamilcar.\n",
    "Les soldats qu’il avait commandés en Sicile se donnaient un grand festin pour célébrer le jour anniversaire de la bataille d’Eryx, et comme le maître était absent et qu’ils se trouvaient nombreux, ils mangeaient et ils buvaient en pleine liberté.\n",
    "Les capitaines, portant des cothurnes de bronze, s’étaient placés dans le chemin du milieu, sous un voile de pourpre à franges d’or, qui s’étendait depuis le mur des écuries jusqu’à la première terrasse du palais ; le commun des soldats était répandu sous les arbres, où l’on distinguait quantité de bâtiments à toit plat, pressoirs, celliers, magasins, boulangeries et arsenaux, avec une cour pour les éléphants, des fosses pour les bêtes féroces, une prison pour les esclaves.\n",
    "\"\"\"\n",
    "doc = nlp(text)"
   ]
  },
  {
   "cell_type": "markdown",
   "id": "977712d8-a778-42b2-af92-b573175758f4",
   "metadata": {},
   "source": [
    "L’objet `doc` (un assemblage de *tokens*) embarque désormais des structures, accessibles depuis des attributs (p. ex. `.sents` pour les phrases), en fonction des transformateurs utilisés."
   ]
  },
  {
   "cell_type": "markdown",
   "id": "8400c651-ea81-427f-9d1d-ce13a4833aa3",
   "metadata": {},
   "source": [
    "### Segmentation en tokens"
   ]
  },
  {
   "cell_type": "markdown",
   "id": "0a20a6b6-7f59-453a-b126-e8139cf66f56",
   "metadata": {},
   "source": [
    "Par défaut, l’objet obtenu est un assemblage de *tokens* avec différents attributs dont `.text` pour leur représentation en chaîne de caractères :"
   ]
  },
  {
   "cell_type": "code",
   "execution_count": 75,
   "id": "77619435-5edd-4434-b546-d050689a91ed",
   "metadata": {
    "tags": []
   },
   "outputs": [
    {
     "name": "stdout",
     "output_type": "stream",
     "text": [
      "C' était à Mégara , faubourg de Carthage , dans les jardins d' Hamilcar . \n",
      " Les soldats qu’ il avait commandés en Sicile se donnaient un grand festin pour célébrer le jour anniversaire de la bataille d’ Eryx , et comme le maître était absent et qu’ ils se trouvaient nombreux , ils mangeaient et ils buvaient en pleine liberté . \n",
      " Les capitaines , portant des cothurnes de bronze , s’ étaient placés dans le chemin du milieu , sous un voile de pourpre à franges d’ or , qui s’ étendait depuis le mur des écuries jusqu’ à la première terrasse du palais ; le commun des soldats était répandu sous les arbres , où l’ on distinguait quantité de bâtiments à toit plat , pressoirs , celliers , magasins , boulangeries et arsenaux , avec une cour pour les éléphants , des fosses pour les bêtes féroces , une prison pour les esclaves . \n",
      " "
     ]
    }
   ],
   "source": [
    "for token in doc:\n",
    "    print(token.text, end=\" \")"
   ]
  },
  {
   "cell_type": "markdown",
   "id": "3a173f52-255e-4a85-a74b-38f6495241fe",
   "metadata": {},
   "source": [
    "### Segmentation en phrases"
   ]
  },
  {
   "cell_type": "markdown",
   "id": "b81a4693-1a87-4abc-b0f8-037e79e4e9f6",
   "metadata": {},
   "source": [
    "Les phrases sont accessibles via l’attribut `.sents` qui héberge un générateur :"
   ]
  },
  {
   "cell_type": "code",
   "execution_count": 76,
   "id": "74dfff81-f35c-49b7-b990-b4870192228a",
   "metadata": {
    "tags": []
   },
   "outputs": [
    {
     "name": "stdout",
     "output_type": "stream",
     "text": [
      "C'était à Mégara, faubourg de Carthage, dans les jardins d'Hamilcar.\n",
      "\n",
      "Les soldats qu’il avait commandés en Sicile se donnaient un grand festin pour célébrer le jour anniversaire de la bataille d’Eryx, et comme le maître était absent et qu’ils se trouvaient nombreux, ils mangeaient et ils buvaient en pleine liberté.\n",
      "\n",
      "Les capitaines, portant des cothurnes de bronze, s’étaient placés dans le chemin du milieu, sous un voile de pourpre à franges d’or, qui s’étendait depuis le mur des écuries jusqu’à la première terrasse du palais ;\n",
      "le commun des soldats était répandu sous les arbres, où l’on distinguait quantité de bâtiments à toit plat, pressoirs, celliers, magasins, boulangeries et arsenaux, avec une cour pour les éléphants, des fosses pour les bêtes féroces, une prison pour les esclaves.\n",
      "\n"
     ]
    }
   ],
   "source": [
    "for sent in doc.sents:\n",
    "    print(sent)"
   ]
  }
 ],
 "metadata": {
  "kernelspec": {
   "display_name": "Python 3 (ipykernel)",
   "language": "python",
   "name": "python3"
  },
  "language_info": {
   "codemirror_mode": {
    "name": "ipython",
    "version": 3
   },
   "file_extension": ".py",
   "mimetype": "text/x-python",
   "name": "python",
   "nbconvert_exporter": "python",
   "pygments_lexer": "ipython3",
   "version": "3.10.9"
  }
 },
 "nbformat": 4,
 "nbformat_minor": 5
}
