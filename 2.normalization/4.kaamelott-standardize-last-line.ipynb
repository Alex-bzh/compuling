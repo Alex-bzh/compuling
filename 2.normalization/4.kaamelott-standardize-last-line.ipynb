{
 "cells": [
  {
   "cell_type": "markdown",
   "metadata": {
    "slideshow": {
     "slide_type": "slide"
    }
   },
   "source": [
    "# Uniformiser la dernière ligne d’un script"
   ]
  },
  {
   "cell_type": "markdown",
   "metadata": {
    "slideshow": {
     "slide_type": "slide"
    }
   },
   "source": [
    "## Définir une procédure"
   ]
  },
  {
   "cell_type": "markdown",
   "metadata": {
    "slideshow": {
     "slide_type": "subslide"
    }
   },
   "source": [
    "La dernière ligne d’un script (en fait, avant-dernière ligne) peut revêtir deux formes possibles :\n",
    "- soit mention du pseudonyme du transcripteur\n",
    "- soit rien"
   ]
  },
  {
   "cell_type": "markdown",
   "metadata": {
    "slideshow": {
     "slide_type": "fragment"
    }
   },
   "source": [
    "Exemples de mentions du pseudonyme :"
   ]
  },
  {
   "cell_type": "code",
   "execution_count": null,
   "metadata": {},
   "outputs": [],
   "source": [
    "# Affichage de l'avant-dernière ligne si l'indice du script\n",
    "# est un multiple de 6\n",
    "import os\n",
    "screenplays = os.listdir('./kaamelott/sample')\n",
    "for idx, screenplay in enumerate(screenplays):\n",
    "    with open(f'./kaamelott/sample/{screenplay}') as file:\n",
    "        exit if idx % 6 else print(file.readlines()[-1])"
   ]
  },
  {
   "cell_type": "markdown",
   "metadata": {
    "slideshow": {
     "slide_type": "subslide"
    }
   },
   "source": [
    "Impossible de supprimer la dernière ligne sans risquer de perdre une ligne du script.\n",
    "\n",
    "La mention du pseudonyme du transcripteur suit une règle quasi-régulière : elle débute par la chaîne *Rédigé par {pseudonyme}…*\n",
    "\n",
    "Rappel du cahier des charges :\n",
    "- ne conserver dans le fichier du script que les énoncés et le nom des locuteurs\n",
    "- sauvegarder le pseudonyme du transcripteur dans un index"
   ]
  },
  {
   "cell_type": "markdown",
   "metadata": {
    "slideshow": {
     "slide_type": "subslide"
    }
   },
   "source": [
    "Algorithme de normalisation :\n",
    "1. Si la dernière ligne débute par *Rédigé par*, on récupère le pseudonyme du transcripteur pour l’enregistrer dans un fichier d’index.\n",
    "2. Dans le cas contraire, vérifier la nature de la dernière ligne.\n",
    "3. Exprimer des conditions pour supprimer toutes les dernières lignes inutiles."
   ]
  },
  {
   "cell_type": "markdown",
   "metadata": {
    "slideshow": {
     "slide_type": "slide"
    }
   },
   "source": [
    "## Écrire la procédure"
   ]
  },
  {
   "cell_type": "markdown",
   "metadata": {
    "slideshow": {
     "slide_type": "subslide"
    }
   },
   "source": [
    "Fichier d’index déjà créé = algorithme simplifié !\n",
    "1. Obtenir la liste des scripts\n",
    "2. Récupérer toutes les lignes dans une liste\n",
    "3. Lire la dernière ligne de chaque script :\n",
    "    1. si elle débute par *Rédigé par*, la supprimer de la liste des lignes\n",
    "    2. sinon, aucun traitement"
   ]
  },
  {
   "cell_type": "markdown",
   "metadata": {
    "slideshow": {
     "slide_type": "subslide"
    }
   },
   "source": [
    "**Étape 1 :** Obtenir la liste des scripts"
   ]
  },
  {
   "cell_type": "code",
   "execution_count": null,
   "metadata": {
    "slideshow": {
     "slide_type": "fragment"
    }
   },
   "outputs": [],
   "source": [
    "import os\n",
    "    \n",
    "path = './kaamelott/sample'\n",
    "screenplays = os.listdir(path)"
   ]
  },
  {
   "cell_type": "markdown",
   "metadata": {
    "slideshow": {
     "slide_type": "subslide"
    }
   },
   "source": [
    "**Étape 2 :** Récupérer les lignes de chaque script"
   ]
  },
  {
   "cell_type": "code",
   "execution_count": null,
   "metadata": {
    "slideshow": {
     "slide_type": "fragment"
    }
   },
   "outputs": [],
   "source": [
    "for screenplay in screenplays:\n",
    "    with open(f'{path}/{screenplay}') as src:\n",
    "        lines = src.readlines()"
   ]
  },
  {
   "cell_type": "markdown",
   "metadata": {
    "slideshow": {
     "slide_type": "subslide"
    }
   },
   "source": [
    "**Étape 3 :** Lire la dernière ligne de chaque script"
   ]
  },
  {
   "cell_type": "code",
   "execution_count": null,
   "metadata": {
    "slideshow": {
     "slide_type": "fragment"
    }
   },
   "outputs": [],
   "source": [
    "last_line = lines[-1]"
   ]
  },
  {
   "cell_type": "markdown",
   "metadata": {
    "slideshow": {
     "slide_type": "fragment"
    }
   },
   "source": [
    "**Étape 3A :** Supprimer la dernière ligne en fonction d’une condition"
   ]
  },
  {
   "cell_type": "code",
   "execution_count": null,
   "metadata": {
    "slideshow": {
     "slide_type": "fragment"
    }
   },
   "outputs": [],
   "source": [
    "if last_line.startswith('Rédigé par'):\n",
    "    lines = lines[:-1]"
   ]
  },
  {
   "cell_type": "markdown",
   "metadata": {
    "slideshow": {
     "slide_type": "fragment"
    }
   },
   "source": [
    "Réécrire le script sans cette dernière ligne :"
   ]
  },
  {
   "cell_type": "code",
   "execution_count": null,
   "metadata": {},
   "outputs": [],
   "source": [
    "with open(f'{path}/{screenplay}') as dest:\n",
    "    for line in lines:\n",
    "        dest.write(line)"
   ]
  }
 ],
 "metadata": {
  "celltoolbar": "Diaporama",
  "kernelspec": {
   "display_name": "Python 3",
   "language": "python",
   "name": "python3"
  },
  "language_info": {
   "codemirror_mode": {
    "name": "ipython",
    "version": 3
   },
   "file_extension": ".py",
   "mimetype": "text/x-python",
   "name": "python",
   "nbconvert_exporter": "python",
   "pygments_lexer": "ipython3",
   "version": "3.7.3"
  }
 },
 "nbformat": 4,
 "nbformat_minor": 2
}
