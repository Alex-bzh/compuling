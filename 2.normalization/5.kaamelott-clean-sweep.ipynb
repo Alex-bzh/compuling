{
 "cells": [
  {
   "cell_type": "markdown",
   "metadata": {
    "slideshow": {
     "slide_type": "slide"
    }
   },
   "source": [
    "# Nettoyer le corpus"
   ]
  },
  {
   "cell_type": "markdown",
   "metadata": {
    "slideshow": {
     "slide_type": "subslide"
    }
   },
   "source": [
    "## Dégager des principes\n",
    "\n",
    "Étape préalable indispensable de compréhension du corpus pour dégager des principes de nettoyage du corpus. Phase d’autant plus critique que le corpus *Kaamelott* provient de différentes sources ne respectant pas les mêmes conventions et que l’extraction automatique ne produit pas les mêmes résultats."
   ]
  },
  {
   "cell_type": "markdown",
   "metadata": {
    "cell_style": "center",
    "slideshow": {
     "slide_type": "subslide"
    }
   },
   "source": [
    "### Exemples"
   ]
  },
  {
   "cell_type": "markdown",
   "metadata": {
    "cell_style": "split",
    "slideshow": {
     "slide_type": "-"
    }
   },
   "source": [
    "Guenièvre:  \n",
    "Eh ben, on est pas sortis du sable."
   ]
  },
  {
   "cell_type": "markdown",
   "metadata": {
    "cell_style": "split",
    "slideshow": {
     "slide_type": "-"
    }
   },
   "source": [
    "Le sonneur  \n",
    "(  \n",
    "à Arthur  \n",
    ") : J’y vais sire ?"
   ]
  },
  {
   "cell_type": "markdown",
   "metadata": {
    "cell_style": "split",
    "slideshow": {
     "slide_type": "-"
    }
   },
   "source": [
    "LANCELOT  \n",
    ": Vous inquiétez pas Sire, y'a pas d'raisons que ça s'passe mal."
   ]
  },
  {
   "cell_type": "markdown",
   "metadata": {
    "cell_style": "split",
    "slideshow": {
     "slide_type": "-"
    }
   },
   "source": [
    "Léodagan  \n",
    "(confiant) :  \n",
    "Mais c’est leur vraie première mission militaire. Soyez souple un peu !"
   ]
  },
  {
   "cell_type": "markdown",
   "metadata": {
    "slideshow": {
     "slide_type": "subslide"
    }
   },
   "source": [
    "### Quelques observations\n",
    "\n",
    "- manque d’homogénéité dans la ponctuation\n",
    "- locuteur + \":\" ou \":\" + réplique\n",
    "- didascalies parfois entre parenthèses\n",
    "- locuteur parfois en majuscules\n",
    "\n",
    "### Quelques règles\n",
    "\n",
    "- supprimer le contenu entre parenthèses\n",
    "- rétablir une logique locuteur + réplique sur la même ligne\n",
    "- uniformiser le nom des locuteurs"
   ]
  },
  {
   "cell_type": "markdown",
   "metadata": {
    "slideshow": {
     "slide_type": "slide"
    }
   },
   "source": [
    "## Supprimer le contenu entre parenthèses"
   ]
  },
  {
   "cell_type": "markdown",
   "metadata": {
    "slideshow": {
     "slide_type": "fragment"
    }
   },
   "source": [
    "Recourir aux expressions rationnelles :"
   ]
  },
  {
   "cell_type": "code",
   "execution_count": null,
   "metadata": {
    "cell_style": "split"
   },
   "outputs": [],
   "source": [
    "import re\n",
    "\n",
    "arthur = \"Le sonneur\\n(\\nà Arthur\\n) :\"\n",
    "leodagan = \"Léodagan\\n(confiant) :\"\n",
    "\n",
    "print(arthur, leodagan, sep='\\n')"
   ]
  },
  {
   "cell_type": "code",
   "execution_count": null,
   "metadata": {
    "cell_style": "split"
   },
   "outputs": [],
   "source": [
    "pattern = re.compile('\\n?\\(\\n?.*\\n?\\)\\n?')\n",
    "arthur = pattern.sub('', arthur)\n",
    "leodagan = pattern.sub('', leodagan)\n",
    "\n",
    "print(arthur, leodagan, sep='\\n')"
   ]
  },
  {
   "cell_type": "markdown",
   "metadata": {
    "slideshow": {
     "slide_type": "fragment"
    }
   },
   "source": [
    "Le caractère `\\n` est un caractère spécial qui correspond au retour à la ligne."
   ]
  },
  {
   "cell_type": "markdown",
   "metadata": {
    "slideshow": {
     "slide_type": "slide"
    }
   },
   "source": [
    "## Unir le locuteur et sa réplique"
   ]
  },
  {
   "cell_type": "code",
   "execution_count": null,
   "metadata": {},
   "outputs": [],
   "source": [
    "guenievre = \"Guenièvre:\\nEh ben, on est pas sortis du sable.\"\n",
    "lancelot = \"LANCELOT\\n: Vous inquiétez pas Sire, y'a pas d'raisons que ça s'passe mal.\"\n",
    "\n",
    "print(guenievre, lancelot, sep=\"\\n\")"
   ]
  },
  {
   "cell_type": "markdown",
   "metadata": {},
   "source": [
    "Dans le premier cas, les deux-points sont collés au locuteur ; dans le second, ils sont rejetés à la ligne suivante."
   ]
  },
  {
   "cell_type": "markdown",
   "metadata": {
    "slideshow": {
     "slide_type": "subslide"
    }
   },
   "source": [
    "Dans le cahier des charges, la convention retenue est de séparer le locuteur et sa réplique par une tabulation (`\\t`), sur la même ligne."
   ]
  },
  {
   "cell_type": "code",
   "execution_count": null,
   "metadata": {
    "slideshow": {
     "slide_type": "fragment"
    }
   },
   "outputs": [],
   "source": [
    "guenievre = guenievre.replace(':\\n', '\\t')\n",
    "lancelot = lancelot.replace('\\n:', '\\t')\n",
    "\n",
    "print(guenievre, lancelot, sep='\\n')"
   ]
  },
  {
   "cell_type": "markdown",
   "metadata": {},
   "source": [
    "Cette solution utilise la méthode `replace()`. Une expression rationnelle aurait tout aussi bien pu convenir."
   ]
  },
  {
   "cell_type": "markdown",
   "metadata": {
    "slideshow": {
     "slide_type": "slide"
    }
   },
   "source": [
    "## Peaufiner le nettoyage"
   ]
  },
  {
   "cell_type": "markdown",
   "metadata": {},
   "source": [
    "La substitution des deux-points par une tabulation a, dans le cas de la réplique de Lancelot, conservé une espace indésirable :"
   ]
  },
  {
   "cell_type": "code",
   "execution_count": null,
   "metadata": {},
   "outputs": [],
   "source": [
    "# Position of the first occurrence of a whitespace in the string\n",
    "pos = lancelot.find(' ')\n",
    "print(pos)\n",
    "# What is next character ?\n",
    "print(lancelot[pos + 1])"
   ]
  },
  {
   "cell_type": "markdown",
   "metadata": {
    "slideshow": {
     "slide_type": "subslide"
    }
   },
   "source": [
    "Retirer les espaces superflues autour des tabulations :"
   ]
  },
  {
   "cell_type": "code",
   "execution_count": null,
   "metadata": {},
   "outputs": [],
   "source": [
    "import re\n",
    "pattern = re.compile('\\s?\\t\\s?')  \n",
    "lancelot = pattern.sub('\\t', lancelot)\n",
    "print(lancelot)"
   ]
  },
  {
   "cell_type": "markdown",
   "metadata": {
    "slideshow": {
     "slide_type": "fragment"
    }
   },
   "source": [
    "Le caractère `\\s` désigne tous les caractères d’espacement `[ \\t\\n\\r\\f\\v]`."
   ]
  }
 ],
 "metadata": {
  "celltoolbar": "Diaporama",
  "kernelspec": {
   "display_name": "Python 3",
   "language": "python",
   "name": "python3"
  },
  "language_info": {
   "codemirror_mode": {
    "name": "ipython",
    "version": 3
   },
   "file_extension": ".py",
   "mimetype": "text/x-python",
   "name": "python",
   "nbconvert_exporter": "python",
   "pygments_lexer": "ipython3",
   "version": "3.7.3"
  }
 },
 "nbformat": 4,
 "nbformat_minor": 2
}
