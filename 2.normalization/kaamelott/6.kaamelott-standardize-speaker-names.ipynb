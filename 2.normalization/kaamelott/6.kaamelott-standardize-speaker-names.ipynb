{
 "cells": [
  {
   "cell_type": "markdown",
   "metadata": {
    "slideshow": {
     "slide_type": "slide"
    }
   },
   "source": [
    "# Harmoniser les noms de locuteurs"
   ]
  },
  {
   "cell_type": "markdown",
   "metadata": {
    "slideshow": {
     "slide_type": "slide"
    }
   },
   "source": [
    "## Les enjeux de l’harmonisation"
   ]
  },
  {
   "cell_type": "markdown",
   "metadata": {
    "slideshow": {
     "slide_type": "fragment"
    }
   },
   "source": [
    "Le manque d’uniformité dans l’écriture du nom des locuteurs soulève de nombreux problèmes, notamment dans l’attribution des répliques."
   ]
  },
  {
   "cell_type": "code",
   "execution_count": null,
   "metadata": {
    "slideshow": {
     "slide_type": "fragment"
    }
   },
   "outputs": [],
   "source": [
    "t1 = \"Viviane\\tDe quoi?\"\n",
    "t2 = \"Dame du Lac\\tÉcoutez, je suis désolée de vous déranger en plein milieu de vos obligations mais c'est urgent.\"\n",
    "t3 = \"La Dame du Lac\\tEn fait ce serait pour une petite mission... mais je voudrais pas vous surcharger de travail, vous m'avez l'air bien à bloc déjà...\""
   ]
  },
  {
   "cell_type": "markdown",
   "metadata": {
    "slideshow": {
     "slide_type": "fragment"
    }
   },
   "source": [
    "*Viviane*, *Dame du Lac* et *La Dame du Lac*, qui pourtant désignent une même entité, seront considérés par une machine comme des personnes différentes."
   ]
  },
  {
   "cell_type": "code",
   "execution_count": null,
   "metadata": {
    "slideshow": {
     "slide_type": "fragment"
    }
   },
   "outputs": [],
   "source": [
    "speakers = set()    # A collection of unique items\n",
    "for text in [t1, t2, t3]:\n",
    "    splitted = text.split('\\t')    # Tab helps to split the line in two fragments\n",
    "    speaker = splitted[0]          # The speaker is the first fragment\n",
    "    speakers.add(speaker)          # Adds the speaker to the collection\n",
    "nb = len(speakers)                 # 3"
   ]
  },
  {
   "cell_type": "markdown",
   "metadata": {
    "slideshow": {
     "slide_type": "subslide"
    }
   },
   "source": [
    "Et si l’on veut comptabiliser le nombre de répliques par locuteur :"
   ]
  },
  {
   "cell_type": "code",
   "execution_count": null,
   "metadata": {
    "slideshow": {
     "slide_type": "fragment"
    }
   },
   "outputs": [],
   "source": [
    "stats = {}\n",
    "\n",
    "# For each speaker in the list\n",
    "for speaker in speakers:\n",
    "    stats.update(\n",
    "        {\n",
    "            # If the key already exists, add + 1 to nb of cues\n",
    "            # if not, initializes it at 0\n",
    "            speaker: stats.get(speaker, 0) + 1\n",
    "        }\n",
    "    )\n",
    "print(stats)"
   ]
  },
  {
   "cell_type": "markdown",
   "metadata": {
    "slideshow": {
     "slide_type": "slide"
    }
   },
   "source": [
    "## Identifier les sources d’erreurs"
   ]
  },
  {
   "cell_type": "markdown",
   "metadata": {
    "slideshow": {
     "slide_type": "fragment"
    }
   },
   "source": [
    "De nombreux facteurs président à la multiplication des formes d’un même locuteur :\n",
    "- capitalisation (LA DAME DU LAC, La dame du Lac, La Dame du lac)\n",
    "- fautes de frappes (Gueniève, Arhur)\n",
    "- inconstances (Lancelot, Lancelot du Lac)\n",
    "- mauvaises graphies (Démétra, Leodagan)\n",
    "- méconnaissance des usages (Le Roi Burgonde, Le Chef Viking)\n",
    "- fautes de transcriptions (Ferbach au lieu de Fearmac)\n",
    "- ignorance du nom de certains personnages (Torri, Ferghus)\n",
    "- …"
   ]
  },
  {
   "cell_type": "markdown",
   "metadata": {
    "slideshow": {
     "slide_type": "slide"
    }
   },
   "source": [
    "## Établir une notice d’autorité"
   ]
  },
  {
   "cell_type": "markdown",
   "metadata": {},
   "source": [
    "Une notice d’autorité des noms de personnages a pour objectif d’identifier sans ambiguïté les différents locuteurs.\n",
    "\n",
    "La [fiche *Wikipédia*](https://fr.wikipedia.org/wiki/Personnages_de_Kaamelott) constitue une bonne entrée en matière.\n",
    "\n",
    "À l’aide des notions abordées dans la partie sur le *Web scraping*, on obtient rapidement une liste des personnages principaux de la série."
   ]
  },
  {
   "cell_type": "code",
   "execution_count": null,
   "metadata": {
    "slideshow": {
     "slide_type": "fragment"
    }
   },
   "outputs": [],
   "source": [
    "speakers = []\n",
    "with open('./files/characters.txt') as file:\n",
    "    for line in file:\n",
    "        speakers.append(line.strip())\n",
    "print(speakers[:10])"
   ]
  },
  {
   "cell_type": "markdown",
   "metadata": {
    "slideshow": {
     "slide_type": "subslide"
    }
   },
   "source": [
    "Il reste à compléter la liste avec toutes les formes rejetées, en séparant chaque valeur par une tabulation `\\t`.\n",
    "\n",
    "```txt\n",
    "Aélis    Aelis    Aels  \n",
    "Angharad    Angarade    Angharade\n",
    "```\n",
    "\n",
    "La première valeur de chaque ligne correspond à la forme retenue, toutes les autres sont les formes rejetées."
   ]
  },
  {
   "cell_type": "markdown",
   "metadata": {
    "slideshow": {
     "slide_type": "subslide"
    }
   },
   "source": [
    "Le recueil des formes rejetées se fait par un algorithme qui va détecter la présence, pour chaque ligne du script analysé, d’une forme de locuteur qui n’apparaît pas déjà dans la liste des personnages."
   ]
  },
  {
   "cell_type": "markdown",
   "metadata": {
    "slideshow": {
     "slide_type": "fragment"
    }
   },
   "source": [
    "Un arbitrage manuel est nécessaire pour inscrire cette forme soit comme forme retenue, soit comme forme rejetée ou soit comme la forme d’un personnage qui n’est pas encore listé."
   ]
  },
  {
   "cell_type": "markdown",
   "metadata": {
    "slideshow": {
     "slide_type": "subslide"
    }
   },
   "source": [
    "La lecture d’un fichier au format tabulé est simplifiée par le module `csv` de Python :"
   ]
  },
  {
   "cell_type": "code",
   "execution_count": null,
   "metadata": {
    "slideshow": {
     "slide_type": "fragment"
    }
   },
   "outputs": [],
   "source": [
    "import csv\n",
    "speakers = []\n",
    "with open('./files/authorities.txt') as file:\n",
    "    characters = csv.reader(file, delimiter=\"\\t\")\n",
    "    [speakers.append(character) for character in characters]   \n",
    "print(speakers[61])"
   ]
  },
  {
   "cell_type": "markdown",
   "metadata": {
    "slideshow": {
     "slide_type": "fragment"
    }
   },
   "source": [
    "Le type de données `set` permet d’obtenir une liste unique de valeurs :"
   ]
  },
  {
   "cell_type": "code",
   "execution_count": null,
   "metadata": {
    "slideshow": {
     "slide_type": "fragment"
    }
   },
   "outputs": [],
   "source": [
    "speakers_in_script = set()\n",
    "with open('./sample/S03E82-witness.txt') as file:\n",
    "    script = csv.reader(file, delimiter=\"\\t\")\n",
    "    [speakers_in_script.add(line[0]) for line in script]\n",
    "print(speakers_in_script)"
   ]
  },
  {
   "cell_type": "markdown",
   "metadata": {
    "slideshow": {
     "slide_type": "subslide"
    }
   },
   "source": [
    "L’objectif maintenant est de déterminer si l’autorité *Le maître d’armes* est maintenue au détriment des formes rencontrées dans le script (*Le maître d’arme*, *Maitre d'armes*)."
   ]
  },
  {
   "cell_type": "markdown",
   "metadata": {
    "slideshow": {
     "slide_type": "fragment"
    }
   },
   "source": [
    "Si c’est le cas, ces dernières seront rajoutées comme formes rejetées de *Le maître d’armes* dans la notice d’autorité. L’entrée correspondante deviendra :\n",
    "\n",
    "```txt\n",
    "Le maître d’armes    Le maître d’arme    Maitre d'armes\n",
    "```"
   ]
  },
  {
   "cell_type": "markdown",
   "metadata": {
    "slideshow": {
     "slide_type": "slide"
    }
   },
   "source": [
    "## Comparer deux ensembles"
   ]
  },
  {
   "cell_type": "markdown",
   "metadata": {},
   "source": [
    "L’un des avantages des `set` en Python est de pouvoir effectuer dessus des opérations ensemblistes (inclusion, intersection…) :"
   ]
  },
  {
   "cell_type": "code",
   "execution_count": null,
   "metadata": {},
   "outputs": [],
   "source": [
    "authorities = set(['Arthur Pendragon', 'Le maître d’armes', 'Lancelot du Lac', 'Perceval de Galles'])\n",
    "speakers = set(['Arthur Pendragon', 'Perceval de Galles', 'Lancelot'])\n",
    "\n",
    "print(speakers - authorities)     # Difference"
   ]
  },
  {
   "cell_type": "markdown",
   "metadata": {
    "slideshow": {
     "slide_type": "fragment"
    }
   },
   "source": [
    "De là, on peut écrire un algorithme pour comparer toutes les formes listées dans la notice d’autorité des personnages avec les formes effectivement présentes des locuteurs dans les scripts."
   ]
  },
  {
   "cell_type": "markdown",
   "metadata": {
    "slideshow": {
     "slide_type": "slide"
    }
   },
   "source": [
    "## Corriger les formes rejetées"
   ]
  },
  {
   "cell_type": "markdown",
   "metadata": {},
   "source": [
    "La procédure consiste à comparer la forme d’un locuteur avec les formes de la notice d’autorité des personnages :\n",
    "- s’il s’agit de la forme retenue, elle est conservée ;\n",
    "- s’il s’agit d’une forme rejetée, elle est remplacée par la forme retenue."
   ]
  },
  {
   "cell_type": "markdown",
   "metadata": {
    "slideshow": {
     "slide_type": "subslide"
    }
   },
   "source": [
    "Considérons la liste d’autorité suivante :"
   ]
  },
  {
   "cell_type": "code",
   "execution_count": null,
   "metadata": {
    "slideshow": {
     "slide_type": "-"
    }
   },
   "outputs": [],
   "source": [
    "authorities = [\n",
    "    ['Arthur Pendragon', 'Arhur', 'ARTHUR', 'Arthur'],\n",
    "    ['Lancelot du Lac', 'Lancelot'],\n",
    "    ['Le maître d’armes', 'Le maître d’arme', 'Maître d’armes'],\n",
    "    ['Léodagan']\n",
    "]"
   ]
  },
  {
   "cell_type": "markdown",
   "metadata": {
    "slideshow": {
     "slide_type": "fragment"
    }
   },
   "source": [
    "Et la liste des formes de locuteurs d’un script :"
   ]
  },
  {
   "cell_type": "code",
   "execution_count": null,
   "metadata": {},
   "outputs": [],
   "source": [
    "speakers_in_script = ['Arthur', 'Lancelot', 'Maître d’arme', 'Le maître d’arme', 'Léodagan']"
   ]
  },
  {
   "cell_type": "markdown",
   "metadata": {
    "slideshow": {
     "slide_type": "subslide"
    }
   },
   "source": [
    "Une façon de procéder consisterait à, pour chaque locuteur (Arthur, Lancelot…), parcourir la liste d’autorité et, si la forme (Arthur) est différente de celle retenue (Arthur Pendragon) mais qu’elle figure parmi les formes rejetées (Arhur, ARTHUR, Arthur), alors la remplacer par la forme retenue."
   ]
  },
  {
   "cell_type": "code",
   "execution_count": null,
   "metadata": {
    "slideshow": {
     "slide_type": "fragment"
    }
   },
   "outputs": [],
   "source": [
    "# For each speaker in the script…\n",
    "for speaker in speakers_in_script:\n",
    "    print(\"Current form:\", speaker)\n",
    "    # … browses the authorities\n",
    "    for authority in authorities:\n",
    "        # If the speaker is in the authorities\n",
    "        # but it is also different than the correct form\n",
    "        if speaker in authority and speaker != authority[0]:\n",
    "            # Replaces it with the correct form\n",
    "            speaker = authority[0]\n",
    "            print(\"Correct form:\", speaker)"
   ]
  },
  {
   "cell_type": "markdown",
   "metadata": {
    "slideshow": {
     "slide_type": "subslide"
    }
   },
   "source": [
    "Ce genre de procédé mobilise beaucoup de ressources : la liste d’autorité est chargée dans son ensemble pour chaque locuteur !"
   ]
  },
  {
   "cell_type": "markdown",
   "metadata": {
    "slideshow": {
     "slide_type": "fragment"
    }
   },
   "source": [
    "Le type de données `dict` (dictionnaire) en Python permet d’améliorer sensiblement la procédure."
   ]
  },
  {
   "cell_type": "markdown",
   "metadata": {
    "slideshow": {
     "slide_type": "fragment"
    }
   },
   "source": [
    "Un dictionnaire permet d’associer une valeur à une clé : un numéro de téléphone à un nom, un code postal à une ville…"
   ]
  },
  {
   "cell_type": "code",
   "execution_count": null,
   "metadata": {},
   "outputs": [],
   "source": [
    "codes = {\n",
    "    'Paris': '75000',\n",
    "    'Nantes': '44000'\n",
    "}\n",
    "print(codes['Paris'])"
   ]
  },
  {
   "cell_type": "markdown",
   "metadata": {
    "slideshow": {
     "slide_type": "subslide"
    }
   },
   "source": [
    "Grâce à ce principe, on peut créer un dictionnaire qui, pour chaque forme rejetée d’un locuteur, renvoie la forme retenue :"
   ]
  },
  {
   "cell_type": "code",
   "execution_count": null,
   "metadata": {
    "slideshow": {
     "slide_type": "fragment"
    }
   },
   "outputs": [],
   "source": [
    "replacements = {}\n",
    "for authority in authorities:\n",
    "    valid_form = authority[0]\n",
    "    invalid_forms = authority[1:]\n",
    "    for form in invalid_forms:\n",
    "        replacements.update(\n",
    "            {\n",
    "                form: valid_form\n",
    "            }\n",
    "        )\n",
    "print(replacements)"
   ]
  },
  {
   "cell_type": "markdown",
   "metadata": {
    "slideshow": {
     "slide_type": "subslide"
    }
   },
   "source": [
    "Ensuite, pour chaque locuteur présent dans un script de la série, on interroge uniquement la clé correspondante dans le dictionnaire :"
   ]
  },
  {
   "cell_type": "code",
   "execution_count": null,
   "metadata": {},
   "outputs": [],
   "source": [
    "for speaker in speakers_in_script:\n",
    "    print(\"current form:\", speaker)\n",
    "    speaker = replacements[speaker]\n",
    "    print(\"corrected form:\", speaker)"
   ]
  },
  {
   "cell_type": "markdown",
   "metadata": {
    "slideshow": {
     "slide_type": "subslide"
    }
   },
   "source": [
    "Comme la forme *Maître d’arme* ne figure pas encore dans la notice d’autorité, une exception est levée et empêche la suite du traitement.\n",
    "\n",
    "Ce problème ne devrait pas se produire avec une notice d’autorité complète et à jour. Malgré tout, il existe une méthode liée aux dictionnaires pour ne pas interrompre l’exécution du script en présence d’une clé manquante, `get()` :"
   ]
  },
  {
   "cell_type": "code",
   "execution_count": null,
   "metadata": {},
   "outputs": [],
   "source": [
    "for speaker in speakers_in_script:\n",
    "    print(\"current form:\", speaker)\n",
    "    # If speaker is a valid key, proceed; if not, let speaker as the corrected form\n",
    "    speaker = replacements.get(speaker, speaker)\n",
    "    print(\"corrected form:\", speaker)"
   ]
  }
 ],
 "metadata": {
  "celltoolbar": "Diaporama",
  "kernelspec": {
   "display_name": "Python 3 (ipykernel)",
   "language": "python",
   "name": "python3"
  },
  "language_info": {
   "codemirror_mode": {
    "name": "ipython",
    "version": 3
   },
   "file_extension": ".py",
   "mimetype": "text/x-python",
   "name": "python",
   "nbconvert_exporter": "python",
   "pygments_lexer": "ipython3",
   "version": "3.7.4"
  }
 },
 "nbformat": 4,
 "nbformat_minor": 2
}
