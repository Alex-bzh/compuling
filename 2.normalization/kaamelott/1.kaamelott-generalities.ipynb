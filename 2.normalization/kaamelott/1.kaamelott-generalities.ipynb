{
 "cells": [
  {
   "cell_type": "markdown",
   "metadata": {
    "slideshow": {
     "slide_type": "slide"
    }
   },
   "source": [
    "# Normaliser le corpus *Kaamelott*"
   ]
  },
  {
   "cell_type": "markdown",
   "metadata": {
    "slideshow": {
     "slide_type": "slide"
    }
   },
   "source": [
    "## Pourquoi normaliser ?"
   ]
  },
  {
   "cell_type": "markdown",
   "metadata": {},
   "source": [
    "Une simple collection d’objets ne constitue pas un corpus. Les *Lettres persanes* et la correspondance *Facebook* avec vos cousins d’Islamabad ne permettront pas forcément d’étudier les mêmes faits linguistiques.\n",
    "\n",
    "Sans entrer dans le détail des bonnes pratiques de la constitution d’un corpus, soulignons l’impératif de disposer d’un ensemble homogène d’objets afin de faciliter les traitements qui révéleront ses caractéristiques."
   ]
  },
  {
   "cell_type": "markdown",
   "metadata": {
    "slideshow": {
     "slide_type": "subslide"
    }
   },
   "source": [
    "Les transcriptions publiées sur le site Hypnoweb ne sont pas officielles. Elles n’ont pas l’aval des auteurs de la série *Kaamelott* et leur qualité dépend entièrement des compétences des membres du site.\n",
    "\n",
    "En parcourant les scripts récupérés par des méthodes automatiques (*Web scraping*), les complications apparaissent rapidement :\n",
    "- liste non exhaustive de scripts ;\n",
    "- erreurs de transcription ;\n",
    "- fautes de français ;\n",
    "- mauvaise interprétation (sentiments, intentions) ;\n",
    "- manque d’unicité ;\n",
    "- …"
   ]
  },
  {
   "cell_type": "markdown",
   "metadata": {
    "slideshow": {
     "slide_type": "subslide"
    }
   },
   "source": [
    "Quelques exemples concrets :\n",
    "- noms des personnages parfois en majuscules\n",
    "- différentes orthographes pour les noms des personnages\n",
    "- didascalies parfois entre parenthèses, d’autres fois à la ligne\n",
    "- formes élidées ou contractées pas systématiquement préservées\n",
    "\n",
    "Bref, le besoin d’harmoniser le corpus s’impose comme incontournable."
   ]
  },
  {
   "cell_type": "markdown",
   "metadata": {
    "slideshow": {
     "slide_type": "slide"
    }
   },
   "source": [
    "## Établir des règles"
   ]
  },
  {
   "cell_type": "markdown",
   "metadata": {
    "cell_style": "center",
    "slideshow": {
     "slide_type": "subslide"
    }
   },
   "source": [
    "Suite aux observations préalables faites sur le corpus, on décrit des règles qui vont présider à la constitution de notre corpus :"
   ]
  },
  {
   "cell_type": "markdown",
   "metadata": {
    "cell_style": "center",
    "slideshow": {
     "slide_type": "fragment"
    }
   },
   "source": [
    "1. La part de subjectivité d’un transcripteur amateur est trop importante pour se fier aux didascalies. Les supprimer."
   ]
  },
  {
   "cell_type": "markdown",
   "metadata": {
    "slideshow": {
     "slide_type": "fragment"
    }
   },
   "source": [
    "2. Le contexte du site Hypnoweb n’est pas suffisamment formel pour juger du niveau de français des transcripteurs :\n",
    "    - corriger les fautes (grammaire, orthographe, syntaxe)\n",
    "    - résoudre les formes contractées (*j'lui ai* devient *je lui ai*)"
   ]
  },
  {
   "cell_type": "markdown",
   "metadata": {
    "slideshow": {
     "slide_type": "fragment"
    }
   },
   "source": [
    "3. Constituer une liste normalisée des personnages de la série"
   ]
  },
  {
   "cell_type": "markdown",
   "metadata": {
    "slideshow": {
     "slide_type": "subslide"
    }
   },
   "source": [
    "4. La dernière ligne de chaque script porte parfois mention du pseudonyme du transcripteur. Supprimer cette ligne quand elle est présente, mais la conserver dans un index."
   ]
  },
  {
   "cell_type": "markdown",
   "metadata": {
    "slideshow": {
     "slide_type": "fragment"
    }
   },
   "source": [
    "5. Une ligne de texte devrait se caractériser par trois éléments :\n",
    "    - le nom du locuteur\n",
    "    - un signe séparateur\n",
    "    - la réplique"
   ]
  },
  {
   "cell_type": "markdown",
   "metadata": {
    "slideshow": {
     "slide_type": "slide"
    }
   },
   "source": [
    "## Échantillonnage"
   ]
  },
  {
   "cell_type": "markdown",
   "metadata": {
    "slideshow": {
     "slide_type": "subslide"
    }
   },
   "source": [
    "Échantillon réduit d’une harmonisation réussie :"
   ]
  },
  {
   "cell_type": "markdown",
   "metadata": {
    "cell_style": "split",
    "slideshow": {
     "slide_type": "fragment"
    }
   },
   "source": [
    "**Avant**  \n",
    "À table.  \n",
    "Arthur :  \n",
    "Bon aller beau père, on s’remet au boulot ?  \n",
    "Léodagan :  \n",
    "Ouais ça va pas s’faire tout seul.  \n",
    "Dame Séli :  \n",
    "Aujourd’hui y a du dessert.  \n",
    "Arthur  \n",
    "(  \n",
    "pas vraiment emballé, commence à se lever)  \n",
    ": Euh… non… non moi ça va, merci."
   ]
  },
  {
   "cell_type": "markdown",
   "metadata": {
    "cell_style": "split",
    "slideshow": {
     "slide_type": "fragment"
    }
   },
   "source": [
    "**Après**  \n",
    "Arthur\\tBon allez beau-père, on se remet au boulot ?  \n",
    "Léodagan\\tOuais ça va pas se faire tout seul.  \n",
    "Dame Séli\\tAujourd’hui y'a du dessert.  \n",
    "Arthur\\tEuh non non moi ça va, merci.\n",
    "\n",
    "*\\t* = tabulation"
   ]
  },
  {
   "cell_type": "markdown",
   "metadata": {
    "slideshow": {
     "slide_type": "slide"
    }
   },
   "source": [
    "## Méthodologie"
   ]
  },
  {
   "cell_type": "markdown",
   "metadata": {
    "slideshow": {
     "slide_type": "subslide"
    }
   },
   "source": [
    "Au début du projet de constitution d’un corpus, impossible de prévoir tous les cas de figure qui demanderont une intervention. La liste des règles retenues s’étoffera au fur et à mesure du nettoyage du corpus.\n",
    "\n",
    "Du point de vue informatique, deux outils seront très largement mobilisés :\n",
    "- les méthodes sur les chaînes de caractères\n",
    "- les expressions rationnelles (ou *regex*)"
   ]
  },
  {
   "cell_type": "markdown",
   "metadata": {
    "slideshow": {
     "slide_type": "subslide"
    }
   },
   "source": [
    "### Méthodes sur les chaînes de caractère"
   ]
  },
  {
   "cell_type": "markdown",
   "metadata": {
    "slideshow": {
     "slide_type": "fragment"
    }
   },
   "source": [
    "Le langage Python offre un ensemble de méthodes qui permettent d'agir sur des objets de type : *chaîne de caractères*."
   ]
  },
  {
   "cell_type": "markdown",
   "metadata": {
    "slideshow": {
     "slide_type": "-"
    }
   },
   "source": [
    "Tout objet identifié par Python comme appartenant à la classe `str` est une chaîne de caractères"
   ]
  },
  {
   "cell_type": "code",
   "execution_count": null,
   "metadata": {
    "slideshow": {
     "slide_type": "-"
    }
   },
   "outputs": [],
   "source": [
    "string = \"Voici une chaîne de caractères.\"\n",
    "not_string = 32\n",
    "\n",
    "print(type(string), type(not_string))"
   ]
  },
  {
   "cell_type": "markdown",
   "metadata": {
    "slideshow": {
     "slide_type": "subslide"
    }
   },
   "source": [
    "Chaque classe embarque un ensemble de fonctions natives au langage. On les appelle des méthodes *built-in*.\n",
    "\n",
    "Pour les lister, exécuter la fonction `help()` sur le type de l’objet :"
   ]
  },
  {
   "cell_type": "code",
   "execution_count": null,
   "metadata": {},
   "outputs": [],
   "source": [
    "help(str)"
   ]
  },
  {
   "cell_type": "markdown",
   "metadata": {},
   "source": [
    "Pour afficher uniquement la documentation d’une méthode particulière :"
   ]
  },
  {
   "cell_type": "code",
   "execution_count": null,
   "metadata": {},
   "outputs": [],
   "source": [
    "help(str.lower)"
   ]
  },
  {
   "cell_type": "markdown",
   "metadata": {
    "slideshow": {
     "slide_type": "subslide"
    }
   },
   "source": [
    "Quelques méthodes utiles à la normalisation :\n",
    "- `startswith`\n",
    "- `endswith`\n",
    "- `replace`\n",
    "- `lower`\n",
    "- `upper`\n",
    "- `capitalize`"
   ]
  },
  {
   "cell_type": "code",
   "execution_count": null,
   "metadata": {},
   "outputs": [],
   "source": [
    "# Liste de graphies du prénom \"Arthur\" à normaliser\n",
    "variants = [\"ARTHUR\", \"arthur\", \"Arthur\", \"ARthur\"]\n",
    "# Remplacement de chaque nom par sa version i) bas de casse ; ii) majuscule 1e lettre\n",
    "variants = [variant.lower().capitalize() for variant in variants]\n",
    "# Dédoublonnage\n",
    "variants_set = set(variants)\n",
    "# S'il ne subsiste qu'une seule forme du nom, le travail est terminé\n",
    "print(f\"Le nom du personnage est : {variants[0]}\") if len(variants_set) == 1 else print(\"Conflits à résoudre\")"
   ]
  },
  {
   "cell_type": "markdown",
   "metadata": {
    "slideshow": {
     "slide_type": "subslide"
    }
   },
   "source": [
    "### Les expressions rationnelles"
   ]
  },
  {
   "cell_type": "markdown",
   "metadata": {
    "slideshow": {
     "slide_type": "fragment"
    }
   },
   "source": [
    "Documentation officielle :  https://docs.python.org/3/library/re.html"
   ]
  },
  {
   "cell_type": "markdown",
   "metadata": {
    "slideshow": {
     "slide_type": "-"
    }
   },
   "source": [
    "Les expressions rationnelles permettent de repérer des motifs dans une chaîne de caractères et de travailler avec. Bien souvent, il est préférable de recourir à une séquence d’expressions plutôt que d’essayer de résoudre un problème avec une expression alambiquée."
   ]
  },
  {
   "cell_type": "markdown",
   "metadata": {
    "slideshow": {
     "slide_type": "subslide"
    }
   },
   "source": [
    "Exemple de texte à normaliser :"
   ]
  },
  {
   "cell_type": "code",
   "execution_count": null,
   "metadata": {
    "slideshow": {
     "slide_type": "-"
    }
   },
   "outputs": [],
   "source": [
    "text = \"Arthur:\\nBon allez beau-père, on se remet au boulot ?\\n\"\n",
    "text += \"Leodagan\\n: Ouais ça va pas se faire tout seul.\\n\""
   ]
  },
  {
   "cell_type": "markdown",
   "metadata": {
    "slideshow": {
     "slide_type": "fragment"
    }
   },
   "source": [
    "Tout d’abord, importer le module `re` :"
   ]
  },
  {
   "cell_type": "code",
   "execution_count": null,
   "metadata": {},
   "outputs": [],
   "source": [
    "import re"
   ]
  },
  {
   "cell_type": "markdown",
   "metadata": {
    "slideshow": {
     "slide_type": "fragment"
    }
   },
   "source": [
    "Appliquer une substitution :"
   ]
  },
  {
   "cell_type": "code",
   "execution_count": null,
   "metadata": {},
   "outputs": [],
   "source": [
    "# En une seule ligne\n",
    "text = re.sub('\\s?\\n?:\\n?\\s?', ':', text)\n",
    "# Avec plusieurs passages (résultat équivalent)\n",
    "text = re.sub('\\n:', ':', text)\n",
    "text = re.sub(':\\n', ':', text)\n",
    "text = re.sub(':\\s', ':', text)"
   ]
  },
  {
   "cell_type": "markdown",
   "metadata": {
    "slideshow": {
     "slide_type": "subslide"
    }
   },
   "source": [
    "De nombreuses opérations peuvent être réalisées grâce aux expressions rationnelles. Les maîtriser permet de résoudre efficacement la plupart des tâches de normalisation.\n",
    "\n",
    "Pour s’entraîner :\n",
    "- [Regex crosswords](https://regexcrossword.com/)\n",
    "- [Rubular](https://rubular.com/)"
   ]
  }
 ],
 "metadata": {
  "celltoolbar": "Diaporama",
  "kernelspec": {
   "display_name": "Python 3 (ipykernel)",
   "language": "python",
   "name": "python3"
  },
  "language_info": {
   "codemirror_mode": {
    "name": "ipython",
    "version": 3
   },
   "file_extension": ".py",
   "mimetype": "text/x-python",
   "name": "python",
   "nbconvert_exporter": "python",
   "pygments_lexer": "ipython3",
   "version": "3.7.4"
  }
 },
 "nbformat": 4,
 "nbformat_minor": 2
}
