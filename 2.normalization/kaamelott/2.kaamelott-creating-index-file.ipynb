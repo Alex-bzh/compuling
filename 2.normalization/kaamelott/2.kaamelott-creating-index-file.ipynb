{
 "cells": [
  {
   "cell_type": "markdown",
   "metadata": {
    "slideshow": {
     "slide_type": "slide"
    }
   },
   "source": [
    "# Créer un fichier d’index"
   ]
  },
  {
   "cell_type": "markdown",
   "metadata": {
    "slideshow": {
     "slide_type": "subslide"
    }
   },
   "source": [
    "Le fichier d’index est destiné à recueillir les métadonnées sur les épisodes de la série.\n",
    "\n",
    "Pour le moment, ces métadonnées seront constituées du :\n",
    "- titre de l’épisode\n",
    "- numéro d’ordre de la saison\n",
    "- numéro d’ordre de l’épisode dans la saison\n",
    "- nom du transcripteur\n",
    "- source de la transcription (Hypnoweb)"
   ]
  },
  {
   "cell_type": "markdown",
   "metadata": {
    "slideshow": {
     "slide_type": "subslide"
    }
   },
   "source": [
    "Elles seront suivies plus tard par d’autres, comme la liste des locuteurs, le nombre de répliques, le nombres de mots…\n",
    "\n",
    "Idéalement, ce fichier d’index se conçoit sous la forme d’un fichier à plat, contenant une ligne par épisode, chaque métadonnée séparée de la précédente par un signe."
   ]
  },
  {
   "cell_type": "markdown",
   "metadata": {
    "slideshow": {
     "slide_type": "slide"
    }
   },
   "source": [
    "## Récupérer les métadonnées de l’épisode"
   ]
  },
  {
   "cell_type": "markdown",
   "metadata": {
    "slideshow": {
     "slide_type": "subslide"
    }
   },
   "source": [
    "À partir du nom même d’un script, il est possible de récupérer trois informations : le titre de l’épisode, son numéro d’ordre dans la saison et le numéro d’ordre de la saison à laquelle il est rattaché.\n",
    "\n",
    "**Format d’un nom de fichier :** `S00E00-titre-episode.txt`  \n",
    "**Exemple :** `S01E02-la-tarte-aux-myrtilles.txt`"
   ]
  },
  {
   "cell_type": "markdown",
   "metadata": {
    "slideshow": {
     "slide_type": "subslide"
    }
   },
   "source": [
    "Grâce aux expressions rationnelles, il est aisé de capturer ces métadonnées et de les inclure dans le fichier d’index."
   ]
  },
  {
   "cell_type": "markdown",
   "metadata": {
    "slideshow": {
     "slide_type": "fragment"
    }
   },
   "source": [
    "Par exemple, si pour le fichier `S01E02-la-tarte-aux-myrtilles.txt` on souhaite récupérer le numéro d’ordre de la saison (composé de deux chiffres après le caractère `S`) :"
   ]
  },
  {
   "cell_type": "code",
   "execution_count": null,
   "metadata": {
    "slideshow": {
     "slide_type": "fragment"
    }
   },
   "outputs": [],
   "source": [
    "import re\n",
    "\n",
    "filename = 'S01E02-la-tarte-aux-myrtilles.txt'\n",
    "pattern = 'S(?P<season>[0-9]{2})'\n",
    "m = re.match(pattern, filename)\n",
    "print(m.group('season'))"
   ]
  },
  {
   "cell_type": "markdown",
   "metadata": {
    "slideshow": {
     "slide_type": "subslide"
    }
   },
   "source": [
    "À présent, il ne reste plus qu’à appliquer la méthode aux autres métadonnées et sur l’ensemble des fichiers :"
   ]
  },
  {
   "cell_type": "code",
   "execution_count": null,
   "metadata": {
    "slideshow": {
     "slide_type": "-"
    }
   },
   "outputs": [],
   "source": [
    "# Modules to import\n",
    "import os, re\n",
    "\n",
    "# Separator\n",
    "sep = ','\n",
    "\n",
    "# Pattern to capture the number of the season and the number of the episode in the season\n",
    "# and the title of the episode.\n",
    "pattern = 'S(?P<season>[0-9]{2})E(?P<episode>[0-9]{2,3})-(?P<title>.+).txt'\n",
    "\n",
    "# Empty string\n",
    "output = ''\n",
    "\n",
    "# Opens the scripts and captures the metadata\n",
    "for screenplay in os.listdir('./sample'):\n",
    "    with open(f'./sample/{screenplay}') as file:\n",
    "        metas = re.match(pattern, screenplay)\n",
    "        output += f\"{metas.group('title')}{sep}\"\n",
    "        output += f\"{metas.group('season')}{sep}\"\n",
    "        output += f\"{metas.group('episode')}\\n\""
   ]
  },
  {
   "cell_type": "markdown",
   "metadata": {
    "slideshow": {
     "slide_type": "slide"
    }
   },
   "source": [
    "## Récupérer le pseudonyme du transcripteur"
   ]
  },
  {
   "cell_type": "markdown",
   "metadata": {
    "slideshow": {
     "slide_type": "subslide"
    }
   },
   "source": [
    "Pour rappel, le pseudonyme du transcripteur est reporté à la dernière ligne d’un script, mais malheureusement pas de manière systématique.\n",
    "\n",
    "La solution consiste à tester l’écriture de cette ligne et, si elle débute par la chaîne *Rédigé par*, alors capturer le pseudonyme et l’ajouter à `output`.\n",
    "\n",
    "Exemple avec deux lignes issues du corpus :"
   ]
  },
  {
   "cell_type": "code",
   "execution_count": null,
   "metadata": {
    "slideshow": {
     "slide_type": "-"
    }
   },
   "outputs": [],
   "source": [
    "import re\n",
    "\n",
    "output = 'ambidextrie,01,35'\n",
    "\n",
    "pattern = 'Rédigé par\\s?(?P<alias>[A-Za-z1-9]+)\\s?.+'\n",
    "last_lines = ['Rédigé par Holly95 pour HypnoseriesKaamelott', '…']\n",
    "\n",
    "for last_line in last_lines:\n",
    "    if last_line.startswith('Rédigé par'):\n",
    "        m = re.match(pattern, last_line)\n",
    "        output += sep + m.group('alias')\n",
    "        print(output)"
   ]
  },
  {
   "cell_type": "markdown",
   "metadata": {
    "slideshow": {
     "slide_type": "subslide"
    }
   },
   "source": [
    "Intégrer la méthode à l’ensemble des scripts :"
   ]
  },
  {
   "cell_type": "code",
   "execution_count": null,
   "metadata": {
    "slideshow": {
     "slide_type": "-"
    }
   },
   "outputs": [],
   "source": [
    "import os, re\n",
    "\n",
    "sep = ','\n",
    "pattern = 'S(?P<season>[0-9]{2})E(?P<episode>[0-9]{2,3})-(?P<title>.+).txt'\n",
    "output = ''\n",
    "\n",
    "for screenplay in os.listdir('./sample'):\n",
    "    with open(f'./sample/{screenplay}') as file:\n",
    "        metas = re.match(pattern, screenplay)\n",
    "        output += f\"{metas.group('title')}{sep}\"\n",
    "        output += f\"{metas.group('season')}{sep}\"\n",
    "        output += f\"{metas.group('episode')}{sep}\"\n",
    "        # Focus on the last line\n",
    "        last_line = file.readlines()[-1]\n",
    "        if last_line.startswith('Rédigé par'):\n",
    "            m = re.match('Rédigé par\\s?(?P<alias>[A-Za-z1-9]+)\\s?.+', last_line)\n",
    "            output += f\"{m.group('alias')}\\n\""
   ]
  },
  {
   "cell_type": "markdown",
   "metadata": {
    "slideshow": {
     "slide_type": "slide"
    }
   },
   "source": [
    "## Renseigner la source"
   ]
  },
  {
   "cell_type": "markdown",
   "metadata": {
    "slideshow": {
     "slide_type": "fragment"
    }
   },
   "source": [
    "La dernière métadonnée concerne la source de la transcription, à savoir le site Hypnoweb. Elle se rajoute manuellement :"
   ]
  },
  {
   "cell_type": "code",
   "execution_count": null,
   "metadata": {},
   "outputs": [],
   "source": [
    "output = 'ambidextrie,01,35,Holly95'\n",
    "output += sep + 'Hypnoweb'\n",
    "print(output)"
   ]
  },
  {
   "cell_type": "markdown",
   "metadata": {
    "slideshow": {
     "slide_type": "subslide"
    }
   },
   "source": [
    "Pour l’ensemble des scripts :"
   ]
  },
  {
   "cell_type": "code",
   "execution_count": null,
   "metadata": {
    "slideshow": {
     "slide_type": "-"
    }
   },
   "outputs": [],
   "source": [
    "import os, re\n",
    "\n",
    "sep = ','\n",
    "pattern = 'S(?P<season>[0-9]{2})E(?P<episode>[0-9]{2,3})-(?P<title>.+).txt'\n",
    "output = ''\n",
    "\n",
    "for screenplay in os.listdir('./sample'):\n",
    "    with open(f'./sample/{screenplay}') as file:\n",
    "        metas = re.match(pattern, screenplay)\n",
    "        output += f\"{metas.group('title')}{sep}\"\n",
    "        output += f\"{metas.group('season')}{sep}\"\n",
    "        output += f\"{metas.group('episode')}{sep}\"\n",
    "        last_line = file.readlines()[-1]\n",
    "        if last_line.startswith('Rédigé par'):\n",
    "            m = re.match('Rédigé par\\s?(?P<alias>[A-Za-z1-9]+)\\s?.+', last_line)\n",
    "            output += f\"{m.group('alias')}\"\n",
    "        \n",
    "        output += f'{sep}Hypnoweb\\n'"
   ]
  },
  {
   "cell_type": "markdown",
   "metadata": {
    "slideshow": {
     "slide_type": "slide"
    }
   },
   "source": [
    "## Enregistrer le résultat"
   ]
  },
  {
   "cell_type": "markdown",
   "metadata": {
    "slideshow": {
     "slide_type": "fragment"
    }
   },
   "source": [
    "Finalement, enregistrer la sortie dans un fichier :"
   ]
  },
  {
   "cell_type": "code",
   "execution_count": null,
   "metadata": {
    "slideshow": {
     "slide_type": "-"
    }
   },
   "outputs": [],
   "source": [
    "with open('./files/index.txt', 'w') as index:\n",
    "    index.write(output)"
   ]
  }
 ],
 "metadata": {
  "celltoolbar": "Diaporama",
  "kernelspec": {
   "display_name": "Python 3 (ipykernel)",
   "language": "python",
   "name": "python3"
  },
  "language_info": {
   "codemirror_mode": {
    "name": "ipython",
    "version": 3
   },
   "file_extension": ".py",
   "mimetype": "text/x-python",
   "name": "python",
   "nbconvert_exporter": "python",
   "pygments_lexer": "ipython3",
   "version": "3.7.4"
  }
 },
 "nbformat": 4,
 "nbformat_minor": 2
}
