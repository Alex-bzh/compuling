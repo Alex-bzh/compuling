{
 "cells": [
  {
   "cell_type": "markdown",
   "metadata": {
    "slideshow": {
     "slide_type": "slide"
    }
   },
   "source": [
    "# Modulariser la conception du fichier d’index"
   ]
  },
  {
   "cell_type": "markdown",
   "metadata": {
    "slideshow": {
     "slide_type": "slide"
    }
   },
   "source": [
    "## Ébauche de l’algorithme\n",
    "\n",
    "Comme le script prend de l’ampleur, il est temps de réfléchir à l’organisation du code. Pour cela, une opération s’impose : réfléchir à l’algorithme du programme.\n",
    "\n",
    "En énumérant les actions, on parviendra à dégager les besoins puis à repérer les opérations redondantes."
   ]
  },
  {
   "cell_type": "markdown",
   "metadata": {
    "cell_style": "split",
    "slideshow": {
     "slide_type": "subslide"
    }
   },
   "source": [
    "Pour chaque script :\n",
    "- récupérer les métadonnées\n",
    "- remplir l’index\n",
    "\n",
    "Format de l’index ?\n",
    "- une ligne par script\n",
    "- titre, n° saison, n° épisode, transcripteur, propriétaire"
   ]
  },
  {
   "cell_type": "markdown",
   "metadata": {
    "cell_style": "split",
    "slideshow": {
     "slide_type": "-"
    }
   },
   "source": [
    "![Organigramme ](./images/schema-index.png)"
   ]
  },
  {
   "cell_type": "markdown",
   "metadata": {
    "slideshow": {
     "slide_type": "subslide"
    }
   },
   "source": [
    "Quels sont les besoins ?\n",
    "- identifier les trois premiers métas à partir du titre du fichier\n",
    "- lire les scripts\n",
    "- récupérer le méta *transcripteur* dans la dernière ligne du script (si présent)\n",
    "- rajouter le méta *propriétaire* (Hypnoweb)\n",
    "- écrire le résultat dans un fichier"
   ]
  },
  {
   "cell_type": "markdown",
   "metadata": {
    "slideshow": {
     "slide_type": "subslide"
    }
   },
   "source": [
    "À partir des besoins recensés, l’algorithme de création du fichier d’index pourrait ressembler à :\n",
    "1. établir la liste des scripts\n",
    "2. pour chaque script :\n",
    "    - récupérer les premières métadonnées\n",
    "    - lire la dernière ligne\n",
    "    - identifier le transcripteur et le rajouter aux métadonnées\n",
    "3. rajouter le propriétaire aux métadonnées\n",
    "4. Créer un fichier index.txt :\n",
    "    - pour chaque ligne de métadonnées :\n",
    "        - pour chaque métadonnée :\n",
    "            - écrire la métadonnée puis une virgule\n",
    "        - passer à la ligne"
   ]
  },
  {
   "cell_type": "markdown",
   "metadata": {
    "slideshow": {
     "slide_type": "slide"
    }
   },
   "source": [
    "## Découper en modules"
   ]
  },
  {
   "cell_type": "markdown",
   "metadata": {
    "slideshow": {
     "slide_type": "subslide"
    }
   },
   "source": [
    "L’enchaînement des actions permet de dégager les opérations qui ne sont pas mises à disposition de manière native par le langage :\n",
    "- récupérer les métadonnées\n",
    "- identifier le transcripteur\n",
    "- rajouter une métadonnée à un ensemble de métadonnées\n",
    "\n",
    "Pour ces opérations, le plus simple est d’écrire des fonctions dans un module (p.ex. `tools.py`)."
   ]
  },
  {
   "cell_type": "markdown",
   "metadata": {
    "slideshow": {
     "slide_type": "subslide"
    }
   },
   "source": [
    "### Récupérer les métadonnées à partir du nom de fichier"
   ]
  },
  {
   "cell_type": "code",
   "execution_count": null,
   "metadata": {
    "slideshow": {
     "slide_type": "-"
    }
   },
   "outputs": [],
   "source": [
    "# Module commun à toutes les fonctions utilisateur\n",
    "import re"
   ]
  },
  {
   "cell_type": "code",
   "execution_count": null,
   "metadata": {
    "slideshow": {
     "slide_type": "-"
    }
   },
   "outputs": [],
   "source": [
    "def get_metadata(filename):\n",
    "    \"\"\"Defines metadata from a filename and pushes them into an array\n",
    "    \n",
    "    Keyword argument:\n",
    "    filename -- the filename to parse\n",
    "    \"\"\"\n",
    "    output = []\n",
    "    pattern = 'S(?P<season>[0-9]{2})E(?P<episode>[0-9]{2,3})-(?P<title>.+).txt'\n",
    "    metas = re.match(pattern, filename)\n",
    "    output.append(metas.group('title'))\n",
    "    output.append(metas.group('season'))\n",
    "    output.append(metas.group('episode'))\n",
    "    return output"
   ]
  },
  {
   "cell_type": "markdown",
   "metadata": {
    "slideshow": {
     "slide_type": "subslide"
    }
   },
   "source": [
    "### Identifier le transcripteur"
   ]
  },
  {
   "cell_type": "code",
   "execution_count": null,
   "metadata": {},
   "outputs": [],
   "source": [
    "def get_alias(sentence):\n",
    "    \"\"\"Regex that looks in a sentence for the alias of a transcriber\n",
    "    \n",
    "    Keyword argument:\n",
    "    sentence -- the string in which look for an alias\n",
    "    \"\"\"\n",
    "    if sentence.startswith('Rédigé par'):\n",
    "        pattern = 'Rédigé par\\s?(?P<alias>[A-Za-z1-9]+)\\s?.+'\n",
    "        m = re.match(pattern, sentence)\n",
    "        return m.group('alias')\n",
    "    else:\n",
    "        return ''"
   ]
  },
  {
   "cell_type": "markdown",
   "metadata": {
    "slideshow": {
     "slide_type": "subslide"
    }
   },
   "source": [
    "### Rajouter une métadonnée à un ensemble"
   ]
  },
  {
   "cell_type": "code",
   "execution_count": null,
   "metadata": {},
   "outputs": [],
   "source": [
    "def add_meta(what, where, in_which):\n",
    "    \"\"\"Adds a metadata at a specific index in an array of metadata\n",
    "    \n",
    "    Keyword arguments:\n",
    "    what -- the object to record\n",
    "    where -- the index where to record the object\n",
    "    in_which -- the array of metadata to update\n",
    "    \"\"\"\n",
    "    in_which[where].append(what)"
   ]
  },
  {
   "cell_type": "markdown",
   "metadata": {
    "slideshow": {
     "slide_type": "slide"
    }
   },
   "source": [
    "## Écrire la procédure principale"
   ]
  },
  {
   "cell_type": "markdown",
   "metadata": {
    "slideshow": {
     "slide_type": "subslide"
    }
   },
   "source": [
    "Importer la liste des modules :"
   ]
  },
  {
   "cell_type": "code",
   "execution_count": null,
   "metadata": {
    "slideshow": {
     "slide_type": "-"
    }
   },
   "outputs": [],
   "source": [
    "# Modules to import\n",
    "import modules.tools as tools, os"
   ]
  },
  {
   "cell_type": "markdown",
   "metadata": {
    "slideshow": {
     "slide_type": "fragment"
    }
   },
   "source": [
    "Établir la liste des scripts :"
   ]
  },
  {
   "cell_type": "code",
   "execution_count": null,
   "metadata": {},
   "outputs": [],
   "source": [
    "screenplays = os.listdir('./sample')"
   ]
  },
  {
   "cell_type": "markdown",
   "metadata": {
    "slideshow": {
     "slide_type": "fragment"
    }
   },
   "source": [
    "Initialiser une liste vide de métadonnées :"
   ]
  },
  {
   "cell_type": "code",
   "execution_count": null,
   "metadata": {},
   "outputs": [],
   "source": [
    "metadata = []"
   ]
  },
  {
   "cell_type": "markdown",
   "metadata": {
    "slideshow": {
     "slide_type": "subslide"
    }
   },
   "source": [
    "Pour chaque script : obtenir les premières métadonnées, identifier le transcripteur et rajouter la mention du propriétaire :"
   ]
  },
  {
   "cell_type": "code",
   "execution_count": null,
   "metadata": {
    "slideshow": {
     "slide_type": "-"
    }
   },
   "outputs": [],
   "source": [
    "# For each screenplay\n",
    "for index, screenplay in enumerate(screenplays):\n",
    "    # Fetches metadata\n",
    "    metadata.append(tools.get_metadata(screenplay))\n",
    "    # Opens the screenplay\n",
    "    with open(f'./sample/{screenplay}') as file:\n",
    "        # Focus on the last line\n",
    "        last_line = file.readlines()[-1]\n",
    "        # Gets the alias\n",
    "        alias = tools.get_alias(last_line)\n",
    "        # Adds the alias in the metadata array\n",
    "        tools.add_meta(alias, index, metadata)\n",
    "    # Finally, adds the owner of the script\n",
    "    tools.add_meta('Hypnoweb', index, metadata)"
   ]
  },
  {
   "cell_type": "markdown",
   "metadata": {
    "slideshow": {
     "slide_type": "slide"
    }
   },
   "source": [
    "Créer un fichier `index.txt` :"
   ]
  },
  {
   "cell_type": "code",
   "execution_count": null,
   "metadata": {
    "slideshow": {
     "slide_type": "-"
    }
   },
   "outputs": [],
   "source": [
    "# Writes the index.txt file\n",
    "with open('./files/index.txt', 'a') as file:\n",
    "    # For each block of metadata…\n",
    "    for block in metadata:\n",
    "        # … same treatment for each metadata\n",
    "        for i, meta in enumerate(block):\n",
    "            # with comma between each, except for the last one\n",
    "            file.write(f'{meta},') if i < (len(block) - 1) else file.write(meta)\n",
    "        # Line break\n",
    "        file.write('\\n')"
   ]
  }
 ],
 "metadata": {
  "celltoolbar": "Diaporama",
  "kernelspec": {
   "display_name": "Python 3 (ipykernel)",
   "language": "python",
   "name": "python3"
  },
  "language_info": {
   "codemirror_mode": {
    "name": "ipython",
    "version": 3
   },
   "file_extension": ".py",
   "mimetype": "text/x-python",
   "name": "python",
   "nbconvert_exporter": "python",
   "pygments_lexer": "ipython3",
   "version": "3.7.4"
  }
 },
 "nbformat": 4,
 "nbformat_minor": 2
}
