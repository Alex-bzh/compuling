{
 "cells": [
  {
   "cell_type": "markdown",
   "metadata": {
    "slideshow": {
     "slide_type": "slide"
    }
   },
   "source": [
    "# Résoudre les élisions fautives"
   ]
  },
  {
   "cell_type": "markdown",
   "metadata": {
    "slideshow": {
     "slide_type": "slide"
    }
   },
   "source": [
    "## L’élision en français"
   ]
  },
  {
   "cell_type": "markdown",
   "metadata": {
    "slideshow": {
     "slide_type": "fragment"
    }
   },
   "source": [
    "**Élision :** mécanisme d’effacement de la voyelle finale d’un mot devant la voyelle du mot suivant, matérialisée par une apostrophe (`’`).\n",
    "\n",
    "Phénomène courant, parfois obligatoire (1), facultatif (2) ou totalement fautif (3) :\n",
    "```txt\n",
    "(1) *Le arbre est grand.\n",
    "(2) Arthur : Et dis donc machin, tu fais péter du raisin,\n",
    "    t'es gentil !\n",
    "(3) Le tavernier : Ah heu Sire, j'vais pas vous raconter\n",
    "    d'conneries.\n",
    "```"
   ]
  },
  {
   "cell_type": "markdown",
   "metadata": {
    "slideshow": {
     "slide_type": "subslide"
    }
   },
   "source": [
    "**Rappel :** la retranscription des scripts de la série ne suit aucune directive. Volonté des transcripteurs de reproduire à l’écrit ce qu’ils entendent à l’oral."
   ]
  },
  {
   "cell_type": "markdown",
   "metadata": {
    "slideshow": {
     "slide_type": "fragment"
    }
   },
   "source": [
    "**Objectif :** rétablir les formes improprement élidées (4).\n",
    "```txt\n",
    "(4) Le tavernier : Ah heu Sire, je vais pas vous raconter\n",
    "    de conneries.\n",
    "```"
   ]
  },
  {
   "cell_type": "markdown",
   "metadata": {
    "slideshow": {
     "slide_type": "slide"
    }
   },
   "source": [
    "## Méthodologie"
   ]
  },
  {
   "cell_type": "markdown",
   "metadata": {
    "slideshow": {
     "slide_type": "fragment"
    }
   },
   "source": [
    "Détecter les élisions fautives avant de les résoudre !\n",
    "\n",
    "Recours à une expression rationnelle pour détecter les motifs non autorisés.\n",
    "\n",
    "**Motif autorisé :** un mot suivi d’une apostrophe qui soit lui-même suivi d’un mot débutant par une voyelle.  \n",
    "**Motif non autorisé :** un mot suivi d’une apostrophe qui **ne** soit lui-même **pas** suivi d’un mot débutant par une voyelle."
   ]
  },
  {
   "cell_type": "markdown",
   "metadata": {
    "slideshow": {
     "slide_type": "subslide"
    }
   },
   "source": [
    "Exemple de détection des élisions autorisées :"
   ]
  },
  {
   "cell_type": "code",
   "execution_count": null,
   "metadata": {},
   "outputs": [],
   "source": [
    "import re\n",
    "\n",
    "# Pattern to detect elisions\n",
    "allowed = re.compile(r'\\w+[\\'’][aeiouyhéèêìîôöùûüAEIOUYHÉÈÊÌÎÔÖÛÜÙ]\\w+')\n",
    "\n",
    "# Reading a file\n",
    "with open(f'./sample/S01E01-heat.txt') as file:\n",
    "    text = file.read()\n",
    "\n",
    "results = allowed.findall(text)\n",
    "print(results)"
   ]
  },
  {
   "cell_type": "markdown",
   "metadata": {
    "slideshow": {
     "slide_type": "subslide"
    }
   },
   "source": [
    "Pour détecter les élisions fautives, modifier légèrement la *regex* :"
   ]
  },
  {
   "cell_type": "code",
   "execution_count": null,
   "metadata": {},
   "outputs": [],
   "source": [
    "wrong = re.compile(r'\\w+[\\'’][^aeiouyhéèêìîôöùûüAEIOUYHÉÈÊÌÎÔÖÛÜÙ]\\w+')\n",
    "results = wrong.findall(text)\n",
    "print(results)"
   ]
  },
  {
   "cell_type": "markdown",
   "metadata": {},
   "source": [
    "Signe `^` pour exclure les caractères autorisés après une élision."
   ]
  },
  {
   "cell_type": "markdown",
   "metadata": {
    "slideshow": {
     "slide_type": "subslide"
    }
   },
   "source": [
    "Pour résoudre les élisions : transformer le signe `'` en `e` et rajouter une espace.\n",
    "\n",
    "Utiliser les parenthèses pour capturer dans la *regex* des parties à réutiliser :"
   ]
  },
  {
   "cell_type": "code",
   "execution_count": null,
   "metadata": {},
   "outputs": [],
   "source": [
    "pattern = re.compile(r'(\\w+)[\\'’]([^aeiouyhéèêìîôöùûüAEIOUYHÉÈÊÌÎÔÖÛÜÙ]\\w+)')\n",
    "results = pattern.findall(text)\n",
    "print(results)"
   ]
  },
  {
   "cell_type": "markdown",
   "metadata": {
    "slideshow": {
     "slide_type": "subslide"
    }
   },
   "source": [
    "Pour déplier les tuples de résultats :"
   ]
  },
  {
   "cell_type": "code",
   "execution_count": null,
   "metadata": {
    "slideshow": {
     "slide_type": "fragment"
    }
   },
   "outputs": [],
   "source": [
    "for (elided_shape, following_word) in results:\n",
    "    print(f'{elided_shape}e {following_word}', end=', ')"
   ]
  },
  {
   "cell_type": "markdown",
   "metadata": {
    "slideshow": {
     "slide_type": "subslide"
    }
   },
   "source": [
    "Quelques cas particuliers :\n",
    "```txt\n",
    "(5) de vant\n",
    "(6) deve nir\n",
    "```\n",
    "\n",
    "Ces cas concernent les élisions internes à un mot, qui appellent un traitement manuel."
   ]
  },
  {
   "cell_type": "markdown",
   "metadata": {
    "slideshow": {
     "slide_type": "subslide"
    }
   },
   "source": [
    "Autre considération à prendre en compte dans la méthodologie, le dédoublonnage des résultats. On comptabilise trois occurrences des formes : `s'trouve`.\n",
    "\n",
    "Structure de données `set` pour les fusionner"
   ]
  },
  {
   "cell_type": "code",
   "execution_count": null,
   "metadata": {
    "slideshow": {
     "slide_type": "fragment"
    }
   },
   "outputs": [],
   "source": [
    "elisions = set()\n",
    "[elisions.add(result) for result in results]\n",
    "for (elided_shape, following_word) in elisions:\n",
    "    print(f'{elided_shape}e {following_word}', end=', ')"
   ]
  },
  {
   "cell_type": "markdown",
   "metadata": {
    "slideshow": {
     "slide_type": "subslide"
    }
   },
   "source": [
    "En prévision, certaines élisions ambiguës :\n",
    "```txt\n",
    "(7) *d’mander\n",
    "```"
   ]
  },
  {
   "cell_type": "markdown",
   "metadata": {
    "slideshow": {
     "slide_type": "fragment"
    }
   },
   "source": [
    "Cette forme pourrait aboutir à deux solutions :\n",
    "- `demander`\n",
    "- `de mander`"
   ]
  },
  {
   "cell_type": "markdown",
   "metadata": {
    "slideshow": {
     "slide_type": "subslide"
    }
   },
   "source": [
    "Les contextes gauche et droite seraient utiles pour décider. Adapter la *regex* en ce sens :"
   ]
  },
  {
   "cell_type": "code",
   "execution_count": null,
   "metadata": {
    "slideshow": {
     "slide_type": "fragment"
    }
   },
   "outputs": [],
   "source": [
    "pattern = re.compile(r'(\\w+)\\W+?(\\w+)[’\\']([^aeiouyhéèêìîôöùûüAEIOUYHÉÈÊÌÎÔÖÛÜÙ]\\w+)\\W+?(\\w+)?')\n",
    "results = pattern.findall(text)\n",
    "for (left_context, elided_shape, following_shape, right_context) in results:\n",
    "    print(f'{left_context}\\t[{elided_shape} {following_shape}]\\t{right_context}')"
   ]
  },
  {
   "cell_type": "markdown",
   "metadata": {
    "slideshow": {
     "slide_type": "subslide"
    }
   },
   "source": [
    "**Attention !** Conflit dans la méthodologie :\n",
    "- structure `set` fusionne les résultats de la recherche sur les élisions fautives\n",
    "- un résultat de cette recherche pourrait correspondre à deux réalités (*demander* vs *de mander*)"
   ]
  },
  {
   "cell_type": "markdown",
   "metadata": {
    "slideshow": {
     "slide_type": "fragment"
    }
   },
   "source": [
    "Face à une élision fautive, deux hypothèses :\n",
    "- élision par suppression de la voyelle finale\n",
    "- élision interne au mot"
   ]
  },
  {
   "cell_type": "markdown",
   "metadata": {
    "slideshow": {
     "slide_type": "subslide"
    }
   },
   "source": [
    "Une solution consisterait à :\n",
    "1. construire un fichier des élisions fautives à résoudre\n",
    "2. confronter la seconde hypothèse avec un lexique\n",
    "3. traiter différemment les formes qui vérifient l’une ou l’autre des hypothèses"
   ]
  },
  {
   "cell_type": "markdown",
   "metadata": {
    "slideshow": {
     "slide_type": "slide"
    }
   },
   "source": [
    "## Algorithme pas à pas"
   ]
  },
  {
   "cell_type": "markdown",
   "metadata": {
    "slideshow": {
     "slide_type": "fragment"
    }
   },
   "source": [
    "**Étape 1 :** importer le module `re`"
   ]
  },
  {
   "cell_type": "code",
   "execution_count": null,
   "metadata": {},
   "outputs": [],
   "source": [
    "import re"
   ]
  },
  {
   "cell_type": "markdown",
   "metadata": {
    "slideshow": {
     "slide_type": "fragment"
    }
   },
   "source": [
    "**Étape 2 :** détecter les élisions fautives dans un texte"
   ]
  },
  {
   "cell_type": "code",
   "execution_count": null,
   "metadata": {},
   "outputs": [],
   "source": [
    "with open(f'./sample/S01E01-heat.txt') as file:\n",
    "    text = file.read()\n",
    "\n",
    "# A list of tuples with the two parts around the elision and the left and right contexts.\n",
    "pattern = re.compile(r'(\\w+)\\W+?(\\w+)[’\\']([^aeiouyhéèêìîôöùûüAEIOUYHÉÈÊÌÎÔÖÛÜÙ]\\w+)\\W+?(\\w+)?')\n",
    "results = pattern.findall(text)"
   ]
  },
  {
   "cell_type": "markdown",
   "metadata": {
    "slideshow": {
     "slide_type": "subslide"
    }
   },
   "source": [
    "**Étape 3 :** charger un lexique de référence (extrait de *Lexique 3* de Boris New et Christophe Pallier)"
   ]
  },
  {
   "cell_type": "code",
   "execution_count": null,
   "metadata": {
    "slideshow": {
     "slide_type": "-"
    }
   },
   "outputs": [],
   "source": [
    "import csv\n",
    "lexicon = []\n",
    "with open('./files/lexicon.csv', newline='') as csvfile:\n",
    "    reader = csv.reader(csvfile)\n",
    "    for row in reader:\n",
    "        lexicon.append(row[0])"
   ]
  },
  {
   "cell_type": "markdown",
   "metadata": {
    "slideshow": {
     "slide_type": "subslide"
    }
   },
   "source": [
    "**Étape 4 :** confronter l’hypothèse d’une élision interne avec le lexique de référence et construire une liste de motifs de remplacement."
   ]
  },
  {
   "cell_type": "markdown",
   "metadata": {
    "slideshow": {
     "slide_type": "fragment"
    }
   },
   "source": [
    "**Remarque :** le lexique de référence étant en minuscules, il faut lui confronter la version en minuscules des hypothèses de résolution."
   ]
  },
  {
   "cell_type": "markdown",
   "metadata": {
    "slideshow": {
     "slide_type": "fragment"
    }
   },
   "source": [
    "On note deux hypothèses de résolution face à une élision fautive :\n",
    "- soit une élision interne (*d’vant* : devant)\n",
    "- soit la suppression du *e* final d’un mot qui précède un mot débutant par une consonne (*s'trouve* : *se trouve*)"
   ]
  },
  {
   "cell_type": "markdown",
   "metadata": {
    "slideshow": {
     "slide_type": "subslide"
    }
   },
   "source": [
    "À la vérification de l’une ou l’autre de ces deux hypothèses s’ajoutent deux autres éventualités :\n",
    "- soit les deux hypothèses se vérifient (*d’mander* : *de mander* ou *demander*)\n",
    "- soit aucune de ces hypothèses ne se vérifie et alors le mot est inconnu (faute d’orthographe…)\n",
    "\n",
    "Seul un arbitrage manuel permettra de se prononcer."
   ]
  },
  {
   "cell_type": "code",
   "execution_count": null,
   "metadata": {
    "slideshow": {
     "slide_type": "subslide"
    }
   },
   "outputs": [],
   "source": [
    "# List of patterns for systematic replacements\n",
    "patterns = list()\n",
    "# Left and right contexts in anticipation of a manual arbitration\n",
    "arbitration = ''\n",
    "\n",
    "for (left_context, elided_shape, following_shape, right_context) in results:\n",
    "\n",
    "    # First assumption: internal elision\n",
    "    h1 = f'{elided_shape}e{following_shape}'\n",
    "    # Second assumption: two separated words\n",
    "    h2 = [f'{elided_shape}e', following_shape]\n",
    "    \n",
    "    # If both assumptions hold, manual arbitration is required\n",
    "    if h1.lower() in lexicon and h2[0].lower() in lexicon and h2[1].lower() in lexicon:\n",
    "        arbitration += f'{left_context}\\t[{elided_shape}’{following_shape}]\\t{right_context}\\n'\n",
    "    # Only the first assumption holds\n",
    "    elif h1.lower() in lexicon:\n",
    "        patterns.append((f'{elided_shape}[\\'’]{following_shape}', h1))\n",
    "    # Only the second assumption holds\n",
    "    elif h2[0].lower() in lexicon and h2[1].lower() in lexicon:\n",
    "        patterns.append((f'{elided_shape}[\\'’]{following_shape}', ' '.join(h2)))\n",
    "    # None of the assumptions hold: manual arbitration is required\n",
    "    else:\n",
    "        arbitration += f'{left_context}\\t[{elided_shape}’{following_shape}]\\t{right_context}\\n'"
   ]
  },
  {
   "cell_type": "markdown",
   "metadata": {
    "slideshow": {
     "slide_type": "subslide"
    }
   },
   "source": [
    "**Étape 5 :** appliquer les remplacements"
   ]
  },
  {
   "cell_type": "code",
   "execution_count": null,
   "metadata": {
    "slideshow": {
     "slide_type": "-"
    }
   },
   "outputs": [],
   "source": [
    "def replace(patterns, text):\n",
    "    \"\"\"Replaces every instance of a pattern with its corresponding\n",
    "    substitution\n",
    "\n",
    "    patterns -- a list of tuples with the pattern and its substitution\n",
    "    text -- the text in which doing the substitution\n",
    "    \"\"\"\n",
    "    for (pattern, replacement) in patterns:\n",
    "        text = re.sub(pattern, replacement, text)\n",
    "    return text\n",
    "\n",
    "text = replace(patterns, text)"
   ]
  },
  {
   "cell_type": "markdown",
   "metadata": {
    "slideshow": {
     "slide_type": "subslide"
    }
   },
   "source": [
    "**Étape 6 :** écrire un fichier recensant les contextes gauche et droite en prévision d’un arbitrage manuel de résolution des élisions fautives (*demander* vs *de mander*)"
   ]
  },
  {
   "cell_type": "code",
   "execution_count": null,
   "metadata": {
    "slideshow": {
     "slide_type": "-"
    }
   },
   "outputs": [],
   "source": [
    "# Creates the file only if there is matter to discuss\n",
    "if arbitration:\n",
    "    with open('./files/elisions_context.txt', 'w') as file:\n",
    "        file.write('S01E01-heat\\n')\n",
    "        file.write(arbitration)"
   ]
  }
 ],
 "metadata": {
  "celltoolbar": "Diaporama",
  "kernelspec": {
   "display_name": "Python 3 (ipykernel)",
   "language": "python",
   "name": "python3"
  },
  "language_info": {
   "codemirror_mode": {
    "name": "ipython",
    "version": 3
   },
   "file_extension": ".py",
   "mimetype": "text/x-python",
   "name": "python",
   "nbconvert_exporter": "python",
   "pygments_lexer": "ipython3",
   "version": "3.7.4"
  }
 },
 "nbformat": 4,
 "nbformat_minor": 2
}
