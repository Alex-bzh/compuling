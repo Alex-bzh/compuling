{
 "cells": [
  {
   "cell_type": "markdown",
   "metadata": {},
   "source": [
    "# *A space oddity*\n",
    "\n",
    "Dans le texte suivant, vous remarquez un manque d’uniformisation dans l’affichage des locuteurs et de leurs énoncés :"
   ]
  },
  {
   "cell_type": "code",
   "execution_count": null,
   "metadata": {},
   "outputs": [],
   "source": [
    "text = \"Max:\\nBon allez, c’est pas tout ça, mais faut se remettre au boulot !\\n\"\n",
    "text += \"Géraldine\\n: Oui, on ne sera pas trop de deux.\\n\""
   ]
  },
  {
   "cell_type": "markdown",
   "metadata": {},
   "source": [
    "Grâce à une expression rationnelle et au module *re*, normalisez le tout afin d’obtenir le résultat suivant où les énoncés sont séparés de leurs locuteurs par une tabulation :\n",
    "\n",
    "```txt\n",
    "Max\tBon allez, c’est pas tout ça, mais faut se remettre au boulot !\n",
    "Géraldine\tOui, on ne sera pas trop de deux.\n",
    "```"
   ]
  },
  {
   "cell_type": "code",
   "execution_count": null,
   "metadata": {},
   "outputs": [],
   "source": [
    "# your code here\n",
    "import re\n",
    "\n",
    "text = re.sub(r'\\s?\\n?:\\n?\\s?', r'\\t', text)\n",
    "print(text)"
   ]
  }
 ],
 "metadata": {
  "kernelspec": {
   "display_name": "Python 3",
   "language": "python",
   "name": "python3"
  },
  "language_info": {
   "codemirror_mode": {
    "name": "ipython",
    "version": 3
   },
   "file_extension": ".py",
   "mimetype": "text/x-python",
   "name": "python",
   "nbconvert_exporter": "python",
   "pygments_lexer": "ipython3",
   "version": "3.7.7"
  }
 },
 "nbformat": 4,
 "nbformat_minor": 4
}
