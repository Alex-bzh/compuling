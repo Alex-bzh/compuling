{
 "cells": [
  {
   "cell_type": "markdown",
   "metadata": {},
   "source": [
    "# Un lexique du français\n",
    "\n",
    "La ressource *Flexique* est une base de données conçue pour étudier le système flexionnel du français. Elle est constituée de trois tables, réparties dans trois fichiers. Le fichier *nlexique.csv* recense 31 002 lexèmes pour 65 111 mots.\n",
    "\n",
    "Le code ci-dessous permet de charger tous les lexèmes et leurs représentations phonologiques dans une variable `lexemes` :"
   ]
  },
  {
   "cell_type": "code",
   "execution_count": null,
   "metadata": {},
   "outputs": [],
   "source": [
    "import csv\n",
    "\n",
    "with open('../files/nlexique.csv') as csvfile:\n",
    "    reader = csv.DictReader(csvfile)\n",
    "    lexemes = [\n",
    "        (row['lexeme'], row['sg'])\n",
    "        for row in reader\n",
    "    ]"
   ]
  },
  {
   "cell_type": "markdown",
   "metadata": {},
   "source": [
    "La liste des lexèmes est alors interrogeable en appelant la variable `lexemes` :"
   ]
  },
  {
   "cell_type": "code",
   "execution_count": null,
   "metadata": {},
   "outputs": [],
   "source": [
    "print(lexemes[:10])"
   ]
  },
  {
   "cell_type": "markdown",
   "metadata": {},
   "source": [
    "**Remarque :** pour tous les exercices, vous tenterez de fournir une courte analyse de votre solution."
   ]
  },
  {
   "cell_type": "markdown",
   "metadata": {},
   "source": [
    "## Chargement\n",
    "\n",
    "Avant toute chose, chargez le module *re* :"
   ]
  },
  {
   "cell_type": "code",
   "execution_count": null,
   "metadata": {},
   "outputs": [],
   "source": [
    "# your code here\n",
    "import re"
   ]
  },
  {
   "cell_type": "markdown",
   "metadata": {},
   "source": [
    "## Vous êtes accro ?\n",
    "\n",
    "Recherchez dans la liste des lexèmes tous les termes qui commencent par *accro*."
   ]
  },
  {
   "cell_type": "code",
   "execution_count": null,
   "metadata": {},
   "outputs": [],
   "source": [
    "# your code here\n",
    "pattern = r'^accro.*'\n",
    "prog = re.compile(pattern)\n",
    "\n",
    "for lexeme, phon in lexemes:\n",
    "    result = prog.match(lexeme)\n",
    "    if result:\n",
    "        print(result.group())"
   ]
  },
  {
   "cell_type": "markdown",
   "metadata": {},
   "source": [
    "**Analyse :** Le métacaractère `ˆ` balise le début d’une ligne."
   ]
  },
  {
   "cell_type": "markdown",
   "metadata": {},
   "source": [
    "## Double dose\n",
    "\n",
    "À présent, effectuez une recherche qui liste tous les mots composés qui contiennent un tiret (*-*)."
   ]
  },
  {
   "cell_type": "code",
   "execution_count": null,
   "metadata": {},
   "outputs": [],
   "source": [
    "# your code here\n",
    "pattern = r'[\\w]+-[\\w]+'\n",
    "prog = re.compile(pattern)\n",
    "\n",
    "for lexeme, phon in lexemes:\n",
    "    result = prog.match(lexeme)\n",
    "    if result:\n",
    "        print(result.group())"
   ]
  },
  {
   "cell_type": "markdown",
   "metadata": {},
   "source": [
    "**Analyse :** Les mots composés sont structurés en deux ensembles de caractères alphabétiques\n",
    "séparés entre eux par un tiret."
   ]
  },
  {
   "cell_type": "markdown",
   "metadata": {},
   "source": [
    "## Rimera bien qui rimera le dernier\n",
    "\n",
    "En dernier lieu, essayez de trouver les lexèmes qui rimeraient avec le mot *acabit*."
   ]
  },
  {
   "cell_type": "code",
   "execution_count": null,
   "metadata": {},
   "outputs": [],
   "source": [
    "# your code here\n",
    "pattern = r'.+bi$'\n",
    "prog = re.compile(pattern)\n",
    "\n",
    "for lexeme, phon in lexemes:\n",
    "    result = prog.match(phon)\n",
    "    if result:\n",
    "        print(lexeme)"
   ]
  },
  {
   "cell_type": "markdown",
   "metadata": {},
   "source": [
    "**Analyse :** Le métacaractère `$` balise la fin d’une ligne."
   ]
  }
 ],
 "metadata": {
  "kernelspec": {
   "display_name": "Python 3",
   "language": "python",
   "name": "python3"
  },
  "language_info": {
   "codemirror_mode": {
    "name": "ipython",
    "version": 3
   },
   "file_extension": ".py",
   "mimetype": "text/x-python",
   "name": "python",
   "nbconvert_exporter": "python",
   "pygments_lexer": "ipython3",
   "version": "3.7.7"
  }
 },
 "nbformat": 4,
 "nbformat_minor": 4
}
