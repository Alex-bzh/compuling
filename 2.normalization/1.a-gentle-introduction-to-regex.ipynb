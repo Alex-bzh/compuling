{
 "cells": [
  {
   "cell_type": "markdown",
   "metadata": {},
   "source": [
    "# Une introduction en douceur aux expressions rationnelles"
   ]
  },
  {
   "cell_type": "markdown",
   "metadata": {},
   "source": [
    "## Définition\n",
    "\n",
    "Le terme d’expression rationnelle caractérise un motif qui spécifie les conditions à remplir pour toute recherche effectuée par un opérateur (logiciel de traitement de texte, moteur de recherche, instruction dans un langage informatique…).\n",
    "\n",
    "Si le terme d’expression régulière se rencontre souvent de manière concurrentielle, elle n’est pas à privilégier car directement calquée sur l’anglais *regular expressions* (*regex* en abrégé). Une autre traduction se rencontre parfois, celle d’expression normale.\n",
    "\n",
    "Ce qui définit un motif (*pattern* en anglais) dans le cadre des expressions rationnelles est une chaîne de caractères répondant à une syntaxe précise décrite par un langage formel.\n",
    "\n",
    "L’utilisation des expressions rationnelles est massive en informatique. Elle permet d’effectuer rapidement de nombreuses opérations, comme la recherche de motifs (p. ex. : tous les mots se finissant en *-able*), le remplacement de caractères (p. ex. : remplacer *oe* en *œ*) ou encore l’annotation (p. ex. : isoler la racine d’un mot ou déduire l’infinitif de formes conjuguées)."
   ]
  },
  {
   "cell_type": "markdown",
   "metadata": {},
   "source": [
    "## Une mise en œuvre immédiate\n",
    "\n",
    "Le site [Rubular](https://rubular.com/) est un service Web qui permet de tester rapidement la validité d’une expression rationnelle. N’hésitez pas à vous reposer sur ce [mémo](./files/memo-regex.pdf) pour formaliser vos motifs."
   ]
  },
  {
   "cell_type": "markdown",
   "metadata": {},
   "source": [
    "### Comment trouver les occurrences d’un mot, au singulier et au pluriel ?\n",
    "\n",
    "Dans le texte suivant, cherchez les occurrences du mot *pied* :\n",
    "\n",
    "```\n",
    "— Aaaaaaaah !!\n",
    "— Quoi Aaah ?\n",
    "— Ah tu m’écrases le pied banane\n",
    "— Et toi tu me casses les pieds cornichon\n",
    "```\n",
    "\n",
    "**Regex :** `pieds?`\n",
    "\n",
    "**Analyse :** Le `?` permet d’ajouter une condition à la recherche. Son périmètre d’exécution ne concerne\n",
    "que le caractère qui le précède."
   ]
  },
  {
   "cell_type": "markdown",
   "metadata": {},
   "source": [
    "### Comment repérer une lettre en minuscule et en capitale ?\n",
    "\n",
    "Dans le texte suivant, essayez de repérer toutes les apparitions de la lettre *e* :\n",
    "\n",
    "```\n",
    "Le document révélant cette affaire émane du Centre de la sécurité des télécommunications du\n",
    "Canada (CSEC), les services secrets techniques du pays. Il a été extrait des archives de l’Agence\n",
    "nationale de sécurité américaine (NSA), par son ex-consultant Edward Snowden. Daté de 2011, il\n",
    "semble avoir été conçu pour exposer, au sein du CSEC, les détails d’une traque menée, avec succès,\n",
    "contre une arme informatique offensive ayant, dans ce cas, permis d’incriminer la France.\n",
    "```\n",
    "\n",
    "**Regex :** `[eE]`\n",
    "\n",
    "**Analyse :** Placer un motif entre crochets permet d’effectuer la recherche sur n’importe quel élément\n",
    "du motif. On appelle alors ce motif un *ensemble* ou *une classe de caractères*."
   ]
  },
  {
   "cell_type": "markdown",
   "metadata": {},
   "source": [
    "### Comment identifier un mot ?\n",
    "\n",
    "La notion de mot est moins évidente qu’il n’y paraît. Essayez de les identifier automatiquement dans le même texte.\n",
    "\n",
    "**Regex :**\n",
    "- `[\\wéè-]+`\n",
    "- `[a-zA-Zéè-]+`\n",
    "- `[[:alpha:]-]+`\n",
    "\n",
    "**Analyse :** Il existe quasiment toujours plusieurs façons d’écrire une expression rationnelle pour parvenir au résultat attendu, mais il existe rarement de solution universelle. Les expressions rationnelles sont à préparer en fonction de l’objet d’étude. Dans la première solution, un ensemble a été défini autour du caractère spécial `\\w` qui signifie : n’importe quel caractère. Le quantificateur `+` permet de préciser que tout caractère doit être présent au moins une fois. Comme `\\w` ne capture ni les caractères accentués ni le tiret *-*, il convient de les rajouter à l’ensemble défini. Parmi les choses notables, cette expression identifie aussi la date (2011) alors que la dernière (`[[:alpha:]-]+`) la laisse de côté."
   ]
  },
  {
   "cell_type": "markdown",
   "metadata": {},
   "source": [
    "### Comment identifier un mot commençant par certains caractères ?\n",
    "\n",
    "Cette fois-ci, repérez les mots commençant par *ex*.\n",
    "\n",
    "**Regex :**\n",
    "- `ex[a-z-]+`\n",
    "- `ex[\\w-]+`\n",
    "\n",
    "**Analyse :** Afin de ne pas écrire littéralement tous les caractères de l’alphabet à l’intérieur de\n",
    "l’ensemble, il est possible de définir un intervalle entre *a* et *z*. Et comme certains mots pourraient\n",
    "présenter une forme complexe (ex-consultant), on ajoute le tiret (*-*) dans l’ensemble, mais soit\n",
    "au début, soit à la fin, afin de lever toute ambiguïté avec celui dont la fonction est de déclarer\n",
    "l’intervalle. Le signe *+* quant à lui permet de préciser que l’ensemble dont il est précédé peut\n",
    "apparaître de 1 à *n* fois."
   ]
  },
  {
   "cell_type": "markdown",
   "metadata": {},
   "source": [
    "### Comment identifier des sigles ?\n",
    "\n",
    "Essayez, toujours dans le même texte, de repérer les sigles.\n",
    "\n",
    "**Regex :** `[A-Z]{2,}`\n",
    "\n",
    "**Analyse :** Un sigle étant composé d’une succession d’au moins deux lettres capitales, il convient\n",
    "d’appliquer à l’ensemble un quantificateur allant de 2 à l’infini. Le signe `+` peut alors se comprendre\n",
    "comme la version raccourcie d’un quantificateur de type `{1,}`"
   ]
  },
  {
   "cell_type": "markdown",
   "metadata": {},
   "source": [
    "### Comment identifier des années ?\n",
    "\n",
    "**Regex :** `\\d{4}`\n",
    "\n",
    "**Analyse :** `\\d` correspond à un caractère de type numérique. Il fonctionne de la même manière\n",
    "que l’ensemble `[0-9]`. Le quantificateur `{4}` apporte une restriction : le caractère doit apparaître\n",
    "exactement quatre fois."
   ]
  }
 ],
 "metadata": {
  "kernelspec": {
   "display_name": "Python 3",
   "language": "python",
   "name": "python3"
  },
  "language_info": {
   "codemirror_mode": {
    "name": "ipython",
    "version": 3
   },
   "file_extension": ".py",
   "mimetype": "text/x-python",
   "name": "python",
   "nbconvert_exporter": "python",
   "pygments_lexer": "ipython3",
   "version": "3.7.7"
  }
 },
 "nbformat": 4,
 "nbformat_minor": 4
}
