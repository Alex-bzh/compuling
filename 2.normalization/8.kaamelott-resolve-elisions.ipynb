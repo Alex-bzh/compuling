{
 "cells": [
  {
   "cell_type": "markdown",
   "metadata": {
    "slideshow": {
     "slide_type": "slide"
    }
   },
   "source": [
    "# Résoudre les élisions fautives"
   ]
  },
  {
   "cell_type": "markdown",
   "metadata": {
    "slideshow": {
     "slide_type": "slide"
    }
   },
   "source": [
    "## L’élision en français"
   ]
  },
  {
   "cell_type": "markdown",
   "metadata": {
    "slideshow": {
     "slide_type": "fragment"
    }
   },
   "source": [
    "**Élision :** mécanisme d’effacement de la voyelle finale d’un mot devant la voyelle du mot suivant, matérialisée par une apostrophe (`’`).\n",
    "\n",
    "Phénomène courant, parfois obligatoire (1), facultatif (2) ou totalement fautif (3) :\n",
    "```txt\n",
    "(1) *Le arbre est grand.\n",
    "(2) Arthur : Et dis donc machin, tu fais péter du raisin,\n",
    "    t'es gentil !\n",
    "(3) Le tavernier : Ah heu Sire, j'vais pas vous raconter\n",
    "    d'conneries.\n",
    "```"
   ]
  },
  {
   "cell_type": "markdown",
   "metadata": {
    "slideshow": {
     "slide_type": "subslide"
    }
   },
   "source": [
    "**Rappel :** la retranscription des scripts de la série ne suit aucune directive. Volonté des transcripteurs de reproduire à l’écrit ce qu’ils entendent à l’oral."
   ]
  },
  {
   "cell_type": "markdown",
   "metadata": {
    "slideshow": {
     "slide_type": "fragment"
    }
   },
   "source": [
    "**Objectif :** rétablir les formes improprement élidées (4).\n",
    "```txt\n",
    "(4) Le tavernier : Ah heu Sire, je vais pas vous raconter\n",
    "    de conneries.\n",
    "```"
   ]
  },
  {
   "cell_type": "markdown",
   "metadata": {
    "slideshow": {
     "slide_type": "slide"
    }
   },
   "source": [
    "## Méthodologie"
   ]
  },
  {
   "cell_type": "markdown",
   "metadata": {
    "slideshow": {
     "slide_type": "fragment"
    }
   },
   "source": [
    "Détecter les élisions fautives avant de les résoudre !\n",
    "\n",
    "Recours à une expression rationnelle pour détecter les motifs non autorisés.\n",
    "\n",
    "**Motif autorisé :** un mot suivi d’une apostrophe qui soit lui-même suivi d’un mot débutant par une voyelle.  \n",
    "**Motif non autorisé :** un mot suivi d’une apostrophe qui **ne** soit lui-même **pas** suivi d’un mot débutant par une voyelle."
   ]
  },
  {
   "cell_type": "markdown",
   "metadata": {
    "slideshow": {
     "slide_type": "subslide"
    }
   },
   "source": [
    "Exemple de détection des élisions autorisées :"
   ]
  },
  {
   "cell_type": "code",
   "execution_count": null,
   "metadata": {},
   "outputs": [],
   "source": [
    "import re\n",
    "\n",
    "# Pattern to detect elisions\n",
    "allowed = re.compile(r'\\w+[\\'’][aeiouyhéèêìîôöùûüAEIOUYHÉÈÊÌÎÔÖÛÜÙ]\\w+')\n",
    "\n",
    "# Reading a file\n",
    "with open(f'kaamelott/sample/S01E01-heat.txt') as file:\n",
    "    text = file.read()\n",
    "\n",
    "results = allowed.findall(text)\n",
    "print(results)"
   ]
  },
  {
   "cell_type": "markdown",
   "metadata": {
    "slideshow": {
     "slide_type": "subslide"
    }
   },
   "source": [
    "Pour détecter les élisions fautives, modifier légèrement la *regex* :"
   ]
  },
  {
   "cell_type": "code",
   "execution_count": null,
   "metadata": {},
   "outputs": [],
   "source": [
    "wrong = re.compile(r'\\w+[\\'’][^aeiouyhéèêìîôöùûüAEIOUYHÉÈÊÌÎÔÖÛÜÙ]\\w+')\n",
    "results = wrong.findall(text)\n",
    "print(results)"
   ]
  },
  {
   "cell_type": "markdown",
   "metadata": {},
   "source": [
    "Signe `^` pour exclure les caractères autorisés après une élision."
   ]
  },
  {
   "cell_type": "markdown",
   "metadata": {
    "slideshow": {
     "slide_type": "subslide"
    }
   },
   "source": [
    "Pour résoudre les élisions : transformer le signe `'` en `e` et rajouter une espace.\n",
    "\n",
    "Utiliser les parenthèses pour capturer dans la *regex* des parties à réutiliser :"
   ]
  },
  {
   "cell_type": "code",
   "execution_count": null,
   "metadata": {},
   "outputs": [],
   "source": [
    "pattern = re.compile(r'(\\w+)[\\'’]([^aeiouyhéèêìîôöùûüAEIOUYHÉÈÊÌÎÔÖÛÜÙ]\\w+)')\n",
    "results = pattern.findall(text)\n",
    "print(results)"
   ]
  },
  {
   "cell_type": "markdown",
   "metadata": {
    "slideshow": {
     "slide_type": "subslide"
    }
   },
   "source": [
    "Pour déplier les tuples de résultats :"
   ]
  },
  {
   "cell_type": "code",
   "execution_count": null,
   "metadata": {
    "slideshow": {
     "slide_type": "fragment"
    }
   },
   "outputs": [],
   "source": [
    "for (elided_shape, following_word) in results:\n",
    "    print(f'{elided_shape}e {following_word}', end=', ')"
   ]
  },
  {
   "cell_type": "markdown",
   "metadata": {
    "slideshow": {
     "slide_type": "subslide"
    }
   },
   "source": [
    "Quelques cas particuliers :\n",
    "```txt\n",
    "(5) de vant\n",
    "(6) deve nir\n",
    "```\n",
    "\n",
    "Ces cas concernent les élisions internes à un mot, qui appellent un traitement manuel."
   ]
  },
  {
   "cell_type": "markdown",
   "metadata": {
    "slideshow": {
     "slide_type": "subslide"
    }
   },
   "source": [
    "Autre considération à prendre en compte dans la méthodologie, le dédoublonnage des résultats. On comptabilise trois occurrences des formes : `s'trouve`.\n",
    "\n",
    "Structure de données `set` pour les fusionner"
   ]
  },
  {
   "cell_type": "code",
   "execution_count": null,
   "metadata": {
    "slideshow": {
     "slide_type": "fragment"
    }
   },
   "outputs": [],
   "source": [
    "elisions = set()\n",
    "[elisions.add(result) for result in results]\n",
    "for (elided_shape, following_word) in results:\n",
    "    print(f'{elided_shape}e {following_word}', end=', ')"
   ]
  },
  {
   "cell_type": "markdown",
   "metadata": {
    "slideshow": {
     "slide_type": "subslide"
    }
   },
   "source": [
    "En prévision, certaines élisions ambiguës :\n",
    "```txt\n",
    "(7) *d’mander\n",
    "```"
   ]
  },
  {
   "cell_type": "markdown",
   "metadata": {
    "slideshow": {
     "slide_type": "fragment"
    }
   },
   "source": [
    "Cette forme pourrait aboutir à deux solutions :\n",
    "- `demander`\n",
    "- `de mander`"
   ]
  },
  {
   "cell_type": "markdown",
   "metadata": {
    "slideshow": {
     "slide_type": "subslide"
    }
   },
   "source": [
    "Les contextes gauche et droite seraient utiles pour décider. Adapter la *regex* en ce sens :"
   ]
  },
  {
   "cell_type": "code",
   "execution_count": null,
   "metadata": {
    "slideshow": {
     "slide_type": "fragment"
    }
   },
   "outputs": [],
   "source": [
    "pattern = re.compile(r'(\\w+)\\W+?(\\w+)[’\\']([^aeiouyhéèêìîôöùûüAEIOUYHÉÈÊÌÎÔÖÛÜÙ]\\w+)\\W+?(\\w+)?')\n",
    "results = pattern.findall(text)\n",
    "print(len(results))\n",
    "for (left_context, elided_shape, following_shape, right_context) in results:\n",
    "    print(f'{left_context}\\t[{elided_shape} {following_shape}]\\t{right_context}')"
   ]
  },
  {
   "cell_type": "markdown",
   "metadata": {
    "slideshow": {
     "slide_type": "subslide"
    }
   },
   "source": [
    "**Attention !** Conflit dans la méthodologie :\n",
    "- structure `set` fusionne les résultats de la recherche sur les élisions fautives\n",
    "- un résultat de cette recherche pourrait correspondre à deux réalités (*demander* vs *de mander*)"
   ]
  },
  {
   "cell_type": "markdown",
   "metadata": {
    "slideshow": {
     "slide_type": "fragment"
    }
   },
   "source": [
    "Face à une élision fautive, deux hypothèses :\n",
    "- élision par suppression de la voyelle finale\n",
    "- élision interne au mot"
   ]
  },
  {
   "cell_type": "markdown",
   "metadata": {
    "slideshow": {
     "slide_type": "subslide"
    }
   },
   "source": [
    "Une solution consisterait à :\n",
    "1. construire un fichier des élisions fautives à résoudre\n",
    "2. confronter la seconde hypothèse avec un lexique\n",
    "3. traiter différemment les formes qui vérifient l’une ou l’autre des hypothèses"
   ]
  },
  {
   "cell_type": "markdown",
   "metadata": {
    "slideshow": {
     "slide_type": "slide"
    }
   },
   "source": [
    "## Algorithme pas à pas"
   ]
  },
  {
   "cell_type": "markdown",
   "metadata": {
    "slideshow": {
     "slide_type": "fragment"
    }
   },
   "source": [
    "**Étape 1 :** importer le module `re`"
   ]
  },
  {
   "cell_type": "code",
   "execution_count": 1,
   "metadata": {},
   "outputs": [],
   "source": [
    "import re"
   ]
  },
  {
   "cell_type": "markdown",
   "metadata": {
    "slideshow": {
     "slide_type": "fragment"
    }
   },
   "source": [
    "**Étape 2 :** détecter les élisions fautives dans un texte"
   ]
  },
  {
   "cell_type": "code",
   "execution_count": 2,
   "metadata": {},
   "outputs": [],
   "source": [
    "with open(f'kaamelott/sample/S01E01-heat.txt') as file:\n",
    "    text = file.read()\n",
    "\n",
    "pattern = re.compile(r'(\\w+)\\W+?(\\w+)[’\\']([^aeiouyhéèêìîôöùûüAEIOUYHÉÈÊÌÎÔÖÛÜÙ]\\w+)\\W+?(\\w+)?')\n",
    "results = pattern.findall(text)"
   ]
  },
  {
   "cell_type": "markdown",
   "metadata": {
    "slideshow": {
     "slide_type": "subslide"
    }
   },
   "source": [
    "**Étape 3 :** confronter chaque résultat avec un lexique de référence"
   ]
  },
  {
   "cell_type": "markdown",
   "metadata": {
    "slideshow": {
     "slide_type": "subslide"
    }
   },
   "source": [
    "**Étape 4 :** écrire un fichier recensant les contextes gauche et droite en prévision d’un arbitrage manuel de résolution des élisions fautives"
   ]
  },
  {
   "cell_type": "code",
   "execution_count": 5,
   "metadata": {},
   "outputs": [],
   "source": [
    "with open('kaamelott/elisions_context.txt', 'w') as file:\n",
    "    file.write('S01E01-heat\\n')\n",
    "    for (left_context, elided_shape, following_shape, right_context) in results:\n",
    "        file.write(f'{left_context}\\t[{elided_shape}’{following_shape}]\\t{right_context}\\n')"
   ]
  },
  {
   "cell_type": "markdown",
   "metadata": {
    "slideshow": {
     "slide_type": "subslide"
    }
   },
   "source": []
  },
  {
   "cell_type": "code",
   "execution_count": null,
   "metadata": {},
   "outputs": [],
   "source": []
  },
  {
   "cell_type": "code",
   "execution_count": null,
   "metadata": {
    "slideshow": {
     "slide_type": "slide"
    }
   },
   "outputs": [],
   "source": [
    "elisions = list()\n",
    "lexique = ['demandé']\n",
    "cue = 'Me suis d’mandé comment il s’faisait qu’il avait la tête à l’envers.'\n",
    "pattern = re.compile(r'(\\w+)[\\'’]([^aeiouyhéèêìîôöùûüAEIOUYHÉÈÊÌÎÔÖÛÜÙ]\\w+)')\n",
    "results = pattern.findall(cue)\n",
    "for (elided_shape, following_shape) in results:\n",
    "    word = f'{elided_shape}e{following_shape}'\n",
    "    if word not in lexique:\n",
    "        elisions.append((elided_shape, following_shape))\n",
    "print(elisions)"
   ]
  },
  {
   "cell_type": "code",
   "execution_count": null,
   "metadata": {},
   "outputs": [],
   "source": []
  }
 ],
 "metadata": {
  "celltoolbar": "Diaporama",
  "kernelspec": {
   "display_name": "Python 3",
   "language": "python",
   "name": "python3"
  },
  "language_info": {
   "codemirror_mode": {
    "name": "ipython",
    "version": 3
   },
   "file_extension": ".py",
   "mimetype": "text/x-python",
   "name": "python",
   "nbconvert_exporter": "python",
   "pygments_lexer": "ipython3",
   "version": "3.7.3"
  }
 },
 "nbformat": 4,
 "nbformat_minor": 2
}
