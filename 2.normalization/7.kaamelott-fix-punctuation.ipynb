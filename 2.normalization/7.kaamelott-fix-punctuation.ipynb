{
 "cells": [
  {
   "cell_type": "markdown",
   "metadata": {
    "slideshow": {
     "slide_type": "slide"
    }
   },
   "source": [
    "# Corriger la ponctuation"
   ]
  },
  {
   "cell_type": "markdown",
   "metadata": {
    "slideshow": {
     "slide_type": "slide"
    }
   },
   "source": [
    "## Une ponctuation exotique ?"
   ]
  },
  {
   "cell_type": "markdown",
   "metadata": {
    "slideshow": {
     "slide_type": "fragment"
    }
   },
   "source": [
    "Problème récurrent de toute transcription insufisamment encadrée."
   ]
  },
  {
   "cell_type": "markdown",
   "metadata": {
    "slideshow": {
     "slide_type": "fragment"
    }
   },
   "source": [
    "Multiples facteurs :\n",
    "- ignorance des conventions typographiques de l’Imprimerie nationale (ex : espaces autour d’un point d’interrogation)\n",
    "- méconnaissance de son clavier (ex : trois fois un point au lieu des points de suspension)\n",
    "- enthousiasme pour l’objet de la transcription (ex : redoublement des points d’exclamation)"
   ]
  },
  {
   "cell_type": "markdown",
   "metadata": {
    "slideshow": {
     "slide_type": "slide"
    }
   },
   "source": [
    "## Un remède : les expressions rationnelles"
   ]
  },
  {
   "cell_type": "markdown",
   "metadata": {
    "slideshow": {
     "slide_type": "fragment"
    }
   },
   "source": [
    "Emploi massif des expressions régulières.\n",
    "\n",
    "Définir un algorithme, c’est-à-dire une succession d’étapes pour parvenir à un corpus nettoyé de ses erreurs."
   ]
  },
  {
   "cell_type": "markdown",
   "metadata": {
    "slideshow": {
     "slide_type": "fragment"
    }
   },
   "source": [
    "```txt\n",
    "(1) Bohort : Pas de faisans ?\n",
    "(2) Arthur Pendragon : Mais quelle vieille? Y'a deux minutes\n",
    "    c'était un vieux.\n",
    "```"
   ]
  },
  {
   "cell_type": "markdown",
   "metadata": {
    "slideshow": {
     "slide_type": "subslide"
    }
   },
   "source": [
    "(1) respecte les conventions tandis que (2) oublie l’espace avant le point d’interrogation."
   ]
  },
  {
   "cell_type": "markdown",
   "metadata": {
    "slideshow": {
     "slide_type": "fragment"
    }
   },
   "source": [
    "Une expression régulière qui ajouterait systématiquement une espace avant `?` doublerait celle présente dans (1).\n",
    "```txt\n",
    "(3) Bohort : Pas de faisans  ?\n",
    "(4) Arthur Pendragon : Mais quelle vieille ? Y'a deux minutes\n",
    "    c'était un vieux.\n",
    "```"
   ]
  },
  {
   "cell_type": "markdown",
   "metadata": {
    "slideshow": {
     "slide_type": "fragment"
    }
   },
   "source": [
    "La solution consiste à les aligner sur une même règle (pas d’espace) pour ensuite rajouter l’espace obligatoire."
   ]
  },
  {
   "cell_type": "markdown",
   "metadata": {
    "slideshow": {
     "slide_type": "subslide"
    }
   },
   "source": [
    "Quid des signes de ponctuation redoublés ?\n",
    "```txt\n",
    "(5) Arthur Pendragon : Mais c'est pas vrai !!\n",
    "```"
   ]
  },
  {
   "cell_type": "markdown",
   "metadata": {
    "slideshow": {
     "slide_type": "fragment"
    }
   },
   "source": [
    "Avant de rajouter les espaces : supprimer les signes surnuméraires."
   ]
  },
  {
   "cell_type": "markdown",
   "metadata": {
    "slideshow": {
     "slide_type": "slide"
    }
   },
   "source": [
    "## Algorithme de traitement"
   ]
  },
  {
   "cell_type": "markdown",
   "metadata": {
    "slideshow": {
     "slide_type": "fragment"
    }
   },
   "source": [
    "Utilisation du module *re* en Python.\n",
    "\n",
    "**Documentation :** https://docs.python.org/fr/3/library/re.html?highlight=re#module-re"
   ]
  },
  {
   "cell_type": "code",
   "execution_count": null,
   "metadata": {
    "slideshow": {
     "slide_type": "fragment"
    }
   },
   "outputs": [],
   "source": [
    "import re"
   ]
  },
  {
   "cell_type": "markdown",
   "metadata": {
    "slideshow": {
     "slide_type": "subslide"
    }
   },
   "source": [
    "**Étape 1 :** Compiler en avance les expressions régulières :"
   ]
  },
  {
   "cell_type": "code",
   "execution_count": null,
   "metadata": {
    "slideshow": {
     "slide_type": "fragment"
    }
   },
   "outputs": [],
   "source": [
    "three_dots = re.compile(r'\\.{3}\\s?')      # Three dots\n",
    "rm_spaces = re.compile(r'\\s?([!?;:])\\s?') # Captures a sign between spaces\n",
    "one_punct = re.compile(r'([!?.]+)')       # Captures duplicated signs\n",
    "add_spaces = re.compile(r'([!?;:])')      # Captures strong punctutation signs\n",
    "add_space_dot = re.compile(r'\\.(\\w)')    # Captures a word immediately preceded by a dot"
   ]
  },
  {
   "cell_type": "markdown",
   "metadata": {
    "slideshow": {
     "slide_type": "fragment"
    }
   },
   "source": [
    "Méthode plus efficace que d’exécuter à la volée une expression à chaque fois que le motif est perçu."
   ]
  },
  {
   "cell_type": "markdown",
   "metadata": {
    "slideshow": {
     "slide_type": "subslide"
    }
   },
   "source": [
    "**Étape 2 :** Réserver un espace mémoire pour recueillir les lignes corrigées :"
   ]
  },
  {
   "cell_type": "code",
   "execution_count": null,
   "metadata": {
    "slideshow": {
     "slide_type": "fragment"
    }
   },
   "outputs": [],
   "source": [
    "corrected_lines = []\n",
    "\n",
    "with open(f'kaamelott/sample/S01E23-la-potion-de-fecondite.txt') as file:\n",
    "    lines = file.readlines()"
   ]
  },
  {
   "cell_type": "markdown",
   "metadata": {
    "slideshow": {
     "slide_type": "fragment"
    }
   },
   "source": [
    "**Étape 3 :** Pour chaque ligne, appliquer successivement les remplacements :"
   ]
  },
  {
   "cell_type": "code",
   "execution_count": null,
   "metadata": {},
   "outputs": [],
   "source": [
    "for line in lines:\n",
    "    line = three_dots.sub(r'… ', line)           # Three dots\n",
    "    line = rm_spaces.sub(r'\\1', line)            # Deletes spaces around punctuation\n",
    "    m = one_punct.search(line)                   # Looks for duplicated punctuations\n",
    "    if m:\n",
    "        line = one_punct.sub(m.group()[0], line)\n",
    "    line = add_spaces.sub(r' \\1 ', line)         # Adds spaces around a double-punctuation sign\n",
    "    line = add_space_dot.sub(r' \\1 ', line)      # Adds one space before a double-punctuation sign"
   ]
  },
  {
   "cell_type": "markdown",
   "metadata": {
    "slideshow": {
     "slide_type": "subslide"
    }
   },
   "source": [
    "**Étape 4 :** Rajouter les traitements classiques de nettoyage d’une chaîne de caractères :"
   ]
  },
  {
   "cell_type": "code",
   "execution_count": null,
   "metadata": {
    "slideshow": {
     "slide_type": "fragment"
    }
   },
   "outputs": [],
   "source": [
    "    line = line.strip()            # Deletes spaces at the beginning and at the end\n",
    "    line = line.replace('  ', ' ') # Removes two successives whitespaces"
   ]
  },
  {
   "cell_type": "markdown",
   "metadata": {
    "slideshow": {
     "slide_type": "fragment"
    }
   },
   "source": [
    "**Étape 5 :** Ajouter la ligne nettoyée à liste saine :"
   ]
  },
  {
   "cell_type": "code",
   "execution_count": null,
   "metadata": {
    "slideshow": {
     "slide_type": "fragment"
    }
   },
   "outputs": [],
   "source": [
    "    corrected_lines.append(line)"
   ]
  },
  {
   "cell_type": "code",
   "execution_count": null,
   "metadata": {
    "slideshow": {
     "slide_type": "fragment"
    }
   },
   "outputs": [],
   "source": [
    "print(corrected_lines[120:-1])"
   ]
  }
 ],
 "metadata": {
  "celltoolbar": "Diaporama",
  "kernelspec": {
   "display_name": "Python 3",
   "language": "python",
   "name": "python3"
  },
  "language_info": {
   "codemirror_mode": {
    "name": "ipython",
    "version": 3
   },
   "file_extension": ".py",
   "mimetype": "text/x-python",
   "name": "python",
   "nbconvert_exporter": "python",
   "pygments_lexer": "ipython3",
   "version": "3.7.3"
  }
 },
 "nbformat": 4,
 "nbformat_minor": 2
}
