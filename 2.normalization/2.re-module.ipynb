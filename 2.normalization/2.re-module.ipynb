{
 "cells": [
  {
   "cell_type": "markdown",
   "metadata": {},
   "source": [
    "# *re*, un module pour les expressions rationnelles"
   ]
  },
  {
   "cell_type": "markdown",
   "metadata": {},
   "source": [
    "## Premiers pas\n",
    "\n",
    "Le module *re* fait partie de la distribution de Python et peut s’importer sans installation préalable :"
   ]
  },
  {
   "cell_type": "code",
   "execution_count": null,
   "metadata": {},
   "outputs": [],
   "source": [
    "import re"
   ]
  },
  {
   "cell_type": "markdown",
   "metadata": {},
   "source": [
    "Il s’utilise ensuite en faisant appel aux méthodes définies dans l’espace de nommage :"
   ]
  },
  {
   "cell_type": "code",
   "execution_count": null,
   "metadata": {},
   "outputs": [],
   "source": [
    "s = 'Un truc de dingue.'\n",
    "pattern = '[A-Z]'\n",
    "result = re.match(pattern, s)"
   ]
  },
  {
   "cell_type": "markdown",
   "metadata": {},
   "source": [
    "Le résultat est ensuite disponible dans un groupe numéroté :"
   ]
  },
  {
   "cell_type": "code",
   "execution_count": null,
   "metadata": {},
   "outputs": [],
   "source": [
    "print(result.group(0))"
   ]
  },
  {
   "cell_type": "markdown",
   "metadata": {},
   "source": [
    "Il est à noter que si une expression rationnelle est amenée à être utilisée de nombreuses fois, il est préférable, pour des questions d’optimisation, de la compiler :"
   ]
  },
  {
   "cell_type": "code",
   "execution_count": null,
   "metadata": {},
   "outputs": [],
   "source": [
    "pattern = '\\w+'\n",
    "prog = re.compile(pattern)\n",
    "result = prog.match(s)"
   ]
  },
  {
   "cell_type": "markdown",
   "metadata": {},
   "source": [
    "Autre précision notable, le *backslash* (`\\`) fait partie de la syntaxe du langage des expressions rationnelles. Il indique des formes spéciales comme, par exemple, `\\n` pour les sauts de ligne. Si l’objectif était plutôt d’identifier, dans un texte, la succession des littéraux `\\` et `n`, il faudrait soit déspécialiser le *backslash* par `\\\\\\\\`, soit de manière préférentielle utiliser la notation Python de référence à une chaîne brute `r` :"
   ]
  },
  {
   "cell_type": "code",
   "execution_count": null,
   "metadata": {},
   "outputs": [],
   "source": [
    "pattern = r'\\n'"
   ]
  },
  {
   "cell_type": "markdown",
   "metadata": {},
   "source": [
    "## Les métacaractères\n",
    "\n",
    "La syntaxe des expressions rationnelles réserve l’utilisation de certains caractères à des emplois spécifiques. Par exemple, dans l’expression `[0-9]`, les signes *[* et *]* permettent de définir une classe de caractères mais ne se représentent pas eux-mêmes. On parle alors de métacaractères. Pour rechercher un crochet ouvrant dans une chaîne de caractères, il conviendrait alors de déspécialiser le métacaractère avec un *backslash* : `\\[`\n",
    "\n",
    "Les métacaractères du module *re* sont : `. ^ $ * + ? { } [ ] \\ | ( )`\n",
    "\n",
    "Il existe aussi des séquences spéciales qui offrent un raccourci de certaines classes :\n",
    "\n",
    "|Séquence|Description|Équivalent\n",
    "|:-:|:-|:-:|\n",
    "|`\\d`|N'importe quel caractère numérique|`[0-9]`|\n",
    "|`\\D`|N'importe quel caractère non numérique|`[^0-9]`|\n",
    "|`\\s`|N'importe quel caractère blanc|`[ \\t\\n\\r\\f\\v]`|\n",
    "|`\\S`|N'importe quel caractère autre que blanc|`[^ \\t\\n\\r\\f\\v]`|\n",
    "|`\\w`|N'importe quel caractère alphanumérique|`[a-zA-Z0-9_]`|\n",
    "|`\\W`|N'importe quel caractère qui ne soit pas alphanumérique|`[^a-zA-Z0-9_]`|\n",
    "|`\\b`|Une frontière de mot|Liaison entre `\\w` et `\\W`|"
   ]
  },
  {
   "cell_type": "markdown",
   "metadata": {},
   "source": [
    "## Recherche de correspondances\n",
    "\n",
    "Le module *re* propose plusieurs méthodes qui permettent d’effectuer une recherche de motif :\n",
    "- `search()` : analyse la chaîne à la recherche d’une correspondance\n",
    "- `match()` : détermine, à partir du début de la chaîne, si la *regex* trouve une correspondance\n",
    "- `findall()` : renvoie sous forme de liste les correspondances de la *regex*\n",
    "- `finditer()` : recherche les correspondances et les renvoie sous forme d’itérateur"
   ]
  },
  {
   "cell_type": "markdown",
   "metadata": {},
   "source": [
    "### Vérifier l’existence d’un motif\n",
    "\n",
    "La méthode `search()` est la plus intuitive : elle permet de rechercher, n’importe où dans la chaîne, une concordance :"
   ]
  },
  {
   "cell_type": "code",
   "execution_count": null,
   "metadata": {},
   "outputs": [],
   "source": [
    "text = \"La première guerre mondiale a commencé en 1914 et s’est terminée en 1918.\"\n",
    "result = re.search(\"\\d{4}\", text)"
   ]
  },
  {
   "cell_type": "markdown",
   "metadata": {},
   "source": [
    "Le résultat est ensuite exploitable à travers une méthode `group()` :"
   ]
  },
  {
   "cell_type": "code",
   "execution_count": null,
   "metadata": {},
   "outputs": [],
   "source": [
    "print(result.group())"
   ]
  },
  {
   "cell_type": "markdown",
   "metadata": {},
   "source": [
    "La méthode `match()` va quant à elle essayer de repérer une correspondance à partir du début de la chaîne :"
   ]
  },
  {
   "cell_type": "code",
   "execution_count": null,
   "metadata": {},
   "outputs": [],
   "source": [
    "result = re.match(\"\\d{4}\", text)"
   ]
  },
  {
   "cell_type": "markdown",
   "metadata": {},
   "source": [
    "Comme la chaîne ne débute pas par quatre chiffres (le sens de la classe `\\d` avec le quantificateur `{4}`), l’instruction renvoie un objet `None` :"
   ]
  },
  {
   "cell_type": "code",
   "execution_count": null,
   "metadata": {},
   "outputs": [],
   "source": [
    "print(result)"
   ]
  },
  {
   "cell_type": "markdown",
   "metadata": {},
   "source": [
    "D’un point de vue pratique, ces deux méthodes s’utilisent plutôt pour vérifier si un motif est présent dans une chaîne plutôt que pour noter ou faire ressortir leurs occurrences :"
   ]
  },
  {
   "cell_type": "code",
   "execution_count": null,
   "metadata": {},
   "outputs": [],
   "source": [
    "# does the string starts with a date?\n",
    "result = re.match(\"^\\d{4}\", text)\n",
    "# if so…\n",
    "if result:\n",
    "    print('There is a match:', result.group())\n",
    "else:\n",
    "    print('No match')"
   ]
  },
  {
   "cell_type": "markdown",
   "metadata": {},
   "source": [
    "À noter trois autres méthodes pour exploiter le résultat :\n",
    "- `span()` : indique la position où la *regex* se vérifie\n",
    "- `start()` : indique la position de début de vérification de la *regex*\n",
    "- `end()` : indique la position de fin de vérification de la *regex*"
   ]
  },
  {
   "cell_type": "markdown",
   "metadata": {},
   "source": [
    "### Trouver toutes les occurrences d’un motif\n",
    "\n",
    "Les méthodes `findall()` et `finditer()` sont plus pratiques pour isoler les résultats d’une recherche. Dans le cas de la première, le programme renvoie une liste ; dans le cas de la seconde, un itérateur :"
   ]
  },
  {
   "cell_type": "code",
   "execution_count": null,
   "metadata": {},
   "outputs": [],
   "source": [
    "results = re.findall(\"\\d{4}\", text)\n",
    "print(results)"
   ]
  },
  {
   "cell_type": "code",
   "execution_count": null,
   "metadata": {},
   "outputs": [],
   "source": [
    "results = re.finditer(\"\\d{4}\", text)\n",
    "for r in results:\n",
    "    print(r.group())"
   ]
  },
  {
   "cell_type": "markdown",
   "metadata": {},
   "source": [
    "## Opérations pour modifier une chaîne\n",
    "\n",
    "La méthode la plus souvent utilisée pour effectuer ces opérations est `sub()`. Elle accepte trois paramètres : le motif, le remplacement et l’objet où l’effectuer."
   ]
  },
  {
   "cell_type": "code",
   "execution_count": null,
   "metadata": {},
   "outputs": [],
   "source": [
    "result = re.sub(\"\\d{4}\", \"AAAA\", text)\n",
    "print(result)"
   ]
  },
  {
   "cell_type": "markdown",
   "metadata": {},
   "source": [
    "On pourrait aussi citer la méthode `split()` qui découpe une chaîne de caractères en liste d’éléments :"
   ]
  },
  {
   "cell_type": "code",
   "execution_count": null,
   "metadata": {},
   "outputs": [],
   "source": [
    "results = re.split(\"\\W\", text)\n",
    "print(results)"
   ]
  },
  {
   "cell_type": "markdown",
   "metadata": {},
   "source": [
    "## Compilation et options de compilation"
   ]
  },
  {
   "cell_type": "markdown",
   "metadata": {},
   "source": [
    "La compilation est la méthode à privilégier lorsque l’objectif est de répéter la *regex* sur un ensemble de données :"
   ]
  },
  {
   "cell_type": "code",
   "execution_count": null,
   "metadata": {},
   "outputs": [],
   "source": [
    "adj = ['agréable', 'admirable', 'négociable', 'traitable']\n",
    "pattern = r'^n.*able$'\n",
    "prog = re.compile(pattern)\n",
    "for a in adj:\n",
    "    result = prog.match(a)\n",
    "    if result:\n",
    "        print(result.group())"
   ]
  },
  {
   "cell_type": "markdown",
   "metadata": {},
   "source": [
    "La méthode `compile()` accepte en second paramètre des options de compilation parmi lesquelles :\n",
    "\n",
    "|Option|Description|Notation abrégée|\n",
    "|:-:|:-|:-:|\n",
    "|`ASCII`|Certaines séquences spéciales comme `\\w` ou `\\b` à limiter les correspondances aux caractères ASCII.|`A`|\n",
    "|`IGNORECASE`|La correspondance est insensible à la casse.|`I`|\n",
    "|`VERBOSE`|Active les *regex* verbeuses.|`X`|"
   ]
  },
  {
   "cell_type": "code",
   "execution_count": null,
   "metadata": {},
   "outputs": [],
   "source": [
    "text = 'Eugène Poubelle n’a jamais été l’inventeur de la poubelle.'\n",
    "pattern = r'p\\w+'\n",
    "prog = re.compile(pattern, re.I)\n",
    "results = prog.findall(text)\n",
    "print(results)"
   ]
  }
 ],
 "metadata": {
  "kernelspec": {
   "display_name": "Python 3",
   "language": "python",
   "name": "python3"
  },
  "language_info": {
   "codemirror_mode": {
    "name": "ipython",
    "version": 3
   },
   "file_extension": ".py",
   "mimetype": "text/x-python",
   "name": "python",
   "nbconvert_exporter": "python",
   "pygments_lexer": "ipython3",
   "version": "3.7.4"
  }
 },
 "nbformat": 4,
 "nbformat_minor": 4
}
