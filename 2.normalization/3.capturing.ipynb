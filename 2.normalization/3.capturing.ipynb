{
 "cells": [
  {
   "cell_type": "markdown",
   "metadata": {},
   "source": [
    "# À propos des groupes de capture"
   ]
  },
  {
   "cell_type": "markdown",
   "metadata": {},
   "source": [
    "L’intérêt des groupes de capture est de subdiviser une chaîne de caractères en plusieurs morceaux qui répondraient ou non à des spécificités différentes.\n",
    "\n",
    "Importons tout d’abord le module *re* et instancions la chaîne de caractères à analyser :"
   ]
  },
  {
   "cell_type": "code",
   "execution_count": null,
   "metadata": {},
   "outputs": [],
   "source": [
    "import re\n",
    "\n",
    "text = 'Eugène Poubelle n’est pas l’inventeur des poubelles.'"
   ]
  },
  {
   "cell_type": "markdown",
   "metadata": {},
   "source": [
    "## Les parenthèses capturantes"
   ]
  },
  {
   "cell_type": "markdown",
   "metadata": {},
   "source": [
    "L’objectif ici est de récupérer les deux noms propres. Il s’agit de sous-chaînes de longueurs variables, composées de caractères alphabétique dont le premier est une majuscule et qui sont séparées l’une de l’autre par une espace. On peut traduire ces contraintes par la *regex* suivante :"
   ]
  },
  {
   "cell_type": "code",
   "execution_count": null,
   "metadata": {},
   "outputs": [],
   "source": [
    "pattern = r'([A-Z]\\w+\\b)\\s([A-Z]\\w+\\b)'"
   ]
  },
  {
   "cell_type": "markdown",
   "metadata": {},
   "source": [
    "La compilation se passe ensuite de manière classique :"
   ]
  },
  {
   "cell_type": "code",
   "execution_count": null,
   "metadata": {},
   "outputs": [],
   "source": [
    "prog = re.compile(pattern)\n",
    "result = prog.match(text)"
   ]
  },
  {
   "cell_type": "markdown",
   "metadata": {},
   "source": [
    "Dans cet exemple, nous avons rajouté des parenthèses autour des deux groupes à capturer. Ces parenthèses sont des métacaractères qui vont isoler les résultats et les mettre à disposition dans un groupe numéroté :"
   ]
  },
  {
   "cell_type": "code",
   "execution_count": null,
   "metadata": {},
   "outputs": [],
   "source": [
    "print(result.group(1))\n",
    "print(result.group(2))"
   ]
  },
  {
   "cell_type": "markdown",
   "metadata": {},
   "source": [
    "**Remarque :** en l’occurrence, le résultat aurait été plus simple à obtenir avec la méthode `findall()` :"
   ]
  },
  {
   "cell_type": "code",
   "execution_count": null,
   "metadata": {},
   "outputs": [],
   "source": [
    "pattern = r'[A-Z]\\w+\\b'\n",
    "prog = re.compile(pattern)\n",
    "results = prog.findall(text)\n",
    "print(results)"
   ]
  },
  {
   "cell_type": "markdown",
   "metadata": {},
   "source": [
    "### Les renvois\n",
    "\n",
    "Comme ils sont numérotés, il est possible, dans une même *regex*, de faire référence à un groupe de capture grâce à la notation `\\x` où `x` est le numéro du groupe. Cette facilité est notamment très utile dans le cadre de substitutions :"
   ]
  },
  {
   "cell_type": "code",
   "execution_count": null,
   "metadata": {},
   "outputs": [],
   "source": [
    "filenames = [\n",
    "    'S01E01-heat.txt',\n",
    "    'S03E99-la-dispute-1ere-et-2eme-partie.txt',\n",
    "    'S02E97-la-conscience-d-arthur.txt'\n",
    "]\n",
    "\n",
    "pattern = r'S([0-9]{2})E([0-9]{2,3})-(.+).txt'\n",
    "\n",
    "prog = re.compile(pattern)\n",
    "\n",
    "print([prog.sub(r'\\1%\\2%\\3', filename) for filename in filenames])"
   ]
  },
  {
   "cell_type": "markdown",
   "metadata": {},
   "source": [
    "Les renvois peuvent également s’écrire sous forme de groupes nommés :"
   ]
  },
  {
   "cell_type": "code",
   "execution_count": null,
   "metadata": {},
   "outputs": [],
   "source": [
    "pattern = r'S(?P<season>[0-9]{2})E(?P<episode>[0-9]{2,3})-(?P<title>.+).txt'\n",
    "\n",
    "prog = re.compile(pattern)\n",
    "\n",
    "for filename in filenames:\n",
    "    results = prog.match(filename)\n",
    "    print(results.group('title'), results.group('season'), results.group('episode'))"
   ]
  },
  {
   "cell_type": "markdown",
   "metadata": {},
   "source": [
    "Une méthode `groupdict()` permet de récupérer le résultat obtenu sous forme de dictionnaire :"
   ]
  },
  {
   "cell_type": "code",
   "execution_count": null,
   "metadata": {},
   "outputs": [],
   "source": [
    "print(results.groupdict())"
   ]
  }
 ],
 "metadata": {
  "kernelspec": {
   "display_name": "Python 3",
   "language": "python",
   "name": "python3"
  },
  "language_info": {
   "codemirror_mode": {
    "name": "ipython",
    "version": 3
   },
   "file_extension": ".py",
   "mimetype": "text/x-python",
   "name": "python",
   "nbconvert_exporter": "python",
   "pygments_lexer": "ipython3",
   "version": "3.7.7"
  }
 },
 "nbformat": 4,
 "nbformat_minor": 4
}
