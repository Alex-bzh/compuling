{
 "cells": [
  {
   "cell_type": "markdown",
   "metadata": {},
   "source": [
    "# Exercises de décodage"
   ]
  },
  {
   "cell_type": "markdown",
   "metadata": {},
   "source": [
    "## Des caractères caractériels"
   ]
  },
  {
   "cell_type": "markdown",
   "metadata": {},
   "source": [
    "Un caractère n’a pas la même adresse selon le jeu qui a permis de l’encoder. Conséquence ? Un caractère pourrait être décodé de la mauvaise manière et être imprimé différemment que prévu.\n",
    "\n",
    "Vous récupérez les données binaires suivantes :"
   ]
  },
  {
   "cell_type": "code",
   "execution_count": null,
   "metadata": {},
   "outputs": [],
   "source": [
    "binary = b'Molim sobu za nepu\\x9aa\\xe8'"
   ]
  },
  {
   "cell_type": "markdown",
   "metadata": {},
   "source": [
    "Pour les besoins de l’exercice, vous savez qu’il s’agit de croate et que la phrase décodée devrait donner :\n",
    "\n",
    "```txt\n",
    "Molim sobu za nepušač\n",
    "```\n",
    "\n",
    "Citez deux jeux de caractères candidats pour décoder le croate :"
   ]
  },
  {
   "cell_type": "markdown",
   "metadata": {},
   "source": [
    "**Your answer :**\n",
    "\n",
    "- *ISO-8859-2*\n",
    "- *ISO-8859-16*"
   ]
  },
  {
   "cell_type": "markdown",
   "metadata": {},
   "source": [
    "Utilisez-les et comparez les résultats avec la phrase correcte :"
   ]
  },
  {
   "cell_type": "code",
   "execution_count": null,
   "metadata": {},
   "outputs": [],
   "source": [
    "# your code here"
   ]
  },
  {
   "cell_type": "markdown",
   "metadata": {},
   "source": [
    "## Un message codé"
   ]
  },
  {
   "cell_type": "markdown",
   "metadata": {},
   "source": [
    "Sachant qu’il a été encodé en ASCII, décodez le message suivant :\n",
    "\n",
    "```txt\n",
    "01001100 01100101 01101101 01101101 01111001  \n",
    "00100000 01101010 01101111 01110101 01100101  \n",
    "00100000 01100100 01100101 00100000 01101100  \n",
    "01100001 00100000 01100010 01100001 01110011  \n",
    "01110011 01100101 00101110\n",
    "```"
   ]
  },
  {
   "cell_type": "code",
   "execution_count": null,
   "metadata": {},
   "outputs": [],
   "source": [
    "message = '01001100 01100101 01101101 01101101 01111001 00100000 01101010 01101111 01110101 01100101 00100000 01100100 01100101 00100000 01101100 01100001 00100000 01100010 01100001 01110011 01110011 01100101 00101110'\n",
    "\n",
    "# your code here"
   ]
  },
  {
   "cell_type": "markdown",
   "metadata": {},
   "source": [
    "## Indéchiffrable"
   ]
  },
  {
   "cell_type": "markdown",
   "metadata": {},
   "source": [
    "Vous recevez ce tableau d’octets :"
   ]
  },
  {
   "cell_type": "code",
   "execution_count": null,
   "metadata": {},
   "outputs": [],
   "source": [
    "octets = [\n",
    "    1000001, 1110101, 1101010, 1101111, 1110101, 1110010, 1100100, 11100010, 10000000, 10011001,\n",
    "    1101000, 1110101, 1101001, 101100, 100000, 1001010, 1110101, 1101100, 1101001, 1100101,\n",
    "    100000, 1100101, 1110011, 1110100, 100000, 1100001, 1101100, 1101100, 11000011, 10101001,\n",
    "    1100101, 100000, 11000011, 10100000, 100000, 1101100, 1100001, 100000, 1110000,\n",
    "    1101001, 1110011, 1100011, 1101001, 1101110, 1100101, 101110\n",
    "]"
   ]
  },
  {
   "cell_type": "markdown",
   "metadata": {},
   "source": [
    "Le message qui se cache derrière a-t-il été encodé en ASCII ?"
   ]
  },
  {
   "cell_type": "code",
   "execution_count": null,
   "metadata": {},
   "outputs": [],
   "source": [
    "# your code here"
   ]
  }
 ],
 "metadata": {
  "kernelspec": {
   "display_name": "Python 3 (ipykernel)",
   "language": "python",
   "name": "python3"
  },
  "language_info": {
   "codemirror_mode": {
    "name": "ipython",
    "version": 3
   },
   "file_extension": ".py",
   "mimetype": "text/x-python",
   "name": "python",
   "nbconvert_exporter": "python",
   "pygments_lexer": "ipython3",
   "version": "3.10.6"
  }
 },
 "nbformat": 4,
 "nbformat_minor": 4
}
