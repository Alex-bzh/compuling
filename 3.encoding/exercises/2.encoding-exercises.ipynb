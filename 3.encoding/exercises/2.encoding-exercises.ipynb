{
 "cells": [
  {
   "cell_type": "markdown",
   "metadata": {},
   "source": [
    "# Exercices d’encodage\n",
    "\n",
    "## Conversions de base\n",
    "\n",
    "Encodez en ASCII puis en latin1 la phrase :\n",
    "```txt\n",
    "La petite brise la glace.\n",
    "```"
   ]
  },
  {
   "cell_type": "code",
   "execution_count": null,
   "metadata": {},
   "outputs": [],
   "source": [
    "# Your code here"
   ]
  },
  {
   "cell_type": "markdown",
   "metadata": {},
   "source": [
    "## Encodage de caractères accentués\n",
    "\n",
    "Est-il possible d’encoder en latin1 la phrase ci-dessous ? Expliquez et recommandez un encodage approprié.\n",
    "\n",
    "```\n",
    "Jak się czujesz?\n",
    "```"
   ]
  },
  {
   "cell_type": "code",
   "execution_count": null,
   "metadata": {},
   "outputs": [],
   "source": [
    "# Your code here"
   ]
  },
  {
   "cell_type": "markdown",
   "metadata": {},
   "source": [
    "**Your answer**\n",
    "\n"
   ]
  },
  {
   "cell_type": "markdown",
   "metadata": {},
   "source": [
    "## Du binaire\n",
    "\n",
    "Affichez la représentation binaire de la phrase ci-dessous, encodée en UTF-8 :\n",
    "```\n",
    "Mercredi, viendras-tu manger avec Jean sur une nappe propre ?\n",
    "```"
   ]
  },
  {
   "cell_type": "code",
   "execution_count": null,
   "metadata": {},
   "outputs": [],
   "source": [
    "# Your code"
   ]
  }
 ],
 "metadata": {
  "kernelspec": {
   "display_name": "Python 3",
   "language": "python",
   "name": "python3"
  },
  "language_info": {
   "codemirror_mode": {
    "name": "ipython",
    "version": 3
   },
   "file_extension": ".py",
   "mimetype": "text/x-python",
   "name": "python",
   "nbconvert_exporter": "python",
   "pygments_lexer": "ipython3",
   "version": "3.7.4"
  }
 },
 "nbformat": 4,
 "nbformat_minor": 4
}
