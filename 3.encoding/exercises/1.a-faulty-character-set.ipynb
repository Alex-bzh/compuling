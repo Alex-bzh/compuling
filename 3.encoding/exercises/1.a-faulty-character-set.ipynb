{
 "cells": [
  {
   "cell_type": "markdown",
   "metadata": {},
   "source": [
    "# Un jeu de caractères défectif"
   ]
  },
  {
   "cell_type": "markdown",
   "metadata": {},
   "source": [
    "## Objectif"
   ]
  },
  {
   "cell_type": "markdown",
   "metadata": {},
   "source": [
    "Établissez un jeu de caractères minimal pour encoder le poème *La môme néant* (1951) de Jean Tardieu :\n",
    "\n",
    "```txt\n",
    "Quoi qu’a dit ?\n",
    "– A dit rin.\n",
    "Quoi qu’a fait ?\n",
    "– A fait rin.\n",
    "A quoi qu’a pense ?\n",
    "– A pense à rin.\n",
    "Pourquoi qu’a dit rin ?\n",
    "Pourquoi qu’a fait rin ?\n",
    "Pourquoi qu’a pense à rin ?\n",
    "– A’ xiste pas.\n",
    "```"
   ]
  },
  {
   "cell_type": "markdown",
   "metadata": {},
   "source": [
    "## Charger les données"
   ]
  },
  {
   "cell_type": "markdown",
   "metadata": {},
   "source": [
    "Le texte est disponible dans un fichier texte du dossier *data* :"
   ]
  },
  {
   "cell_type": "code",
   "execution_count": null,
   "metadata": {},
   "outputs": [],
   "source": [
    "path_to_text = '../data/la-mome-neant.txt'"
   ]
  },
  {
   "cell_type": "markdown",
   "metadata": {},
   "source": [
    "Chargez les données dans une variable `text` :"
   ]
  },
  {
   "cell_type": "code",
   "execution_count": null,
   "metadata": {},
   "outputs": [],
   "source": [
    "# your code here"
   ]
  },
  {
   "cell_type": "markdown",
   "metadata": {},
   "source": [
    "Vérifiez que les données sont correctement chargées :"
   ]
  },
  {
   "cell_type": "code",
   "execution_count": null,
   "metadata": {},
   "outputs": [],
   "source": [
    "if len(text) == 189 and isinstance(text, str):\n",
    "    print(\"Résultat correct !\")"
   ]
  },
  {
   "cell_type": "markdown",
   "metadata": {},
   "source": [
    "## Préparer la table de conversion"
   ]
  },
  {
   "cell_type": "markdown",
   "metadata": {},
   "source": [
    "L’objectif est d’associer à chaque caractère un numéro d’ordre en base décimale et un codage binaire. Par exemple, si les caractères *h* et *w* se trouvaient dans le texte et que nous les avions placés respectivement au troisième et septième rangs de notre jeu de caractère, on les représenteraient ainsi :\n",
    "\n",
    "| character | decimal | binary  |\n",
    "|-----------|---------|---------|\n",
    "| h         | 2       | 010     |\n",
    "| w         | 6       | 110     |"
   ]
  },
  {
   "cell_type": "markdown",
   "metadata": {},
   "source": [
    "### Étape 1"
   ]
  },
  {
   "cell_type": "markdown",
   "metadata": {},
   "source": [
    "Constituez une liste des caractères uniques présents dans le poème :"
   ]
  },
  {
   "cell_type": "code",
   "execution_count": null,
   "metadata": {},
   "outputs": [],
   "source": [
    "# your code here"
   ]
  },
  {
   "cell_type": "markdown",
   "metadata": {},
   "source": [
    "Le poème doit être composé de vingt-quatre caractères différents:"
   ]
  },
  {
   "cell_type": "code",
   "execution_count": null,
   "metadata": {},
   "outputs": [],
   "source": [
    "if len(characters) == 24:\n",
    "    print(\"Résultat correct !\")"
   ]
  },
  {
   "cell_type": "markdown",
   "metadata": {},
   "source": [
    "### Étape 2"
   ]
  },
  {
   "cell_type": "markdown",
   "metadata": {},
   "source": [
    "Sachant qu’un bit ne peut représenter que deux caractères, enregistrez dans une variable `n` le nombre nécessaires pour afficher la totalité des caractères du poème :"
   ]
  },
  {
   "cell_type": "code",
   "execution_count": null,
   "metadata": {},
   "outputs": [],
   "source": [
    "# your code here"
   ]
  },
  {
   "cell_type": "markdown",
   "metadata": {},
   "source": [
    "Constituez à présent une liste `bits` de tous les *n* bits qui seront nécessaires pour encoder le poème :"
   ]
  },
  {
   "cell_type": "code",
   "execution_count": null,
   "metadata": {},
   "outputs": [],
   "source": [
    "# your code here"
   ]
  },
  {
   "cell_type": "markdown",
   "metadata": {},
   "source": [
    "Fusionnez ensuite la liste des caractères et celle des représentations binaires afin d’obtenir une liste de tuples. Par exemple, pour nos caractères *h* et *w*, nous aurions :\n",
    "\n",
    "```python\n",
    "[('h', '010'), ('w', '110')]\n",
    "```"
   ]
  },
  {
   "cell_type": "code",
   "execution_count": null,
   "metadata": {},
   "outputs": [],
   "source": [
    "# your code here"
   ]
  },
  {
   "cell_type": "markdown",
   "metadata": {},
   "source": [
    "Dans un dernier temps, convertissez votre liste de tuples en dictionnaire."
   ]
  },
  {
   "cell_type": "code",
   "execution_count": null,
   "metadata": {},
   "outputs": [],
   "source": [
    "# your code here"
   ]
  },
  {
   "cell_type": "markdown",
   "metadata": {},
   "source": [
    "## Convertir le poème en bits"
   ]
  },
  {
   "cell_type": "markdown",
   "metadata": {},
   "source": [
    "Grâce à votre table de conversion, encodez le poème selon votre jeu de caractères personnalisé :"
   ]
  },
  {
   "cell_type": "code",
   "execution_count": null,
   "metadata": {},
   "outputs": [],
   "source": [
    "# your code here"
   ]
  }
 ],
 "metadata": {
  "kernelspec": {
   "display_name": "Python 3 (ipykernel)",
   "language": "python",
   "name": "python3"
  },
  "language_info": {
   "codemirror_mode": {
    "name": "ipython",
    "version": 3
   },
   "file_extension": ".py",
   "mimetype": "text/x-python",
   "name": "python",
   "nbconvert_exporter": "python",
   "pygments_lexer": "ipython3",
   "version": "3.10.6"
  }
 },
 "nbformat": 4,
 "nbformat_minor": 4
}
