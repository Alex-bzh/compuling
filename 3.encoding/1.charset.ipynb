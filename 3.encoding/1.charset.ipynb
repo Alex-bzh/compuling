{
 "cells": [
  {
   "cell_type": "markdown",
   "id": "e9da90fd-9bb8-4616-8dd4-bb5d858a86c6",
   "metadata": {},
   "source": [
    "# Les jeux de caractères codés"
   ]
  },
  {
   "cell_type": "markdown",
   "id": "74684718-32fb-4a5e-b0fc-5fd85dcf5bcc",
   "metadata": {},
   "source": [
    "## De l’origine des algorithmes"
   ]
  },
  {
   "cell_type": "markdown",
   "id": "aceae112-8cd0-44bc-99f4-1eb7a0c9a6d1",
   "metadata": {},
   "source": [
    "Le terme algorithme provient aussi bien du mathématicien Muḥammad ibn Mūsā al-Khwārizmī (780-850 env.) dont le nom a été latinisé en *Algaurizin*, *Algorizmi* ou encore *Algoritmi*, que du terme grec *arithmos* qui signifie *nombre*.\n",
    "\n",
    "Au Moyen Âge, le terme *augorisme* désigne la science du calcul utilisant les chiffres arabes dans un système de numération de position. Plus tard, l’algorithme devient l’ensemble des opérations mises en œuvre dans un calcul. Et, en informatique, il traduit l’ordre d’exécution des séquences d’un programme dans l’obtention d’un résultat."
   ]
  },
  {
   "cell_type": "markdown",
   "id": "83a9b864-8523-44a8-ab66-71a3c1664e37",
   "metadata": {},
   "source": [
    "### La numération de position"
   ]
  },
  {
   "cell_type": "markdown",
   "id": "623d0f18-af4c-4c9a-bd46-c69e7d783bf0",
   "metadata": {},
   "source": [
    "La numération de position en base décimale est utilisée au quotidien. Elle repose sur deux principes fondamentaux :\n",
    "\n",
    "- l’utilisation de dix signes pour compter [0-9]\n",
    "- la position des signes est porteuse de sens (7503 € ≠ 0375 €)\n",
    "\n",
    "Le cerveau dispose naturellement d’un programme pour décoder les nombres :\n",
    "\n",
    "$$\n",
    "\\begin{aligned}\n",
    "7503 &= 7000 + 500 + 00 + 3 \\\\\n",
    "7503 &= 7 \\times 1000 + 5 \\times 100 + 0 \\times 10 + 3 \\times 1 \\\\\n",
    "7503 &= 7 \\times 10^3 + 5 \\times 10^2 + 0 \\times 10^1 + 3 \\times 10^0\n",
    "\\end{aligned}\n",
    "$$\n",
    "\n",
    "En informatique, la numération de position se calcule en base binaire plutôt que décimale, ce qui implique l’utilisation de deux signes uniquement : 0 et 1. Considérant que depuis les années 70, l’unité de stockage est devenue le byte de 8 bits (octet), un octet permet de traduire 2^8^ informations, soit 256."
   ]
  },
  {
   "cell_type": "markdown",
   "id": "615d717a-4c3e-47d7-b161-9f41d57b370c",
   "metadata": {},
   "source": [
    "### Conversions entre différentes bases"
   ]
  },
  {
   "cell_type": "markdown",
   "id": "57e579f2-1c2f-4cd1-8e3c-86227a6202bc",
   "metadata": {},
   "source": [
    "Imaginons un nombre codé sur l’octet `01110010` en dehors de tout jeu de caractère. Si on le décompose, on obtient le nombre 114 dans la notation décimale :\n",
    "\n",
    "$$\n",
    "\\begin{aligned}\n",
    "114 &= 0 \\times 2^7 + 1 \\times 2^6 + 1 \\times 2^5 + 1 \\times 2^4 + 0 \\times 2^3 + 0 \\times 2^2 + 1 \\times 2^1 + 0 \\times 2^0 \\\\\n",
    "114 &= 0 \\times 128 + 1 \\times 64 + 1 \\times 32 + 1 \\times 16 + 0 \\times 8 + 0 \\times 4 + 1 \\times 2 + 0 \\times 1 \\\\\n",
    "114 &= 0 + 64 + 32 + 16 + 0 + 0 + 1 + 0\n",
    "\\end{aligned}\n",
    "$$\n",
    "\n",
    "La conversion d’un nombre décimal vers sa représentation en binaire se résoud grâce à la division euclidienne :\n",
    "\n",
    "$$\n",
    "\\begin{aligned}\n",
    "114 &= 0 \\times 2^7 + 114 \\\\\n",
    "114 &= 1 \\times 2^6 + 50 \\\\\n",
    "50 &= 1 \\times 2^5 + 18 \\\\\n",
    "18 &= 1 \\times 2^4 + 2 \\\\\n",
    "2 &= 0 \\times 2^3 + 2 \\\\\n",
    "2 &= 0 \\times 2^2 + 2 \\\\\n",
    "0 &= 1 \\times 2^1 + 0 \\\\\n",
    "0 &= 0 \\times 2^0 + 0\n",
    "\\end{aligned}\n",
    "$$\n",
    "\n",
    "La conversion du binaire en hexadécimal se révèle quant à elle extrêmement économique pour l’informatique en terme de stockage. En effet, $2^8$ est égal à $16^2$. La notation hexadécimale ayant besoin de 16 signes, on utilise alors au-delà du chiffre 9 les caractères latins de *A* à *F*.\n",
    "\n",
    "Le mécanisme de conversion implique les étapes suivantes :\n",
    "\n",
    "1. découper l’octet en deux parties égales ;\n",
    "2. convertir les deux parties en base décimale ;\n",
    "3. remplacer par la correspondance hexadécimale pour les résultats au-dessus de 9.\n",
    "\n",
    "Considérons l’octet `11110100` :\n",
    "\n",
    "1. Conversion de la partie `1111` :\n",
    "\n",
    "$$\n",
    "\\begin{aligned}\n",
    "&= 1 \\times 2^3 + 1 \\times 2^2 + 1 \\times 2^1 + 1 \\times 2^0 \\\\\n",
    "&= 8 + 4 + 2 + 1 \\\\\n",
    "&= 15\n",
    "\\end{aligned}\n",
    "$$\n",
    "\n",
    "2. Conversion de la partie  `0100` :\n",
    "\n",
    "$$\n",
    "\\begin{aligned}\n",
    "&= 0 \\times 2^3 + 1 \\times 2^2 + 0 \\times 2^1 + 0 \\times 2^0 \\\\\n",
    "&= 0 + 4 + 0 + 0 \\\\\n",
    "&= 4\n",
    "\\end{aligned}\n",
    "$$\n",
    "\n",
    "L’octet `11110100` vaut par conséquent F4 en hexadécimal."
   ]
  },
  {
   "cell_type": "markdown",
   "id": "5f1621ce-6f07-4cda-a447-4a624012d54e",
   "metadata": {},
   "source": [
    "### Convertir des nombres supérieurs à 128"
   ]
  },
  {
   "cell_type": "markdown",
   "id": "731c28df-c199-49a9-b564-d61782b93ef0",
   "metadata": {},
   "source": [
    "Par extension, la conversion en binaire d’un nombre supérieur à 256 nécessiterait plus d’un octet. Pour connaître le nombre d’octets, il suffit d’arrondir à l’entier supérieur le résultat de la division du nombre à représenter par 256 :\n",
    "\n",
    "$$\n",
    "x = \\lceil 257 \\div 256 \\rceil\n",
    "$$"
   ]
  },
  {
   "cell_type": "markdown",
   "id": "01375c86-1fb1-40a1-8c88-3fdb0fa8b9b4",
   "metadata": {},
   "source": [
    "### Le codage des couleurs"
   ]
  },
  {
   "cell_type": "markdown",
   "id": "fbc77af3-f91a-499f-8aec-7db2ddc42f62",
   "metadata": {},
   "source": [
    "Une teinte est le résultat d’un mélange de différentes proportions des trois couleurs primaires : le rouge, le vert et le bleu. Ce système est appelé RVB (RGB en anglais).\n",
    "\n",
    "Chacune de ces couleurs étant codée sur un octet, une teinte est représentée par trois octets ou trois bytes de 8 bits, soit 24 bits au total, ce qui laisse un choix entre 16 777 216 combinaisons ($2^{24}$).\n",
    "\n",
    "Par exemple, la couleur *aquamarine* est codée en binaire : `01111111 11111111 11010100`. La répartition s’effectue ainsi :\n",
    "\n",
    "- **Rouge :** `01111111`\n",
    "- **Vert :** `11111111`\n",
    "- **Bleu :** `11010100`\n",
    "\n",
    "Après conversion en hexadécimal, on obtient le code 7F FF D4.\n",
    "\n",
    "Et pour effectuer la conversion de l’hexadécimal vers le binaire ? Prenons la couleur *goldenrod*, notée DA A5 20 :\n",
    "\n",
    "![Conversion de la couleur *goldenrod*](images/goldenrod.png)"
   ]
  },
  {
   "cell_type": "markdown",
   "id": "7c60d70c-bf27-4baf-a693-8c17c3447d3c",
   "metadata": {},
   "source": [
    "## Principes de l’encodage de caractères"
   ]
  },
  {
   "cell_type": "markdown",
   "id": "6fa32b99-be4e-4f2e-bab2-facfc544a2ab",
   "metadata": {},
   "source": [
    "### Un *charset* ?"
   ]
  },
  {
   "cell_type": "markdown",
   "id": "c9b5eb82-12e0-46c2-b723-e7533160d929",
   "metadata": {},
   "source": [
    "**Charset :** *Character set*, association d’un caractère abstrait avec une représentation numérique (décimale, octale, hexadécimale…)\n",
    "\n",
    "Un *character set*, ou jeu de caractères, est indispensable à l’échange d’informations sur Internet. Le Morse, l’ASCII ou l’UTF-8 sont des exemples de jeux de caractères. Chaque système (serveur, BDD, système de fichiers…) doit savoir dans quel format sont échangées les informations."
   ]
  },
  {
   "cell_type": "markdown",
   "id": "c7d7cf53-dfb7-4726-9e52-1656f4bfc561",
   "metadata": {},
   "source": [
    "### Le décodage naturel des caractères"
   ]
  },
  {
   "cell_type": "markdown",
   "id": "e92f43fd-7e46-48d3-aee8-bbcc422e8749",
   "metadata": {},
   "source": [
    "Le cerveau décode plus ou moins bien les caractères :\n",
    "\n",
    "```txt\n",
    "小さな猫は牛乳を飲んでいます。\n",
    "```\n",
    "\n",
    "```txt\n",
    "Mały kot pije mleko.\n",
    "```\n",
    "\n",
    "Des traits forment des glyphes auxquels sont associés des caractères. Un processus de décodage par blocs est ensuite mobilisé pour obtenir des mots et des phrases, comme dans l’exemple :\n",
    "\n",
    "```txt\n",
    "Lepetitchatboitdulait.\n",
    "```\n",
    "\n",
    "Segmentation + décodage (français) = « Le petit chat boit du lait. »"
   ]
  },
  {
   "cell_type": "markdown",
   "id": "272b39c1-d432-4b38-80b5-871c0199ef87",
   "metadata": {},
   "source": [
    "### Comment l’informatique encode-t-elle l’information ?"
   ]
  },
  {
   "cell_type": "markdown",
   "id": "7dd7e153-15b5-4515-9ff4-a59f5f682152",
   "metadata": {},
   "source": [
    "En informatique, l’unité de base qui sert à l’échange d’informations est le **bit**. Or, le bit ne peut revêtir que deux formes primordiales, `0` ou `1`. Utilisé isolément, un bit ne permettrait d’encoder que deux caractères. Par exemple, avec la table de conversion suivante :\n",
    "\n",
    "|bit|caractère|\n",
    "|:-:|:-:|\n",
    "|`0`|a|\n",
    "|`1`|b|\n",
    "\n",
    "On obtiendrait pour le texte « Le petit chat boit du lait. » :\n",
    "\n",
    "```txt\n",
    "Le petit chat boit du lait.  \n",
    "?? ????? ??0? 1??? ?? ?0??.\n",
    "```\n",
    "\n",
    "Clairement, un bit ne suffit pas pour encoder tous les caractères du message. Qu’en serait-il avec deux bits ?\n",
    "\n",
    "|bit|caractère|\n",
    "|:-:|:-:|\n",
    "|`00`|a|\n",
    "|`01`|b|\n",
    "|`10`|c|\n",
    "|`11`|d|\n",
    "\n",
    "```txt\n",
    "L  e   p  e  t  i  t  c  h  a  t  b  o  i  t  d  u  l  a  i  t  .\n",
    "?? ??  ?? ?? ?? ?? ?? 10 ?? 00 ?? 01 ?? ?? ?? 11 ?? ?? 00 ?? ?? ??\n",
    "```\n",
    "\n",
    "Si deux bits ne suffisent pas non plus, comment savoir, pour un message, la quantité de bits nécessaire ?\n",
    "\n",
    "Faisons l’inventaire du besoin : `L` `e` `p` `t` `i` `c` `h` `a` `b` `o` `d` `u` `l` `.` = 15 caractères. Sachant que 1 bit ne peut représenter que 2 caractères ($2^1$) et 2 bits seulement 4 caractères ($2^2$), il nous faudrait 4 bits ($2^4$ caractères) pour représenter les 15 caractères du message."
   ]
  },
  {
   "cell_type": "markdown",
   "id": "02b33bd4-057b-49db-8a46-302389a62640",
   "metadata": {},
   "source": [
    "## Code Baudot"
   ]
  },
  {
   "cell_type": "markdown",
   "id": "86f1c01b-c420-4447-8c3e-9b7805ab2440",
   "metadata": {},
   "source": [
    "**1832 :** code Morse\n",
    "\n",
    "Dans le code Morse, un caractère est associé à un signal (lumière, son, geste), mais s’il existe une table de décodage universelle, le langage est quant à lui souvent chiffré.\n",
    "\n",
    "**Code Morse :**\n",
    "\n",
    "```txt\n",
    ".-.. .- / .--. .... .- .-.. .- -. --. . / .- / .-. . .--. .-.. .. ..-.. / ... .- / - --- .. .-.. . .-.-.-\n",
    "```\n",
    "\n",
    "**Décodage :**\n",
    "\n",
    "```txt\n",
    "La phalange a retiré sa toile.\n",
    "```\n",
    "Quel serait le sens de la phrase décodée ?\n",
    "\n",
    "**1874 :** code Baudot\n",
    "\n",
    "![Code Baudot](images/code-baudot.png)\n",
    "\n",
    "Le code Baudot est codé sur 5 bits, ce qui lui permet de représenter 32 caractères ($2^5$). Il se décline en plus en deux jeux distincts entre lesquels on peut basculer grâce aux caractères spéciaux `LTRS` et `FIGS`, ce qui double ses capacités de traitement pour parvenir à coder en tout 58 caractères différents. Certains sont effectivement communs aux deux jeux.\n",
    "\n",
    "**Exemple :** *On boit le thé à 16 heures.*\n",
    "\n",
    "**Encodage Baudot :**\n",
    "\n",
    "```txt\n",
    "18 0C 04 19 18 06 10 04 12 01 04 10 14 01 04 03 04 1B 17 15 04 1F 14 01 07 0A 01 05 1B 1C\n",
    "```\n",
    "\n",
    "**Transcription :**\n",
    "\n",
    "```txt\n",
    "O N SP B O I T SP L E SP T H E SP A SP FIGS 1 6 SP LTRS H E U R E S FIGS .\n",
    "```\n",
    "\n",
    "Si le code Baudot permet de coder rapidement des messages courts, il reste défectif sur certains points (minuscules, diacritiques, alphabets autres que latin…). Ses performances sont toutefois intéressantes au vu de la légèreté du message codé : 150 bits sur nécessaires ici pour encoder la phrase ($30 \\times 5 = 150$)."
   ]
  },
  {
   "cell_type": "markdown",
   "id": "a1ae7798-c12e-4ff6-b88d-22ba185b7a36",
   "metadata": {},
   "source": [
    "## Vers l’uniformisation"
   ]
  },
  {
   "cell_type": "markdown",
   "id": "1fb6afe9-f76d-415b-bf6b-80f2d685f802",
   "metadata": {},
   "source": [
    "### ASCII"
   ]
  },
  {
   "cell_type": "markdown",
   "id": "9d84a532-64df-4dea-bb1b-2808cc7d3168",
   "metadata": {},
   "source": [
    "#### L’apparition d’une norme pour échange de l’information"
   ]
  },
  {
   "cell_type": "markdown",
   "id": "e5095457-d3a6-461d-b889-3e9e316aec39",
   "metadata": {},
   "source": [
    "Dans les années 1960 apparaît une norme d’encodage de caractères, l’ASCII pour *American Standard Code for Information Interchange*. Elle contient 128 caractères dont 95 imprimables :\n",
    "\n",
    "- 62 caractères alphanumériques (A-Z, a-z, 0-9)\n",
    "- 33 signes de ponctuation\n",
    "- 33 caractères de contrôle (saut de ligne, tabulation, commandes…)\n",
    "\n",
    "Dans la norme ASCII, les caractères sont codés en binaire de `0000000` à `1111111`, de telle manière que, pour l’ensemble des informations elle ne sollicite que **7 bits**. Depuis 1970 environ, les ordinateurs travaillent toutefois sur un byte de 8 bits, appelé **octet**. Le $8^e$ bit est alors fixé à 0 :\n",
    "\n",
    "| Lettre | Décimal | Binaire |\n",
    "|:-:|:-:|:-:|\n",
    "| C | 67 | `01000011` |\n",
    "| a | 97 | `01100001` |\n",
    "| t | 116 | `01110100` |\n",
    "\n",
    "« Le petit chat boit du lait. » en ASCII :\n",
    "\n",
    "```txt\n",
    "01001100 01100101 00100000 01110000 01100101 01110100 01101001 01110100 00100000 01100011 01101000 01100001 01110100 00100000 01100010 01101111 01101001 01110100 00100000 01100100 01110101 00100000 01101100 01100001 01101001 01110100 00101110\n",
    "```\n",
    "\n",
    "![Table ASCII](images/ascii.svg)"
   ]
  },
  {
   "cell_type": "markdown",
   "id": "60816590-61f2-4f5c-960e-a8069b38d719",
   "metadata": {},
   "source": [
    "## Avec combien de bits coder une information ?"
   ]
  },
  {
   "cell_type": "markdown",
   "id": "2d75999f-629b-4aa7-b9e6-be97b46e66f7",
   "metadata": {},
   "source": [
    "Pour calculer le nombre de bits nécessaires au codage d’une information, on comptabilise le nombre de divisions euclidiennes nécessaires pour obtenir un quotient nul.\n",
    "\n",
    "Par exemple, pour 128 caractères, sachant que le $1^{er}$ est positionné au numéro 0 :\n",
    "\n",
    "$$\n",
    "\\begin{aligned}\n",
    "  127 &= 2 \\times 63 + 2 \\\\\n",
    "  63 &= 2 \\times 31 + 1 \\\\\n",
    "  31 &= 2 \\times 15 + 1 \\\\\n",
    "  15 &= 2 \\times 7 + 1 \\\\\n",
    "  7 &= 2 \\times 3 + 1 \\\\\n",
    "  3 &= 2 \\times 1 + 1 \\\\\n",
    "  1 &= 2 \\times 0 + 1\n",
    "\\end{aligned}\n",
    "$$\n",
    "\n",
    "Du point de vue mathématique, il suffit de calculer le logarithme en base 2 :\n",
    "\n",
    "$$\n",
    "\\log_{2} 128 = 7\n",
    "$$"
   ]
  },
  {
   "cell_type": "markdown",
   "id": "cbba3b6d-f199-4867-b679-110bb06b9fb7",
   "metadata": {},
   "source": [
    "#### Une volonté d’améliorer la communication"
   ]
  },
  {
   "cell_type": "markdown",
   "id": "f54798ad-9b70-4698-8daf-6f8e3dfcace9",
   "metadata": {},
   "source": [
    "L’avantage principal que revendique l’ASCII est une économie de stockage, car un caractère ne nécessite toujours qu’un seul octet pour être représenté. D’un autre côté, son impossibilité à encoder des caractères non latins a vu la prolifération de systèmes *ad hoc*.\n",
    "\n",
    "L’ASCII a par conséquent profité du 8^e^ bit libre afin de s’étendre à 256 caractères ($2^8$), une évolution qui n’a pas suffi pour endiguer la multiplication des jeux de caractères spécifiques :\n",
    "\n",
    "- développement de l’ISO-8859-1 ou Latin1 pour les langues européennes, puis de l’ISO-8859-15 (Latin9) qui introduit le symbole € ;\n",
    "- les langues asiatiques évoluent de leur côté ;\n",
    "- les documents deviennent illisibles à l’international dès lors que l’on change les systèmes."
   ]
  },
  {
   "cell_type": "markdown",
   "id": "4d875155-2c9e-4e43-be29-b2661db26706",
   "metadata": {},
   "source": [
    "### Unicode"
   ]
  },
  {
   "cell_type": "markdown",
   "id": "a9a946d6-f708-4cc1-bd66-3ee9cd5758d4",
   "metadata": {},
   "source": [
    "En 1991 paraît la première publication du consortium Unicode dont l’objectif est de fournir à l’ensemble des caractères de toutes les langues connues (110 000 env.) un nom ainsi qu’un identifiant numérique, et ce peu importe le système d’écriture (alphabétique, syllabique, logographique…)\n",
    "\n",
    "Chaque caractère dispose ainsi d’un point de code :\n",
    "\n",
    "- préfixé `U+`\n",
    "- base hexadécimale sur 4 à 6 caractères selon le plan\n",
    "\n",
    "Les points de code sont ensuite encodés selon un format (UTF-8, UTF-16…). En ce qui concerne son encodage UTF-8, Unicode est compatible avec l’ASCII : ses 128 caractères sont en effet représentés par les mêmes octets aux points de code U+0000 à U+007F.\n",
    "\n",
    "| Caractère | Nom | Point de code | Représentation binaire UTF-8 |\n",
    "|:-:|-|:-:|-|\n",
    "| a | Lettre minuscule latine a | U+0061 | `01100001` |\n",
    "| ἐ | Lettre minuscule grecque epsilon esprit doux  | U+1F10 | `11100001 10111100 10010000`\n",
    "| ㆞ | Marque d'annotation idéographique de la terre  | U+319E | `11100011 10000110 10011110` |\n",
    "| ܬ | Lettre syriaque taw | U+072C | `11011100 10101100` |"
   ]
  },
  {
   "cell_type": "markdown",
   "id": "432727ef-948c-486b-bbbc-b566e5e5dc51",
   "metadata": {},
   "source": [
    "### UTF-8"
   ]
  },
  {
   "cell_type": "markdown",
   "id": "0ed2d4d0-0037-4a35-aa73-48507e34b9f5",
   "metadata": {},
   "source": [
    "En 1992 paraît l’UTF-8 (*Universal character set Transformation Format 8 bits*), inventé par Kenneth Thompson. Il s’agit d’un système de codage sur 4 octets **maximum**, rétrocompatible avec les anciens systèmes basés sur 1 octet.\n",
    "\n",
    "![Martine écrit en UTF-8](images/martine-utf8.jpg)\n",
    "\n",
    "Potentiellement, l’UTF-8 peut représenter $2^{32}$ (> 4 milliards) caractères soit l’ensemble de tous les systèmes d’écriture actuels. Il est proposé en 1996 au consortium Unicode et devient universel deux ans après.\n",
    "\n",
    "**Fonctionnement :**\n",
    "\n",
    "Si le $8^e$ bit vaut `0`, on est en présence d’un caractère ASCII qui n’occupe comme espace de stockage qu’un byte de 8 bits, soit un octet. Si en revanche les $7^e$ et $8^e$ bits d’un octet valents tous les deux `1`, alors il s’agit du premier octet d’un caractère représenté sur plusieurs. Les octets de la suite sont alors encodés avec les deux derniers bits fixés à `10`.\n",
    "\n",
    "Prenons la phrase suivante : « Mały kot pije mleko. » Son encodage UTF-8 vaut :\n",
    "\n",
    "```txt\n",
    "01001101 01100001 11000101 10000010 01111001 00100000 01101011 01101111 01110100 00100000 01110000 01101001 01101010 01100101 00100000 01101101 01101100 01100101 01101011 01101111 00101110 00001010\n",
    "```\n",
    "\n",
    "Nous pouvons remarquer que le caractère ł est codé sur deux octets (`11000101 10000010`) quand tous les autres le sont sur un seul."
   ]
  },
  {
   "cell_type": "markdown",
   "id": "56809f59-7d37-4a3c-a93e-25fd307c763e",
   "metadata": {},
   "source": [
    "## Encodages disponibles avec Python"
   ]
  },
  {
   "cell_type": "markdown",
   "id": "cf51f2e6-672a-4201-937a-0914bd45053d",
   "metadata": {},
   "source": [
    "Le module encodings permet de lister tous les encodages pris en charge par Python :"
   ]
  },
  {
   "cell_type": "code",
   "execution_count": null,
   "id": "5cd1b2dc-6741-471d-a6cf-99e4b6ee30c5",
   "metadata": {},
   "outputs": [],
   "source": [
    "import encodings\n",
    "\n",
    "list_encodings = set(encodings.aliases.aliases.values())\n",
    "\n",
    "sorted_list = sorted(list_encodings)\n",
    "\n",
    "print(sorted_list)"
   ]
  }
 ],
 "metadata": {
  "kernelspec": {
   "display_name": "Python 3 (ipykernel)",
   "language": "python",
   "name": "python3"
  },
  "language_info": {
   "codemirror_mode": {
    "name": "ipython",
    "version": 3
   },
   "file_extension": ".py",
   "mimetype": "text/x-python",
   "name": "python",
   "nbconvert_exporter": "python",
   "pygments_lexer": "ipython3",
   "version": "3.11.7"
  }
 },
 "nbformat": 4,
 "nbformat_minor": 5
}
