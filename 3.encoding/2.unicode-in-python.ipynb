{
 "cells": [
  {
   "cell_type": "markdown",
   "id": "ded6f883-f761-4e3a-a780-8f164f095bf7",
   "metadata": {},
   "source": [
    "# La prise en charge d’Unicode par le langage Python"
   ]
  },
  {
   "cell_type": "markdown",
   "id": "d79a52f0-7968-4051-906f-8b5a4ae89812",
   "metadata": {
    "slideshow": {
     "slide_type": "fragment"
    }
   },
   "source": [
    "Python 3 introduit une révolution dans la gestion de l’encodage des caractères, au prix d’une confusion troublante pour qui vient de Python 2 :\n",
    "\n",
    "- en Python 2, les chaînes de caractères (type `str`) sont par défaut encodées\n",
    "- en Python 3, elles sont décodées\n",
    "\n",
    "Type par défaut d’une chaîne de caractères décodée en Python 3 :"
   ]
  },
  {
   "cell_type": "code",
   "execution_count": null,
   "id": "1d588a3a-69dc-46b9-99c2-98fa33fec69a",
   "metadata": {
    "slideshow": {
     "slide_type": "-"
    }
   },
   "outputs": [],
   "source": [
    "# decoded string\n",
    "type('chaîne de caractères')"
   ]
  },
  {
   "cell_type": "markdown",
   "id": "6da6192e-a6c9-48d4-93b4-9951bab56a69",
   "metadata": {
    "slideshow": {
     "slide_type": "fragment"
    }
   },
   "source": [
    "Une chaîne encodée **ne** doit contenir **que** des caractères ASCII :"
   ]
  },
  {
   "cell_type": "code",
   "execution_count": null,
   "id": "9e35c20a-3852-4bbd-8301-417104507650",
   "metadata": {
    "slideshow": {
     "slide_type": "-"
    }
   },
   "outputs": [],
   "source": [
    "# encoded string (type 'bytes')\n",
    "print(b'chaîne de caractères')"
   ]
  },
  {
   "cell_type": "markdown",
   "id": "093d7cfd-8b3f-40e6-ae69-d97f081365a6",
   "metadata": {
    "slideshow": {
     "slide_type": "subslide"
    }
   },
   "source": [
    "Pour la manipuler sous forme d’octets, il faut alors l’encoder en choisissant un encodage :"
   ]
  },
  {
   "cell_type": "code",
   "execution_count": null,
   "id": "e7461bf5-cef1-47a8-8fdf-c09930d9d10f",
   "metadata": {
    "slideshow": {
     "slide_type": "-"
    }
   },
   "outputs": [],
   "source": [
    "print(\n",
    "    'chaîne de caractères'.encode('utf8'),\n",
    "    bytes('chaîne de caractères', 'latin1'),\n",
    "    sep=\"\\n\"\n",
    ")"
   ]
  },
  {
   "cell_type": "markdown",
   "id": "21e7a05d-0967-421c-b29e-360a7d54f924",
   "metadata": {
    "slideshow": {
     "slide_type": "fragment"
    }
   },
   "source": [
    "À l’inverse, une liste d’octets en entrée doit être décodée pour s’afficher :"
   ]
  },
  {
   "cell_type": "code",
   "execution_count": null,
   "id": "9ef5f475-5348-4d18-87ab-3914a70f76ac",
   "metadata": {
    "slideshow": {
     "slide_type": "-"
    }
   },
   "outputs": [],
   "source": [
    "segment = 'chaîne de caractères'.encode('utf8')\n",
    "\n",
    "print(segment.decode('utf8'))"
   ]
  },
  {
   "cell_type": "markdown",
   "id": "8daa7d4b-0e0c-44d1-8744-1dec06dafcf1",
   "metadata": {
    "slideshow": {
     "slide_type": "subslide"
    }
   },
   "source": [
    "Il convient donc de connaître l’encodage utilisé, sinon le décodage se passe mal :"
   ]
  },
  {
   "cell_type": "code",
   "execution_count": null,
   "id": "b84e7858-0e78-4e41-830d-480cba6958fe",
   "metadata": {
    "slideshow": {
     "slide_type": "-"
    }
   },
   "outputs": [],
   "source": [
    "print(\n",
    "    segment.decode('latin1'),\n",
    "    segment.decode('mac-roman'),\n",
    "    segment.decode('cp855'),\n",
    "    sep=\"\\n\"\n",
    ")"
   ]
  },
  {
   "cell_type": "markdown",
   "id": "ed9ee3f8-1406-4b69-a23a-fd49be437616",
   "metadata": {
    "slideshow": {
     "slide_type": "subslide"
    }
   },
   "source": [
    "En bref, lorsque Python 3 manipule du texte, il offre toujours un affichage Unicode. Les ennuis commencent lorsque l’on veut manipuler des données binaires :"
   ]
  },
  {
   "cell_type": "code",
   "execution_count": null,
   "id": "3ed84470-a7f6-4664-b123-d77fe3467bbc",
   "metadata": {
    "slideshow": {
     "slide_type": "-"
    }
   },
   "outputs": [],
   "source": [
    "a = 'chaîne de caractères'\n",
    "b = 'chaîne de caractères'.encode('latin1')\n",
    "\n",
    "print(a[3], b[3], sep=\"\\n\")"
   ]
  },
  {
   "cell_type": "markdown",
   "id": "1cd6bac5-8760-424a-95de-b4f4f661bf2e",
   "metadata": {
    "slideshow": {
     "slide_type": "subslide"
    }
   },
   "source": [
    "L’accès atomique à des données binaires se fait donc sous forme d’octet. Pour savoir quel caractère Unicode se cache derrière un entier, on utilise la fonction `chr()` avec un nombre dans un intervalle $[0, 1114111]$ :"
   ]
  },
  {
   "cell_type": "code",
   "execution_count": null,
   "id": "b7aed18a-fcb8-41dd-914d-ec959cd27763",
   "metadata": {
    "slideshow": {
     "slide_type": "-"
    }
   },
   "outputs": [],
   "source": [
    "print(\n",
    "    chr(b[3]),\n",
    "    chr(238),\n",
    "    sep=\"\\n\"\n",
    ")"
   ]
  },
  {
   "cell_type": "markdown",
   "id": "0915f183-27ed-4de5-8b8a-5c2f8ad7d3da",
   "metadata": {
    "slideshow": {
     "slide_type": "fragment"
    }
   },
   "source": [
    "Et pour connaître le point de code Unicode d’un caractère décodé, on utilise la fonction `ord()` :"
   ]
  },
  {
   "cell_type": "code",
   "execution_count": null,
   "id": "1d598752-dcd3-4f1e-836d-906cd3537455",
   "metadata": {
    "slideshow": {
     "slide_type": "-"
    }
   },
   "outputs": [],
   "source": [
    "letters = ['ε', 'ܬ', '𐄍']\n",
    "\n",
    "[ ord(l) for l in letters ]"
   ]
  },
  {
   "cell_type": "markdown",
   "id": "ec6fceee-d096-48de-86ff-937bd3aeb283",
   "metadata": {
    "slideshow": {
     "slide_type": "slide"
    }
   },
   "source": [
    "## Cas pratique"
   ]
  },
  {
   "cell_type": "markdown",
   "id": "30db8aa2-3518-4d28-9d5f-ebcf0b43b0fc",
   "metadata": {},
   "source": [
    "En japonais, le mot *paix* s’orthographie *平和* (*heiwa*). Il est constitué de deux caractères :\n",
    "\n",
    "- *平*\n",
    "- *和*\n",
    "\n",
    "Leurs numéros d’ordre Unicode s’obtiennent facilement :"
   ]
  },
  {
   "cell_type": "code",
   "execution_count": null,
   "id": "d764b044-b680-4997-896d-055193798508",
   "metadata": {
    "slideshow": {
     "slide_type": "-"
    }
   },
   "outputs": [],
   "source": [
    "[ ord(c) for c in '平和' ]"
   ]
  },
  {
   "cell_type": "markdown",
   "id": "ad7a6b0b-6aa8-4929-884d-278a6fa5eb0d",
   "metadata": {
    "slideshow": {
     "slide_type": "subslide"
    }
   },
   "source": [
    "Ces numéros sont fournis en base 10 (décimale). Or, le langage informatique repose sur une base 2 (binaire). Si le premier idéogramme peut se représenter sur 5 signes allant de 0 à 9 (24179), il est impossible de le représenter sur un octet (8 signes allant de 0 à 1).\n",
    "\n",
    "Comme il faut plus d’un octet pour le représenter, toute conversion est impossible :"
   ]
  },
  {
   "cell_type": "code",
   "execution_count": null,
   "id": "c5675066-935d-40e6-9037-150867fe07a6",
   "metadata": {},
   "outputs": [],
   "source": [
    "print(b'平')"
   ]
  },
  {
   "cell_type": "markdown",
   "id": "78585e8d-31a8-4445-8f51-8d4339cb8a08",
   "metadata": {
    "slideshow": {
     "slide_type": "subslide"
    }
   },
   "source": [
    "Pour rendre la conversion possible, on doit d’abord fournir un encodage adéquat :"
   ]
  },
  {
   "cell_type": "code",
   "execution_count": null,
   "id": "277d3857-022e-47b4-ad1c-aef85a731b94",
   "metadata": {
    "slideshow": {
     "slide_type": "-"
    }
   },
   "outputs": [],
   "source": [
    "# 平 is not part of latin1 character set\n",
    "c = '平'.encode('latin1')"
   ]
  },
  {
   "cell_type": "code",
   "execution_count": null,
   "id": "58838bf1-3492-419a-91e3-b483fc2f31e0",
   "metadata": {
    "slideshow": {
     "slide_type": "fragment"
    }
   },
   "outputs": [],
   "source": [
    "# UTF-8 works well!\n",
    "c = '平'.encode('utf8')"
   ]
  },
  {
   "cell_type": "markdown",
   "id": "aab0900a-9adf-4f80-b645-53f20f02e98f",
   "metadata": {
    "slideshow": {
     "slide_type": "subslide"
    }
   },
   "source": [
    "**Attention !** `c` est désormais une donnée binaire, représentée sous forme d’octets !"
   ]
  },
  {
   "cell_type": "code",
   "execution_count": null,
   "id": "576b705f-6b36-40b2-9e67-0842fcb1145b",
   "metadata": {
    "slideshow": {
     "slide_type": "-"
    }
   },
   "outputs": [],
   "source": [
    "# how many bytes to encode ideogram 平 in UTF-8?\n",
    "print(len(c))\n",
    "\n",
    "# 3 bytes: e5 b9 b3 (in hexa form)\n",
    "print(c)\n",
    "\n",
    "# bytes in decimal form\n",
    "for byte in c:\n",
    "    print(byte)\n",
    "\n",
    "# in binary form\n",
    "for byte in c:\n",
    "    print(bin(byte))\n",
    "\n",
    "# f-String with format spectifier\n",
    "for byte in c:\n",
    "    print(f\"{byte:b}\")"
   ]
  },
  {
   "cell_type": "markdown",
   "id": "a0b680e0-73c0-48c2-b079-b3b8f467bfe6",
   "metadata": {
    "slideshow": {
     "slide_type": "slide"
    }
   },
   "source": [
    "## Unicode et Python"
   ]
  },
  {
   "cell_type": "markdown",
   "id": "7dd40f73-f9c1-4c10-a00f-2449c63e631d",
   "metadata": {},
   "source": [
    "Rappelons tout d’abord que toute chaîne affichée par Python3 est compatible Unicode. On peut afficher un caractère en l’imprimant directement :"
   ]
  },
  {
   "cell_type": "code",
   "execution_count": null,
   "id": "e0de2b0d-b6a1-4449-983f-348cf266f750",
   "metadata": {},
   "outputs": [],
   "source": [
    "print(\"ᛢ\")"
   ]
  },
  {
   "cell_type": "markdown",
   "id": "63eb6caf-fadb-417b-ae87-adbda327668b",
   "metadata": {},
   "source": [
    "Comme en indiquant son point de code Unicode ou son identifiant normalisé :"
   ]
  },
  {
   "cell_type": "code",
   "execution_count": null,
   "id": "faf3599c-946e-4c98-9fee-af5acaa904a3",
   "metadata": {},
   "outputs": [],
   "source": [
    "print(\n",
    "    \"\\u16E2\", # four-digit Unicode escape\n",
    "    \"\\U0001F334\", # eight-digit Unicode escape\n",
    "    \"\\xEE\", # two-digit hexadecimal escape\n",
    "    \"\\N{AVESTAN LETTER SHYE}\", # Unicode name\n",
    "    \"\\N{LATIN SMALL LETTER A}\\N{COMBINING GRAVE ACCENT}\", # combining two characters\n",
    "    sep=\"\\n\"\n",
    ")"
   ]
  },
  {
   "cell_type": "markdown",
   "id": "e321a4ce-afab-44cd-b5ea-173e10c6fcd2",
   "metadata": {},
   "source": [
    "Le module qui permet d’interagir avec Unicode s’appelle *unicodedata*. Il expose des méthodes pour manipuler les caractères :\n",
    "\n",
    "- `.lookup()` : rechercher un caractère par son nom\n",
    "- `.normalize()` : obtenir une version normalisée du caractère\n",
    "- `.name()` : obtenir l’identifiant unique du caractère\n",
    "- …"
   ]
  },
  {
   "cell_type": "code",
   "execution_count": null,
   "id": "c90c889b-4ebd-48fe-9685-f77876299487",
   "metadata": {},
   "outputs": [],
   "source": [
    "import unicodedata as ud\n",
    "\n",
    "char = '㈎'\n",
    "\n",
    "print(\n",
    "    ud.name(char),\n",
    "    ud.category(char),\n",
    "    ud.decomposition(char),\n",
    "    sep=\"\\n\"\n",
    ")"
   ]
  },
  {
   "cell_type": "markdown",
   "id": "ea9ec119-1310-4af1-910c-e77b2a95fbb8",
   "metadata": {
    "slideshow": {
     "slide_type": "subslide"
    }
   },
   "source": [
    "#### Ordre lexicographique"
   ]
  },
  {
   "cell_type": "markdown",
   "id": "d0bac8f0-d76a-4dc2-9d8b-edf14921f740",
   "metadata": {},
   "source": [
    "Une opération commune en analyse textuelle consiste à trier des éléments (*i.e.* des mots) par ordre alphabétique :"
   ]
  },
  {
   "cell_type": "code",
   "execution_count": null,
   "id": "6d15e5ad-bada-496e-be4e-9b8404f202cc",
   "metadata": {
    "slideshow": {
     "slide_type": "-"
    }
   },
   "outputs": [],
   "source": [
    "words = ['lettre', 'apostrophe']\n",
    "words.sort()\n",
    "\n",
    "print(words)"
   ]
  },
  {
   "cell_type": "markdown",
   "id": "83465cd7-f122-48e8-8bd0-3ad470b88f3e",
   "metadata": {
    "slideshow": {
     "slide_type": "fragment"
    }
   },
   "source": [
    "Le premier écueil se manifeste dès que des majuscules s’invitent dans la liste :"
   ]
  },
  {
   "cell_type": "code",
   "execution_count": null,
   "id": "7b1604dc-18ef-4195-9f14-e3f2fee85a33",
   "metadata": {
    "slideshow": {
     "slide_type": "-"
    }
   },
   "outputs": [],
   "source": [
    "words = ['lettre', 'apostrophe', 'Ellipse']\n",
    "words.sort()\n",
    "\n",
    "print(words)"
   ]
  },
  {
   "cell_type": "markdown",
   "id": "dd899776-2022-462c-8f59-98e050b50c2e",
   "metadata": {
    "slideshow": {
     "slide_type": "subslide"
    }
   },
   "source": [
    "C’est ici qu’intervient le paramètre `key` pour transmettre une fonction à chaque élément de la liste, avant toute comparaison :"
   ]
  },
  {
   "cell_type": "code",
   "execution_count": null,
   "id": "40fbbccb-1742-46ea-8c48-dbb4f91f0ef5",
   "metadata": {
    "slideshow": {
     "slide_type": "-"
    }
   },
   "outputs": [],
   "source": [
    "words = ['lettre', 'apostrophe', 'Ellipse']\n",
    "\n",
    "# each word is converted to lowercase before sorting\n",
    "words.sort(key=str.lower)\n",
    "\n",
    "print(words)"
   ]
  },
  {
   "cell_type": "markdown",
   "id": "35bd1273-a566-403a-9902-bc4e7979e888",
   "metadata": {
    "slideshow": {
     "slide_type": "fragment"
    }
   },
   "source": [
    "Méthode plutôt efficace et suffisante pour l’anglais, mais qui montre ses limites dès qu’entrent en jeu des caractères accentués :"
   ]
  },
  {
   "cell_type": "code",
   "execution_count": null,
   "id": "3f550345-263a-45cb-9361-722f6e1128c6",
   "metadata": {
    "slideshow": {
     "slide_type": "-"
    }
   },
   "outputs": [],
   "source": [
    "words = ['lettre', 'apostrophe', 'Ellipse', 'à']\n",
    "words.sort(key=str.lower)\n",
    "\n",
    "print(words)"
   ]
  },
  {
   "cell_type": "markdown",
   "id": "9ed3d512-94e5-493d-b9e2-c95408e400a7",
   "metadata": {
    "slideshow": {
     "slide_type": "subslide"
    }
   },
   "source": [
    "L’un des remèdes possibles consiste à supprimer les accents des chaînes de caractères.\n",
    "\n",
    "Plutôt que de prévoir tous les cas possibles (*Si le caractère se trouve parmi \\[à, â, ä\\], alors le transformer en \"a\", et sinon, si le caractère est un parmi \\[éè\\]…*), la méthode `.normalize()` du module `unicodedata` permet d’effectuer ce calcul plus simplement.\n",
    "\n",
    "En résumé, la fonction décompose un caractère en ses différents composants. Exemple avec la \"ligature minuscule latine fi\" :"
   ]
  },
  {
   "cell_type": "code",
   "execution_count": null,
   "id": "26571738-cb15-4d21-9e90-1bd783c830b8",
   "metadata": {
    "slideshow": {
     "slide_type": "-"
    }
   },
   "outputs": [],
   "source": [
    "fi = ud.lookup('Latin Small Ligature Fi')\n",
    "components = ud.normalize('NFKD', fi)\n",
    "\n",
    "print(f'Le caractère \"{ fi }\" est composé de : { [ c for c in components ] }')"
   ]
  },
  {
   "cell_type": "markdown",
   "id": "8ef08f57-1391-4c5a-a0c7-e64ab89682ff",
   "metadata": {
    "slideshow": {
     "slide_type": "subslide"
    }
   },
   "source": [
    "Appliquée à notre collection de mots, les caractères accentués ne sont plus relégués à la fin :"
   ]
  },
  {
   "cell_type": "code",
   "execution_count": null,
   "id": "63a99e98-0ab6-4306-b5b1-1657a2baff9d",
   "metadata": {
    "slideshow": {
     "slide_type": "-"
    }
   },
   "outputs": [],
   "source": [
    "words = ['lettre', 'apostrophe', 'Ellipse', 'à']\n",
    "\n",
    "words.sort(\n",
    "    key=lambda ch:ud.normalize('NFKD', ch)\n",
    ")\n",
    "\n",
    "print(words)"
   ]
  },
  {
   "cell_type": "markdown",
   "id": "d6e09856-ef33-4a90-a276-8e6fa4a41201",
   "metadata": {
    "slideshow": {
     "slide_type": "subslide"
    }
   },
   "source": [
    "En revanche, elle soulève d’autres problèmes :\n",
    "\n",
    "- perte de la distinction majuscules/minuscules\n",
    "- perte du tri par nombre de caractères\n",
    "\n",
    "Plutôt que de transmettre une fonction anonyme au paramètre `key`, autant définir une fonction utilisateur :"
   ]
  },
  {
   "cell_type": "code",
   "execution_count": null,
   "id": "325278b7-3d75-4c69-8b29-cf0c614cc492",
   "metadata": {
    "slideshow": {
     "slide_type": "-"
    }
   },
   "outputs": [],
   "source": [
    "def comparison(word):\n",
    "    \"\"\"Removes the accent marks on every character in a word.\n",
    "    \n",
    "    Keyword argument:\n",
    "    word -- the word to analyze\n",
    "    \"\"\"\n",
    "    norm = \"\"\n",
    "    word = word.lower()\n",
    "    for ch in word:\n",
    "        components = ud.normalize('NFKD', ch)\n",
    "        norm += components[0]\n",
    "    return norm\n",
    "\n",
    "words = ['lettre', 'apostrophe', 'Ellipse', 'à']\n",
    "words.sort(key=comparison)\n",
    "\n",
    "print(words)"
   ]
  }
 ],
 "metadata": {
  "kernelspec": {
   "display_name": "Python 3 (ipykernel)",
   "language": "python",
   "name": "python3"
  },
  "language_info": {
   "codemirror_mode": {
    "name": "ipython",
    "version": 3
   },
   "file_extension": ".py",
   "mimetype": "text/x-python",
   "name": "python",
   "nbconvert_exporter": "python",
   "pygments_lexer": "ipython3",
   "version": "3.11.7"
  }
 },
 "nbformat": 4,
 "nbformat_minor": 5
}
