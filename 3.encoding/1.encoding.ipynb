{
 "cells": [
  {
   "cell_type": "markdown",
   "metadata": {
    "slideshow": {
     "slide_type": "slide"
    }
   },
   "source": [
    "# Les jeux de caractères codés"
   ]
  },
  {
   "cell_type": "markdown",
   "metadata": {
    "slideshow": {
     "slide_type": "subslide"
    }
   },
   "source": [
    "## Un *charset* ?"
   ]
  },
  {
   "cell_type": "markdown",
   "metadata": {},
   "source": [
    "**Charset :** *Character set*, association d’un caractère abstrait avec une représentation numérique (décimale, octale, hexadécimale…)\n",
    "\n",
    "Un *character set*, ou jeu de caractères, est indispensable à l’échange d’informations sur Internet. Le Morse, l’ASCII ou l’UTF-8 sont des exemples de jeux de caractères. Chaque système (serveur, BDD, système de fichiers…) doit savoir dans quel format sont échangées les informations."
   ]
  },
  {
   "cell_type": "markdown",
   "metadata": {
    "slideshow": {
     "slide_type": "slide"
    }
   },
   "source": [
    "## Principes de l’encodage de caractères"
   ]
  },
  {
   "cell_type": "markdown",
   "metadata": {},
   "source": [
    "### Le décodage naturel des caractères"
   ]
  },
  {
   "cell_type": "markdown",
   "metadata": {},
   "source": [
    "Le cerveau décode plus ou moins bien les caractères :\n",
    "\n",
    "```txt\n",
    "小さな猫は牛乳を飲んでいます。\n",
    "\n",
    "Mały kot pije mleko.\n",
    "```\n",
    "\n",
    "Des traits forment des glyphes auxquels sont associés des caractères. Un processus de décodage par blocs est ensuite mobilisé pour obtenir des mots et des phrases. Exemple :\n",
    "\n",
    "```txt\n",
    "Lepetitchatboitdulait.\n",
    "```\n",
    "\n",
    "Segmentation + décodage (français) = « Le petit chat boit du lait. »"
   ]
  },
  {
   "cell_type": "markdown",
   "metadata": {},
   "source": [
    "### Comment l’informatique encode-t-elle l’information ?"
   ]
  },
  {
   "cell_type": "markdown",
   "metadata": {
    "cell_style": "split",
    "slideshow": {
     "slide_type": "fragment"
    }
   },
   "source": [
    "En informatique, l’unité de base qui sert à l’échange d’informations est le **bit**. Or, le bit ne peut revêtir que deux formes primordiales, `0` ou `1`. Utilisé isolément, un bit ne permettrait d’encoder que deux caractères. Par exemple, avec la table de conversion suivante :\n",
    "\n",
    "|bit|caractère|\n",
    "|:-:|:-:|\n",
    "|`0`|a|\n",
    "|`1`|b|\n",
    "\n",
    "On obtiendrait pour le texte « Le petit chat boit du lait. » :\n",
    "\n",
    "```txt\n",
    "Le petit chat boit du lait.  \n",
    "?? ????? ??0? 1??? ?? ?0??.\n",
    "```\n",
    "\n",
    "Clairement, un bit ne suffit pas pour encoder tous les caractères du message. Qu’en serait-il avec deux bits ?\n",
    "\n",
    "|bit|caractère|\n",
    "|:-:|:-:|\n",
    "|`00`|a|\n",
    "|`01`|b|\n",
    "|`10`|c|\n",
    "|`11`|d|\n",
    "\n",
    "```txt\n",
    "L  e   p  e  t  i  t  c  h  a  t  \n",
    "?? ??  ?? ?? ?? ?? ?? 10 ?? 00 ??\n",
    "b  o  i  t  d  u  l  a  i  t  .\n",
    "01 ?? ?? ?? 11 ?? ?? 00 ?? ?? .\n",
    "```\n",
    "\n",
    "Si deux bits ne suffisent pas non plus, comment savoir, pour un message, le nombre nécessaire ? Faisons l’inventaire du besoin : $[L, e, p, t, i, c, h, a, b, o, d, u, l, .,  ] = 15 \\text{ caractères}$ (ponctuation incluse). Sachant que 1 bit peut représenter 2 caractères ($2^1$) et 2 bits 4 caractères ($2^2$), il nous faudrait 4 bits  ($2^4$ caractères) pour représenter les 15 caractères du message."
   ]
  },
  {
   "cell_type": "markdown",
   "metadata": {
    "slideshow": {
     "slide_type": "subslide"
    }
   },
   "source": [
    "## Code Baudot"
   ]
  },
  {
   "cell_type": "markdown",
   "metadata": {
    "cell_style": "split",
    "slideshow": {
     "slide_type": "fragment"
    }
   },
   "source": [
    "**1832 :** code Morse\n",
    "- caractère associé à signal (lumière, son, geste)\n",
    "- communication souvent chiffrée\n",
    "\n",
    "**1874 :** code Baudot\n",
    "\n",
    "![Code Baudot](images/code-baudot.png)\n",
    "\n",
    "- codage sur 5 bits\n",
    "- $2^5$ soit 32 caractères\n",
    "- 2 jeux de caractères, soit $2 \\times 32 = 64$ caractères\n",
    "- caractères spéciaux `LTRS` et `FIGS` pour basculer\n",
    "- système probabiliste\n",
    "\n",
    "**Exemple :** *On boit le thé à 16 heures.*\n",
    "\n",
    "Encodage Baudot :\n",
    "\n",
    "```\n",
    "18 0C 04 19 18 06 10 04 12 01 04 10 14 01 04 03 04\n",
    "1B 17 15 04 1F 14 01 07 0A 01 05 1B 1C\n",
    "```\n",
    "\n",
    "Transcription :\n",
    "\n",
    "```\n",
    "o n SP b o i t SP l e SP t h e SP a SP FIGS 1 6 SP\n",
    "LTRS h e u r e s FIGS .\n",
    "```\n",
    "\n",
    "Remarques :\n",
    "\n",
    "- `LTRS` et `FIGS` pour basculer entre jeux de caractères\n",
    "- message commence probablement par une lettre\n",
    "- certains caractères communs aux deux jeux (`SP` `LF`…)\n",
    "- perte majuscules et diacritiques\n",
    "- poids : $30 \\text{ signes} \\times 5 \\text{ bits} = 150 \\text{ bits}$ (232 en ASCII)"
   ]
  },
  {
   "cell_type": "markdown",
   "metadata": {
    "cell_style": "center",
    "slideshow": {
     "slide_type": "slide"
    }
   },
   "source": [
    "## Vers l’uniformisation"
   ]
  },
  {
   "cell_type": "markdown",
   "metadata": {
    "cell_style": "split",
    "slideshow": {
     "slide_type": "fragment"
    }
   },
   "source": [
    "### ASCII"
   ]
  },
  {
   "cell_type": "markdown",
   "metadata": {
    "cell_style": "split",
    "slideshow": {
     "slide_type": "fragment"
    }
   },
   "source": [
    "**ASCII :** *American Standard Code for Information Interchange* (1968)\n",
    "\n",
    "- 62 caractères : A-Z, a-z, 0-9\n",
    "- 33 contrôles : sauts, tabulations…\n",
    "- 33 signes de ponctuation\n",
    "\n",
    "Les 128 caractères sont codés sur 7 bits. Comme un octet comporte 8 bits, le premier est toujours fixé à 0.\n",
    "\n",
    "| Lettre | Décimal  | Binaire |\n",
    "|---|-----|----------|\n",
    "| C | 67  | 01000011 |\n",
    "| a | 97  | 01100001 |\n",
    "| t | 116 | 01110100 |\n",
    "\n",
    "**Avantage :** économie de stockage\n",
    "\n",
    "**Limite :** prolifération de systèmes *ad hoc*\n",
    "\n",
    "![Table ASCII](images/ascii.svg)\n",
    "\n",
    "« Le petit chat boit du lait. » en ASCII :\n",
    "\n",
    "```txt\n",
    "01001100 01100101 00100000 01110000 01100101 01110100\n",
    "01101001 01110100 00100000 01100011 01101000 01100001\n",
    "01110100 00100000 01100010 01101111 01101001 01110100\n",
    "00100000 01100100 01110101 00100000 01101100 01100001\n",
    "01101001 01110100 00101110\n",
    "```\n",
    "\n",
    "Sur un terminal :\n",
    "\n",
    "```bash\n",
    "$ echo \"Le petit chat boit du lait\" | xxd -b\n",
    "```"
   ]
  },
  {
   "cell_type": "code",
   "execution_count": null,
   "metadata": {},
   "outputs": [],
   "source": [
    "!echo \"Le petit chat boit du lait\" | xxd -b"
   ]
  },
  {
   "cell_type": "markdown",
   "metadata": {},
   "source": [
    "Et, avec Python, la fonction `ord()` permet de renvoyer le point de code Unicode d’un caractère donné :"
   ]
  },
  {
   "cell_type": "code",
   "execution_count": null,
   "metadata": {},
   "outputs": [],
   "source": [
    "for c in \"Le petit chat boit du lait.\":\n",
    "    print(f\"{ c } => { ord(c) }\")"
   ]
  },
  {
   "cell_type": "markdown",
   "metadata": {},
   "source": [
    "Les spécifications de format permettent en plus d’en obtenir une représentation en binaire :"
   ]
  },
  {
   "cell_type": "code",
   "execution_count": null,
   "metadata": {
    "cell_style": "center",
    "slideshow": {
     "slide_type": "-"
    }
   },
   "outputs": [],
   "source": [
    "for c in \"Le petit chat boit du lait.\":\n",
    "    print(f\"{ c } => {ord(c) :08b}\")"
   ]
  },
  {
   "cell_type": "markdown",
   "metadata": {},
   "source": [
    "La fonction inverse, pour afficher le caractère associé à un point de code Unicode, est `chr()` :"
   ]
  },
  {
   "cell_type": "code",
   "execution_count": null,
   "metadata": {},
   "outputs": [],
   "source": [
    "chr(76)"
   ]
  },
  {
   "cell_type": "markdown",
   "metadata": {
    "slideshow": {
     "slide_type": "subslide"
    }
   },
   "source": [
    "**Remarques :**\n",
    "\n",
    "- message ne tient pas compte des caractères de contrôle\n",
    "- codage sur 7 bits\n",
    "- 1er bit = 0\n",
    "- poids information supérieur en binaire\n",
    "\n",
    "Évolution du codage des protocoles de communication Internet sur 8 bits (soit 1 octet).\n",
    "\n",
    "ASCII étendu à 256 caractères ($2^8$) :\n",
    "\n",
    "- développement de l’ISO-8859-1 ou Latin1 pour les langues européennes, puis ISO-8859-15 (Latin9) qui introduit le symbole €\n",
    "- langues asiatiques évoluent de leur côté\n",
    "- documents illisibles à l’international, dès que l’on change les systèmes"
   ]
  },
  {
   "cell_type": "markdown",
   "metadata": {
    "slideshow": {
     "slide_type": "subslide"
    }
   },
   "source": [
    "### Unicode"
   ]
  },
  {
   "cell_type": "markdown",
   "metadata": {
    "slideshow": {
     "slide_type": "subslide"
    }
   },
   "source": [
    "**1991 :** Unicode 1.0 par le consortium Unicode\n",
    "\n",
    "Représenter tout caractère (110 000 env.), peu importe le système d’écriture (alphabétique, syllabique, logographique…) :\n",
    "\n",
    "- nom\n",
    "- identifiant numérique\n",
    "\n",
    "Compatible avec la norme ISO/CEI 10646 dont il est un sous-ensemble.\n",
    "\n",
    "Chaque caractère dispose d’un point de code :\n",
    "\n",
    "- préfixé `U+`\n",
    "- base hexadécimale sur 4 à 6 caractères selon le plan\n",
    "\n",
    "Points de code encodés selon un format (UTF-8, UTF-16…)\n",
    "\n",
    "| Caractère | Nom  | Point de code | Représentation binaire UTF-8 |\n",
    "|---|-----|----------|-----|\n",
    "| ἐ | Lettre minuscule grecque epsilon esprit doux  | U+1F10 | `11100001 10111100 10010000`\n",
    "| ㆞ | Marque d'annotation idéographique de la terre  | U+319E | `11100011 10000110 10011110` |\n",
    "| ܬ | Lettre syriaque taw | U+072C | `11011100 10101100` |"
   ]
  },
  {
   "cell_type": "markdown",
   "metadata": {
    "cell_style": "split",
    "slideshow": {
     "slide_type": "subslide"
    }
   },
   "source": [
    "### UTF-8"
   ]
  },
  {
   "cell_type": "markdown",
   "metadata": {
    "cell_style": "split",
    "slideshow": {
     "slide_type": "subslide"
    }
   },
   "source": [
    "**1992 :** UTF-8 (*Universal character set Transformation Format 8 bits*) par Kenneth Thompson\n",
    "\n",
    "Il s’agit d’un système de codage sur 4 octets maximum qui est rétrocompatible avec les anciens systèmes basés sur 1 octet.\n",
    "\n",
    "![Martine écrit en UTF-8](images/martine-utf8.jpg)\n",
    "\n",
    "Potentiellement, UTF-8 peut représenter $2^{32}$ (> 4 milliards) caractères soit l’ensemble de tous les systèmes d’écriture actuels. Il est proposé en 1996 au consortium Unicode et devient universel deux ans après.\n",
    "\n",
    "**Question :** UTF-8 est-il 4 fois plus lourd que l’ASCII ? (4 octets vs 1)\n",
    "\n",
    "| Caractère | ASCII  | UTF-8 |\n",
    "|---|-----|----------|\n",
    "| C | `01000011` | `01000011 00000000 00000000 00000000` |\n",
    "| a | `01100001` | `01100001 00000000 00000000 00000000` |\n",
    "| t | `01110100` | `01110100 00000000 00000000 00000000` |\n",
    "\n",
    "**Faux !** UTF-8 à la fois compatible ASCII et Unicode !\n",
    "\n",
    "| Caractère | ASCII  | UTF-8 |\n",
    "|---|-----|----------|\n",
    "| C | `01000011` | `01000011` |\n",
    "| a | `01100001` | `01100001` |\n",
    "| t | `01110100` | `01110100` |\n",
    "\n",
    "**Caractéristiques :**\n",
    "\n",
    "- 4 octets maximum\n",
    "- si 1er bit vaut 0 : caractère ASCII donc 1 octet\n",
    "- si 1er et 2e bits valent 11 : 1er octet d’une suite\n",
    "- si 1er et 2e bits valent 10 : octet d’une suite\n",
    "\n",
    "**Exemple :**"
   ]
  },
  {
   "cell_type": "code",
   "execution_count": null,
   "metadata": {},
   "outputs": [],
   "source": [
    "!echo \"Mały kot pije mleko.\" | xxd -b"
   ]
  },
  {
   "cell_type": "markdown",
   "metadata": {},
   "source": [
    "**Remarques :**\n",
    "\n",
    "- ł = Unicode (`11000101 10000010`)\n",
    "- autres = ASCII (1 octet, premier bit vaut 0)\n",
    "\n",
    "**Conclusion :** UTF-8 cumule les avantages de l’ASCII et de l’Unicode."
   ]
  },
  {
   "cell_type": "markdown",
   "metadata": {
    "slideshow": {
     "slide_type": "slide"
    }
   },
   "source": [
    "## Encodages disponibles avec Python"
   ]
  },
  {
   "cell_type": "markdown",
   "metadata": {},
   "source": [
    "Le module *encodings* permet de lister tous les encodages pris en charge par Python :"
   ]
  },
  {
   "cell_type": "code",
   "execution_count": null,
   "metadata": {},
   "outputs": [],
   "source": [
    "import encodings\n",
    "\n",
    "list_encodings = set(encodings.aliases.aliases.values())\n",
    "\n",
    "sorted_list = sorted(list_encodings)\n",
    "\n",
    "print(sorted_list)"
   ]
  }
 ],
 "metadata": {
  "celltoolbar": "Diaporama",
  "kernelspec": {
   "display_name": "Python 3 (ipykernel)",
   "language": "python",
   "name": "python3"
  },
  "language_info": {
   "codemirror_mode": {
    "name": "ipython",
    "version": 3
   },
   "file_extension": ".py",
   "mimetype": "text/x-python",
   "name": "python",
   "nbconvert_exporter": "python",
   "pygments_lexer": "ipython3",
   "version": "3.10.6"
  }
 },
 "nbformat": 4,
 "nbformat_minor": 4
}
