{
 "cells": [
  {
   "cell_type": "markdown",
   "metadata": {
    "slideshow": {
     "slide_type": "slide"
    }
   },
   "source": [
    "# Les jeux de caractères codés"
   ]
  },
  {
   "cell_type": "markdown",
   "metadata": {
    "slideshow": {
     "slide_type": "subslide"
    }
   },
   "source": [
    "## Un *charset* ?\n",
    "\n",
    "**Charset :** *Character set*, association d’un caractère abstrait avec une représentation numérique (décimale, octale, hexadécimale…)\n",
    "\n",
    "Indispensable à l’échange d’informations sur Internet.\n",
    "\n",
    "Le Morse, l’ASCII ou l’UTF-8 sont des jeux de caractères.\n",
    "\n",
    "Chaque système (serveur, BDD, système de fichiers…) doit savoir dans quel format sont échangées les informations."
   ]
  },
  {
   "cell_type": "markdown",
   "metadata": {
    "slideshow": {
     "slide_type": "slide"
    }
   },
   "source": [
    "## Principes de l’encodage de caractères\n",
    "\n",
    "Cerveau décode plus ou moins bien les caractères :"
   ]
  },
  {
   "cell_type": "markdown",
   "metadata": {
    "cell_style": "split",
    "slideshow": {
     "slide_type": "fragment"
    }
   },
   "source": [
    "`小さな猫は牛乳を飲んでいます。`"
   ]
  },
  {
   "cell_type": "markdown",
   "metadata": {
    "cell_style": "split",
    "slideshow": {
     "slide_type": "fragment"
    }
   },
   "source": [
    "`Mały kot pije mleko.`"
   ]
  },
  {
   "cell_type": "markdown",
   "metadata": {
    "slideshow": {
     "slide_type": "subslide"
    }
   },
   "source": [
    "Des traits forment des glyphes qui correspondent à des caractères.\n",
    "\n",
    "Processus décodage par blocs pour obtenir mots et phrases.\n",
    "\n",
    "Exemple : `Lepetitchatboitdulait.`\n",
    "\n",
    "Segmentation + décodage (français) = `Le petit chat boit du lait.`"
   ]
  },
  {
   "cell_type": "markdown",
   "metadata": {
    "slideshow": {
     "slide_type": "subslide"
    }
   },
   "source": [
    "**Informatique :** deux caractères pour tout coder !\n",
    "\n",
    "**Bit :** unité informatique qui revêt deux formes, `0-1`\n",
    "\n",
    "**Question :** un bit peut-il correspondre à un caractère ?"
   ]
  },
  {
   "cell_type": "markdown",
   "metadata": {
    "cell_style": "split",
    "slideshow": {
     "slide_type": "fragment"
    }
   },
   "source": [
    "Exemple avec a = `0` et b = `1` :"
   ]
  },
  {
   "cell_type": "markdown",
   "metadata": {
    "cell_style": "split",
    "slideshow": {
     "slide_type": "fragment"
    }
   },
   "source": [
    "`Le petit chat boit du lait.`  \n",
    "`?? ????? ??0? 1??? ?? ?0??.`"
   ]
  },
  {
   "cell_type": "markdown",
   "metadata": {
    "slideshow": {
     "slide_type": "fragment"
    }
   },
   "source": [
    "Impossible car bien plus de deux caractères nécessaires !"
   ]
  },
  {
   "cell_type": "markdown",
   "metadata": {
    "cell_style": "split",
    "slideshow": {
     "slide_type": "subslide"
    }
   },
   "source": [
    "Nouvel essai avec une table de représentation où deux bits correspondent à un caractère :\n",
    "- `00` = a\n",
    "- `01` = b\n",
    "- `10` = c\n",
    "- `11`= d"
   ]
  },
  {
   "cell_type": "markdown",
   "metadata": {
    "cell_style": "split",
    "slideshow": {
     "slide_type": "fragment"
    }
   },
   "source": [
    "`L e  p e t i t  c h a t`  \n",
    "`???? ?????????? 10??00??`  \n",
    "`b o i t  d u  l a i t .`  \n",
    "`01?????? 11?? ??00????.`"
   ]
  },
  {
   "cell_type": "markdown",
   "metadata": {
    "slideshow": {
     "slide_type": "subslide"
    }
   },
   "source": [
    "**Question :** Combien de bits pour afficher tous les caractères nécessaires ?"
   ]
  },
  {
   "cell_type": "markdown",
   "metadata": {
    "slideshow": {
     "slide_type": "fragment"
    }
   },
   "source": [
    "Inventaire du besoin :\n",
    "\n",
    "`[Leptichabodul. ]` = 15 caractères (ponctuation incluse)\n",
    "\n",
    "Combien de bits pour représenter 15 caractères ?\n",
    "- 1 bit = 2 caractères (21)\n",
    "- 2 bits = 4 caractères (22)\n",
    "- 3 bits = 8 caractères (23)\n",
    "- 4 bits = 16 caractères (24)"
   ]
  },
  {
   "cell_type": "markdown",
   "metadata": {
    "slideshow": {
     "slide_type": "subslide"
    }
   },
   "source": [
    "**Réponse :** 4 bits pour un caractère"
   ]
  },
  {
   "cell_type": "markdown",
   "metadata": {
    "slideshow": {
     "slide_type": "fragment"
    }
   },
   "source": [
    "**Exercice :** établissez un jeu de caractères pour encoder la phrase *Le petit chat boit du lait.*"
   ]
  },
  {
   "cell_type": "markdown",
   "metadata": {
    "slideshow": {
     "slide_type": "subslide"
    }
   },
   "source": [
    "## Code Baudot\n",
    "\n",
    "**1832 :** code Morse\n",
    "- caractère associé à signal (lumière, son, geste)\n",
    "- communication souvent chiffrée"
   ]
  },
  {
   "cell_type": "markdown",
   "metadata": {
    "cell_style": "split",
    "slideshow": {
     "slide_type": "fragment"
    }
   },
   "source": [
    "**1874 :** code Baudot\n",
    "\n",
    "![Code Baudot](images/code-baudot.png)"
   ]
  },
  {
   "cell_type": "markdown",
   "metadata": {
    "cell_style": "split",
    "slideshow": {
     "slide_type": "-"
    }
   },
   "source": [
    "- codage sur 5 bits\n",
    "- $2^5$ soit 32 caractères\n",
    "- 2 jeux de caractères, soit $2×32=64$ caractères\n",
    "- caractères spéciaux `LTRS` et `FIGS` pour basculer\n",
    "- système probabiliste"
   ]
  },
  {
   "cell_type": "markdown",
   "metadata": {
    "slideshow": {
     "slide_type": "subslide"
    }
   },
   "source": [
    "**Exemple :** *On boit le thé à 16 heures.*\n",
    "\n",
    "Encodage Baudot :\n",
    "```\n",
    "18 0C 04 19 18 06 10 04 12 01 04 10 14 01 04 03 04\n",
    "1B 17 15 04 1F 14 01 07 0A 01 05 1B 1C\n",
    "```\n",
    "\n",
    "Transcription :\n",
    "```\n",
    "o n SP b o i t SP l e SP t h e SP a SP FIGS 1 6 SP\n",
    "LTRS h e u r e s FIGS .\n",
    "```"
   ]
  },
  {
   "cell_type": "markdown",
   "metadata": {
    "cell_style": "center",
    "slideshow": {
     "slide_type": "subslide"
    }
   },
   "source": [
    "Remarques :\n",
    "- `LTRS` et `FIGS` pour basculer entre jeux de caractères\n",
    "- message commence probablement par une lettre\n",
    "- certains caractères communs aux deux jeux (`SP` `LF`…)\n",
    "- perte majuscules et diacritiques\n",
    "- poids : 30 signes×5 bits=150 bits (232 en ASCII)"
   ]
  },
  {
   "cell_type": "markdown",
   "metadata": {
    "cell_style": "center",
    "slideshow": {
     "slide_type": "slide"
    }
   },
   "source": [
    "## Vers l’uniformisation"
   ]
  },
  {
   "cell_type": "markdown",
   "metadata": {
    "cell_style": "split",
    "slideshow": {
     "slide_type": "fragment"
    }
   },
   "source": [
    "### ASCII\n",
    "\n",
    "**ASCII :** *American Standard Code for Information Interchange* (1968)\n",
    "- 62 caractères : A-Z, a-z, 0-9\n",
    "- 33 contrôles : sauts, tabulations…\n",
    "- 33 signes de ponctuation\n",
    "\n",
    "128 caractères codés sur 7 bits. Or octet = 8 bits"
   ]
  },
  {
   "cell_type": "markdown",
   "metadata": {
    "cell_style": "split",
    "slideshow": {
     "slide_type": "subslide"
    }
   },
   "source": [
    "| Lettre | Décimal  | Binaire |\n",
    "|---|-----|----------|\n",
    "| C | 67  | 01000011 |\n",
    "| a | 97  | 01100001 |\n",
    "| t | 116 | 01110100 |\n",
    "\n",
    "**Avantage :** économie de stockage\n",
    "\n",
    "**Limite :** prolifération de systèmes ad hoc"
   ]
  },
  {
   "cell_type": "markdown",
   "metadata": {
    "slideshow": {
     "slide_type": "subslide"
    }
   },
   "source": [
    "![Table ASCII](images/ascii.svg)"
   ]
  },
  {
   "cell_type": "markdown",
   "metadata": {
    "slideshow": {
     "slide_type": "subslide"
    }
   },
   "source": [
    "*Le petit chat boit du lait.* en ASCII :\n",
    "```\n",
    "01001100 01100101 00100000 01110000 01100101 01110100\n",
    "01101001 01110100 00100000 01100011 01101000 01100001\n",
    "01110100 00100000 01100010 01101111 01101001 01110100\n",
    "00100000 01100100 01110101 00100000 01101100 01100001\n",
    "01101001 01110100 00001010\n",
    "```"
   ]
  },
  {
   "cell_type": "markdown",
   "metadata": {
    "cell_style": "split",
    "slideshow": {
     "slide_type": "subslide"
    }
   },
   "source": [
    "Sur un terminal :\n",
    "```shell\n",
    "$ echo \"Le petit chat boit du lait\" | xxd -b\n",
    "```"
   ]
  },
  {
   "cell_type": "code",
   "execution_count": null,
   "metadata": {
    "cell_style": "split",
    "slideshow": {
     "slide_type": "fragment"
    }
   },
   "outputs": [],
   "source": [
    "# Avec python\n",
    "import binascii\n",
    "for c in 'Le petit chat boit du lait':\n",
    "    print(bin(int.from_bytes(c.encode(), 'big')), end=' ')"
   ]
  },
  {
   "cell_type": "markdown",
   "metadata": {
    "slideshow": {
     "slide_type": "subslide"
    }
   },
   "source": [
    "**Remarques :**\n",
    "- message ne tient pas compte des caractères de contrôle\n",
    "- codage sur 7 bits\n",
    "- 1er bit = 0\n",
    "- poids information supérieur en binaire"
   ]
  },
  {
   "cell_type": "markdown",
   "metadata": {
    "slideshow": {
     "slide_type": "subslide"
    }
   },
   "source": [
    "Évolution du codage des protocoles de communication Internet sur 8 bits (soit 1 octet).\n",
    "\n",
    "ASCII étendu à 256 caractères (28) :\n",
    "- développement de l’ISO-8859-1 ou Latin1 pour les langues européennes, puis ISO-8859-15 (Latin9) qui introduit le symbole €\n",
    "- langues asiatiques évoluent de leur côté\n",
    "- documents illisibles à l’international, dès que l’on change les systèmes"
   ]
  },
  {
   "cell_type": "markdown",
   "metadata": {
    "slideshow": {
     "slide_type": "subslide"
    }
   },
   "source": [
    "### Unicode\n",
    "\n",
    "**1991 :** Unicode 1.0 par le consortium Unicode\n",
    "\n",
    "Représenter tout caractère (110 000 env.), peu importe le système d’écriture (alphabétique, syllabique, logographique…) :\n",
    "- nom\n",
    "- identifiant numérique"
   ]
  },
  {
   "cell_type": "markdown",
   "metadata": {
    "slideshow": {
     "slide_type": "subslide"
    }
   },
   "source": [
    "Compatible avec la norme ISO/CEI 10646 dont il est un sous-ensemble.\n",
    "\n",
    "Chaque caractère dispose d’un point de code :\n",
    "- préfixé `U+`\n",
    "- base hexadécimale sur 4 à 6 caractères selon le plan"
   ]
  },
  {
   "cell_type": "markdown",
   "metadata": {
    "slideshow": {
     "slide_type": "subslide"
    }
   },
   "source": [
    "Points de code encodés selon un format (UTF-8, UTF-16…)\n",
    "\n",
    "| Caractère | Nom  | Point de code | Représentation binaire UTF-8 |\n",
    "|---|-----|----------|-----|\n",
    "| ἐ | Lettre minuscule grecque epsilon esprit doux  | U+1F10 | `11100001 10111100 10010000`\n",
    "| ㆞ | Marque d'annotation idéographique de la terre  | U+319E | `11100011 10000110 10011110` |\n",
    "| ܬ | Lettre syriaque taw | U+072C | `11011100 10101100` |"
   ]
  },
  {
   "cell_type": "markdown",
   "metadata": {
    "cell_style": "split",
    "slideshow": {
     "slide_type": "subslide"
    }
   },
   "source": [
    "### UTF-8\n",
    "\n",
    "**1992 :** UTF-8 (*Universal character set Transformation Format 8 bits*) par Kenneth Thompson\n",
    "\n",
    "Système de codage sur 4 octets maximum\n",
    "\n",
    "Rétrocompatible avec les anciens systèmes (1 octet)"
   ]
  },
  {
   "cell_type": "markdown",
   "metadata": {
    "cell_style": "split",
    "slideshow": {
     "slide_type": "subslide"
    }
   },
   "source": [
    "![Martine écrit en UTF-8](images/martine-utf8.jpg)"
   ]
  },
  {
   "cell_type": "markdown",
   "metadata": {
    "slideshow": {
     "slide_type": "subslide"
    }
   },
   "source": [
    "Potentiel de $2^{32}$ caractères : capable de représenter tous les systèmes d’écriture\n",
    "\n",
    "Proposé en 1996 au consortium Unicode, il est universel deux ans après"
   ]
  },
  {
   "cell_type": "markdown",
   "metadata": {
    "slideshow": {
     "slide_type": "subslide"
    }
   },
   "source": [
    "UTF-8 est-il 4 fois plus lourd que l’ASCII ? (4 octets vs 1)\n",
    "\n",
    "| Caractère | ASCII  | UTF-8 |\n",
    "|---|-----|----------|\n",
    "| C | `01000011` | `01000011 00000000 00000000 00000000` |\n",
    "| a | `01100001` | `01100001 00000000 00000000 00000000` |\n",
    "| t | `01110100` | `01110100 00000000 00000000 00000000` |"
   ]
  },
  {
   "cell_type": "markdown",
   "metadata": {
    "slideshow": {
     "slide_type": "fragment"
    }
   },
   "source": [
    "**Faux !** UTF-8 à la fois compatible ASCII et Unicode !\n",
    "\n",
    "| Caractère | ASCII  | UTF-8 |\n",
    "|---|-----|----------|\n",
    "| C | `01000011` | `01000011 00000000 00000000 00000000` |\n",
    "| a | `01100001` | `01100001 00000000 00000000 00000000` |\n",
    "| t | `01110100` | `01110100 00000000 00000000 00000000` |"
   ]
  },
  {
   "cell_type": "markdown",
   "metadata": {
    "slideshow": {
     "slide_type": "subslide"
    }
   },
   "source": [
    "**Caractéristiques :**\n",
    "- 4 octets maximum\n",
    "- si 1er bit vaut 0 : caractère ASCII donc 1 octet\n",
    "- si 1er et 2e bits valent 11 : 1er octet d’une suite\n",
    "- si 1er et 2e bits valent 10 : octet d’une suite"
   ]
  },
  {
   "cell_type": "markdown",
   "metadata": {
    "slideshow": {
     "slide_type": "subslide"
    }
   },
   "source": [
    "**Exemple :**\n",
    "```\n",
    "Mały kot pije mleko.\n",
    "```"
   ]
  },
  {
   "cell_type": "markdown",
   "metadata": {
    "slideshow": {
     "slide_type": "fragment"
    }
   },
   "source": [
    "**UTF-8 :**\n",
    "```\n",
    "01001101 01100001 11000101 10000010 01111001  \n",
    "00100000 01101011 01101111 01110100 00100000  \n",
    "01110000 01101001 01101010 01100101 00100000  \n",
    "01101101 01101100 01100101 01101011 01101111  \n",
    "00001010\n",
    "```"
   ]
  },
  {
   "cell_type": "markdown",
   "metadata": {
    "slideshow": {
     "slide_type": "subslide"
    }
   },
   "source": [
    "**Remarques :**\n",
    "- ł = Unicode (11000101 10000010)\n",
    "- autres = ASCII (1 octet, premier bit vaut 0)\n",
    "\n",
    "**Conclusion :** UTF-8 cumule les avantages de l’ASCII et de l’Unicode"
   ]
  },
  {
   "cell_type": "markdown",
   "metadata": {
    "slideshow": {
     "slide_type": "slide"
    }
   },
   "source": [
    "## Encodages disponibles avec Python"
   ]
  },
  {
   "cell_type": "code",
   "execution_count": null,
   "metadata": {},
   "outputs": [],
   "source": [
    "import encodings\n",
    "list_encodings = set(encodings.aliases.aliases.values())\n",
    "sorted_list = sorted(list_encodings)\n",
    "print(sorted_list)"
   ]
  }
 ],
 "metadata": {
  "celltoolbar": "Diaporama",
  "kernelspec": {
   "display_name": "Python 3",
   "language": "python",
   "name": "python3"
  },
  "language_info": {
   "codemirror_mode": {
    "name": "ipython",
    "version": 3
   },
   "file_extension": ".py",
   "mimetype": "text/x-python",
   "name": "python",
   "nbconvert_exporter": "python",
   "pygments_lexer": "ipython3",
   "version": "3.8.0"
  }
 },
 "nbformat": 4,
 "nbformat_minor": 4
}
