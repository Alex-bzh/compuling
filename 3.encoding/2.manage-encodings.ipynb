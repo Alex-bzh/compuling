{
 "cells": [
  {
   "cell_type": "markdown",
   "metadata": {
    "slideshow": {
     "slide_type": "slide"
    }
   },
   "source": [
    "# La gestion de l’encodage avec Python 3"
   ]
  },
  {
   "cell_type": "markdown",
   "metadata": {
    "slideshow": {
     "slide_type": "fragment"
    }
   },
   "source": [
    "\n",
    "Python 3 introduit une révolution dans la gestion de l’encodage des caractères, au prix d’une confusion troublante pour qui vient de Python 2 :\n",
    "- en Python 2, les chaînes de caractères (type `str`) sont par défaut encodées\n",
    "- en Python 3, elles sont décodées"
   ]
  },
  {
   "cell_type": "markdown",
   "metadata": {
    "slideshow": {
     "slide_type": "subslide"
    }
   },
   "source": [
    "Type par défaut d’une chaîne de caractères décodée en Python 3 :"
   ]
  },
  {
   "cell_type": "code",
   "execution_count": null,
   "metadata": {
    "slideshow": {
     "slide_type": "-"
    }
   },
   "outputs": [],
   "source": [
    "# Chaîne décodée (type 'str')\n",
    "type('chaîne de caractères')"
   ]
  },
  {
   "cell_type": "markdown",
   "metadata": {
    "slideshow": {
     "slide_type": "fragment"
    }
   },
   "source": [
    "Une chaîne encodée ne doit contenir que des caractères ASCII :"
   ]
  },
  {
   "cell_type": "code",
   "execution_count": null,
   "metadata": {
    "slideshow": {
     "slide_type": "-"
    }
   },
   "outputs": [],
   "source": [
    "# Chaîne encodée (type 'bytes')\n",
    "print(b'chaîne de caractères')"
   ]
  },
  {
   "cell_type": "markdown",
   "metadata": {
    "slideshow": {
     "slide_type": "subslide"
    }
   },
   "source": [
    "Pour la manipuler sous forme d’octets, il faut alors l’encoder en choisissant un encodage :"
   ]
  },
  {
   "cell_type": "code",
   "execution_count": null,
   "metadata": {
    "slideshow": {
     "slide_type": "-"
    }
   },
   "outputs": [],
   "source": [
    "print('chaîne de caractères'.encode('utf8'))\n",
    "print(bytes('chaîne de caractères', 'latin1'))"
   ]
  },
  {
   "cell_type": "markdown",
   "metadata": {
    "slideshow": {
     "slide_type": "fragment"
    }
   },
   "source": [
    "À l’inverse, une liste d’octets en entrée doit être décodée pour s’afficher :"
   ]
  },
  {
   "cell_type": "code",
   "execution_count": null,
   "metadata": {
    "slideshow": {
     "slide_type": "-"
    }
   },
   "outputs": [],
   "source": [
    "chaine = 'chaîne de caractères'.encode('utf8')\n",
    "print(chaine.decode('utf8'))"
   ]
  },
  {
   "cell_type": "markdown",
   "metadata": {
    "slideshow": {
     "slide_type": "subslide"
    }
   },
   "source": [
    "Il convient donc de connaître l’encodage utilisé, sinon le décodage se passe mal :"
   ]
  },
  {
   "cell_type": "code",
   "execution_count": null,
   "metadata": {
    "slideshow": {
     "slide_type": "-"
    }
   },
   "outputs": [],
   "source": [
    "print(chaine.decode('latin1'))\n",
    "print(chaine.decode('mac-roman'))\n",
    "print(chaine.decode('cp855'))"
   ]
  },
  {
   "cell_type": "markdown",
   "metadata": {
    "slideshow": {
     "slide_type": "subslide"
    }
   },
   "source": [
    "En bref, lorsque Python 3 manipule du texte, il offre toujours un affichage unicode. Les ennuis commencent lorsque l’on veut manipuler des données binaires :"
   ]
  },
  {
   "cell_type": "code",
   "execution_count": null,
   "metadata": {
    "slideshow": {
     "slide_type": "-"
    }
   },
   "outputs": [],
   "source": [
    "a = 'chaîne de caractères'\n",
    "b = 'chaîne de caractères'.encode('latin1')\n",
    "print(a[3])\n",
    "print(b[3])"
   ]
  },
  {
   "cell_type": "markdown",
   "metadata": {
    "slideshow": {
     "slide_type": "subslide"
    }
   },
   "source": [
    "L’accès atomique à des données binaires se fait donc sous forme d’octet. Pour savoir quel caractère unicode se cache derrière un entier, on utilise la fonction `chr()` :"
   ]
  },
  {
   "cell_type": "code",
   "execution_count": null,
   "metadata": {
    "slideshow": {
     "slide_type": "-"
    }
   },
   "outputs": [],
   "source": [
    "chr(238)"
   ]
  },
  {
   "cell_type": "markdown",
   "metadata": {
    "slideshow": {
     "slide_type": "fragment"
    }
   },
   "source": [
    "Et pour connaître le numéro unicode d’un caractère décodé, on utilise la fonction `ord()` :"
   ]
  },
  {
   "cell_type": "code",
   "execution_count": null,
   "metadata": {
    "slideshow": {
     "slide_type": "-"
    }
   },
   "outputs": [],
   "source": [
    "letters = ['ε', 'ܬ']\n",
    "[ord(l) for l in letters]"
   ]
  },
  {
   "cell_type": "markdown",
   "metadata": {
    "slideshow": {
     "slide_type": "slide"
    }
   },
   "source": [
    "## Cas pratique\n",
    "\n",
    "En japonais, le mot *paix* s’orthographie *平和* (*heiwa*). Il est constitué de deux caractères :\n",
    "- *平*\n",
    "- *和*\n",
    "\n",
    "Leurs numéros d’ordre Uncicode s’obtiennent facilement :"
   ]
  },
  {
   "cell_type": "code",
   "execution_count": null,
   "metadata": {
    "slideshow": {
     "slide_type": "-"
    }
   },
   "outputs": [],
   "source": [
    "[ord(c) for c in '平和']"
   ]
  },
  {
   "cell_type": "markdown",
   "metadata": {
    "slideshow": {
     "slide_type": "subslide"
    }
   },
   "source": [
    "Ces numéros sont fournis en base 10 (décimale). Or, le langage informatique repose sur une base 2 (binaire).\n",
    "\n",
    "Si le premier idéogramme peut se représenter sur 5 signes allant de 0 à 9 (24179), il est impossible de le représenter sur un octet (8 signes allant de 0 à 1).\n",
    "\n",
    "Comme il faut plus d’un octet pour le représenter, toute conversion est impossible :"
   ]
  },
  {
   "cell_type": "code",
   "execution_count": null,
   "metadata": {},
   "outputs": [],
   "source": [
    "print(b'平')"
   ]
  },
  {
   "cell_type": "markdown",
   "metadata": {
    "slideshow": {
     "slide_type": "subslide"
    }
   },
   "source": [
    "Pour rendre la conversion possible, on doit d’abord fournir un encodage adéquat :"
   ]
  },
  {
   "cell_type": "code",
   "execution_count": null,
   "metadata": {
    "slideshow": {
     "slide_type": "-"
    }
   },
   "outputs": [],
   "source": [
    "# Jeu de caratères latin1 ne prévoit pas le signe 平\n",
    "c = '平'.encode('latin1')"
   ]
  },
  {
   "cell_type": "code",
   "execution_count": null,
   "metadata": {
    "slideshow": {
     "slide_type": "fragment"
    }
   },
   "outputs": [],
   "source": [
    "# UTF-8 permet d'encoder le signe\n",
    "c = '平'.encode('utf8')"
   ]
  },
  {
   "cell_type": "markdown",
   "metadata": {
    "slideshow": {
     "slide_type": "subslide"
    }
   },
   "source": [
    "**Attention !** `c` est désormais une donnée binaire, représentée sous forme d’octets !"
   ]
  },
  {
   "cell_type": "code",
   "execution_count": null,
   "metadata": {
    "slideshow": {
     "slide_type": "-"
    }
   },
   "outputs": [],
   "source": [
    "# Nombre d'octets nécessaires à l'encodage de l'idéogramme *平* en UTF-8\n",
    "print(len(c))\n",
    "# Affichage de tous les octets (en base 16)\n",
    "print(c)\n",
    "# Affichage de tous les octets (en base 10)\n",
    "[print(octet) for octet in c]\n",
    "# Et en base 2\n",
    "[print(bin(octet)) for octet in c]\n",
    "# Grâce à une f-String\n",
    "[f'{octet:b}' for octet in c]"
   ]
  },
  {
   "cell_type": "markdown",
   "metadata": {
    "slideshow": {
     "slide_type": "slide"
    }
   },
   "source": [
    "## Exercices\n",
    "\n",
    "### Encodage\n",
    "\n",
    "1. Encodez la phrase *« La petite brise la glace. »* en ASCII puis en latin1.\n",
    "2. Est-il possible d’encoder *« Jak się czujesz? »* en latin1 ? Expliquez et recommandez un encodage approprié.\n",
    "3. Affichez la représentation binaire de la phrase *« Mercredi, viendras-tu manger avec Jean sur une nappe propre ? »* encodée en UTF-8."
   ]
  },
  {
   "cell_type": "markdown",
   "metadata": {
    "slideshow": {
     "slide_type": "subslide"
    }
   },
   "source": [
    "### Décodage\n",
    "\n",
    "1. Vous récupérez les données binaires suivantes, correspondant à l’encodage d’une phrase en croate *Molim sobu za nepušač* :  \n",
    "`b'Molim sobu za nepu\\x9aa\\xe8'`.  \n",
    "    1. Citez deux jeux de caractères candidats pour décoder le croate.\n",
    "    2. Essayez-les et comparez avec la phrase correctement décodée."
   ]
  },
  {
   "cell_type": "markdown",
   "metadata": {
    "slideshow": {
     "slide_type": "subslide"
    }
   },
   "source": [
    "2. Sachant qu’il a été encodé en ASCII, décodez le message suivant :\n",
    "```\n",
    "01001100 01100101 01101101 01101101 01111001  \n",
    "00100000 01101010 01101111 01110101 01100101  \n",
    "00100000 01100100 01100101 00100000 01101100  \n",
    "01100001 00100000 01100010 01100001 01110011  \n",
    "01110011 01100101 00101110\n",
    "```"
   ]
  },
  {
   "cell_type": "markdown",
   "metadata": {
    "slideshow": {
     "slide_type": "subslide"
    }
   },
   "source": [
    "3. Vous recevez ce tableau d’octets. Le message qui se cache derrière a-t-il été encodé en ASCII ?"
   ]
  },
  {
   "cell_type": "code",
   "execution_count": null,
   "metadata": {
    "slideshow": {
     "slide_type": "-"
    }
   },
   "outputs": [],
   "source": [
    "octets = [\n",
    "    1000001, 1110101, 1101010, 1101111, 1110101, 1110010, 1100100, 11100010, 10000000, 10011001,\n",
    "    1101000, 1110101, 1101001, 101100, 100000, 1001010, 1110101, 1101100, 1101001, 1100101,\n",
    "    100000, 1100101, 1110011, 1110100, 100000, 1100001, 1101100, 1101100, 11000011, 10101001,\n",
    "    1100101, 100000, 11000011, 10100000, 100000, 1101100, 1100001, 100000, 1110000,\n",
    "    1101001, 1110011, 1100011, 1101001, 1101110, 1100101, 101110\n",
    "]"
   ]
  },
  {
   "cell_type": "markdown",
   "metadata": {
    "slideshow": {
     "slide_type": "slide"
    }
   },
   "source": [
    "## Solutions\n",
    "\n",
    "### Encodage 1"
   ]
  },
  {
   "cell_type": "code",
   "execution_count": null,
   "metadata": {
    "slideshow": {
     "slide_type": "-"
    }
   },
   "outputs": [],
   "source": [
    "text = b'La petite brise la glace.'\n",
    "text = bytes('La petite brise la glace.', 'ascii')\n",
    "text = 'La petite brise la glace.'.encode()\n",
    "text = 'La petite brise la glace.'.encode('ascii')"
   ]
  },
  {
   "cell_type": "markdown",
   "metadata": {
    "slideshow": {
     "slide_type": "subslide"
    }
   },
   "source": [
    "### Encodage 2\n",
    "\n",
    "Le jeu de caractères *latin1* est prévu pour ne représenter que les 191 caractères de l’alphabet latin encodés sur un octet (8 bits). Or, certains caractères ne font pas partie de ce jeu. Un jeu de caractères plus complet, comme *ISO-8859-2* ou *UTF-8*, permettent de l’encoder convenablement."
   ]
  },
  {
   "cell_type": "code",
   "execution_count": null,
   "metadata": {
    "slideshow": {
     "slide_type": "-"
    }
   },
   "outputs": [],
   "source": [
    "# Encodage 2\n",
    "text = 'Jak się czujesz?'\n",
    "charset = 'latin1'\n",
    "try:\n",
    "    text.encode(charset)\n",
    "    print(f'Le message a été correctement encodé en {charset}')\n",
    "except UnicodeEncodeError:\n",
    "    print(f'Impossible d’encoder le message en {charset}.')"
   ]
  },
  {
   "cell_type": "markdown",
   "metadata": {
    "slideshow": {
     "slide_type": "subslide"
    }
   },
   "source": [
    "### Encodage 3"
   ]
  },
  {
   "cell_type": "code",
   "execution_count": null,
   "metadata": {
    "slideshow": {
     "slide_type": "-"
    }
   },
   "outputs": [],
   "source": [
    "question = 'Mercredi, viendras-tu manger avec Jean sur une nappe propre ?'\n",
    "utf8 = question.encode('utf8')\n",
    "output = [f'{c:b}' for c in utf8]\n",
    "print(' '.join(output))"
   ]
  },
  {
   "cell_type": "markdown",
   "metadata": {
    "slideshow": {
     "slide_type": "subslide"
    }
   },
   "source": [
    "### Décodage 1\n",
    "\n",
    "Certaines extensions du jeu de caractères *ISO-8859* sont prévues pour décoder les langues de l’Europe Centrale comme le croate :\n",
    "- *ISO-8859-2*\n",
    "- *ISO-8859-16*"
   ]
  },
  {
   "cell_type": "code",
   "execution_count": null,
   "metadata": {
    "slideshow": {
     "slide_type": "-"
    }
   },
   "outputs": [],
   "source": [
    "txt = 'Molim sobu za nepušač'\n",
    "binary = b'Molim sobu za nepu\\x9aa\\xe8'\n",
    "iso2 = binary.decode('iso-8859-2')\n",
    "iso16 = binary.decode('iso-8859-16')\n",
    "if txt in [iso2, iso16]:\n",
    "    print('Un de ces charsets permet de décoder le message.')\n",
    "else:\n",
    "    print('Aucun de ces charsets ne permet de décoder le message original.')"
   ]
  },
  {
   "cell_type": "markdown",
   "metadata": {
    "slideshow": {
     "slide_type": "subslide"
    }
   },
   "source": [
    "### Décodage 3"
   ]
  },
  {
   "cell_type": "code",
   "execution_count": null,
   "metadata": {
    "slideshow": {
     "slide_type": "-"
    }
   },
   "outputs": [],
   "source": [
    "message = '01001100 01100101 01101101 01101101 01111001 00100000 01101010 01101111 01110101 01100101 00100000 01100100 01100101 00100000 01101100 01100001 00100000 01100010 01100001 01110011 01110011 01100101 00101110'\n",
    "message = message.split()\n",
    "for m in message:\n",
    "    decimal = int(m, 2)\n",
    "    print(chr(decimal), end='')"
   ]
  },
  {
   "cell_type": "markdown",
   "metadata": {
    "slideshow": {
     "slide_type": "subslide"
    }
   },
   "source": [
    "### Décodage 4"
   ]
  },
  {
   "cell_type": "code",
   "execution_count": null,
   "metadata": {},
   "outputs": [],
   "source": [
    "octets = [\n",
    "    1000001, 1110101, 1101010, 1101111, 1110101, 1110010, 1100100, 11100010, 10000000, 10011001,\n",
    "    1101000, 1110101, 1101001, 101100, 100000, 1001010, 1110101, 1101100, 1101001, 1100101,\n",
    "    100000, 1100101, 1110011, 1110100, 100000, 1100001, 1101100, 1101100, 11000011, 10101001,\n",
    "    1100101, 100000, 11000011, 10100000, 100000, 1101100, 1100001, 100000, 1110000,\n",
    "    1101001, 1110011, 1100011, 1101001, 1101110, 1100101, 101110\n",
    "]\n",
    "for octet in octets:\n",
    "    l = str(octet)\n",
    "    num = int(l, 2)\n",
    "    print(chr(num), end='')"
   ]
  }
 ],
 "metadata": {
  "celltoolbar": "Diaporama",
  "kernelspec": {
   "display_name": "Python 3",
   "language": "python",
   "name": "python3"
  },
  "language_info": {
   "codemirror_mode": {
    "name": "ipython",
    "version": 3
   },
   "file_extension": ".py",
   "mimetype": "text/x-python",
   "name": "python",
   "nbconvert_exporter": "python",
   "pygments_lexer": "ipython3",
   "version": "3.8.0"
  }
 },
 "nbformat": 4,
 "nbformat_minor": 4
}
