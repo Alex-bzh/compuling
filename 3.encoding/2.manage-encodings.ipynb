{
 "cells": [
  {
   "cell_type": "markdown",
   "metadata": {
    "slideshow": {
     "slide_type": "slide"
    }
   },
   "source": [
    "# La gestion de l’encodage avec Python 3"
   ]
  },
  {
   "cell_type": "markdown",
   "metadata": {
    "slideshow": {
     "slide_type": "fragment"
    }
   },
   "source": [
    "\n",
    "Python 3 introduit une révolution dans la gestion de l’encodage des caractères, au prix d’une confusion troublante pour qui vient de Python 2 :\n",
    "- en Python 2, les chaînes de caractères (type `str`) sont par défaut encodées\n",
    "- en Python 3, elles sont décodées"
   ]
  },
  {
   "cell_type": "markdown",
   "metadata": {
    "slideshow": {
     "slide_type": "subslide"
    }
   },
   "source": [
    "Type par défaut d’une chaîne de caractères décodée en Python 3 :"
   ]
  },
  {
   "cell_type": "code",
   "execution_count": null,
   "metadata": {
    "slideshow": {
     "slide_type": "-"
    }
   },
   "outputs": [],
   "source": [
    "# Chaîne décodée (type 'str')\n",
    "type('chaîne de caractères')"
   ]
  },
  {
   "cell_type": "markdown",
   "metadata": {
    "slideshow": {
     "slide_type": "fragment"
    }
   },
   "source": [
    "Une chaîne encodée ne doit contenir que des caractères ASCII :"
   ]
  },
  {
   "cell_type": "code",
   "execution_count": null,
   "metadata": {
    "slideshow": {
     "slide_type": "-"
    }
   },
   "outputs": [],
   "source": [
    "# Chaîne encodée (type 'bytes')\n",
    "print(b'chaîne de caractères')"
   ]
  },
  {
   "cell_type": "markdown",
   "metadata": {
    "slideshow": {
     "slide_type": "subslide"
    }
   },
   "source": [
    "Pour la manipuler sous forme d’octets, il faut alors l’encoder en choisissant un encodage :"
   ]
  },
  {
   "cell_type": "code",
   "execution_count": null,
   "metadata": {
    "slideshow": {
     "slide_type": "-"
    }
   },
   "outputs": [],
   "source": [
    "print('chaîne de caractères'.encode('utf8'))\n",
    "print(bytes('chaîne de caractères', 'latin1'))"
   ]
  },
  {
   "cell_type": "markdown",
   "metadata": {
    "slideshow": {
     "slide_type": "fragment"
    }
   },
   "source": [
    "À l’inverse, une liste d’octets en entrée doit être décodée pour s’afficher :"
   ]
  },
  {
   "cell_type": "code",
   "execution_count": null,
   "metadata": {
    "slideshow": {
     "slide_type": "-"
    }
   },
   "outputs": [],
   "source": [
    "chaine = 'chaîne de caractères'.encode('utf8')\n",
    "print(chaine.decode('utf8'))"
   ]
  },
  {
   "cell_type": "markdown",
   "metadata": {
    "slideshow": {
     "slide_type": "subslide"
    }
   },
   "source": [
    "Il convient donc de connaître l’encodage utilisé, sinon le décodage se passe mal :"
   ]
  },
  {
   "cell_type": "code",
   "execution_count": null,
   "metadata": {
    "slideshow": {
     "slide_type": "-"
    }
   },
   "outputs": [],
   "source": [
    "print(chaine.decode('latin1'))\n",
    "print(chaine.decode('mac-roman'))\n",
    "print(chaine.decode('cp855'))"
   ]
  },
  {
   "cell_type": "markdown",
   "metadata": {
    "slideshow": {
     "slide_type": "subslide"
    }
   },
   "source": [
    "En bref, lorsque Python 3 manipule du texte, il offre toujours un affichage unicode. Les ennuis commencent lorsque l’on veut manipuler des données binaires :"
   ]
  },
  {
   "cell_type": "code",
   "execution_count": null,
   "metadata": {
    "slideshow": {
     "slide_type": "-"
    }
   },
   "outputs": [],
   "source": [
    "a = 'chaîne de caractères'\n",
    "b = 'chaîne de caractères'.encode('latin1')\n",
    "print(a[3])\n",
    "print(b[3])"
   ]
  },
  {
   "cell_type": "markdown",
   "metadata": {
    "slideshow": {
     "slide_type": "subslide"
    }
   },
   "source": [
    "L’accès atomique à des données binaires se fait donc sous forme d’octet. Pour savoir quel caractère unicode se cache derrière un entier, on utilise la fonction `chr()` :"
   ]
  },
  {
   "cell_type": "code",
   "execution_count": null,
   "metadata": {
    "slideshow": {
     "slide_type": "-"
    }
   },
   "outputs": [],
   "source": [
    "chr(238)"
   ]
  },
  {
   "cell_type": "markdown",
   "metadata": {
    "slideshow": {
     "slide_type": "fragment"
    }
   },
   "source": [
    "Et pour connaître le numéro unicode d’un caractère décodé, on utilise la fonction `ord()` :"
   ]
  },
  {
   "cell_type": "code",
   "execution_count": null,
   "metadata": {
    "slideshow": {
     "slide_type": "-"
    }
   },
   "outputs": [],
   "source": [
    "letters = ['ε', 'ܬ']\n",
    "[ord(l) for l in letters]"
   ]
  },
  {
   "cell_type": "markdown",
   "metadata": {
    "slideshow": {
     "slide_type": "slide"
    }
   },
   "source": [
    "## Cas pratique\n",
    "\n",
    "En japonais, le mot *paix* s’orthographie *平和* (*heiwa*). Il est constitué de deux caractères :\n",
    "- *平*\n",
    "- *和*\n",
    "\n",
    "Leurs numéros d’ordre Uncicode s’obtiennent facilement :"
   ]
  },
  {
   "cell_type": "code",
   "execution_count": null,
   "metadata": {
    "slideshow": {
     "slide_type": "-"
    }
   },
   "outputs": [],
   "source": [
    "[ord(c) for c in '平和']"
   ]
  },
  {
   "cell_type": "markdown",
   "metadata": {
    "slideshow": {
     "slide_type": "subslide"
    }
   },
   "source": [
    "Ces numéros sont fournis en base 10 (décimale). Or, le langage informatique repose sur une base 2 (binaire).\n",
    "\n",
    "Si le premier idéogramme peut se représenter sur 5 signes allant de 0 à 9 (24179), il est impossible de le représenter sur un octet (8 signes allant de 0 à 1).\n",
    "\n",
    "Comme il faut plus d’un octet pour le représenter, toute conversion est impossible :"
   ]
  },
  {
   "cell_type": "code",
   "execution_count": null,
   "metadata": {},
   "outputs": [],
   "source": [
    "print(b'平')"
   ]
  },
  {
   "cell_type": "markdown",
   "metadata": {
    "slideshow": {
     "slide_type": "subslide"
    }
   },
   "source": [
    "Pour rendre la conversion possible, on doit d’abord fournir un encodage adéquat :"
   ]
  },
  {
   "cell_type": "code",
   "execution_count": null,
   "metadata": {
    "slideshow": {
     "slide_type": "-"
    }
   },
   "outputs": [],
   "source": [
    "# Jeu de caratères latin1 ne prévoit pas le signe 平\n",
    "c = '平'.encode('latin1')"
   ]
  },
  {
   "cell_type": "code",
   "execution_count": null,
   "metadata": {
    "slideshow": {
     "slide_type": "fragment"
    }
   },
   "outputs": [],
   "source": [
    "# UTF-8 permet d'encoder le signe\n",
    "c = '平'.encode('utf8')"
   ]
  },
  {
   "cell_type": "markdown",
   "metadata": {
    "slideshow": {
     "slide_type": "subslide"
    }
   },
   "source": [
    "**Attention !** `c` est désormais une donnée binaire, représentée sous forme d’octets !"
   ]
  },
  {
   "cell_type": "code",
   "execution_count": null,
   "metadata": {
    "slideshow": {
     "slide_type": "-"
    }
   },
   "outputs": [],
   "source": [
    "# Nombre d'octets nécessaires à l'encodage de l'idéogramme *平* en UTF-8\n",
    "print(len(c))\n",
    "# Affichage de tous les octets (en base 16)\n",
    "print(c)\n",
    "# Affichage de tous les octets (en base 10)\n",
    "[print(octet) for octet in c]\n",
    "# Et en base 2\n",
    "[print(bin(octet)) for octet in c]\n",
    "# Grâce à une f-String\n",
    "[f'{octet:b}' for octet in c]"
   ]
  },
  {
   "cell_type": "markdown",
   "metadata": {
    "slideshow": {
     "slide_type": "slide"
    }
   },
   "source": [
    "## Unicode et Python\n",
    "\n",
    "**Rappel :** toute chaîne affichée par Python3 est compatible Unicode\n",
    "\n",
    "Module `unicodedata` avec des méthodes pour manipuler les caractères :\n",
    "- `lookup()` : rechercher un caractère par son nom\n",
    "- `decimal()` : obtenir la valeur décimale du caractère\n",
    "- `normalize()` : obtenir une version normalisée du caractère\n",
    "- …\n",
    "\n",
    "Documentation sur le module :  \n",
    "[https://docs.python.org/3/library/unicodedata.html](https://docs.python.org/3/library/unicodedata.html)"
   ]
  },
  {
   "cell_type": "markdown",
   "metadata": {
    "slideshow": {
     "slide_type": "subslide"
    }
   },
   "source": [
    "### Ordre lexicographique\n",
    "\n",
    "Une opération commune en analyse textuelle consiste à trier des éléments (*i.e.* des mots) par ordre alphabétique :"
   ]
  },
  {
   "cell_type": "code",
   "execution_count": null,
   "metadata": {
    "slideshow": {
     "slide_type": "-"
    }
   },
   "outputs": [],
   "source": [
    "words = ['lettre', 'apostrophe']\n",
    "words.sort()\n",
    "print(words)"
   ]
  },
  {
   "cell_type": "markdown",
   "metadata": {
    "slideshow": {
     "slide_type": "fragment"
    }
   },
   "source": [
    "Le premier écueil se manifeste dès que des majuscules s’invitent dans la liste :"
   ]
  },
  {
   "cell_type": "code",
   "execution_count": null,
   "metadata": {
    "slideshow": {
     "slide_type": "-"
    }
   },
   "outputs": [],
   "source": [
    "words = ['lettre', 'apostrophe', 'Ellipse']\n",
    "words.sort()\n",
    "print(words)"
   ]
  },
  {
   "cell_type": "markdown",
   "metadata": {
    "slideshow": {
     "slide_type": "subslide"
    }
   },
   "source": [
    "C’est ici qu’intervient le paramètre `key` pour transmettre une fonction à chaque élément de la liste, avant toute comparaison :"
   ]
  },
  {
   "cell_type": "code",
   "execution_count": null,
   "metadata": {
    "slideshow": {
     "slide_type": "-"
    }
   },
   "outputs": [],
   "source": [
    "words = ['lettre', 'apostrophe', 'Ellipse']\n",
    "# Each word is converted to lowercase before sorting\n",
    "words.sort(key=str.lower)\n",
    "print(words)"
   ]
  },
  {
   "cell_type": "markdown",
   "metadata": {
    "slideshow": {
     "slide_type": "fragment"
    }
   },
   "source": [
    "Méthode plutôt efficace et suffisante pour l’anglais, mais qui montre ses limites dès qu’entrent en jeu des accents :"
   ]
  },
  {
   "cell_type": "code",
   "execution_count": null,
   "metadata": {
    "slideshow": {
     "slide_type": "-"
    }
   },
   "outputs": [],
   "source": [
    "words = ['lettre', 'apostrophe', 'Ellipse', 'à']\n",
    "words.sort(key=str.lower)\n",
    "print(words)"
   ]
  },
  {
   "cell_type": "markdown",
   "metadata": {
    "slideshow": {
     "slide_type": "subslide"
    }
   },
   "source": [
    "L’un des remèdes possibles consiste à supprimer les accents des chaînes de caractères.\n",
    "\n",
    "Plutôt que de prévoir tous les cas possibles (*Si le caractère se trouve parmi \\[à, â, ä\\], alors le transformer en \"a\", et sinon, si le caractère est un parmi \\[éè\\]…*), la fonction `normalize()` du module `unicodedata` permet d’effectuer ce calcul plus simplement.\n",
    "\n",
    "En résumé, la fonction décompose un caractère en ses différents composants. Exemple avec la \"ligature minuscule latine fi\" :"
   ]
  },
  {
   "cell_type": "code",
   "execution_count": null,
   "metadata": {
    "slideshow": {
     "slide_type": "-"
    }
   },
   "outputs": [],
   "source": [
    "import unicodedata\n",
    "fi = unicodedata.lookup('Latin Small Ligature Fi')\n",
    "components = unicodedata.normalize('NFKD', fi)\n",
    "print(f'Le caractère \"{fi}\" est composé de : {[c for c in components]}')"
   ]
  },
  {
   "cell_type": "markdown",
   "metadata": {
    "slideshow": {
     "slide_type": "subslide"
    }
   },
   "source": [
    "Appliquée à notre collection de mots, les caractères accentués ne sont plus relégués à la fin :"
   ]
  },
  {
   "cell_type": "code",
   "execution_count": null,
   "metadata": {
    "slideshow": {
     "slide_type": "-"
    }
   },
   "outputs": [],
   "source": [
    "import unicodedata\n",
    "words = ['lettre', 'apostrophe', 'Ellipse', 'à']\n",
    "words.sort(key=lambda this:unicodedata.normalize('NFKD', this))\n",
    "print(words)"
   ]
  },
  {
   "cell_type": "markdown",
   "metadata": {
    "slideshow": {
     "slide_type": "fragment"
    }
   },
   "source": [
    "En revanche, elle soulève d’autres problèmes :\n",
    "- perte de la distinction majuscules/minuscules\n",
    "- perte du tri par nombre de caractères"
   ]
  },
  {
   "cell_type": "markdown",
   "metadata": {
    "slideshow": {
     "slide_type": "subslide"
    }
   },
   "source": [
    "Plutôt que de transmettre une fonction anonyme au paramètre `key`, autant définir une fonction utilisateur :"
   ]
  },
  {
   "cell_type": "code",
   "execution_count": null,
   "metadata": {
    "slideshow": {
     "slide_type": "-"
    }
   },
   "outputs": [],
   "source": [
    "import unicodedata\n",
    "\n",
    "def comparison(word):\n",
    "    \"\"\"Removes the accent marks on every character in a word.\n",
    "    \n",
    "    Keyword argument:\n",
    "    word -- the word to analyze\n",
    "    \"\"\"\n",
    "    norm = \"\"\n",
    "    word = word.lower()\n",
    "    for ch in word:\n",
    "        components = unicodedata.normalize('NFKD', ch)\n",
    "        norm += components[0]\n",
    "    return norm\n",
    "\n",
    "words = ['lettre', 'apostrophe', 'Ellipse', 'à']\n",
    "words.sort(key=comparison)\n",
    "print(words)"
   ]
  },
  {
   "cell_type": "markdown",
   "metadata": {
    "slideshow": {
     "slide_type": "slide"
    }
   },
   "source": [
    "## Exercices"
   ]
  },
  {
   "cell_type": "markdown",
   "metadata": {
    "slideshow": {
     "slide_type": "subslide"
    }
   },
   "source": [
    "### Décodage\n",
    "\n",
    "1. Vous récupérez les données binaires suivantes, correspondant à l’encodage d’une phrase en croate *Molim sobu za nepušač* :  \n",
    "`b'Molim sobu za nepu\\x9aa\\xe8'`.  \n",
    "    1. Citez deux jeux de caractères candidats pour décoder le croate.\n",
    "    2. Essayez-les et comparez avec la phrase correctement décodée."
   ]
  },
  {
   "cell_type": "markdown",
   "metadata": {
    "slideshow": {
     "slide_type": "subslide"
    }
   },
   "source": [
    "2. Sachant qu’il a été encodé en ASCII, décodez le message suivant :\n",
    "```\n",
    "01001100 01100101 01101101 01101101 01111001  \n",
    "00100000 01101010 01101111 01110101 01100101  \n",
    "00100000 01100100 01100101 00100000 01101100  \n",
    "01100001 00100000 01100010 01100001 01110011  \n",
    "01110011 01100101 00101110\n",
    "```"
   ]
  },
  {
   "cell_type": "markdown",
   "metadata": {
    "slideshow": {
     "slide_type": "subslide"
    }
   },
   "source": [
    "3. Vous recevez ce tableau d’octets. Le message qui se cache derrière a-t-il été encodé en ASCII ?"
   ]
  },
  {
   "cell_type": "code",
   "execution_count": null,
   "metadata": {
    "slideshow": {
     "slide_type": "-"
    }
   },
   "outputs": [],
   "source": [
    "octets = [\n",
    "    1000001, 1110101, 1101010, 1101111, 1110101, 1110010, 1100100, 11100010, 10000000, 10011001,\n",
    "    1101000, 1110101, 1101001, 101100, 100000, 1001010, 1110101, 1101100, 1101001, 1100101,\n",
    "    100000, 1100101, 1110011, 1110100, 100000, 1100001, 1101100, 1101100, 11000011, 10101001,\n",
    "    1100101, 100000, 11000011, 10100000, 100000, 1101100, 1100001, 100000, 1110000,\n",
    "    1101001, 1110011, 1100011, 1101001, 1101110, 1100101, 101110\n",
    "]"
   ]
  },
  {
   "cell_type": "markdown",
   "metadata": {
    "slideshow": {
     "slide_type": "slide"
    }
   },
   "source": [
    "## Solutions"
   ]
  },
  {
   "cell_type": "markdown",
   "metadata": {
    "slideshow": {
     "slide_type": "subslide"
    }
   },
   "source": [
    "### Décodage 1\n",
    "\n",
    "Certaines extensions du jeu de caractères *ISO-8859* sont prévues pour décoder les langues de l’Europe Centrale comme le croate :\n",
    "- *ISO-8859-2*\n",
    "- *ISO-8859-16*"
   ]
  },
  {
   "cell_type": "code",
   "execution_count": null,
   "metadata": {
    "slideshow": {
     "slide_type": "-"
    }
   },
   "outputs": [],
   "source": [
    "txt = 'Molim sobu za nepušač'\n",
    "binary = b'Molim sobu za nepu\\x9aa\\xe8'\n",
    "iso2 = binary.decode('iso-8859-2')\n",
    "iso16 = binary.decode('iso-8859-16')\n",
    "if txt in [iso2, iso16]:\n",
    "    print('Un de ces charsets permet de décoder le message.')\n",
    "else:\n",
    "    print('Aucun de ces charsets ne permet de décoder le message original.')"
   ]
  },
  {
   "cell_type": "markdown",
   "metadata": {
    "slideshow": {
     "slide_type": "subslide"
    }
   },
   "source": [
    "### Décodage 3"
   ]
  },
  {
   "cell_type": "code",
   "execution_count": null,
   "metadata": {
    "slideshow": {
     "slide_type": "-"
    }
   },
   "outputs": [],
   "source": [
    "message = '01001100 01100101 01101101 01101101 01111001 00100000 01101010 01101111 01110101 01100101 00100000 01100100 01100101 00100000 01101100 01100001 00100000 01100010 01100001 01110011 01110011 01100101 00101110'\n",
    "message = message.split()\n",
    "for m in message:\n",
    "    decimal = int(m, 2)\n",
    "    print(chr(decimal), end='')"
   ]
  },
  {
   "cell_type": "markdown",
   "metadata": {
    "slideshow": {
     "slide_type": "subslide"
    }
   },
   "source": [
    "### Décodage 4"
   ]
  },
  {
   "cell_type": "code",
   "execution_count": null,
   "metadata": {},
   "outputs": [],
   "source": [
    "octets = [\n",
    "    1000001, 1110101, 1101010, 1101111, 1110101, 1110010, 1100100, 11100010, 10000000, 10011001,\n",
    "    1101000, 1110101, 1101001, 101100, 100000, 1001010, 1110101, 1101100, 1101001, 1100101,\n",
    "    100000, 1100101, 1110011, 1110100, 100000, 1100001, 1101100, 1101100, 11000011, 10101001,\n",
    "    1100101, 100000, 11000011, 10100000, 100000, 1101100, 1100001, 100000, 1110000,\n",
    "    1101001, 1110011, 1100011, 1101001, 1101110, 1100101, 101110\n",
    "]\n",
    "for octet in octets:\n",
    "    l = str(octet)\n",
    "    num = int(l, 2)\n",
    "    print(chr(num), end='')"
   ]
  }
 ],
 "metadata": {
  "celltoolbar": "Diaporama",
  "kernelspec": {
   "display_name": "Python 3",
   "language": "python",
   "name": "python3"
  },
  "language_info": {
   "codemirror_mode": {
    "name": "ipython",
    "version": 3
   },
   "file_extension": ".py",
   "mimetype": "text/x-python",
   "name": "python",
   "nbconvert_exporter": "python",
   "pygments_lexer": "ipython3",
   "version": "3.7.4"
  }
 },
 "nbformat": 4,
 "nbformat_minor": 4
}
