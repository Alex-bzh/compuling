{
 "cells": [
  {
   "cell_type": "markdown",
   "metadata": {
    "slideshow": {
     "slide_type": "slide"
    }
   },
   "source": [
    "# Détecter et convertir des caractères encodés"
   ]
  },
  {
   "cell_type": "markdown",
   "metadata": {
    "slideshow": {
     "slide_type": "-"
    }
   },
   "source": [
    "Si la majorité des corpus aujourd’hui sont encodés en ASCII ou en UTF-8, il arrive que certains soient restés dans un encodage non standard (hors Unicode). Avant de se lancer dans leur analyse, une opération commune consiste à détecter le jeu de caractères utilisé lors de leur encodage pour le convertir dans un format plus exploitable."
   ]
  },
  {
   "cell_type": "markdown",
   "metadata": {
    "slideshow": {
     "slide_type": "slide"
    }
   },
   "source": [
    "## Détecter"
   ]
  },
  {
   "cell_type": "markdown",
   "metadata": {},
   "source": [
    "Dans un monde idéal, le jeu de caractères d’un corpus est indiqué dans sa description. Dans la réalité, ce n’est pas toujours le cas ; pire, les données sont parfois encodées dans un format différent de celui déclaré.\n",
    "\n",
    "Pour Python 3, il existe le module `chardet` (à installer avant utilisation) :"
   ]
  },
  {
   "cell_type": "code",
   "execution_count": null,
   "metadata": {},
   "outputs": [],
   "source": [
    "import chardet"
   ]
  },
  {
   "cell_type": "markdown",
   "metadata": {
    "slideshow": {
     "slide_type": "subslide"
    }
   },
   "source": [
    "La méthode `.detect()` sert à détecter automatiquement l’encodage sur des données binaires :"
   ]
  },
  {
   "cell_type": "code",
   "execution_count": null,
   "metadata": {
    "slideshow": {
     "slide_type": "-"
    }
   },
   "outputs": [],
   "source": [
    "chardet.detect(b'Hello World!')"
   ]
  },
  {
   "cell_type": "markdown",
   "metadata": {
    "slideshow": {
     "slide_type": "fragment"
    }
   },
   "source": [
    "De la même manière, un fichier doit être ouvert en mode binaire pour lancer la détection :"
   ]
  },
  {
   "cell_type": "code",
   "execution_count": null,
   "metadata": {
    "slideshow": {
     "slide_type": "-"
    }
   },
   "outputs": [],
   "source": [
    "with open('./data/haiku.txt', 'rb') as haiku:\n",
    "    text = haiku.read()\n",
    "    print(chardet.detect(text))"
   ]
  },
  {
   "cell_type": "markdown",
   "metadata": {
    "slideshow": {
     "slide_type": "subslide"
    }
   },
   "source": [
    "La méthode `.chardet()` renvoie un dictionnaire, ce qui permet d’ouvrir facilement un fichier sans connaître au préalable son encodage :"
   ]
  },
  {
   "cell_type": "code",
   "execution_count": null,
   "metadata": {
    "slideshow": {
     "slide_type": "-"
    }
   },
   "outputs": [],
   "source": [
    "with open('./data/haiku.txt', 'rb') as haiku:\n",
    "    text = haiku.read()\n",
    "    result = chardet.detect(text)\n",
    "    print(text.decode(result['encoding']))"
   ]
  },
  {
   "cell_type": "markdown",
   "metadata": {
    "slideshow": {
     "slide_type": "slide"
    }
   },
   "source": [
    "## Convertir"
   ]
  },
  {
   "cell_type": "markdown",
   "metadata": {},
   "source": [
    "Une fois le format détecté, le décodage en Python convertit automatiquement les caractères au format Unicode. La seule opération à réaliser est d’enregistrer le résultat dans un fichier :"
   ]
  },
  {
   "cell_type": "code",
   "execution_count": null,
   "metadata": {},
   "outputs": [],
   "source": [
    "with open('./data/haiku.txt', 'rb') as haiku:\n",
    "    text = haiku.read()\n",
    "    result = chardet.detect(text)\n",
    "    unicode = text.decode(result['encoding'])\n",
    "\n",
    "with open('./data/haiku_utf8.txt', 'w') as dest:\n",
    "    dest.write(unicode)"
   ]
  },
  {
   "cell_type": "markdown",
   "metadata": {},
   "source": [
    "Il ne reste plus qu’à travailler avec le nouveau fichier, conforme aux standards !"
   ]
  },
  {
   "cell_type": "markdown",
   "metadata": {
    "slideshow": {
     "slide_type": "slide"
    },
    "tags": []
   },
   "source": [
    "## Un jeu d’espion"
   ]
  },
  {
   "cell_type": "markdown",
   "metadata": {},
   "source": [
    "Nous savons détecter l’encodage de données binaires, comme nous savons décoder des données binaires encodées en ASCII. Mais comment procéder lorsque c’est le message lui-même qui contient les codes des caractères ?\n",
    "\n",
    "Vous recevez une note accompagnée d’un message codé. La note indique juste `cp037` :"
   ]
  },
  {
   "cell_type": "code",
   "execution_count": null,
   "metadata": {
    "slideshow": {
     "slide_type": "-"
    }
   },
   "outputs": [],
   "source": [
    "with open('./data/secret-msg.txt') as secret:\n",
    "    text = secret.read()\n",
    "\n",
    "print(text)"
   ]
  },
  {
   "cell_type": "markdown",
   "metadata": {
    "slideshow": {
     "slide_type": "subslide"
    }
   },
   "source": [
    "Évidemment, tenter de décoder le message avec l’encodage indiqué dans la note ne sert à rien, car le message est bien en ASCII :"
   ]
  },
  {
   "cell_type": "code",
   "execution_count": null,
   "metadata": {
    "slideshow": {
     "slide_type": "-"
    }
   },
   "outputs": [],
   "source": [
    "import chardet\n",
    "\n",
    "with open('./data/secret-msg.txt', 'rb') as secret:\n",
    "    text = secret.read()\n",
    "\n",
    "# naively trying to decode with given encoding\n",
    "print(text.decode('cp037'))\n",
    "\n",
    "# detection confirms the message is in ASCII\n",
    "print(chardet.detect(text))"
   ]
  },
  {
   "cell_type": "markdown",
   "metadata": {
    "slideshow": {
     "slide_type": "subslide"
    }
   },
   "source": [
    "Le module `codecs` de Python peut ici nous venir en aide. En lisant le message avec un peu plus d’attention, on suspecte en effet être en présence de codes hexadécimaux, codes que peut aisément décoder la méthode `.decode()` du module :"
   ]
  },
  {
   "cell_type": "code",
   "execution_count": null,
   "metadata": {
    "slideshow": {
     "slide_type": "-"
    }
   },
   "outputs": [],
   "source": [
    "import codecs\n",
    "\n",
    "with open('./data/secret-msg.txt') as secret:\n",
    "    text = secret.read()\n",
    "\n",
    "print(codecs.decode(text, 'hex'))"
   ]
  },
  {
   "cell_type": "markdown",
   "metadata": {
    "slideshow": {
     "slide_type": "subslide"
    }
   },
   "source": [
    "À notre disposition un objet de type `bytes` que la méthode native `.decode()` de Python peut facilement analyser :"
   ]
  },
  {
   "cell_type": "code",
   "execution_count": null,
   "metadata": {
    "slideshow": {
     "slide_type": "-"
    }
   },
   "outputs": [],
   "source": [
    "with open('./data/secret-msg.txt') as secret:\n",
    "    text = secret.read()\n",
    "    hexa = codecs.decode(text, 'hex')\n",
    "    msg = hexa.decode('cp037')\n",
    "\n",
    "print(msg)"
   ]
  },
  {
   "cell_type": "markdown",
   "metadata": {
    "slideshow": {
     "slide_type": "-"
    }
   },
   "source": [
    "Un meilleur espion aurait pu utiliser plusieurs encodages, voire dissimuler un message encodé dans un vrai message, le tout dans un fichier lui-même encodé différemment !"
   ]
  }
 ],
 "metadata": {
  "celltoolbar": "Diaporama",
  "kernelspec": {
   "display_name": "Python 3 (ipykernel)",
   "language": "python",
   "name": "python3"
  },
  "language_info": {
   "codemirror_mode": {
    "name": "ipython",
    "version": 3
   },
   "file_extension": ".py",
   "mimetype": "text/x-python",
   "name": "python",
   "nbconvert_exporter": "python",
   "pygments_lexer": "ipython3",
   "version": "3.10.6"
  }
 },
 "nbformat": 4,
 "nbformat_minor": 4
}
