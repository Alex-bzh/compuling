{
 "cells": [
  {
   "cell_type": "markdown",
   "metadata": {},
   "source": [
    "# Exercices d’encodage"
   ]
  },
  {
   "cell_type": "markdown",
   "metadata": {},
   "source": [
    "## Conversions de base"
   ]
  },
  {
   "cell_type": "markdown",
   "metadata": {},
   "source": [
    "Soit la phrase suivante :"
   ]
  },
  {
   "cell_type": "code",
   "execution_count": null,
   "metadata": {},
   "outputs": [],
   "source": [
    "sent = 'La petite brise la glace.'"
   ]
  },
  {
   "cell_type": "markdown",
   "metadata": {},
   "source": [
    "Encodez-la en ASCII puis en latin1 :"
   ]
  },
  {
   "cell_type": "code",
   "execution_count": null,
   "metadata": {},
   "outputs": [],
   "source": [
    "# your code here\n",
    "\n",
    "# ASCII\n",
    "encoding_ascii = b'La petite brise la glace.'\n",
    "encoding_ascii = bytes(sent, 'ascii')\n",
    "encoding_ascii = sent.encode()\n",
    "encoding_ascii = sent.encode('ascii')\n",
    "\n",
    "# latin1\n",
    "encoding_latin1 = bytes(sent, 'latin1')\n",
    "encoding_latin1 = sent.encode('latin1')"
   ]
  },
  {
   "cell_type": "markdown",
   "metadata": {},
   "source": [
    "## Encodage de caractères accentués"
   ]
  },
  {
   "cell_type": "markdown",
   "metadata": {},
   "source": [
    "Soit la phrase ci-dessous :"
   ]
  },
  {
   "cell_type": "code",
   "execution_count": null,
   "metadata": {},
   "outputs": [],
   "source": [
    "sent = 'Jak się czujesz?'"
   ]
  },
  {
   "cell_type": "markdown",
   "metadata": {},
   "source": [
    "Est-il possible de l’encoder en latin1 ? Expliquez et recommandez un encodage approprié."
   ]
  },
  {
   "cell_type": "code",
   "execution_count": null,
   "metadata": {},
   "outputs": [],
   "source": [
    "# your code here\n",
    "\n",
    "charset = 'latin1'\n",
    "\n",
    "try:\n",
    "    sent.encode(charset)\n",
    "    print(f'Le message a été correctement encodé en { charset }')\n",
    "except UnicodeEncodeError:\n",
    "    print(f'Impossible d’encoder le message en { charset }.')"
   ]
  },
  {
   "cell_type": "markdown",
   "metadata": {},
   "source": [
    "**Your answer :**\n",
    "\n",
    "Le jeu de caractères *latin1* est prévu pour ne représenter que les 191 caractères de l’alphabet latin encodés sur un octet (8 bits). Or, certains caractères ne font pas partie de ce jeu. Un jeu de caractères plus complet, comme *ISO-8859-2* ou *UTF-8*, permettent de l’encoder convenablement."
   ]
  },
  {
   "cell_type": "markdown",
   "metadata": {},
   "source": [
    "## Du binaire"
   ]
  },
  {
   "cell_type": "markdown",
   "metadata": {},
   "source": [
    "Soit la question suivante :"
   ]
  },
  {
   "cell_type": "code",
   "execution_count": null,
   "metadata": {},
   "outputs": [],
   "source": [
    "question = 'Mercredi, viendras-tu manger avec Jean sur une nappe propre ?'"
   ]
  },
  {
   "cell_type": "markdown",
   "metadata": {},
   "source": [
    "Encodez-la en UTF-8 et affichez sa représentation en binaire."
   ]
  },
  {
   "cell_type": "code",
   "execution_count": null,
   "metadata": {},
   "outputs": [],
   "source": [
    "# your code here\n",
    "\n",
    "utf8 = question.encode('utf8')\n",
    "output = [f'{c:b}' for c in utf8]\n",
    "\n",
    "print(' '.join(output))"
   ]
  }
 ],
 "metadata": {
  "kernelspec": {
   "display_name": "Python 3 (ipykernel)",
   "language": "python",
   "name": "python3"
  },
  "language_info": {
   "codemirror_mode": {
    "name": "ipython",
    "version": 3
   },
   "file_extension": ".py",
   "mimetype": "text/x-python",
   "name": "python",
   "nbconvert_exporter": "python",
   "pygments_lexer": "ipython3",
   "version": "3.10.6"
  }
 },
 "nbformat": 4,
 "nbformat_minor": 4
}
