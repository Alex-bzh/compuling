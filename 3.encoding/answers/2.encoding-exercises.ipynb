{
 "cells": [
  {
   "cell_type": "markdown",
   "metadata": {},
   "source": [
    "# Exercices d’encodage\n",
    "\n",
    "## Conversions de base\n",
    "\n",
    "Encodez en ASCII puis en latin1 la phrase :\n",
    "```txt\n",
    "La petite brise la glace.\n",
    "```"
   ]
  },
  {
   "cell_type": "code",
   "execution_count": null,
   "metadata": {},
   "outputs": [],
   "source": [
    "# Your code here\n",
    "sent = 'La petite brise la glace.'\n",
    "# ASCII\n",
    "encoding_ascii = b'La petite brise la glace.'\n",
    "encoding_ascii = bytes(sent, 'ascii')\n",
    "encoding_ascii = sent.encode()\n",
    "encoding_ascii = sent.encode('ascii')\n",
    "# latin1\n",
    "encoding_latin1 = bytes(sent, 'latin1')\n",
    "encoding_latin1 = sent.encode('latin1')"
   ]
  },
  {
   "cell_type": "markdown",
   "metadata": {},
   "source": [
    "## Encodage de caractères accentués\n",
    "\n",
    "Est-il possible d’encoder en latin1 la phrase ci-dessous ? Expliquez et recommandez un encodage approprié.\n",
    "\n",
    "```\n",
    "Jak się czujesz?\n",
    "```"
   ]
  },
  {
   "cell_type": "code",
   "execution_count": null,
   "metadata": {},
   "outputs": [],
   "source": [
    "# Your code here\n",
    "text = 'Jak się czujesz?'\n",
    "charset = 'latin1'\n",
    "try:\n",
    "    text.encode(charset)\n",
    "    print(f'Le message a été correctement encodé en {charset}')\n",
    "except UnicodeEncodeError:\n",
    "    print(f'Impossible d’encoder le message en {charset}.')"
   ]
  },
  {
   "cell_type": "markdown",
   "metadata": {},
   "source": [
    "**Your answer**\n",
    "\n",
    "Le jeu de caractères *latin1* est prévu pour ne représenter que les 191 caractères de l’alphabet latin encodés sur un octet (8 bits). Or, certains caractères ne font pas partie de ce jeu. Un jeu de caractères plus complet, comme *ISO-8859-2* ou *UTF-8*, permettent de l’encoder convenablement."
   ]
  },
  {
   "cell_type": "markdown",
   "metadata": {},
   "source": [
    "## Du binaire\n",
    "\n",
    "Affichez la représentation binaire de la phrase ci-dessous, encodée en UTF-8 :\n",
    "```\n",
    "Mercredi, viendras-tu manger avec Jean sur une nappe propre ?\n",
    "```"
   ]
  },
  {
   "cell_type": "code",
   "execution_count": null,
   "metadata": {},
   "outputs": [],
   "source": [
    "# Your code\n",
    "question = 'Mercredi, viendras-tu manger avec Jean sur une nappe propre ?'\n",
    "utf8 = question.encode('utf8')\n",
    "output = [f'{c:b}' for c in utf8]\n",
    "print(' '.join(output))"
   ]
  }
 ],
 "metadata": {
  "kernelspec": {
   "display_name": "Python 3",
   "language": "python",
   "name": "python3"
  },
  "language_info": {
   "codemirror_mode": {
    "name": "ipython",
    "version": 3
   },
   "file_extension": ".py",
   "mimetype": "text/x-python",
   "name": "python",
   "nbconvert_exporter": "python",
   "pygments_lexer": "ipython3",
   "version": "3.7.4"
  }
 },
 "nbformat": 4,
 "nbformat_minor": 4
}
