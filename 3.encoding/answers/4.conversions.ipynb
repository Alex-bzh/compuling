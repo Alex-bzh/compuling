{
 "cells": [
  {
   "cell_type": "markdown",
   "metadata": {},
   "source": [
    "# Conversions\n",
    "\n",
    "## Emojis\n",
    "\n",
    "Essayez de décoder les 500 premiers caractères du texte `VideoFR1-2.txt` présent dans le dossier `data`. Que pouvez-vous observer ?"
   ]
  },
  {
   "cell_type": "code",
   "execution_count": null,
   "metadata": {},
   "outputs": [],
   "source": [
    "path = '../data/VideoFR1-2.txt'"
   ]
  },
  {
   "cell_type": "code",
   "execution_count": null,
   "metadata": {},
   "outputs": [],
   "source": [
    "# Your code here\n",
    "with open(path) as file:\n",
    "    text = file.read()\n",
    "text[:500]"
   ]
  },
  {
   "cell_type": "markdown",
   "metadata": {},
   "source": [
    "## Caractères spéciaux\n",
    "\n",
    "Dans un premier temps, ouvrez le fichier `Perceval.xml` et détectez son encodage."
   ]
  },
  {
   "cell_type": "code",
   "execution_count": null,
   "metadata": {},
   "outputs": [],
   "source": [
    "path = '../data/Perceval.xml'"
   ]
  },
  {
   "cell_type": "code",
   "execution_count": null,
   "metadata": {},
   "outputs": [],
   "source": [
    "# Your code here\n",
    "import chardet\n",
    "with open(path, 'rb') as file:\n",
    "    text = file.read()\n",
    "charset = chardet.detect(text)['encoding']\n",
    "print(charset)"
   ]
  },
  {
   "cell_type": "markdown",
   "metadata": {},
   "source": [
    "Lisez maintenant la ligne 196 avec l’encodage `mac-roman` puis avec le bon encodage. Qu’en déduisez-vous ?"
   ]
  },
  {
   "cell_type": "code",
   "execution_count": null,
   "metadata": {},
   "outputs": [],
   "source": [
    "# Your code here\n",
    "with open(path, 'rb') as file:\n",
    "    text = file.readlines()\n",
    "print(text[195].decode('mac-roman'))\n",
    "print(text[195].decode('ISO-8859-1'))"
   ]
  },
  {
   "cell_type": "markdown",
   "metadata": {},
   "source": [
    "Si maintenant vous apprenez que l’encodage défini par l’auteur du fichier est `windows-1252`, relisez la ligne 196 et décrivez ce que vous voyez."
   ]
  },
  {
   "cell_type": "code",
   "execution_count": null,
   "metadata": {},
   "outputs": [],
   "source": [
    "# Your code here\n",
    "print(text[195].decode('windows-1252'))"
   ]
  }
 ],
 "metadata": {
  "kernelspec": {
   "display_name": "Python 3",
   "language": "python",
   "name": "python3"
  },
  "language_info": {
   "codemirror_mode": {
    "name": "ipython",
    "version": 3
   },
   "file_extension": ".py",
   "mimetype": "text/x-python",
   "name": "python",
   "nbconvert_exporter": "python",
   "pygments_lexer": "ipython3",
   "version": "3.7.4"
  }
 },
 "nbformat": 4,
 "nbformat_minor": 4
}
