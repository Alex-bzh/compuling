{
 "cells": [
  {
   "cell_type": "markdown",
   "metadata": {},
   "source": [
    "# Conversions"
   ]
  },
  {
   "cell_type": "markdown",
   "metadata": {},
   "source": [
    "## Emojis"
   ]
  },
  {
   "cell_type": "markdown",
   "metadata": {},
   "source": [
    "Essayez de décoder les 500 premiers caractères du fichier *VideoFR1-2.txt* présent dans le dossier [*data*](../data/VideoFR1-2.txt). Que pouvez-vous observer ?"
   ]
  },
  {
   "cell_type": "code",
   "execution_count": null,
   "metadata": {},
   "outputs": [],
   "source": [
    "# your code here\n",
    "\n",
    "with open(\"../data/VideoFR1-2.txt\") as file:\n",
    "    text = file.read()\n",
    "\n",
    "text[:500]"
   ]
  },
  {
   "cell_type": "markdown",
   "metadata": {},
   "source": [
    "## Caractères spéciaux"
   ]
  },
  {
   "cell_type": "markdown",
   "metadata": {},
   "source": [
    "Dans un premier temps, ouvrez le fichier [*Perceval.xml*](../data/Perceval.xml) et détectez son encodage."
   ]
  },
  {
   "cell_type": "code",
   "execution_count": null,
   "metadata": {},
   "outputs": [],
   "source": [
    "# your code here\n",
    "import chardet\n",
    "\n",
    "path = \"../data/Perceval.xml\"\n",
    "\n",
    "with open(path, 'rb') as file:\n",
    "    text = file.read()\n",
    "\n",
    "charset = chardet.detect(text)['encoding']\n",
    "\n",
    "print(charset)"
   ]
  },
  {
   "cell_type": "markdown",
   "metadata": {},
   "source": [
    "Lisez maintenant la ligne 196 avec l’encodage `mac-roman` puis avec le bon encodage. Qu’en déduisez-vous ?"
   ]
  },
  {
   "cell_type": "code",
   "execution_count": null,
   "metadata": {},
   "outputs": [],
   "source": [
    "# your code here\n",
    "\n",
    "with open(path, 'rb') as file:\n",
    "    text = file.readlines()\n",
    "\n",
    "print(text[195].decode('mac-roman'))\n",
    "print(text[195].decode('ISO-8859-1'))"
   ]
  },
  {
   "cell_type": "markdown",
   "metadata": {},
   "source": [
    "Si maintenant vous apprenez que l’encodage défini par l’auteur du fichier est `windows-1252`, relisez la ligne 196 et décrivez ce que vous voyez."
   ]
  },
  {
   "cell_type": "code",
   "execution_count": null,
   "metadata": {},
   "outputs": [],
   "source": [
    "# your code here\n",
    "\n",
    "print(text[195].decode('windows-1252'))"
   ]
  }
 ],
 "metadata": {
  "kernelspec": {
   "display_name": "Python 3 (ipykernel)",
   "language": "python",
   "name": "python3"
  },
  "language_info": {
   "codemirror_mode": {
    "name": "ipython",
    "version": 3
   },
   "file_extension": ".py",
   "mimetype": "text/x-python",
   "name": "python",
   "nbconvert_exporter": "python",
   "pygments_lexer": "ipython3",
   "version": "3.10.6"
  }
 },
 "nbformat": 4,
 "nbformat_minor": 4
}
